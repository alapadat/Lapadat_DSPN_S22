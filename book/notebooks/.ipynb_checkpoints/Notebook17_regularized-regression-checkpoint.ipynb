{
 "cells": [
  {
   "cell_type": "markdown",
   "metadata": {
    "id": "UuhJeQeAakNd"
   },
   "source": [
    "# Tutorial: Basic ridge and LASSO models\n",
    "\n",
    "This lab dives deeper into ridge regression and LASSO and how to implement these tehcniques in R.\n",
    "\n",
    "## Goals:\n",
    "* Learn to use the `glmnet` function.\n",
    "* Understand that hyperparameter selection should also be validated.\n",
    "\n",
    "This lab draws from the practice sets at the end of Chapter 6 in James, G., Witten, D., Hastie, T., & Tibshirani, R. (2013). \"An introduction to statistical learning: with applications in r.\" "
   ]
  },
  {
   "cell_type": "markdown",
   "metadata": {
    "id": "iGlxmzMHakNx"
   },
   "source": [
    "---\n",
    "# Ridge Regression\n",
    "\n",
    "For this tutorial we will load the [Hitters (baseball) dataset](https://vincentarelbundock.github.io/Rdatasets/doc/ISLR/Hitters.html) included in ISLR.\n",
    "\n",
    "Ridge regression is made easy with the [`glmnet` package](https://cran.r-project.org/web/packages/glmnet/glmnet.pdf), so we'll install that to start."
   ]
  },
  {
   "cell_type": "code",
   "execution_count": 1,
   "metadata": {
    "colab": {
     "base_uri": "https://localhost:8080/",
     "height": 85
    },
    "id": "FwHAN34kC4TA",
    "outputId": "3800ec7a-6b22-4237-c007-9d30087afb55"
   },
   "outputs": [
    {
     "name": "stderr",
     "output_type": "stream",
     "text": [
      "Installing package into 'C:/Users/roman/AppData/Local/R/win-library/4.2'\n",
      "(as 'lib' is unspecified)\n",
      "\n"
     ]
    },
    {
     "name": "stdout",
     "output_type": "stream",
     "text": [
      "package 'ISLR' successfully unpacked and MD5 sums checked\n",
      "\n",
      "The downloaded binary packages are in\n",
      "\tC:\\Users\\roman\\AppData\\Local\\Temp\\RtmpErt5nk\\downloaded_packages\n"
     ]
    },
    {
     "name": "stderr",
     "output_type": "stream",
     "text": [
      "Warning message:\n",
      "\"package 'ISLR' was built under R version 4.2.3\"\n"
     ]
    },
    {
     "data": {
      "text/html": [
       "<style>\n",
       ".list-inline {list-style: none; margin:0; padding: 0}\n",
       ".list-inline>li {display: inline-block}\n",
       ".list-inline>li:not(:last-child)::after {content: \"\\00b7\"; padding: 0 .5ex}\n",
       "</style>\n",
       "<ol class=list-inline><li>'AtBat'</li><li>'Hits'</li><li>'HmRun'</li><li>'Runs'</li><li>'RBI'</li><li>'Walks'</li><li>'Years'</li><li>'CAtBat'</li><li>'CHits'</li><li>'CHmRun'</li><li>'CRuns'</li><li>'CRBI'</li><li>'CWalks'</li><li>'League'</li><li>'Division'</li><li>'PutOuts'</li><li>'Assists'</li><li>'Errors'</li><li>'Salary'</li><li>'NewLeague'</li></ol>\n"
      ],
      "text/latex": [
       "\\begin{enumerate*}\n",
       "\\item 'AtBat'\n",
       "\\item 'Hits'\n",
       "\\item 'HmRun'\n",
       "\\item 'Runs'\n",
       "\\item 'RBI'\n",
       "\\item 'Walks'\n",
       "\\item 'Years'\n",
       "\\item 'CAtBat'\n",
       "\\item 'CHits'\n",
       "\\item 'CHmRun'\n",
       "\\item 'CRuns'\n",
       "\\item 'CRBI'\n",
       "\\item 'CWalks'\n",
       "\\item 'League'\n",
       "\\item 'Division'\n",
       "\\item 'PutOuts'\n",
       "\\item 'Assists'\n",
       "\\item 'Errors'\n",
       "\\item 'Salary'\n",
       "\\item 'NewLeague'\n",
       "\\end{enumerate*}\n"
      ],
      "text/markdown": [
       "1. 'AtBat'\n",
       "2. 'Hits'\n",
       "3. 'HmRun'\n",
       "4. 'Runs'\n",
       "5. 'RBI'\n",
       "6. 'Walks'\n",
       "7. 'Years'\n",
       "8. 'CAtBat'\n",
       "9. 'CHits'\n",
       "10. 'CHmRun'\n",
       "11. 'CRuns'\n",
       "12. 'CRBI'\n",
       "13. 'CWalks'\n",
       "14. 'League'\n",
       "15. 'Division'\n",
       "16. 'PutOuts'\n",
       "17. 'Assists'\n",
       "18. 'Errors'\n",
       "19. 'Salary'\n",
       "20. 'NewLeague'\n",
       "\n",
       "\n"
      ],
      "text/plain": [
       " [1] \"AtBat\"     \"Hits\"      \"HmRun\"     \"Runs\"      \"RBI\"       \"Walks\"    \n",
       " [7] \"Years\"     \"CAtBat\"    \"CHits\"     \"CHmRun\"    \"CRuns\"     \"CRBI\"     \n",
       "[13] \"CWalks\"    \"League\"    \"Division\"  \"PutOuts\"   \"Assists\"   \"Errors\"   \n",
       "[19] \"Salary\"    \"NewLeague\""
      ]
     },
     "metadata": {},
     "output_type": "display_data"
    }
   ],
   "source": [
    "install.packages(\"ISLR\") # uncomment if you haven't installed this library\n",
    "library(ISLR)\n",
    "names(Hitters)"
   ]
  },
  {
   "cell_type": "code",
   "execution_count": 2,
   "metadata": {
    "colab": {
     "base_uri": "https://localhost:8080/"
    },
    "id": "jGoWwja6akNx",
    "outputId": "48b17787-d11b-4572-b4f8-f5e9c55cc696"
   },
   "outputs": [
    {
     "name": "stderr",
     "output_type": "stream",
     "text": [
      "Installing package into 'C:/Users/roman/AppData/Local/R/win-library/4.2'\n",
      "(as 'lib' is unspecified)\n",
      "\n",
      "also installing the dependency 'lars'\n",
      "\n",
      "\n"
     ]
    },
    {
     "name": "stdout",
     "output_type": "stream",
     "text": [
      "package 'lars' successfully unpacked and MD5 sums checked\n",
      "package 'glmnet' successfully unpacked and MD5 sums checked\n"
     ]
    },
    {
     "name": "stderr",
     "output_type": "stream",
     "text": [
      "Warning message:\n",
      "\"cannot remove prior installation of package 'glmnet'\"\n",
      "Warning message in file.copy(savedcopy, lib, recursive = TRUE):\n",
      "\"problem copying C:\\Users\\roman\\AppData\\Local\\R\\win-library\\4.2\\00LOCK\\glmnet\\libs\\x64\\glmnet.dll to C:\\Users\\roman\\AppData\\Local\\R\\win-library\\4.2\\glmnet\\libs\\x64\\glmnet.dll: Permission denied\"\n",
      "Warning message:\n",
      "\"restored 'glmnet'\"\n"
     ]
    },
    {
     "name": "stdout",
     "output_type": "stream",
     "text": [
      "\n",
      "The downloaded binary packages are in\n",
      "\tC:\\Users\\roman\\AppData\\Local\\Temp\\RtmpErt5nk\\downloaded_packages\n"
     ]
    },
    {
     "name": "stderr",
     "output_type": "stream",
     "text": [
      "Warning message:\n",
      "\"package 'glmnet' was built under R version 4.2.3\"\n",
      "Loading required package: Matrix\n",
      "\n",
      "Loaded glmnet 4.1-7\n",
      "\n"
     ]
    }
   ],
   "source": [
    "install.packages(\"glmnet\", dependencies = TRUE) # uncomment if you haven't installed this library\n",
    "library(glmnet)"
   ]
  },
  {
   "cell_type": "markdown",
   "metadata": {
    "id": "zUN_c-zuakNx"
   },
   "source": [
    "Remember that, for ridge regression, you need to find the best tuning parameter ($\\lambda$) to use. This tuning parameter determines the sparsity of the model, or the impact of each predictor, using the L2 norm. This contrasts with LASSO, which conducts *feature selection* using the L1 norm. In both cases, the larger the $\\lambda$ value, the more pressure there is on the $\\beta$ coefficients to become very small (ridge regression) or to become 0 (LASSO). \n",
    "\n",
    "Let's start by establishing the range of $\\lambda$ values we'll be considering."
   ]
  },
  {
   "cell_type": "code",
   "execution_count": 3,
   "metadata": {
    "colab": {
     "base_uri": "https://localhost:8080/",
     "height": 437
    },
    "id": "zF0lOi1uakNx",
    "outputId": "8bfd1b34-9d80-41ae-dcd3-3c0934f1c125"
   },
   "outputs": [
    {
     "data": {
      "image/png": "[encoded data removed]",
      "text/plain": [
       "plot without title"
      ]
     },
     "metadata": {
      "image/png": {
       "height": 420,
       "width": 420
      }
     },
     "output_type": "display_data"
    }
   ],
   "source": [
    "# Use a non-linear search on lambda\n",
    "lambda_search_space = 10^seq(10, -2, length=100) #create a search space from (10^10):(10^-2), 100 samples long\n",
    "plot(lambda_search_space, xlab=\"sample\", ylab=\"lambda\")\n",
    "\n",
    "#this will span a range of models, from the null model containing only the intercept (lambda = 10^10, extremely sparse)\n",
    "#to the least squares fit (lambda = 0, lenient)"
   ]
  },
  {
   "cell_type": "markdown",
   "metadata": {
    "id": "L8l9MliGCDK2"
   },
   "source": [
    "The `glmnet` package requires that you use matrices instead of dataframes, and that x and y are specified separately. So let's select x and y. "
   ]
  },
  {
   "cell_type": "code",
   "execution_count": null,
   "metadata": {
    "id": "1vwgRbcIakNy"
   },
   "outputs": [],
   "source": [
    "# Define x without the first column\n",
    "x = model.matrix(Salary~., Hitters)[,-1] #without first intercept column\n",
    "#the model.matrix function also automatically transforms qualitative variables\n",
    "#into dummy variables and gets rid of NAs\n",
    "\n",
    "y = Hitters$Salary[!(is.na(Hitters$Salary))] #selecting y from the dataframe - get rid of NAs so that rows are matched with those in x"
   ]
  },
  {
   "cell_type": "markdown",
   "metadata": {
    "id": "_WjdKQR6akNy"
   },
   "source": [
    "Now, technically you are using an *elastic net* algorithm when using the `glmnet` function. So we have to set $\\alpha$ to zero in order to run pure ridge regression. If $\\alpha$ is 0, then a ridge regression model is fit, and if $\\alpha$ is 1, then a LASSO model is fit."
   ]
  },
  {
   "cell_type": "code",
   "execution_count": null,
   "metadata": {
    "id": "3WuVVpEWakNy"
   },
   "outputs": [],
   "source": [
    "ridge.mod = glmnet(x, y, alpha=0, lambda=lambda_search_space)"
   ]
  },
  {
   "cell_type": "markdown",
   "metadata": {
    "id": "5j4CAuBWakNy"
   },
   "source": [
    "Ridge regression returns all _p_ variables for each value of $\\lambda$. Thus we get a matrix of regression coefficients instead of a vector."
   ]
  },
  {
   "cell_type": "code",
   "execution_count": null,
   "metadata": {
    "colab": {
     "base_uri": "https://localhost:8080/",
     "height": 34
    },
    "id": "0l5WFr-yakNy",
    "outputId": "c0ed6f12-48f2-44fe-bd37-02aad65f3c22"
   },
   "outputs": [
    {
     "data": {
      "text/html": [
       "<style>\n",
       ".list-inline {list-style: none; margin:0; padding: 0}\n",
       ".list-inline>li {display: inline-block}\n",
       ".list-inline>li:not(:last-child)::after {content: \"\\00b7\"; padding: 0 .5ex}\n",
       "</style>\n",
       "<ol class=list-inline><li>20</li><li>100</li></ol>\n"
      ],
      "text/latex": [
       "\\begin{enumerate*}\n",
       "\\item 20\n",
       "\\item 100\n",
       "\\end{enumerate*}\n"
      ],
      "text/markdown": [
       "1. 20\n",
       "2. 100\n",
       "\n",
       "\n"
      ],
      "text/plain": [
       "[1]  20 100"
      ]
     },
     "metadata": {
      "tags": []
     },
     "output_type": "display_data"
    }
   ],
   "source": [
    "dim(coef(ridge.mod)) #this gives 20 rows (one for each predictor, plus a new intercept)\n",
    "#and 100 columns, one for each value of lambda in the search space"
   ]
  },
  {
   "cell_type": "markdown",
   "metadata": {
    "id": "MeSkZU_6akNz"
   },
   "source": [
    "Let's look at all 20 coefficients (including the intercept) when $\\lambda = 11497.57$ (i.e., the 50th entry in the $\\lambda$ vector)"
   ]
  },
  {
   "cell_type": "code",
   "execution_count": null,
   "metadata": {
    "colab": {
     "base_uri": "https://localhost:8080/",
     "height": 454
    },
    "id": "XUHrsA-GakNz",
    "outputId": "07635c50-ffa8-4d5b-fac2-e974cd1baaa3"
   },
   "outputs": [
    {
     "data": {
      "text/html": [
       "11497.5699539774"
      ],
      "text/latex": [
       "11497.5699539774"
      ],
      "text/markdown": [
       "11497.5699539774"
      ],
      "text/plain": [
       "[1] 11497.57"
      ]
     },
     "metadata": {
      "tags": []
     },
     "output_type": "display_data"
    },
    {
     "data": {
      "image/png": "[encoded data removed]",
      "text/plain": [
       "plot without title"
      ]
     },
     "metadata": {
      "image/png": {
       "height": 420,
       "width": 420
      },
      "tags": []
     },
     "output_type": "display_data"
    }
   ],
   "source": [
    "lambda_search_space[50] #getting particular value of lambda\n",
    "plot(coef(ridge.mod)[,50]) #getting coeff. for that value of lamba, all coeff."
   ]
  },
  {
   "cell_type": "markdown",
   "metadata": {
    "id": "A42v1D1AakNz"
   },
   "source": [
    "Here you can see that many of them are near zero in value while a few terms retain strong, non-zero values. \n",
    "\n",
    "Now what happens if we make $\\lambda$ really *really* large?"
   ]
  },
  {
   "cell_type": "code",
   "execution_count": null,
   "metadata": {
    "colab": {
     "base_uri": "https://localhost:8080/",
     "height": 454
    },
    "id": "PUrSvXlKakNz",
    "outputId": "a2b75499-e442-41c3-9056-2582b521fb61"
   },
   "outputs": [
    {
     "data": {
      "text/html": [
       "5722367659.35022"
      ],
      "text/latex": [
       "5722367659.35022"
      ],
      "text/markdown": [
       "5722367659.35022"
      ],
      "text/plain": [
       "[1] 5722367659"
      ]
     },
     "metadata": {
      "tags": []
     },
     "output_type": "display_data"
    },
    {
     "data": {
      "image/png": "[encoded data removed]",
      "text/plain": [
       "plot without title"
      ]
     },
     "metadata": {
      "image/png": {
       "height": 420,
       "width": 420
      },
      "tags": []
     },
     "output_type": "display_data"
    }
   ],
   "source": [
    "lambda_search_space[3]\n",
    "plot(coef(ridge.mod)[2:20,3])"
   ]
  },
  {
   "cell_type": "markdown",
   "metadata": {
    "id": "OidY41dTakN4"
   },
   "source": [
    "Notice a difference between when $\\lambda = 11498$ and when $\\lambda = 5722367659$? \n",
    "\n",
    "The coefficients are much smaller. The larger the value of $\\lambda$, the more sparse the model. In other words, as $\\lambda$ increases, the flexibility of the fit *decreases*. This decreases the variance of the model and increases bias. "
   ]
  },
  {
   "cell_type": "markdown",
   "metadata": {
    "id": "DMe0yoEMakN4"
   },
   "source": [
    "You can test any value of $\\lambda$ using the `predict()` function."
   ]
  },
  {
   "cell_type": "code",
   "execution_count": null,
   "metadata": {
    "colab": {
     "base_uri": "https://localhost:8080/",
     "height": 437
    },
    "id": "Z3kpNZgkakN4",
    "outputId": "d0099162-90c6-4080-a652-4728fa07465b"
   },
   "outputs": [
    {
     "data": {
      "image/png": "[encoded data removed]",
      "text/plain": [
       "plot without title"
      ]
     },
     "metadata": {
      "image/png": {
       "height": 420,
       "width": 420
      },
      "tags": []
     },
     "output_type": "display_data"
    }
   ],
   "source": [
    "plot(predict(ridge.mod, s=50, type=\"coefficients\")[1:20,]) #s=lambda=50"
   ]
  },
  {
   "cell_type": "markdown",
   "metadata": {
    "id": "dzyK9fXiakN4"
   },
   "source": [
    "Let's create a simple 50/50 split for the training and test set for the ridge regression. "
   ]
  },
  {
   "cell_type": "code",
   "execution_count": null,
   "metadata": {
    "id": "y1rx5budakN4"
   },
   "outputs": [],
   "source": [
    "set.seed(1) # Use the same seed so we get the same results\n",
    "\n",
    "# Create your validation sets\n",
    "train=sample(1:nrow(x), nrow(x)/2) #50/50 split into training and test sets\n",
    "test=(-train) #get test indices (not training indices)\n",
    "y.test = y[test]\n",
    "\n",
    "# Make a training model using the training set (for all values of lambda)\n",
    "ridge.mod = glmnet(x[train,], y[train], alpha=0, lambda=lambda_search_space, thresh=1e-12) #threshold specifies the convergence criterion"
   ]
  },
  {
   "cell_type": "markdown",
   "metadata": {
    "id": "GLG0n8i8akN5"
   },
   "source": [
    "Let's now test different fits using different $\\lambda$."
   ]
  },
  {
   "cell_type": "code",
   "execution_count": null,
   "metadata": {
    "colab": {
     "base_uri": "https://localhost:8080/",
     "height": 68
    },
    "id": "vTUDMj2eakN5",
    "outputId": "ffed29d7-3c7c-4bbe-e7c2-b4999a727d56"
   },
   "outputs": [
    {
     "data": {
      "text/html": [
       "224669.833069663"
      ],
      "text/latex": [
       "224669.833069663"
      ],
      "text/markdown": [
       "224669.833069663"
      ],
      "text/plain": [
       "[1] 224669.8"
      ]
     },
     "metadata": {
      "tags": []
     },
     "output_type": "display_data"
    },
    {
     "data": {
      "text/html": [
       "142199.150722761"
      ],
      "text/latex": [
       "142199.150722761"
      ],
      "text/markdown": [
       "142199.150722761"
      ],
      "text/plain": [
       "[1] 142199.2"
      ]
     },
     "metadata": {
      "tags": []
     },
     "output_type": "display_data"
    },
    {
     "data": {
      "text/html": [
       "167789.778381119"
      ],
      "text/latex": [
       "167789.778381119"
      ],
      "text/markdown": [
       "167789.778381119"
      ],
      "text/plain": [
       "[1] 167789.8"
      ]
     },
     "metadata": {
      "tags": []
     },
     "output_type": "display_data"
    }
   ],
   "source": [
    "# With lambda = 1e10 (10^10)\n",
    "#note that this is like a null, intercept-only model\n",
    "ridge.pred = predict(ridge.mod, s=1e10, newx=x[test,])\n",
    "mean((ridge.pred - y.test)^2)\n",
    "\n",
    "# With lambda = 4 (s=lambda)\n",
    "ridge.pred = predict(ridge.mod, s=4, newx=x[test,])\n",
    "mean((ridge.pred - y.test)^2)\n",
    "\n",
    "# With lambda = 0 (note that this is OLS regression)\n",
    "ridge.pred = predict(ridge.mod, s=0, newx=x[test,])\n",
    "mean((ridge.pred - y.test)^2)"
   ]
  },
  {
   "cell_type": "markdown",
   "metadata": {
    "id": "XRUqC8aPakN5"
   },
   "source": [
    "When $\\lambda$ was large, the MSE was worse than OLS. When it's smaller (but not 0), it improves upon the OLS MSE. Hence we need to maximize the bias-variance tradeoff."
   ]
  },
  {
   "cell_type": "markdown",
   "metadata": {
    "id": "aNnFpRsWakN6"
   },
   "source": [
    "---\n",
    "# An important note about validation and test sets"
   ]
  },
  {
   "cell_type": "markdown",
   "metadata": {
    "id": "I_Zvj-c_akN6"
   },
   "source": [
    "Remember, if we want to test the predictive utility of a model, it's important to separate estimates from training and test data. We did this above at a basic level, for the glm regression variables. But this separation should also include the model and variable selection step (i.e., in this context, $\\lambda$). \n",
    "So, the determination of which model is best must be made using training and test observations separate from the estimation of the general linear model. If we use the same data to perform best subset selection as we do to estimate and/or test our final model, then the estimate of test error will be contaminated. \n",
    "\n",
    "**Note: You will need sufficient power to split your data into the required number of training and validation sets.** \n",
    "\n",
    "Here, we need to use a separate training and validation set to find and test the best $\\lambda$. Let's find the best $\\lambda$ using 10-fold cross-validation."
   ]
  },
  {
   "cell_type": "code",
   "execution_count": null,
   "metadata": {
    "colab": {
     "base_uri": "https://localhost:8080/",
     "height": 68
    },
    "id": "RXKTnPyNakN_",
    "outputId": "cff585f1-f5f9-4373-c9ab-8cb2f55cae6b"
   },
   "outputs": [
    {
     "data": {
      "text/html": [
       "0"
      ],
      "text/latex": [
       "0"
      ],
      "text/markdown": [
       "0"
      ],
      "text/plain": [
       "[1] 0"
      ]
     },
     "metadata": {
      "tags": []
     },
     "output_type": "display_data"
    },
    {
     "data": {
      "text/html": [
       "0"
      ],
      "text/latex": [
       "0"
      ],
      "text/markdown": [
       "0"
      ],
      "text/plain": [
       "[1] 0"
      ]
     },
     "metadata": {
      "tags": []
     },
     "output_type": "display_data"
    },
    {
     "data": {
      "text/html": [
       "0"
      ],
      "text/latex": [
       "0"
      ],
      "text/markdown": [
       "0"
      ],
      "text/plain": [
       "[1] 0"
      ]
     },
     "metadata": {
      "tags": []
     },
     "output_type": "display_data"
    }
   ],
   "source": [
    "set.seed(2) # Use the same seed so we get the same results\n",
    "\n",
    "# Create your validation sets\n",
    "train=sample(1:nrow(x), nrow(x)/2) #50/50 split into training and test sets\n",
    "test=(-train) #get test indices (not training indices)\n",
    "\n",
    "#split each of the training and test phases into two \n",
    "#need to have separate validation sets for lambda and for beta estimates\n",
    "\n",
    "train_hyperparameter = sample(train, length(train)/2)\n",
    "train_glm = (-train_hyperparameter)\n",
    "\n",
    "test_hyperparameter = sample(test, length(test)/2)\n",
    "test_glm = (-test_hyperparameter)\n",
    "\n",
    "#make sure that the samples do not overlap\n",
    "sum(test_hyperparameter == train_hyperparameter) \n",
    "sum(test_glm == train_glm) \n",
    "sum(train_hyperparameter == train_glm) "
   ]
  },
  {
   "cell_type": "code",
   "execution_count": null,
   "metadata": {
    "colab": {
     "base_uri": "https://localhost:8080/",
     "height": 454
    },
    "id": "39yls-dZakOA",
    "outputId": "f95affa7-7bab-4509-cf6b-2d9dc5f7f99d"
   },
   "outputs": [
    {
     "data": {
      "text/html": [
       "135.145590162423"
      ],
      "text/latex": [
       "135.145590162423"
      ],
      "text/markdown": [
       "135.145590162423"
      ],
      "text/plain": [
       "[1] 135.1456"
      ]
     },
     "metadata": {
      "tags": []
     },
     "output_type": "display_data"
    },
    {
     "data": {
      "image/png": "[encoded data removed]",
      "text/plain": [
       "plot without title"
      ]
     },
     "metadata": {
      "image/png": {
       "height": 420,
       "width": 420
      },
      "tags": []
     },
     "output_type": "display_data"
    }
   ],
   "source": [
    "# Using 10-fold CV, cross-validate on the training data\n",
    "set.seed(1)\n",
    "cv.out = cv.glmnet(x[train_hyperparameter,], y[train_hyperparameter], alpha=0) #alpha=0=ridge regression\n",
    "plot(cv.out) #defaults to 10-fold CV\n",
    "bestlam = cv.out$lambda.min\n",
    "bestlam"
   ]
  },
  {
   "cell_type": "markdown",
   "metadata": {
    "id": "Wk4Fj3VuakOB"
   },
   "source": [
    "The $\\lambda$ with the lowest cross-validation MSE is $\\lambda = 390.75$. We can use this value of $\\lambda$ to look at our hold-out test accuracy."
   ]
  },
  {
   "cell_type": "code",
   "execution_count": null,
   "metadata": {
    "colab": {
     "base_uri": "https://localhost:8080/",
     "height": 34
    },
    "id": "Ocjrc2g-akOB",
    "outputId": "4ef89ed3-6d1e-4756-f1ba-826c93aaddf3"
   },
   "outputs": [
    {
     "data": {
      "text/html": [
       "119507.530651601"
      ],
      "text/latex": [
       "119507.530651601"
      ],
      "text/markdown": [
       "119507.530651601"
      ],
      "text/plain": [
       "[1] 119507.5"
      ]
     },
     "metadata": {
      "tags": []
     },
     "output_type": "display_data"
    }
   ],
   "source": [
    "#passing in the trained model object, the best lambda, and the test data\n",
    "ridge.pred = predict(ridge.mod, s=bestlam, newx=x[test_hyperparameter,]) \n",
    "mean((ridge.pred -y[test_hyperparameter])^2) #MSE"
   ]
  },
  {
   "cell_type": "markdown",
   "metadata": {
    "id": "-JTuKApLakOB"
   },
   "source": [
    "Using this best lambda, we can also get the actual regression coefficients for all 20 parameters in the model (including the intercept). Here, we refit the ridge regression model on the training dataset dedicated for this purpose (`train_glm`) and then look at coefficient predictions for the `test_glm` dataset. "
   ]
  },
  {
   "cell_type": "code",
   "execution_count": null,
   "metadata": {
    "colab": {
     "base_uri": "https://localhost:8080/"
    },
    "id": "rLiKeMXyakOB",
    "outputId": "73901ce6-4885-471f-f875-0a682784e8d5"
   },
   "outputs": [
    {
     "name": "stdout",
     "output_type": "stream",
     "text": [
      "  (Intercept)         AtBat          Hits         HmRun          Runs \n",
      "-38.812546181   0.007535828   1.517425980  -4.090339763   1.407753980 \n",
      "          RBI         Walks         Years        CAtBat         CHits \n",
      "  1.037274878   2.172859070  -3.143396736   0.014712552   0.109118248 \n",
      "       CHmRun         CRuns          CRBI        CWalks       LeagueN \n",
      "  0.177487099   0.183558581   0.171052370  -0.023204448  10.742320818 \n",
      "    DivisionW       PutOuts       Assists        Errors    NewLeagueN \n",
      "-88.771290300   0.234770575  -0.035088669  -1.551198110  -7.358141646 \n"
     ]
    }
   ],
   "source": [
    "# First setup the model\n",
    "out = glmnet(x[train_glm,],y[train_glm], alpha=0)\n",
    "\n",
    "# # Then predict.\n",
    "print(predict(out, type=\"coefficients\", s=bestlam, newx=x[test_glm,])[1:20,]) # \"s = bestlam\" picks out the winning value and shows those coefs."
   ]
  },
  {
   "cell_type": "markdown",
   "metadata": {
    "id": "lMd5OgU7akOE"
   },
   "source": [
    "---\n",
    "# LASSO\n",
    "\n",
    "In order to run LASSO, you repeat the same steps as shown in the example above but replace alpha=0 with alpha=1. Try re-running the cells above with LASSO instead of ridge regression and see how it changes!"
   ]
  },
  {
   "cell_type": "markdown",
   "metadata": {
    "id": "4azkJPDQ_SNh"
   },
   "source": [
    "*Notebook authored by Ven Popov and edited by Krista Bond, Charles Wu, Patience Stevens, and Amy Sentis.*"
   ]
  }
 ],
 "metadata": {
  "colab": {
   "collapsed_sections": [],
   "name": "regularized-regression.ipynb",
   "provenance": []
  },
  "kernelspec": {
   "display_name": "R",
   "language": "R",
   "name": "ir"
  },
  "language_info": {
   "codemirror_mode": "r",
   "file_extension": ".r",
   "mimetype": "text/x-r-source",
   "name": "R",
   "pygments_lexer": "r",
   "version": "4.2.2"
  }
 },
 "nbformat": 4,
 "nbformat_minor": 1
}
