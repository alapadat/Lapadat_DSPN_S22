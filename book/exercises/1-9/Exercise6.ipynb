{
 "cells": [
  {
   "cell_type": "markdown",
   "metadata": {
    "id": "-2W919d2ZXp7"
   },
   "source": [
    "# Exercise 6: More plotting options\n",
    "\n",
    "In this homework, you'll practice more advanced plotting options from `ggplot`.\n",
    "\n",
    "Just like the prior homework, we will be using the [gapminder](https://cran.r-project.org/web/packages/gapminder/index.html) dataset. It contains  information about population, life expectancy and per capita GDP by country over time."
   ]
  },
  {
   "cell_type": "markdown",
   "metadata": {
    "id": "O-OQhPpUSHHX"
   },
   "source": [
    "---\n",
    "# 1. Multipanel figures (7 points)"
   ]
  },
  {
   "cell_type": "markdown",
   "metadata": {
    "id": "fpCVaRyKSHHX"
   },
   "source": [
    "Last week, we visualized the change in life expectancy over time for every country in one plot. An alternative method is to use facet panels to split each country into its own plot.\n",
    "\n",
    "To start, load the `gapminder` dataset from the last set of exercises, as well as the `tidyverse`."
   ]
  },
  {
   "cell_type": "code",
   "execution_count": 1,
   "metadata": {},
   "outputs": [
    {
     "name": "stderr",
     "output_type": "stream",
     "text": [
      "── \u001b[1mAttaching packages\u001b[22m ─────────────────────────────────────────────────────────────────────────────── tidyverse 1.3.2 ──\n",
      "\u001b[32m✔\u001b[39m \u001b[34mggplot2\u001b[39m 3.4.1     \u001b[32m✔\u001b[39m \u001b[34mpurrr  \u001b[39m 1.0.1\n",
      "\u001b[32m✔\u001b[39m \u001b[34mtibble \u001b[39m 3.1.8     \u001b[32m✔\u001b[39m \u001b[34mdplyr  \u001b[39m 1.1.0\n",
      "\u001b[32m✔\u001b[39m \u001b[34mtidyr  \u001b[39m 1.3.0     \u001b[32m✔\u001b[39m \u001b[34mstringr\u001b[39m 1.5.0\n",
      "\u001b[32m✔\u001b[39m \u001b[34mreadr  \u001b[39m 2.1.4     \u001b[32m✔\u001b[39m \u001b[34mforcats\u001b[39m 1.0.0\n",
      "── \u001b[1mConflicts\u001b[22m ────────────────────────────────────────────────────────────────────────────────── tidyverse_conflicts() ──\n",
      "\u001b[31m✖\u001b[39m \u001b[34mdplyr\u001b[39m::\u001b[32mfilter()\u001b[39m masks \u001b[34mstats\u001b[39m::filter()\n",
      "\u001b[31m✖\u001b[39m \u001b[34mdplyr\u001b[39m::\u001b[32mlag()\u001b[39m    masks \u001b[34mstats\u001b[39m::lag()\n"
     ]
    },
    {
     "data": {
      "text/html": [
       "<table class=\"dataframe\">\n",
       "<caption>A tibble: 6 × 6</caption>\n",
       "<thead>\n",
       "\t<tr><th scope=col>country</th><th scope=col>continent</th><th scope=col>year</th><th scope=col>lifeExp</th><th scope=col>pop</th><th scope=col>gdpPercap</th></tr>\n",
       "\t<tr><th scope=col>&lt;fct&gt;</th><th scope=col>&lt;fct&gt;</th><th scope=col>&lt;int&gt;</th><th scope=col>&lt;dbl&gt;</th><th scope=col>&lt;int&gt;</th><th scope=col>&lt;dbl&gt;</th></tr>\n",
       "</thead>\n",
       "<tbody>\n",
       "\t<tr><td>Afghanistan</td><td>Asia</td><td>1952</td><td>28.801</td><td> 8425333</td><td>779.4453</td></tr>\n",
       "\t<tr><td>Afghanistan</td><td>Asia</td><td>1957</td><td>30.332</td><td> 9240934</td><td>820.8530</td></tr>\n",
       "\t<tr><td>Afghanistan</td><td>Asia</td><td>1962</td><td>31.997</td><td>10267083</td><td>853.1007</td></tr>\n",
       "\t<tr><td>Afghanistan</td><td>Asia</td><td>1967</td><td>34.020</td><td>11537966</td><td>836.1971</td></tr>\n",
       "\t<tr><td>Afghanistan</td><td>Asia</td><td>1972</td><td>36.088</td><td>13079460</td><td>739.9811</td></tr>\n",
       "\t<tr><td>Afghanistan</td><td>Asia</td><td>1977</td><td>38.438</td><td>14880372</td><td>786.1134</td></tr>\n",
       "</tbody>\n",
       "</table>\n"
      ],
      "text/latex": [
       "A tibble: 6 × 6\n",
       "\\begin{tabular}{llllll}\n",
       " country & continent & year & lifeExp & pop & gdpPercap\\\\\n",
       " <fct> & <fct> & <int> & <dbl> & <int> & <dbl>\\\\\n",
       "\\hline\n",
       "\t Afghanistan & Asia & 1952 & 28.801 &  8425333 & 779.4453\\\\\n",
       "\t Afghanistan & Asia & 1957 & 30.332 &  9240934 & 820.8530\\\\\n",
       "\t Afghanistan & Asia & 1962 & 31.997 & 10267083 & 853.1007\\\\\n",
       "\t Afghanistan & Asia & 1967 & 34.020 & 11537966 & 836.1971\\\\\n",
       "\t Afghanistan & Asia & 1972 & 36.088 & 13079460 & 739.9811\\\\\n",
       "\t Afghanistan & Asia & 1977 & 38.438 & 14880372 & 786.1134\\\\\n",
       "\\end{tabular}\n"
      ],
      "text/markdown": [
       "\n",
       "A tibble: 6 × 6\n",
       "\n",
       "| country &lt;fct&gt; | continent &lt;fct&gt; | year &lt;int&gt; | lifeExp &lt;dbl&gt; | pop &lt;int&gt; | gdpPercap &lt;dbl&gt; |\n",
       "|---|---|---|---|---|---|\n",
       "| Afghanistan | Asia | 1952 | 28.801 |  8425333 | 779.4453 |\n",
       "| Afghanistan | Asia | 1957 | 30.332 |  9240934 | 820.8530 |\n",
       "| Afghanistan | Asia | 1962 | 31.997 | 10267083 | 853.1007 |\n",
       "| Afghanistan | Asia | 1967 | 34.020 | 11537966 | 836.1971 |\n",
       "| Afghanistan | Asia | 1972 | 36.088 | 13079460 | 739.9811 |\n",
       "| Afghanistan | Asia | 1977 | 38.438 | 14880372 | 786.1134 |\n",
       "\n"
      ],
      "text/plain": [
       "  country     continent year lifeExp pop      gdpPercap\n",
       "1 Afghanistan Asia      1952 28.801   8425333 779.4453 \n",
       "2 Afghanistan Asia      1957 30.332   9240934 820.8530 \n",
       "3 Afghanistan Asia      1962 31.997  10267083 853.1007 \n",
       "4 Afghanistan Asia      1967 34.020  11537966 836.1971 \n",
       "5 Afghanistan Asia      1972 36.088  13079460 739.9811 \n",
       "6 Afghanistan Asia      1977 38.438  14880372 786.1134 "
      ]
     },
     "metadata": {},
     "output_type": "display_data"
    }
   ],
   "source": [
    "library(\"gapminder\")\n",
    "#gapminder\n",
    "\n",
    "library(tidyverse)\n",
    "#tidyverse\n",
    "\n",
    "head(gapminder)"
   ]
  },
  {
   "cell_type": "markdown",
   "metadata": {},
   "source": [
    "Next, create a subset of data that only includes the 25 countries from the `Americas` continent. Now we can add a `facet_wrap` layer to our line plot to create the panels by country. Additionally, to make the x-axis values easier to read, add a `theme` layer to rotate the text by 45 degrees."
   ]
  },
  {
   "cell_type": "code",
   "execution_count": 2,
   "metadata": {
    "id": "YlALzLuySHHY",
    "outputId": "3b55dd94-5c42-4697-9e2c-febd20e0b26a"
   },
   "outputs": [
    {
     "data": {
      "text/html": [
       "<table class=\"dataframe\">\n",
       "<caption>A tibble: 6 × 6</caption>\n",
       "<thead>\n",
       "\t<tr><th scope=col>country</th><th scope=col>continent</th><th scope=col>year</th><th scope=col>lifeExp</th><th scope=col>pop</th><th scope=col>gdpPercap</th></tr>\n",
       "\t<tr><th scope=col>&lt;fct&gt;</th><th scope=col>&lt;fct&gt;</th><th scope=col>&lt;int&gt;</th><th scope=col>&lt;dbl&gt;</th><th scope=col>&lt;int&gt;</th><th scope=col>&lt;dbl&gt;</th></tr>\n",
       "</thead>\n",
       "<tbody>\n",
       "\t<tr><td>Argentina</td><td>Americas</td><td>1952</td><td>62.485</td><td>17876956</td><td> 5911.315</td></tr>\n",
       "\t<tr><td>Argentina</td><td>Americas</td><td>1957</td><td>64.399</td><td>19610538</td><td> 6856.856</td></tr>\n",
       "\t<tr><td>Argentina</td><td>Americas</td><td>1962</td><td>65.142</td><td>21283783</td><td> 7133.166</td></tr>\n",
       "\t<tr><td>Argentina</td><td>Americas</td><td>1967</td><td>65.634</td><td>22934225</td><td> 8052.953</td></tr>\n",
       "\t<tr><td>Argentina</td><td>Americas</td><td>1972</td><td>67.065</td><td>24779799</td><td> 9443.039</td></tr>\n",
       "\t<tr><td>Argentina</td><td>Americas</td><td>1977</td><td>68.481</td><td>26983828</td><td>10079.027</td></tr>\n",
       "</tbody>\n",
       "</table>\n"
      ],
      "text/latex": [
       "A tibble: 6 × 6\n",
       "\\begin{tabular}{llllll}\n",
       " country & continent & year & lifeExp & pop & gdpPercap\\\\\n",
       " <fct> & <fct> & <int> & <dbl> & <int> & <dbl>\\\\\n",
       "\\hline\n",
       "\t Argentina & Americas & 1952 & 62.485 & 17876956 &  5911.315\\\\\n",
       "\t Argentina & Americas & 1957 & 64.399 & 19610538 &  6856.856\\\\\n",
       "\t Argentina & Americas & 1962 & 65.142 & 21283783 &  7133.166\\\\\n",
       "\t Argentina & Americas & 1967 & 65.634 & 22934225 &  8052.953\\\\\n",
       "\t Argentina & Americas & 1972 & 67.065 & 24779799 &  9443.039\\\\\n",
       "\t Argentina & Americas & 1977 & 68.481 & 26983828 & 10079.027\\\\\n",
       "\\end{tabular}\n"
      ],
      "text/markdown": [
       "\n",
       "A tibble: 6 × 6\n",
       "\n",
       "| country &lt;fct&gt; | continent &lt;fct&gt; | year &lt;int&gt; | lifeExp &lt;dbl&gt; | pop &lt;int&gt; | gdpPercap &lt;dbl&gt; |\n",
       "|---|---|---|---|---|---|\n",
       "| Argentina | Americas | 1952 | 62.485 | 17876956 |  5911.315 |\n",
       "| Argentina | Americas | 1957 | 64.399 | 19610538 |  6856.856 |\n",
       "| Argentina | Americas | 1962 | 65.142 | 21283783 |  7133.166 |\n",
       "| Argentina | Americas | 1967 | 65.634 | 22934225 |  8052.953 |\n",
       "| Argentina | Americas | 1972 | 67.065 | 24779799 |  9443.039 |\n",
       "| Argentina | Americas | 1977 | 68.481 | 26983828 | 10079.027 |\n",
       "\n"
      ],
      "text/plain": [
       "  country   continent year lifeExp pop      gdpPercap\n",
       "1 Argentina Americas  1952 62.485  17876956  5911.315\n",
       "2 Argentina Americas  1957 64.399  19610538  6856.856\n",
       "3 Argentina Americas  1962 65.142  21283783  7133.166\n",
       "4 Argentina Americas  1967 65.634  22934225  8052.953\n",
       "5 Argentina Americas  1972 67.065  24779799  9443.039\n",
       "6 Argentina Americas  1977 68.481  26983828 10079.027"
      ]
     },
     "metadata": {},
     "output_type": "display_data"
    },
    {
     "ename": "ERROR",
     "evalue": "Error in eval(expr, envir, enclos): object 'pa1' not found\n",
     "output_type": "error",
     "traceback": [
      "Error in eval(expr, envir, enclos): object 'pa1' not found\nTraceback:\n"
     ]
    }
   ],
   "source": [
    "# INSERT CODE HERE\n",
    "\n",
    "#facet_wrap(~ [formula with factor(s) for faceting],\n",
    "           #$ncol = [number of columns])\n",
    "\n",
    "americas  <- gapminder %>%\n",
    "    filter(continent == 'Americas')\n",
    "\n",
    "head(americas)\n",
    "\n",
    "options(repr.plot.width=7, repr.plot.height=7) \n",
    "\n",
    "americas1 <- americas %>%\n",
    "    ggplot(aes(x = country, y = lifeExp)) +\n",
    "    facet_wrap(~country, ncol = 4) +\n",
    "    theme(axis.text.x = element_text(angle = 45))\n",
    "\n",
    "pa1\n",
    "\n",
    "#pa1 + theme(axis.text.x = element_text(angle = 45))"
   ]
  },
  {
   "cell_type": "markdown",
   "metadata": {
    "id": "DOCE5rnpSHHY"
   },
   "source": [
    "Imagine that we wanted to publish this figure in a manuscript. Make the following changes to the code from the previous question to create a cleaner figure:\n",
    "\n",
    "* Change the y-axis label (using `labs` layer)\n",
    "* Add a figure title (using `labs` layer)\n",
    "* Add a legend (using `labs` layer)\n",
    "* Rotate x-axis value text to 90 degrees\n",
    "\n",
    "*Hint: legend titles are set using the same names used in the aes specification. So, we need to add a `color` aes mapping to the global plot definition and reference this in the `labs` layer to specify the legend name.*"
   ]
  },
  {
   "cell_type": "code",
   "execution_count": null,
   "metadata": {
    "id": "_GuVP0lsSHHZ",
    "outputId": "c4e79a9b-dafd-436f-92c6-aba68c389094"
   },
   "outputs": [],
   "source": [
    "# INSERT CODE HERE\n",
    "\n",
    "americas2 <- americas %>%\n",
    "    ggplot(aes(x = country, y = lifeExp, color = lifeExp)) +\n",
    "    geom_point(size = 2) +\n",
    "    xlab(\"Country\") +\n",
    "    ylab(\"Life Expectancy\") +\n",
    "    labs(color = \"Life Expectancy\") +\n",
    "    facet_wrap(~country, ncol = 4) +\n",
    "    theme(axis.text.x = element_text(angle = 90))\n",
    "\n",
    "americas2"
   ]
  },
  {
   "cell_type": "markdown",
   "metadata": {
    "id": "c6AkhWyKSHHZ"
   },
   "source": [
    "Now let's look at how life expectancy varies by continent over time. Create a multipanel figure where each panel contains five boxplots (one for each continent) and each panel represents one year of data. Include a legend instead of x-axis title and labels.\n",
    "\n",
    "*Hint: the `theme` layer allows you to set attributes as `element_blank()`.*"
   ]
  },
  {
   "cell_type": "code",
   "execution_count": null,
   "metadata": {
    "id": "RpQM0nj-SHHZ",
    "outputId": "abdd8f49-4545-40e1-f9cb-ccbdea0d1836"
   },
   "outputs": [],
   "source": [
    "# INSERT CODE HERE\n",
    "\n",
    "continents  <- gapminder %>%\n",
    "    ggplot(aes(x = continent, y = lifeExp)) +\n",
    "    geom_boxplot() +\n",
    "    facet_wrap(~year, ncol = 5)\n",
    "\n",
    "#continents  <- continents + facet_wrap(~year, ncol = 10)\n",
    "\n",
    "continents"
   ]
  },
  {
   "cell_type": "markdown",
   "metadata": {},
   "source": [
    "---\n",
    "# 2. Increasing data density (3 pts)\n",
    "\n",
    "The above plots have nice readability, but they probably use more ink than is necessary. Take your boxplots from the last question and edit them to improve the data-to-ink ratio.\n",
    "\n",
    "Hint: Double check your axis labels!"
   ]
  },
  {
   "cell_type": "code",
   "execution_count": 29,
   "metadata": {},
   "outputs": [
    {
     "data": {
      "image/png": "[encoded data removed]",
      "text/plain": [
       "plot without title"
      ]
     },
     "metadata": {
      "image/png": {
       "height": 420,
       "width": 420
      }
     },
     "output_type": "display_data"
    }
   ],
   "source": [
    "# INSERT CODE HERE\n",
    "\n",
    "continents  <- gapminder %>%\n",
    "    ggplot(aes(x = continent, y = lifeExp, color = continent)) +\n",
    "    geom_boxplot() +\n",
    "    labs(title = \"Life Expectancy Across Continents: 1952-2007\", y = \"Life Expectancy (Years)\", x = \"\") +\n",
    "    facet_wrap(~year, ncol = 5) +\n",
    "    theme_minimal() +\n",
    "    scale_x_discrete(labels=c(\"\", \"\", \"\", \"\", \"\")) +\n",
    "    scale_color_discrete(name=\"Continent\")\n",
    "\n",
    "continents"
   ]
  },
  {
   "cell_type": "markdown",
   "metadata": {
    "id": "C4MPECMmZXqe"
   },
   "source": [
    "**DUE:** 5pm EST, Feb 20, 2023"
   ]
  },
  {
   "cell_type": "markdown",
   "metadata": {
    "id": "r9GUofXN4BVy"
   },
   "source": [
    "**IMPORTANT** Did you collaborate with anyone on this assignment? If so, list their names here. \n",
    "> *Someone's Name*"
   ]
  }
 ],
 "metadata": {
  "colab": {
   "provenance": []
  },
  "kernelspec": {
   "display_name": "R",
   "language": "R",
   "name": "ir"
  },
  "language_info": {
   "codemirror_mode": "r",
   "file_extension": ".r",
   "mimetype": "text/x-r-source",
   "name": "R",
   "pygments_lexer": "r",
   "version": "4.2.2"
  }
 },
 "nbformat": 4,
 "nbformat_minor": 1
}
