{
 "cells": [
  {
   "cell_type": "markdown",
   "metadata": {
    "id": "-2W919d2ZXp7"
   },
   "source": [
    "# Exercise 4: Data tables and manipulation"
   ]
  },
  {
   "cell_type": "markdown",
   "metadata": {
    "id": "L4nOzVhyZXqK"
   },
   "source": [
    "This homework assignment is designed to get you comfortable loading and working with data tables.\n",
    "\n",
    "You will need to download the **LexicalData_toclean.csv** file from the *Homework/lexDat* folder in the class GitHub repository. \n",
    "\n",
    "This data is a subset of the [English Lexicon Project database](https://elexicon.wustl.edu/). It provides the reaction times (in milliseconds) of many subjects as they are presented with letter strings and asked to decide, as quickly and as accurately as possible, whether the letter string is a word or not.\n",
    "\n",
    "*Data courtesy of Balota, D.A., Yap, M.J., Cortese, M.J., Hutchison, K.A., Kessler, B., Loftis, B., Neely, J.H., Nelson, D.L., Simpson, G.B., & Treiman, R. (2007). The English Lexicon Project. Behavior Research Methods, 39, 445-459.*"
   ]
  },
  {
   "cell_type": "markdown",
   "metadata": {
    "id": "9DsyBTB6ZXqN"
   },
   "source": [
    "---\n",
    "## 1. Loading the Data (1 point)\n",
    "\n",
    "Use the `setwd` and `read.csv` functions to load the data table from the **LexicalData_toclean.csv** file. Use the `head` function to look at the first few rows of the data. "
   ]
  },
  {
   "cell_type": "code",
   "execution_count": 38,
   "metadata": {
    "id": "UnBVazYfZXqP"
   },
   "outputs": [
    {
     "data": {
      "text/html": [
       "<table class=\"dataframe\">\n",
       "<caption>A data.frame: 6 × 7</caption>\n",
       "<thead>\n",
       "\t<tr><th></th><th scope=col>Sub_ID</th><th scope=col>Trial</th><th scope=col>Type</th><th scope=col>D_RT</th><th scope=col>D_Word</th><th scope=col>Outlier</th><th scope=col>D_Zscore</th></tr>\n",
       "\t<tr><th></th><th scope=col>&lt;int&gt;</th><th scope=col>&lt;int&gt;</th><th scope=col>&lt;int&gt;</th><th scope=col>&lt;chr&gt;</th><th scope=col>&lt;chr&gt;</th><th scope=col>&lt;chr&gt;</th><th scope=col>&lt;dbl&gt;</th></tr>\n",
       "</thead>\n",
       "<tbody>\n",
       "\t<tr><th scope=row>1</th><td>157</td><td>1</td><td>1</td><td>710  </td><td>browse     </td><td>false</td><td>-0.437</td></tr>\n",
       "\t<tr><th scope=row>2</th><td> 67</td><td>1</td><td>1</td><td>1,094</td><td>refrigerant</td><td>false</td><td> 0.825</td></tr>\n",
       "\t<tr><th scope=row>3</th><td>120</td><td>1</td><td>1</td><td>587  </td><td>gaining    </td><td>false</td><td>-0.645</td></tr>\n",
       "\t<tr><th scope=row>4</th><td> 21</td><td>1</td><td>1</td><td>984  </td><td>cheerless  </td><td>false</td><td> 0.025</td></tr>\n",
       "\t<tr><th scope=row>5</th><td>236</td><td>1</td><td>1</td><td>577  </td><td>pattered   </td><td>false</td><td>-0.763</td></tr>\n",
       "\t<tr><th scope=row>6</th><td>236</td><td>2</td><td>1</td><td>715  </td><td>conjures   </td><td>false</td><td>-0.364</td></tr>\n",
       "</tbody>\n",
       "</table>\n"
      ],
      "text/latex": [
       "A data.frame: 6 × 7\n",
       "\\begin{tabular}{r|lllllll}\n",
       "  & Sub\\_ID & Trial & Type & D\\_RT & D\\_Word & Outlier & D\\_Zscore\\\\\n",
       "  & <int> & <int> & <int> & <chr> & <chr> & <chr> & <dbl>\\\\\n",
       "\\hline\n",
       "\t1 & 157 & 1 & 1 & 710   & browse      & false & -0.437\\\\\n",
       "\t2 &  67 & 1 & 1 & 1,094 & refrigerant & false &  0.825\\\\\n",
       "\t3 & 120 & 1 & 1 & 587   & gaining     & false & -0.645\\\\\n",
       "\t4 &  21 & 1 & 1 & 984   & cheerless   & false &  0.025\\\\\n",
       "\t5 & 236 & 1 & 1 & 577   & pattered    & false & -0.763\\\\\n",
       "\t6 & 236 & 2 & 1 & 715   & conjures    & false & -0.364\\\\\n",
       "\\end{tabular}\n"
      ],
      "text/markdown": [
       "\n",
       "A data.frame: 6 × 7\n",
       "\n",
       "| <!--/--> | Sub_ID &lt;int&gt; | Trial &lt;int&gt; | Type &lt;int&gt; | D_RT &lt;chr&gt; | D_Word &lt;chr&gt; | Outlier &lt;chr&gt; | D_Zscore &lt;dbl&gt; |\n",
       "|---|---|---|---|---|---|---|---|\n",
       "| 1 | 157 | 1 | 1 | 710   | browse      | false | -0.437 |\n",
       "| 2 |  67 | 1 | 1 | 1,094 | refrigerant | false |  0.825 |\n",
       "| 3 | 120 | 1 | 1 | 587   | gaining     | false | -0.645 |\n",
       "| 4 |  21 | 1 | 1 | 984   | cheerless   | false |  0.025 |\n",
       "| 5 | 236 | 1 | 1 | 577   | pattered    | false | -0.763 |\n",
       "| 6 | 236 | 2 | 1 | 715   | conjures    | false | -0.364 |\n",
       "\n"
      ],
      "text/plain": [
       "  Sub_ID Trial Type D_RT  D_Word      Outlier D_Zscore\n",
       "1 157    1     1    710   browse      false   -0.437  \n",
       "2  67    1     1    1,094 refrigerant false    0.825  \n",
       "3 120    1     1    587   gaining     false   -0.645  \n",
       "4  21    1     1    984   cheerless   false    0.025  \n",
       "5 236    1     1    577   pattered    false   -0.763  \n",
       "6 236    2     1    715   conjures    false   -0.364  "
      ]
     },
     "metadata": {},
     "output_type": "display_data"
    }
   ],
   "source": [
    "# INSERT CODE HERE\n",
    "# If you are running this on your local computer, wet your workign directory to \n",
    "# the location of the lexDat data by setting your harddrive. Uncomment this line\n",
    "# and change the location to where it is on your computer. \n",
    "\n",
    "library(tidyverse)\n",
    "\n",
    "setwd(\"C:/Users/roman/OneDrive/Documents/Python Scripts/DataSciencePsychNeuro-master/Homework datasets/LexDat\")\n",
    "\n",
    "data <- read.csv(\"LexicalData_toclean.csv\")\n",
    "head(data)"
   ]
  },
  {
   "cell_type": "markdown",
   "metadata": {
    "id": "vk5oha2W4G7h"
   },
   "source": [
    "The **LexicalData_toclean.csv** file contains the variables `Sub_ID` (Subject ID), `Trial` (the trial number), `D_RT` (reaction time) and `D_Word` (the word they were responding to)."
   ]
  },
  {
   "cell_type": "markdown",
   "metadata": {
    "id": "SJuj14ZyZXqS"
   },
   "source": [
    "---\n",
    "## 2. Data Cleansing (4 points)\n",
    "\n",
    "There are three things we want to do to make this data more useable:\n",
    "* Get rid of the commas in the reaction time values, and make this variable numeric (hint: check out the functions `gsub` and `as.numeric`).\n",
    "* Get rid of rows where the reaction times are missing (hint: you can use the `filter` function from `tidyverse`, but you'll need to load the library).\n",
    "* Make sure all of the reaction times are positive. \n",
    "\n",
    "Write code that will copy the data to a new variable and make the above changes. "
   ]
  },
  {
   "cell_type": "code",
   "execution_count": 67,
   "metadata": {
    "id": "5pXIjADNZXqU"
   },
   "outputs": [
    {
     "data": {
      "text/html": [
       "<table class=\"dataframe\">\n",
       "<caption>A data.frame: 6 × 7</caption>\n",
       "<thead>\n",
       "\t<tr><th></th><th scope=col>Sub_ID</th><th scope=col>Trial</th><th scope=col>Type</th><th scope=col>D_RT</th><th scope=col>D_Word</th><th scope=col>Outlier</th><th scope=col>D_Zscore</th></tr>\n",
       "\t<tr><th></th><th scope=col>&lt;int&gt;</th><th scope=col>&lt;int&gt;</th><th scope=col>&lt;int&gt;</th><th scope=col>&lt;chr&gt;</th><th scope=col>&lt;chr&gt;</th><th scope=col>&lt;chr&gt;</th><th scope=col>&lt;dbl&gt;</th></tr>\n",
       "</thead>\n",
       "<tbody>\n",
       "\t<tr><th scope=row>1</th><td>157</td><td>1</td><td>1</td><td>710  </td><td>browse     </td><td>false</td><td>-0.437</td></tr>\n",
       "\t<tr><th scope=row>2</th><td> 67</td><td>1</td><td>1</td><td>1,094</td><td>refrigerant</td><td>false</td><td> 0.825</td></tr>\n",
       "\t<tr><th scope=row>3</th><td>120</td><td>1</td><td>1</td><td>587  </td><td>gaining    </td><td>false</td><td>-0.645</td></tr>\n",
       "\t<tr><th scope=row>4</th><td> 21</td><td>1</td><td>1</td><td>984  </td><td>cheerless  </td><td>false</td><td> 0.025</td></tr>\n",
       "\t<tr><th scope=row>5</th><td>236</td><td>1</td><td>1</td><td>577  </td><td>pattered   </td><td>false</td><td>-0.763</td></tr>\n",
       "\t<tr><th scope=row>6</th><td>236</td><td>2</td><td>1</td><td>715  </td><td>conjures   </td><td>false</td><td>-0.364</td></tr>\n",
       "</tbody>\n",
       "</table>\n"
      ],
      "text/latex": [
       "A data.frame: 6 × 7\n",
       "\\begin{tabular}{r|lllllll}\n",
       "  & Sub\\_ID & Trial & Type & D\\_RT & D\\_Word & Outlier & D\\_Zscore\\\\\n",
       "  & <int> & <int> & <int> & <chr> & <chr> & <chr> & <dbl>\\\\\n",
       "\\hline\n",
       "\t1 & 157 & 1 & 1 & 710   & browse      & false & -0.437\\\\\n",
       "\t2 &  67 & 1 & 1 & 1,094 & refrigerant & false &  0.825\\\\\n",
       "\t3 & 120 & 1 & 1 & 587   & gaining     & false & -0.645\\\\\n",
       "\t4 &  21 & 1 & 1 & 984   & cheerless   & false &  0.025\\\\\n",
       "\t5 & 236 & 1 & 1 & 577   & pattered    & false & -0.763\\\\\n",
       "\t6 & 236 & 2 & 1 & 715   & conjures    & false & -0.364\\\\\n",
       "\\end{tabular}\n"
      ],
      "text/markdown": [
       "\n",
       "A data.frame: 6 × 7\n",
       "\n",
       "| <!--/--> | Sub_ID &lt;int&gt; | Trial &lt;int&gt; | Type &lt;int&gt; | D_RT &lt;chr&gt; | D_Word &lt;chr&gt; | Outlier &lt;chr&gt; | D_Zscore &lt;dbl&gt; |\n",
       "|---|---|---|---|---|---|---|---|\n",
       "| 1 | 157 | 1 | 1 | 710   | browse      | false | -0.437 |\n",
       "| 2 |  67 | 1 | 1 | 1,094 | refrigerant | false |  0.825 |\n",
       "| 3 | 120 | 1 | 1 | 587   | gaining     | false | -0.645 |\n",
       "| 4 |  21 | 1 | 1 | 984   | cheerless   | false |  0.025 |\n",
       "| 5 | 236 | 1 | 1 | 577   | pattered    | false | -0.763 |\n",
       "| 6 | 236 | 2 | 1 | 715   | conjures    | false | -0.364 |\n",
       "\n"
      ],
      "text/plain": [
       "  Sub_ID Trial Type D_RT  D_Word      Outlier D_Zscore\n",
       "1 157    1     1    710   browse      false   -0.437  \n",
       "2  67    1     1    1,094 refrigerant false    0.825  \n",
       "3 120    1     1    587   gaining     false   -0.645  \n",
       "4  21    1     1    984   cheerless   false    0.025  \n",
       "5 236    1     1    577   pattered    false   -0.763  \n",
       "6 236    2     1    715   conjures    false   -0.364  "
      ]
     },
     "metadata": {},
     "output_type": "display_data"
    },
    {
     "data": {
      "text/html": [
       "<table class=\"dataframe\">\n",
       "<caption>A data.frame: 6 × 7</caption>\n",
       "<thead>\n",
       "\t<tr><th></th><th scope=col>Sub_ID</th><th scope=col>Trial</th><th scope=col>Type</th><th scope=col>D_Word</th><th scope=col>Outlier</th><th scope=col>D_Zscore</th><th scope=col>D_RT_clean</th></tr>\n",
       "\t<tr><th></th><th scope=col>&lt;int&gt;</th><th scope=col>&lt;int&gt;</th><th scope=col>&lt;int&gt;</th><th scope=col>&lt;chr&gt;</th><th scope=col>&lt;chr&gt;</th><th scope=col>&lt;dbl&gt;</th><th scope=col>&lt;dbl&gt;</th></tr>\n",
       "</thead>\n",
       "<tbody>\n",
       "\t<tr><th scope=row>1</th><td>157</td><td>1</td><td>1</td><td>browse     </td><td>false</td><td>-0.437</td><td> 710</td></tr>\n",
       "\t<tr><th scope=row>2</th><td> 67</td><td>1</td><td>1</td><td>refrigerant</td><td>false</td><td> 0.825</td><td>1094</td></tr>\n",
       "\t<tr><th scope=row>3</th><td>120</td><td>1</td><td>1</td><td>gaining    </td><td>false</td><td>-0.645</td><td> 587</td></tr>\n",
       "\t<tr><th scope=row>4</th><td> 21</td><td>1</td><td>1</td><td>cheerless  </td><td>false</td><td> 0.025</td><td> 984</td></tr>\n",
       "\t<tr><th scope=row>5</th><td>236</td><td>1</td><td>1</td><td>pattered   </td><td>false</td><td>-0.763</td><td> 577</td></tr>\n",
       "\t<tr><th scope=row>6</th><td>236</td><td>2</td><td>1</td><td>conjures   </td><td>false</td><td>-0.364</td><td> 715</td></tr>\n",
       "</tbody>\n",
       "</table>\n"
      ],
      "text/latex": [
       "A data.frame: 6 × 7\n",
       "\\begin{tabular}{r|lllllll}\n",
       "  & Sub\\_ID & Trial & Type & D\\_Word & Outlier & D\\_Zscore & D\\_RT\\_clean\\\\\n",
       "  & <int> & <int> & <int> & <chr> & <chr> & <dbl> & <dbl>\\\\\n",
       "\\hline\n",
       "\t1 & 157 & 1 & 1 & browse      & false & -0.437 &  710\\\\\n",
       "\t2 &  67 & 1 & 1 & refrigerant & false &  0.825 & 1094\\\\\n",
       "\t3 & 120 & 1 & 1 & gaining     & false & -0.645 &  587\\\\\n",
       "\t4 &  21 & 1 & 1 & cheerless   & false &  0.025 &  984\\\\\n",
       "\t5 & 236 & 1 & 1 & pattered    & false & -0.763 &  577\\\\\n",
       "\t6 & 236 & 2 & 1 & conjures    & false & -0.364 &  715\\\\\n",
       "\\end{tabular}\n"
      ],
      "text/markdown": [
       "\n",
       "A data.frame: 6 × 7\n",
       "\n",
       "| <!--/--> | Sub_ID &lt;int&gt; | Trial &lt;int&gt; | Type &lt;int&gt; | D_Word &lt;chr&gt; | Outlier &lt;chr&gt; | D_Zscore &lt;dbl&gt; | D_RT_clean &lt;dbl&gt; |\n",
       "|---|---|---|---|---|---|---|---|\n",
       "| 1 | 157 | 1 | 1 | browse      | false | -0.437 |  710 |\n",
       "| 2 |  67 | 1 | 1 | refrigerant | false |  0.825 | 1094 |\n",
       "| 3 | 120 | 1 | 1 | gaining     | false | -0.645 |  587 |\n",
       "| 4 |  21 | 1 | 1 | cheerless   | false |  0.025 |  984 |\n",
       "| 5 | 236 | 1 | 1 | pattered    | false | -0.763 |  577 |\n",
       "| 6 | 236 | 2 | 1 | conjures    | false | -0.364 |  715 |\n",
       "\n"
      ],
      "text/plain": [
       "  Sub_ID Trial Type D_Word      Outlier D_Zscore D_RT_clean\n",
       "1 157    1     1    browse      false   -0.437    710      \n",
       "2  67    1     1    refrigerant false    0.825   1094      \n",
       "3 120    1     1    gaining     false   -0.645    587      \n",
       "4  21    1     1    cheerless   false    0.025    984      \n",
       "5 236    1     1    pattered    false   -0.763    577      \n",
       "6 236    2     1    conjures    false   -0.364    715      "
      ]
     },
     "metadata": {},
     "output_type": "display_data"
    }
   ],
   "source": [
    "# this took me at least 3 hours\n",
    "\n",
    "cleaned_data  <- data %>%\n",
    "  mutate(D_RT_clean = as.numeric(gsub(\",\",\"\",D_RT)))\n",
    "\n",
    "cleaned_data <- cleaned_data  %>% \n",
    "    filter(D_RT_clean != \"NA\",\n",
    "          D_RT_clean >= 0)\n",
    "\n",
    "cleaned_data  <- cleaned_data  %>% \n",
    "    select(-D_RT)\n",
    "\n",
    "head(cleaned_data)"
   ]
  },
  {
   "cell_type": "markdown",
   "metadata": {
    "id": "a3tOGnZL5E9S"
   },
   "source": [
    "For each of the three actions above, is it addressing a data anomaly (as described in the Müller reading)? If so, name the *type* of anomaly it's addressing. "
   ]
  },
  {
   "cell_type": "markdown",
   "metadata": {
    "id": "6CvlJZOK5qx0"
   },
   "source": [
    "> *Write your response here.*\n",
    "> * First action: Yes, domain format errors\n",
    "> * Second action: Yes, missing values\n",
    "> * Third action: Yes, integrity constraint violations"
   ]
  },
  {
   "cell_type": "markdown",
   "metadata": {
    "id": "AX4B1CxyZXqX"
   },
   "source": [
    "---\n",
    "## 3. Data Manipulation with Tidyverse (4 points)\n",
    "\n",
    "Now let's use `tidyverse` functions to play around with this data a bit. Use the piping operator (`%>%`) in both of these code cells. \n",
    "\n",
    "First, let's get some useful summary **statistics** using `summarise`. Output a table that tells us how many observations there are in the data set, as well as the mean and standard deviation of the reaction times."
   ]
  },
  {
   "cell_type": "code",
   "execution_count": 70,
   "metadata": {
    "id": "S_DJDsUzZXqY"
   },
   "outputs": [
    {
     "data": {
      "text/html": [
       "<table class=\"dataframe\">\n",
       "<caption>A data.frame: 1 × 3</caption>\n",
       "<thead>\n",
       "\t<tr><th scope=col>count</th><th scope=col>Mean_of_Reaction_Times</th><th scope=col>SD_of_Reaction_Times</th></tr>\n",
       "\t<tr><th scope=col>&lt;int&gt;</th><th scope=col>&lt;dbl&gt;</th><th scope=col>&lt;dbl&gt;</th></tr>\n",
       "</thead>\n",
       "<tbody>\n",
       "\t<tr><td>62607</td><td>807.2667</td><td>377.4396</td></tr>\n",
       "</tbody>\n",
       "</table>\n"
      ],
      "text/latex": [
       "A data.frame: 1 × 3\n",
       "\\begin{tabular}{lll}\n",
       " count & Mean\\_of\\_Reaction\\_Times & SD\\_of\\_Reaction\\_Times\\\\\n",
       " <int> & <dbl> & <dbl>\\\\\n",
       "\\hline\n",
       "\t 62607 & 807.2667 & 377.4396\\\\\n",
       "\\end{tabular}\n"
      ],
      "text/markdown": [
       "\n",
       "A data.frame: 1 × 3\n",
       "\n",
       "| count &lt;int&gt; | Mean_of_Reaction_Times &lt;dbl&gt; | SD_of_Reaction_Times &lt;dbl&gt; |\n",
       "|---|---|---|\n",
       "| 62607 | 807.2667 | 377.4396 |\n",
       "\n"
      ],
      "text/plain": [
       "  count Mean_of_Reaction_Times SD_of_Reaction_Times\n",
       "1 62607 807.2667               377.4396            "
      ]
     },
     "metadata": {},
     "output_type": "display_data"
    }
   ],
   "source": [
    "# INSERT CODE HERE\n",
    "#pipe shortcut: ctrl+shift+M\n",
    "\n",
    "smry  <- cleaned_data  %>%\n",
    "  summarise(count = length(Trial),\n",
    "           Mean_of_Reaction_Times = mean(D_RT_clean),\n",
    "           SD_of_Reaction_Times = sd(D_RT_clean))\n",
    "\n",
    "smry"
   ]
  },
  {
   "cell_type": "markdown",
   "metadata": {
    "id": "RgKbS2AqIDQ-"
   },
   "source": [
    "Now, we'll use `mutate` to re-number the trials, starting from 0 instead of 1. Make a new variable that is equal to the `Trial` variable minus one. "
   ]
  },
  {
   "cell_type": "code",
   "execution_count": 72,
   "metadata": {
    "id": "ejQvUAZRZXqd"
   },
   "outputs": [
    {
     "data": {
      "text/html": [
       "<table class=\"dataframe\">\n",
       "<caption>A data.frame: 6 × 8</caption>\n",
       "<thead>\n",
       "\t<tr><th></th><th scope=col>Sub_ID</th><th scope=col>Trial</th><th scope=col>Type</th><th scope=col>D_Word</th><th scope=col>Outlier</th><th scope=col>D_Zscore</th><th scope=col>D_RT_clean</th><th scope=col>Trial_0</th></tr>\n",
       "\t<tr><th></th><th scope=col>&lt;int&gt;</th><th scope=col>&lt;int&gt;</th><th scope=col>&lt;int&gt;</th><th scope=col>&lt;chr&gt;</th><th scope=col>&lt;chr&gt;</th><th scope=col>&lt;dbl&gt;</th><th scope=col>&lt;dbl&gt;</th><th scope=col>&lt;dbl&gt;</th></tr>\n",
       "</thead>\n",
       "<tbody>\n",
       "\t<tr><th scope=row>1</th><td>157</td><td>1</td><td>1</td><td>browse     </td><td>false</td><td>-0.437</td><td> 710</td><td>0</td></tr>\n",
       "\t<tr><th scope=row>2</th><td> 67</td><td>1</td><td>1</td><td>refrigerant</td><td>false</td><td> 0.825</td><td>1094</td><td>0</td></tr>\n",
       "\t<tr><th scope=row>3</th><td>120</td><td>1</td><td>1</td><td>gaining    </td><td>false</td><td>-0.645</td><td> 587</td><td>0</td></tr>\n",
       "\t<tr><th scope=row>4</th><td> 21</td><td>1</td><td>1</td><td>cheerless  </td><td>false</td><td> 0.025</td><td> 984</td><td>0</td></tr>\n",
       "\t<tr><th scope=row>5</th><td>236</td><td>1</td><td>1</td><td>pattered   </td><td>false</td><td>-0.763</td><td> 577</td><td>0</td></tr>\n",
       "\t<tr><th scope=row>6</th><td>236</td><td>2</td><td>1</td><td>conjures   </td><td>false</td><td>-0.364</td><td> 715</td><td>1</td></tr>\n",
       "</tbody>\n",
       "</table>\n"
      ],
      "text/latex": [
       "A data.frame: 6 × 8\n",
       "\\begin{tabular}{r|llllllll}\n",
       "  & Sub\\_ID & Trial & Type & D\\_Word & Outlier & D\\_Zscore & D\\_RT\\_clean & Trial\\_0\\\\\n",
       "  & <int> & <int> & <int> & <chr> & <chr> & <dbl> & <dbl> & <dbl>\\\\\n",
       "\\hline\n",
       "\t1 & 157 & 1 & 1 & browse      & false & -0.437 &  710 & 0\\\\\n",
       "\t2 &  67 & 1 & 1 & refrigerant & false &  0.825 & 1094 & 0\\\\\n",
       "\t3 & 120 & 1 & 1 & gaining     & false & -0.645 &  587 & 0\\\\\n",
       "\t4 &  21 & 1 & 1 & cheerless   & false &  0.025 &  984 & 0\\\\\n",
       "\t5 & 236 & 1 & 1 & pattered    & false & -0.763 &  577 & 0\\\\\n",
       "\t6 & 236 & 2 & 1 & conjures    & false & -0.364 &  715 & 1\\\\\n",
       "\\end{tabular}\n"
      ],
      "text/markdown": [
       "\n",
       "A data.frame: 6 × 8\n",
       "\n",
       "| <!--/--> | Sub_ID &lt;int&gt; | Trial &lt;int&gt; | Type &lt;int&gt; | D_Word &lt;chr&gt; | Outlier &lt;chr&gt; | D_Zscore &lt;dbl&gt; | D_RT_clean &lt;dbl&gt; | Trial_0 &lt;dbl&gt; |\n",
       "|---|---|---|---|---|---|---|---|---|\n",
       "| 1 | 157 | 1 | 1 | browse      | false | -0.437 |  710 | 0 |\n",
       "| 2 |  67 | 1 | 1 | refrigerant | false |  0.825 | 1094 | 0 |\n",
       "| 3 | 120 | 1 | 1 | gaining     | false | -0.645 |  587 | 0 |\n",
       "| 4 |  21 | 1 | 1 | cheerless   | false |  0.025 |  984 | 0 |\n",
       "| 5 | 236 | 1 | 1 | pattered    | false | -0.763 |  577 | 0 |\n",
       "| 6 | 236 | 2 | 1 | conjures    | false | -0.364 |  715 | 1 |\n",
       "\n"
      ],
      "text/plain": [
       "  Sub_ID Trial Type D_Word      Outlier D_Zscore D_RT_clean Trial_0\n",
       "1 157    1     1    browse      false   -0.437    710       0      \n",
       "2  67    1     1    refrigerant false    0.825   1094       0      \n",
       "3 120    1     1    gaining     false   -0.645    587       0      \n",
       "4  21    1     1    cheerless   false    0.025    984       0      \n",
       "5 236    1     1    pattered    false   -0.763    577       0      \n",
       "6 236    2     1    conjures    false   -0.364    715       1      "
      ]
     },
     "metadata": {},
     "output_type": "display_data"
    }
   ],
   "source": [
    "# INSERT CODE HERE\n",
    "\n",
    "cleaned_data  <-  cleaned_data %>%\n",
    "  mutate(Trial_0 = (Trial-1))\n",
    "\n",
    "head(cleaned_data)"
   ]
  },
  {
   "cell_type": "markdown",
   "metadata": {},
   "source": [
    "---\n",
    "## 4. Plotting Data (1 point)\n",
    "\n",
    "Use the `plot()` function to visualize the data, in a way that helps you see if there's a relationship between `D_RT` and your new trial variable."
   ]
  },
  {
   "cell_type": "code",
   "execution_count": 88,
   "metadata": {},
   "outputs": [
    {
     "name": "stderr",
     "output_type": "stream",
     "text": [
      "\u001b[1m\u001b[22m`geom_smooth()` using formula = 'y ~ x'\n"
     ]
    },
    {
     "data": {
      "image/png": "[encoded data removed]",
      "text/plain": [
       "plot without title"
      ]
     },
     "metadata": {
      "image/png": {
       "height": 420,
       "width": 420
      }
     },
     "output_type": "display_data"
    }
   ],
   "source": [
    "# INSERT CODE HERE\n",
    "\n",
    "ggplot(aes(y = D_RT_clean, x = Trial_0), data = cleaned_data)+geom_point() + geom_smooth(method=\"lm\")"
   ]
  },
  {
   "cell_type": "markdown",
   "metadata": {},
   "source": [
    "That's all for this assignment! When you are finished, save the notebook as Exercise4.ipynb, push it to your class GitHub repository and send the instructors a link to your notebook via Canvas."
   ]
  },
  {
   "cell_type": "markdown",
   "metadata": {
    "id": "C4MPECMmZXqe"
   },
   "source": [
    "**DUE:** 5pm EST, Feb 13, 2023"
   ]
  },
  {
   "cell_type": "markdown",
   "metadata": {
    "id": "r9GUofXN4BVy"
   },
   "source": [
    "**IMPORTANT** Did you collaborate with anyone on this assignment? If so, list their names here. \n",
    "> *Someone's Name*"
   ]
  }
 ],
 "metadata": {
  "colab": {
   "provenance": []
  },
  "kernelspec": {
   "display_name": "R",
   "language": "R",
   "name": "ir"
  },
  "language_info": {
   "codemirror_mode": "r",
   "file_extension": ".r",
   "mimetype": "text/x-r-source",
   "name": "R",
   "pygments_lexer": "r",
   "version": "4.2.2"
  }
 },
 "nbformat": 4,
 "nbformat_minor": 1
}
