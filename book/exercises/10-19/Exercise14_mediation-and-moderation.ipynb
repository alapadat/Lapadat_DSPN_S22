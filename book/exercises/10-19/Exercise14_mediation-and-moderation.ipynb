{
 "cells": [
  {
   "cell_type": "markdown",
   "metadata": {
    "id": "-2W919d2ZXp7"
   },
   "source": [
    "# Exercise 14: Mediation"
   ]
  },
  {
   "cell_type": "markdown",
   "metadata": {
    "id": "L4nOzVhyZXqK"
   },
   "source": [
    "This homework assignment is designed to give you practice with mediation. You won't need to load in any data for this homework -- we'll simulate data instead."
   ]
  },
  {
   "cell_type": "markdown",
   "metadata": {
    "id": "9DsyBTB6ZXqN"
   },
   "source": [
    "---\n",
    "## 1. Simulating data (3 points)\n"
   ]
  },
  {
   "cell_type": "markdown",
   "metadata": {
    "id": "J1f6MywYhyzN"
   },
   "source": [
    "In this homework, we're going to simulate the relationship between age, word reading experience, and reading comprehension skill. Older children tend to be better at reading comprehension tasks, but this isn't just an inherent part of getting older. It's a combination of gaining more experience with reading, oral language skills, and executive functions development. In this homework, though, we're going to simplify this relationship down to a direct effect of age on reading comprehension (since improvements in oral language skills and executive functions are more guaranteed as children age than reading practice is), and a mediation of word reading experience.\n",
    "\n",
    "In graphical form: \n",
    "![picture](https://drive.google.com/uc?id=1wdm9xuiJhBJor99-9GnicO2_rzkGWtfN)"
   ]
  },
  {
   "cell_type": "markdown",
   "metadata": {
    "id": "qMpQX_ogjkyQ"
   },
   "source": [
    "Writing the relationship out formally: \n",
    "\n",
    "$$x = \\beta_{xa} a + \\beta_{x0} + \\epsilon_{x}$$\n",
    "\n",
    "$$c = \\beta_{ca} a + \\beta_{cx} x + \\beta_{c0} + \\epsilon_c$$\n",
    "\n"
   ]
  },
  {
   "cell_type": "markdown",
   "metadata": {
    "id": "5FidlpJlmKi8"
   },
   "source": [
    "$c$ is reading comprehension, $x$ is word reading experience, and $a$ is age. $\\beta_{c0}$ and $\\beta_{x0}$ are intercept terms for their respective formulas, and $\\epsilon_{c}$ and $\\epsilon_{x}$ are gaussian noise terms. We'll start by writing a function, `simulate_data`, that can simulate this relationship. The input values are set and the function structure is provided below. Complete the function such that it takes in those input variables and generates $age$, $x$, and $c$ values. Use `runif()` to generate ages. Use `rnorm()` to generate the noise terms. "
   ]
  },
  {
   "cell_type": "code",
   "execution_count": 32,
   "metadata": {},
   "outputs": [
    {
     "name": "stdout",
     "output_type": "stream",
     "text": [
      "[1] \"0\" \"0\"\n",
      "character(0)\n"
     ]
    },
    {
     "ename": "ERROR",
     "evalue": "Error in `[.data.frame`(output_x, , i): undefined columns selected\n",
     "output_type": "error",
     "traceback": [
      "Error in `[.data.frame`(output_x, , i): undefined columns selected\nTraceback:\n",
      "1. simulate_data(sample_size, age_lo, age_hi, beta_xa, beta_x0, \n .     sd_x, beta_ca, beta_cx, beta_c0, sd_c)",
      "2. output_x[, i]   # at line 52-55 of file <text>",
      "3. `[.data.frame`(output_x, , i)   # at line 52-55 of file <text>",
      "4. stop(\"undefined columns selected\")"
     ]
    }
   ],
   "source": [
    "sample_size = 100 # How many children in data set? \n",
    "age_lo = 80     # minimum age, in months\n",
    "age_hi = 200    # maximum age, in months\n",
    "beta_xa = 0.5   # amount by which experience changes for increase of one month in age\n",
    "beta_x0 = -5    # amount of experience when age = 0 (not interpretable, since minimum age for this data is 80 months)\n",
    "sd_x = 50       # standard dev of gaussian noise term, epsilon_x\n",
    "beta_ca = 0.8   # amount that comprehension score improves for every increase of one unit in age\n",
    "beta_cx = 3     # amount that comprehension score improves for every increase of one unit in reading experience\n",
    "beta_c0 = 10    # comprehension score when reading experience is 0. \n",
    "sd_c = 85      # standard dev of gaussian noise term, epsilon_c\n",
    "\n",
    "#generate random numbers for df\n",
    "#r <- runif(sample_size, age_lo, age_hi)\n",
    "\n",
    "#mean_r  <- mean(r)\n",
    "#generate mean(r)\n",
    "\n",
    "#generate x values\n",
    "#x = (beta_xa + beta_x0 + rnorm(1, mean_x, sd_x))\n",
    "#x\n",
    "\n",
    "#generate c values\n",
    "#c = (beta_ca + beta_cx + beta_c0 + rnorm(1, mean_r, sd_c))\n",
    "\n",
    "#dat = data.frame(r, x, c)\n",
    "#dat\n",
    "\n",
    "simulate_data <- function(sample_size, age_lo, age_hi, beta_xa, \n",
    "                          beta_x0, sd_x, beta_ca, beta_cx, beta_c0, sd_c) {\n",
    "    \n",
    "    r <- runif(sample_size, age_lo, age_hi)\n",
    "    output_x = data.frame()\n",
    "    output_c = data.frame()\n",
    "    mean_r  <- mean(r) #generate mean(r)\n",
    "    \n",
    "    print(paste(dim(output_c)))\n",
    "    print(paste(output_x))\n",
    "    \n",
    "    for (item in 1:sample_size)\n",
    "        #x = (beta_xa + beta_x0 + rnorm(1, mean_x, sd_x))\n",
    "        output_x = rbind(output_x, (((r[item])*beta_xa) + beta_x0 + rnorm(1, mean = 0, sd_x)))\n",
    "    \n",
    "    \n",
    "    #for (item in 1:ncol(sample_size))\n",
    "        #x = (beta_xa + beta_x0 + rnorm(1, mean_x, sd_x))\n",
    "        #print(paste(output_c[item,]))\n",
    "        #print(paste(output_c[ , item]))\n",
    "        #output_c = rbind(output_c, (((r[item])*beta_ca) + beta_cx + beta_c0 + rnorm(1, mean = 0, sd_c)))\n",
    "    \n",
    "    #print(paste(length(sample_size)))\n",
    "    \n",
    "    for(i in 1:sample_size)       # for-loop over columns\n",
    "        #output_c[ , i] <- output_c[ , i] + 10\n",
    "        #print(paste(output_c[ , i]))\n",
    "        output_x[ , i]\n",
    "        #output_c = rbind(output_c, (((r[item])*beta_ca) + beta_cx + beta_c0 + rnorm(1, mean = 0, sd_c)))  \n",
    "        output_c = rbind(output_c, (((r[item])*beta_ca) + beta_cx + beta_c0 + rnorm(1, mean = 0, sd_c)))\n",
    "                         \n",
    "    output = data.frame(\"age\" = r, output_x, output_c)\n",
    "    colnames(output)[2] =\"x\"\n",
    "    colnames(output)[3] =\"c\"\n",
    "    #plot(r)\n",
    "    \n",
    "    return(output)     \n",
    "}\n",
    "\n",
    "dat <- simulate_data(sample_size, age_lo, age_hi, beta_xa, beta_x0, sd_x, beta_ca, beta_cx, beta_c0, sd_c)\n",
    "head(dat)"
   ]
  },
  {
   "cell_type": "code",
   "execution_count": 2,
   "metadata": {
    "id": "UnBVazYfZXqP",
    "vscode": {
     "languageId": "r"
    }
   },
   "outputs": [
    {
     "data": {
      "text/html": [
       "<table class=\"dataframe\">\n",
       "<caption>A data.frame: 6 × 3</caption>\n",
       "<thead>\n",
       "\t<tr><th></th><th scope=col>age</th><th scope=col>x</th><th scope=col>c</th></tr>\n",
       "\t<tr><th></th><th scope=col>&lt;dbl&gt;</th><th scope=col>&lt;dbl&gt;</th><th scope=col>&lt;dbl&gt;</th></tr>\n",
       "</thead>\n",
       "<tbody>\n",
       "\t<tr><th scope=row>1</th><td>190.94186</td><td>   6.7329143</td><td>-52.215788</td></tr>\n",
       "\t<tr><th scope=row>2</th><td>138.91515</td><td> -98.6732325</td><td>-70.945020</td></tr>\n",
       "\t<tr><th scope=row>3</th><td> 86.13615</td><td>-103.9071826</td><td> 20.674706</td></tr>\n",
       "\t<tr><th scope=row>4</th><td>192.67717</td><td> -54.4181127</td><td> 29.648229</td></tr>\n",
       "\t<tr><th scope=row>5</th><td> 85.60623</td><td>  -0.8538064</td><td>-50.868852</td></tr>\n",
       "\t<tr><th scope=row>6</th><td>108.42276</td><td>   2.0466869</td><td>  2.830579</td></tr>\n",
       "</tbody>\n",
       "</table>\n"
      ],
      "text/latex": [
       "A data.frame: 6 × 3\n",
       "\\begin{tabular}{r|lll}\n",
       "  & age & x & c\\\\\n",
       "  & <dbl> & <dbl> & <dbl>\\\\\n",
       "\\hline\n",
       "\t1 & 190.94186 &    6.7329143 & -52.215788\\\\\n",
       "\t2 & 138.91515 &  -98.6732325 & -70.945020\\\\\n",
       "\t3 &  86.13615 & -103.9071826 &  20.674706\\\\\n",
       "\t4 & 192.67717 &  -54.4181127 &  29.648229\\\\\n",
       "\t5 &  85.60623 &   -0.8538064 & -50.868852\\\\\n",
       "\t6 & 108.42276 &    2.0466869 &   2.830579\\\\\n",
       "\\end{tabular}\n"
      ],
      "text/markdown": [
       "\n",
       "A data.frame: 6 × 3\n",
       "\n",
       "| <!--/--> | age &lt;dbl&gt; | x &lt;dbl&gt; | c &lt;dbl&gt; |\n",
       "|---|---|---|---|\n",
       "| 1 | 190.94186 |    6.7329143 | -52.215788 |\n",
       "| 2 | 138.91515 |  -98.6732325 | -70.945020 |\n",
       "| 3 |  86.13615 | -103.9071826 |  20.674706 |\n",
       "| 4 | 192.67717 |  -54.4181127 |  29.648229 |\n",
       "| 5 |  85.60623 |   -0.8538064 | -50.868852 |\n",
       "| 6 | 108.42276 |    2.0466869 |   2.830579 |\n",
       "\n"
      ],
      "text/plain": [
       "  age       x            c         \n",
       "1 190.94186    6.7329143 -52.215788\n",
       "2 138.91515  -98.6732325 -70.945020\n",
       "3  86.13615 -103.9071826  20.674706\n",
       "4 192.67717  -54.4181127  29.648229\n",
       "5  85.60623   -0.8538064 -50.868852\n",
       "6 108.42276    2.0466869   2.830579"
      ]
     },
     "metadata": {},
     "output_type": "display_data"
    }
   ],
   "source": [
    "sample_size = 100 # How many children in data set? \n",
    "age_lo = 80     # minimum age, in months\n",
    "age_hi = 200    # maximum age, in months\n",
    "beta_xa = 0.5   # amount by which experience changes for increase of one month in age\n",
    "beta_x0 = -5    # amount of experience when age = 0 (not interpretable, since minimum age for this data is 80 months)\n",
    "sd_x = 50       # standard dev of gaussian noise term, epsilon_x\n",
    "beta_ca = 0.8   # amount that comprehension score improves for every increase of one unit in age\n",
    "beta_cx = 3     # amount that comprehension score improves for every increase of one unit in reading experience\n",
    "beta_c0 = 10    # comprehension score when reading experience is 0. \n",
    "sd_c = 85      # standard dev of gaussian noise term, epsilon_c\n",
    "\n",
    "#generate random numbers for df\n",
    "#r <- runif(sample_size, age_lo, age_hi)\n",
    "\n",
    "#mean_r  <- mean(r)\n",
    "#generate mean(r)\n",
    "\n",
    "#generate x values\n",
    "#x = (beta_xa + beta_x0 + rnorm(1, mean_x, sd_x))\n",
    "#x\n",
    "\n",
    "#generate c values\n",
    "#c = (beta_ca + beta_cx + beta_c0 + rnorm(1, mean_r, sd_c))\n",
    "\n",
    "#dat = data.frame(r, x, c)\n",
    "#dat\n",
    "\n",
    "simulate_data <- function(sample_size, age_lo, age_hi, beta_xa, \n",
    "                          beta_x0, sd_x, beta_ca, beta_cx, beta_c0, sd_c) {\n",
    "    \n",
    "    r <- runif(sample_size, age_lo, age_hi)\n",
    "    output_x = data.frame()\n",
    "    output_c = data.frame()\n",
    "    mean_r  <- mean(r) #generate mean(r)\n",
    "    \n",
    "    for (item in 1:sample_size)\n",
    "        #x = (beta_xa + beta_x0 + rnorm(1, mean_x, sd_x))\n",
    "        output_x = rbind(output_x, (beta_xa + beta_x0 + rnorm(1, mean = 0, sd_x)))\n",
    "    \n",
    "    for (item in 1:sample_size)\n",
    "        #x = (beta_xa + beta_x0 + rnorm(1, mean_x, sd_x))\n",
    "        output_c = rbind(output_c, (beta_ca + beta_cx + beta_c0 + rnorm(1, mean = 0, sd_c)))\n",
    "    \n",
    "    output = data.frame(\"age\" = r, output_x, output_c)\n",
    "    colnames(output)[2] =\"x\"\n",
    "    colnames(output)[3] =\"c\"\n",
    "    #plot(r)\n",
    "    \n",
    "    return(output)\n",
    "      \n",
    "}\n",
    "\n",
    "dat <- simulate_data(sample_size, age_lo, age_hi, beta_xa, beta_x0, sd_x, beta_ca, beta_cx, beta_c0, sd_c)\n",
    "head(dat)"
   ]
  },
  {
   "cell_type": "code",
   "execution_count": 15,
   "metadata": {},
   "outputs": [
    {
     "data": {
      "image/png": "[encoded data removed]",
      "text/plain": [
       "plot without title"
      ]
     },
     "metadata": {
      "image/png": {
       "height": 420,
       "width": 420
      }
     },
     "output_type": "display_data"
    }
   ],
   "source": [
    "#library(tidyverse)\n",
    "\n",
    "#plot(r) #quick test plot"
   ]
  },
  {
   "cell_type": "markdown",
   "metadata": {
    "id": "I-Rt8PFe_G5O"
   },
   "source": [
    "---\n",
    "## 2. Visualizing Data (2 point)"
   ]
  },
  {
   "cell_type": "markdown",
   "metadata": {
    "id": "MQdcoYCLvuDf"
   },
   "source": [
    "Load the `tidyverse` library."
   ]
  },
  {
   "cell_type": "code",
   "execution_count": 4,
   "metadata": {
    "id": "H07EMQCwvzsL",
    "vscode": {
     "languageId": "r"
    }
   },
   "outputs": [
    {
     "name": "stderr",
     "output_type": "stream",
     "text": [
      "── \u001b[1mAttaching packages\u001b[22m ─────────────────────────────────────────────────────────────────────────────── tidyverse 1.3.2 ──\n",
      "\u001b[32m✔\u001b[39m \u001b[34mggplot2\u001b[39m 3.4.1     \u001b[32m✔\u001b[39m \u001b[34mpurrr  \u001b[39m 1.0.1\n",
      "\u001b[32m✔\u001b[39m \u001b[34mtibble \u001b[39m 3.1.8     \u001b[32m✔\u001b[39m \u001b[34mdplyr  \u001b[39m 1.1.0\n",
      "\u001b[32m✔\u001b[39m \u001b[34mtidyr  \u001b[39m 1.3.0     \u001b[32m✔\u001b[39m \u001b[34mstringr\u001b[39m 1.5.0\n",
      "\u001b[32m✔\u001b[39m \u001b[34mreadr  \u001b[39m 2.1.4     \u001b[32m✔\u001b[39m \u001b[34mforcats\u001b[39m 1.0.0\n",
      "── \u001b[1mConflicts\u001b[22m ────────────────────────────────────────────────────────────────────────────────── tidyverse_conflicts() ──\n",
      "\u001b[31m✖\u001b[39m \u001b[34mdplyr\u001b[39m::\u001b[32mfilter()\u001b[39m masks \u001b[34mstats\u001b[39m::filter()\n",
      "\u001b[31m✖\u001b[39m \u001b[34mdplyr\u001b[39m::\u001b[32mlag()\u001b[39m    masks \u001b[34mstats\u001b[39m::lag()\n"
     ]
    }
   ],
   "source": [
    "library(tidyverse)"
   ]
  },
  {
   "cell_type": "markdown",
   "metadata": {
    "id": "Vgc2ehTKv1jt"
   },
   "source": [
    "a) Plot the relationship between age and reading comprehension. "
   ]
  },
  {
   "cell_type": "code",
   "execution_count": 21,
   "metadata": {
    "id": "Pb-KYXwuwS28",
    "vscode": {
     "languageId": "r"
    }
   },
   "outputs": [
    {
     "name": "stderr",
     "output_type": "stream",
     "text": [
      "\u001b[1m\u001b[22m`geom_smooth()` using method = 'loess' and formula = 'y ~ x'\n"
     ]
    },
    {
     "data": {
      "image/png": "[encoded data removed]",
      "text/plain": [
       "plot without title"
      ]
     },
     "metadata": {
      "image/png": {
       "height": 420,
       "width": 420
      }
     },
     "output_type": "display_data"
    }
   ],
   "source": [
    "# WRITE YOUR CODE HERE\n",
    "gg  <- ggplot(dat, aes(age, c))\n",
    "gg + geom_point(size = 1) +\n",
    "geom_smooth()\n"
   ]
  },
  {
   "cell_type": "markdown",
   "metadata": {
    "id": "CB_8CsBZwQqW"
   },
   "source": [
    "b) Plot the relationship between reading experience, age, and reading comprehension."
   ]
  },
  {
   "cell_type": "code",
   "execution_count": 25,
   "metadata": {
    "id": "VeSOCXlMweSz",
    "vscode": {
     "languageId": "r"
    }
   },
   "outputs": [
    {
     "data": {
      "image/png": "[encoded data removed]",
      "text/plain": [
       "plot without title"
      ]
     },
     "metadata": {
      "image/png": {
       "height": 420,
       "width": 420
      }
     },
     "output_type": "display_data"
    }
   ],
   "source": [
    "# WRITE YOUR CODE HERE\n",
    "gg  <- ggplot(dat, aes(age, x, color = c))\n",
    "gg + geom_point(size = 3, alpha = 1)\n",
    "#gg + geom_smooth()"
   ]
  },
  {
   "cell_type": "markdown",
   "metadata": {
    "id": "BeK0H64WlOBM"
   },
   "source": [
    "---\n",
    "## 3. Mediation Analysis (4 points)"
   ]
  },
  {
   "cell_type": "markdown",
   "metadata": {
    "id": "dP_6o9rpmThw"
   },
   "source": [
    "Load the `mediation` library."
   ]
  },
  {
   "cell_type": "code",
   "execution_count": 7,
   "metadata": {
    "id": "PIPheP5ipgKg",
    "vscode": {
     "languageId": "r"
    }
   },
   "outputs": [
    {
     "name": "stderr",
     "output_type": "stream",
     "text": [
      "Installing package into 'C:/Users/roman/AppData/Local/R/win-library/4.2'\n",
      "(as 'lib' is unspecified)\n",
      "\n"
     ]
    },
    {
     "name": "stdout",
     "output_type": "stream",
     "text": [
      "package 'mediation' successfully unpacked and MD5 sums checked\n",
      "\n",
      "The downloaded binary packages are in\n",
      "\tC:\\Users\\roman\\AppData\\Local\\Temp\\Rtmp2lSsfs\\downloaded_packages\n"
     ]
    },
    {
     "name": "stderr",
     "output_type": "stream",
     "text": [
      "Warning message:\n",
      "\"package 'mediation' was built under R version 4.2.3\"\n",
      "Loading required package: MASS\n",
      "\n",
      "\n",
      "Attaching package: 'MASS'\n",
      "\n",
      "\n",
      "The following object is masked from 'package:dplyr':\n",
      "\n",
      "    select\n",
      "\n",
      "\n",
      "Loading required package: Matrix\n",
      "\n",
      "\n",
      "Attaching package: 'Matrix'\n",
      "\n",
      "\n",
      "The following objects are masked from 'package:tidyr':\n",
      "\n",
      "    expand, pack, unpack\n",
      "\n",
      "\n",
      "Loading required package: mvtnorm\n",
      "\n",
      "Loading required package: sandwich\n",
      "\n",
      "Warning message:\n",
      "\"package 'sandwich' was built under R version 4.2.3\"\n",
      "mediation: Causal Mediation Analysis\n",
      "Version: 4.5.0\n",
      "\n",
      "\n"
     ]
    }
   ],
   "source": [
    "install.packages(\"mediation\") # uncomment to install the mediation package. \n",
    "library(mediation)"
   ]
  },
  {
   "cell_type": "markdown",
   "metadata": {
    "id": "Q1UM2Qhx6Kk-"
   },
   "source": [
    "Use the `mediate` function to determine whether `x` mediates the relationship between `age` and `c`. Use `summary()` to print the model results. *Hint: see the mediation and moderation tutorial.*"
   ]
  },
  {
   "cell_type": "code",
   "execution_count": 9,
   "metadata": {
    "id": "9h1ySgXm4HWm",
    "scrolled": false,
    "vscode": {
     "languageId": "r"
    }
   },
   "outputs": [
    {
     "data": {
      "text/plain": [
       "\n",
       "Causal Mediation Analysis \n",
       "\n",
       "Quasi-Bayesian Confidence Intervals\n",
       "\n",
       "               Estimate 95% CI Lower 95% CI Upper p-value\n",
       "ACME              0.000        0.000         0.00    1.00\n",
       "ADE               0.313       -0.153         0.79    0.19\n",
       "Total Effect      0.313       -0.153         0.79    0.19\n",
       "Prop. Mediated    0.000        0.000         0.00    1.00\n",
       "\n",
       "Sample Size Used: 100 \n",
       "\n",
       "\n",
       "Simulations: 1000 \n"
      ]
     },
     "metadata": {},
     "output_type": "display_data"
    },
    {
     "data": {
      "text/html": [
       "<dl>\n",
       "\t<dt>$names</dt>\n",
       "\t\t<dd><style>\n",
       ".list-inline {list-style: none; margin:0; padding: 0}\n",
       ".list-inline>li {display: inline-block}\n",
       ".list-inline>li:not(:last-child)::after {content: \"\\00b7\"; padding: 0 .5ex}\n",
       "</style>\n",
       "<ol class=list-inline><li>'d0'</li><li>'d1'</li><li>'d0.ci'</li><li>'d1.ci'</li><li>'d0.p'</li><li>'d1.p'</li><li>'d0.sims'</li><li>'d1.sims'</li><li>'z0'</li><li>'z1'</li><li>'z0.ci'</li><li>'z1.ci'</li><li>'z0.p'</li><li>'z1.p'</li><li>'z0.sims'</li><li>'z1.sims'</li><li>'n0'</li><li>'n1'</li><li>'n0.ci'</li><li>'n1.ci'</li><li>'n0.p'</li><li>'n1.p'</li><li>'n0.sims'</li><li>'n1.sims'</li><li>'tau.coef'</li><li>'tau.ci'</li><li>'tau.p'</li><li>'tau.sims'</li><li>'d.avg'</li><li>'d.avg.p'</li><li>'d.avg.ci'</li><li>'d.avg.sims'</li><li>'z.avg'</li><li>'z.avg.p'</li><li>'z.avg.ci'</li><li>'z.avg.sims'</li><li>'n.avg'</li><li>'n.avg.p'</li><li>'n.avg.ci'</li><li>'n.avg.sims'</li><li>'boot'</li><li>'boot.ci.type'</li><li>'treat'</li><li>'mediator'</li><li>'covariates'</li><li>'INT'</li><li>'conf.level'</li><li>'model.y'</li><li>'model.m'</li><li>'control.value'</li><li>'treat.value'</li><li>'nobs'</li><li>'sims'</li><li>'call'</li><li>'robustSE'</li><li>'cluster'</li></ol>\n",
       "</dd>\n",
       "\t<dt>$class</dt>\n",
       "\t\t<dd>'mediate'</dd>\n",
       "</dl>\n"
      ],
      "text/latex": [
       "\\begin{description}\n",
       "\\item[\\$names] \\begin{enumerate*}\n",
       "\\item 'd0'\n",
       "\\item 'd1'\n",
       "\\item 'd0.ci'\n",
       "\\item 'd1.ci'\n",
       "\\item 'd0.p'\n",
       "\\item 'd1.p'\n",
       "\\item 'd0.sims'\n",
       "\\item 'd1.sims'\n",
       "\\item 'z0'\n",
       "\\item 'z1'\n",
       "\\item 'z0.ci'\n",
       "\\item 'z1.ci'\n",
       "\\item 'z0.p'\n",
       "\\item 'z1.p'\n",
       "\\item 'z0.sims'\n",
       "\\item 'z1.sims'\n",
       "\\item 'n0'\n",
       "\\item 'n1'\n",
       "\\item 'n0.ci'\n",
       "\\item 'n1.ci'\n",
       "\\item 'n0.p'\n",
       "\\item 'n1.p'\n",
       "\\item 'n0.sims'\n",
       "\\item 'n1.sims'\n",
       "\\item 'tau.coef'\n",
       "\\item 'tau.ci'\n",
       "\\item 'tau.p'\n",
       "\\item 'tau.sims'\n",
       "\\item 'd.avg'\n",
       "\\item 'd.avg.p'\n",
       "\\item 'd.avg.ci'\n",
       "\\item 'd.avg.sims'\n",
       "\\item 'z.avg'\n",
       "\\item 'z.avg.p'\n",
       "\\item 'z.avg.ci'\n",
       "\\item 'z.avg.sims'\n",
       "\\item 'n.avg'\n",
       "\\item 'n.avg.p'\n",
       "\\item 'n.avg.ci'\n",
       "\\item 'n.avg.sims'\n",
       "\\item 'boot'\n",
       "\\item 'boot.ci.type'\n",
       "\\item 'treat'\n",
       "\\item 'mediator'\n",
       "\\item 'covariates'\n",
       "\\item 'INT'\n",
       "\\item 'conf.level'\n",
       "\\item 'model.y'\n",
       "\\item 'model.m'\n",
       "\\item 'control.value'\n",
       "\\item 'treat.value'\n",
       "\\item 'nobs'\n",
       "\\item 'sims'\n",
       "\\item 'call'\n",
       "\\item 'robustSE'\n",
       "\\item 'cluster'\n",
       "\\end{enumerate*}\n",
       "\n",
       "\\item[\\$class] 'mediate'\n",
       "\\end{description}\n"
      ],
      "text/markdown": [
       "$names\n",
       ":   1. 'd0'\n",
       "2. 'd1'\n",
       "3. 'd0.ci'\n",
       "4. 'd1.ci'\n",
       "5. 'd0.p'\n",
       "6. 'd1.p'\n",
       "7. 'd0.sims'\n",
       "8. 'd1.sims'\n",
       "9. 'z0'\n",
       "10. 'z1'\n",
       "11. 'z0.ci'\n",
       "12. 'z1.ci'\n",
       "13. 'z0.p'\n",
       "14. 'z1.p'\n",
       "15. 'z0.sims'\n",
       "16. 'z1.sims'\n",
       "17. 'n0'\n",
       "18. 'n1'\n",
       "19. 'n0.ci'\n",
       "20. 'n1.ci'\n",
       "21. 'n0.p'\n",
       "22. 'n1.p'\n",
       "23. 'n0.sims'\n",
       "24. 'n1.sims'\n",
       "25. 'tau.coef'\n",
       "26. 'tau.ci'\n",
       "27. 'tau.p'\n",
       "28. 'tau.sims'\n",
       "29. 'd.avg'\n",
       "30. 'd.avg.p'\n",
       "31. 'd.avg.ci'\n",
       "32. 'd.avg.sims'\n",
       "33. 'z.avg'\n",
       "34. 'z.avg.p'\n",
       "35. 'z.avg.ci'\n",
       "36. 'z.avg.sims'\n",
       "37. 'n.avg'\n",
       "38. 'n.avg.p'\n",
       "39. 'n.avg.ci'\n",
       "40. 'n.avg.sims'\n",
       "41. 'boot'\n",
       "42. 'boot.ci.type'\n",
       "43. 'treat'\n",
       "44. 'mediator'\n",
       "45. 'covariates'\n",
       "46. 'INT'\n",
       "47. 'conf.level'\n",
       "48. 'model.y'\n",
       "49. 'model.m'\n",
       "50. 'control.value'\n",
       "51. 'treat.value'\n",
       "52. 'nobs'\n",
       "53. 'sims'\n",
       "54. 'call'\n",
       "55. 'robustSE'\n",
       "56. 'cluster'\n",
       "\n",
       "\n",
       "\n",
       "$class\n",
       ":   'mediate'\n",
       "\n",
       "\n"
      ],
      "text/plain": [
       "$names\n",
       " [1] \"d0\"            \"d1\"            \"d0.ci\"         \"d1.ci\"        \n",
       " [5] \"d0.p\"          \"d1.p\"          \"d0.sims\"       \"d1.sims\"      \n",
       " [9] \"z0\"            \"z1\"            \"z0.ci\"         \"z1.ci\"        \n",
       "[13] \"z0.p\"          \"z1.p\"          \"z0.sims\"       \"z1.sims\"      \n",
       "[17] \"n0\"            \"n1\"            \"n0.ci\"         \"n1.ci\"        \n",
       "[21] \"n0.p\"          \"n1.p\"          \"n0.sims\"       \"n1.sims\"      \n",
       "[25] \"tau.coef\"      \"tau.ci\"        \"tau.p\"         \"tau.sims\"     \n",
       "[29] \"d.avg\"         \"d.avg.p\"       \"d.avg.ci\"      \"d.avg.sims\"   \n",
       "[33] \"z.avg\"         \"z.avg.p\"       \"z.avg.ci\"      \"z.avg.sims\"   \n",
       "[37] \"n.avg\"         \"n.avg.p\"       \"n.avg.ci\"      \"n.avg.sims\"   \n",
       "[41] \"boot\"          \"boot.ci.type\"  \"treat\"         \"mediator\"     \n",
       "[45] \"covariates\"    \"INT\"           \"conf.level\"    \"model.y\"      \n",
       "[49] \"model.m\"       \"control.value\" \"treat.value\"   \"nobs\"         \n",
       "[53] \"sims\"          \"call\"          \"robustSE\"      \"cluster\"      \n",
       "\n",
       "$class\n",
       "[1] \"mediate\"\n"
      ]
     },
     "metadata": {},
     "output_type": "display_data"
    }
   ],
   "source": [
    "# WRITE YOUR CODE HERE\n",
    "fitM <- lm(x ~ age,     data=dat) #Step 1: IV on M, Number of passengers predicting weight of car\n",
    "fitY <- lm(c ~ x + age, data=dat) #Step 2: IV and M on DV, Number of passengers and weight predicting highway\n",
    "#summary(fitM)\n",
    "#summary(fitY)\n",
    "fitMed <- mediate(fitM, fitY, treat= \"age\", mediator= \"c\")\n",
    "summary(fitMed)\n",
    "\n",
    "attributes(fitMed)"
   ]
  },
  {
   "cell_type": "code",
   "execution_count": 22,
   "metadata": {},
   "outputs": [
    {
     "data": {
      "text/plain": [
       "\n",
       "Call:\n",
       "lm(formula = c ~ x + age, data = dat)\n",
       "\n",
       "Coefficients:\n",
       "(Intercept)            x          age  \n",
       "    80.5911       0.1418       0.3141  \n"
      ]
     },
     "metadata": {},
     "output_type": "display_data"
    }
   ],
   "source": [
    "fitMed$model.y"
   ]
  },
  {
   "cell_type": "markdown",
   "metadata": {
    "id": "sYL6Pm0FOUbq"
   },
   "source": [
    "---\n",
    "## 5. Reflection (1 point)\n",
    "How do you interpret these results? Why do you think the analysis yielded this result?"
   ]
  },
  {
   "cell_type": "markdown",
   "metadata": {
    "id": "ZGVjm8AJOUbq",
    "outputId": "ccd7b03c-8619-4eb3-9752-06929c1e8ed0",
    "vscode": {
     "languageId": "r"
    }
   },
   "source": [
    "> *Write your response here* \n",
    "> According to our simulated model, word reading experience does not mediate age and comprehension. This could be because the sample size is too low or because there is too much noise, or too many outliers in our data. Otherwise, given that our simulation accurtely models the population of interest, I would guess that it is because age is too strong of a correlate in and of itself to reading comprehension to be eclipsed by word reading experience. "
   ]
  },
  {
   "cell_type": "markdown",
   "metadata": {
    "id": "C4MPECMmZXqe"
   },
   "source": [
    "**DUE:** 5pm EST, April 3, 2023"
   ]
  },
  {
   "cell_type": "markdown",
   "metadata": {
    "id": "r9GUofXN4BVy"
   },
   "source": [
    "**IMPORTANT** Did you collaborate with anyone on this assignment? If so, list their names here. \n",
    "> *Someone's Name*"
   ]
  }
 ],
 "metadata": {
  "colab": {
   "provenance": []
  },
  "kernelspec": {
   "display_name": "R",
   "language": "R",
   "name": "ir"
  },
  "language_info": {
   "codemirror_mode": "r",
   "file_extension": ".r",
   "mimetype": "text/x-r-source",
   "name": "R",
   "pygments_lexer": "r",
   "version": "4.2.2"
  }
 },
 "nbformat": 4,
 "nbformat_minor": 1
}
