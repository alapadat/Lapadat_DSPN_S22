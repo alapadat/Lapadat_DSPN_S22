{
 "cells": [
  {
   "cell_type": "markdown",
   "metadata": {
    "id": "X0-Q9NYTBujb"
   },
   "source": [
    "# Exercise 17: Regularized regression\n",
    "\n",
    "This homework assignment is designed to give you an intuition as an interesting property of regularization in the context of ultra-high dimensional statistical problems.\n",
    "\n",
    "You won't need to load in any data for this homework."
   ]
  },
  {
   "cell_type": "markdown",
   "metadata": {
    "id": "bODln6rvBujd"
   },
   "source": [
    "---\n",
    "## 1. Simulating & visualizing data (2 points)"
   ]
  },
  {
   "cell_type": "markdown",
   "metadata": {
    "id": "sezRLzgHBuje"
   },
   "source": [
    "We are going to be looking at what happens in the context where $p>n$. In order to have total control over our data, we will use simulations for this homework. First, we will need to load the `glmnet`, `tidyverse`, and `ggplot2` libraries for this assignment. \n"
   ]
  },
  {
   "cell_type": "code",
   "execution_count": 1,
   "metadata": {
    "id": "LVJwea2rBujf"
   },
   "outputs": [
    {
     "name": "stderr",
     "output_type": "stream",
     "text": [
      "Installing package into 'C:/Users/roman/AppData/Local/R/win-library/4.2'\n",
      "(as 'lib' is unspecified)\n",
      "\n"
     ]
    },
    {
     "name": "stdout",
     "output_type": "stream",
     "text": [
      "package 'glmnet' successfully unpacked and MD5 sums checked\n",
      "\n",
      "The downloaded binary packages are in\n",
      "\tC:\\Users\\roman\\AppData\\Local\\Temp\\RtmpwfxtQF\\downloaded_packages\n"
     ]
    },
    {
     "name": "stderr",
     "output_type": "stream",
     "text": [
      "Warning message:\n",
      "\"package 'glmnet' was built under R version 4.2.3\"\n",
      "Loading required package: Matrix\n",
      "\n",
      "Loaded glmnet 4.1-7\n",
      "\n",
      "── \u001b[1mAttaching packages\u001b[22m ─────────────────────────────────────────────────────────────────────────────── tidyverse 1.3.2 ──\n",
      "\u001b[32m✔\u001b[39m \u001b[34mggplot2\u001b[39m 3.4.1     \u001b[32m✔\u001b[39m \u001b[34mpurrr  \u001b[39m 1.0.1\n",
      "\u001b[32m✔\u001b[39m \u001b[34mtibble \u001b[39m 3.1.8     \u001b[32m✔\u001b[39m \u001b[34mdplyr  \u001b[39m 1.1.0\n",
      "\u001b[32m✔\u001b[39m \u001b[34mtidyr  \u001b[39m 1.3.0     \u001b[32m✔\u001b[39m \u001b[34mstringr\u001b[39m 1.5.0\n",
      "\u001b[32m✔\u001b[39m \u001b[34mreadr  \u001b[39m 2.1.4     \u001b[32m✔\u001b[39m \u001b[34mforcats\u001b[39m 1.0.0\n",
      "── \u001b[1mConflicts\u001b[22m ────────────────────────────────────────────────────────────────────────────────── tidyverse_conflicts() ──\n",
      "\u001b[31m✖\u001b[39m \u001b[34mtidyr\u001b[39m::\u001b[32mexpand()\u001b[39m masks \u001b[34mMatrix\u001b[39m::expand()\n",
      "\u001b[31m✖\u001b[39m \u001b[34mdplyr\u001b[39m::\u001b[32mfilter()\u001b[39m masks \u001b[34mstats\u001b[39m::filter()\n",
      "\u001b[31m✖\u001b[39m \u001b[34mdplyr\u001b[39m::\u001b[32mlag()\u001b[39m    masks \u001b[34mstats\u001b[39m::lag()\n",
      "\u001b[31m✖\u001b[39m \u001b[34mtidyr\u001b[39m::\u001b[32mpack()\u001b[39m   masks \u001b[34mMatrix\u001b[39m::pack()\n",
      "\u001b[31m✖\u001b[39m \u001b[34mtidyr\u001b[39m::\u001b[32munpack()\u001b[39m masks \u001b[34mMatrix\u001b[39m::unpack()\n"
     ]
    }
   ],
   "source": [
    "install.packages(\"glmnet\")\n",
    "library(glmnet)\n",
    "library(tidyverse)\n",
    "library(ggplot2)"
   ]
  },
  {
   "cell_type": "markdown",
   "metadata": {
    "id": "mXwMchX7Bujf"
   },
   "source": [
    "We are going to generate a data set with complex structure and try to recover it using polynomial models. For simplicity sake, use the following code to produce a response variable, $y$ that has complex structure."
   ]
  },
  {
   "cell_type": "markdown",
   "metadata": {
    "id": "GpLho0wUde1L"
   },
   "source": [
    "*Hint: Look up what a cosine function looks like if you need a reminder.*"
   ]
  },
  {
   "cell_type": "code",
   "execution_count": 2,
   "metadata": {
    "id": "BeK03Sx7Bujg"
   },
   "outputs": [],
   "source": [
    "# Generate data\n",
    "set.seed(121)\n",
    "sigma_noise = .5\n",
    "x=seq(-9,9,by=.18)\n",
    "n=length(x)\n",
    "y = 0.1*x + cos(x) + cos(x/20)+rnorm(n,sd=sigma_noise)"
   ]
  },
  {
   "cell_type": "markdown",
   "metadata": {
    "id": "UfmUWGIlBujg"
   },
   "source": [
    "(a) Break the data into a training set (n=50) and test set (n=51) using the `sample` function to randomly select subsets of x and y.  Make a separate data frame for the training and test data.\n",
    "\n",
    "(**Note**: *Do not* just take the first 50 observations to be the training set and last 51 observations to be the test set.)"
   ]
  },
  {
   "cell_type": "code",
   "execution_count": 3,
   "metadata": {
    "id": "rIg6XGaHBujg"
   },
   "outputs": [
    {
     "data": {
      "text/html": [
       "<table class=\"dataframe\">\n",
       "<caption>A data.frame: 6 × 2</caption>\n",
       "<thead>\n",
       "\t<tr><th></th><th scope=col>x</th><th scope=col>y</th></tr>\n",
       "\t<tr><th></th><th scope=col>&lt;dbl&gt;</th><th scope=col>&lt;dbl&gt;</th></tr>\n",
       "</thead>\n",
       "<tbody>\n",
       "\t<tr><th scope=row>1</th><td>-4.32</td><td>-0.08663415</td></tr>\n",
       "\t<tr><th scope=row>2</th><td> 2.52</td><td> 2.40786448</td></tr>\n",
       "\t<tr><th scope=row>3</th><td>-8.64</td><td> 1.00645142</td></tr>\n",
       "\t<tr><th scope=row>4</th><td> 5.94</td><td> 2.01487369</td></tr>\n",
       "\t<tr><th scope=row>5</th><td> 7.20</td><td> 0.10934315</td></tr>\n",
       "\t<tr><th scope=row>6</th><td>-7.38</td><td> 1.08539063</td></tr>\n",
       "</tbody>\n",
       "</table>\n"
      ],
      "text/latex": [
       "A data.frame: 6 × 2\n",
       "\\begin{tabular}{r|ll}\n",
       "  & x & y\\\\\n",
       "  & <dbl> & <dbl>\\\\\n",
       "\\hline\n",
       "\t1 & -4.32 & -0.08663415\\\\\n",
       "\t2 &  2.52 &  2.40786448\\\\\n",
       "\t3 & -8.64 &  1.00645142\\\\\n",
       "\t4 &  5.94 &  2.01487369\\\\\n",
       "\t5 &  7.20 &  0.10934315\\\\\n",
       "\t6 & -7.38 &  1.08539063\\\\\n",
       "\\end{tabular}\n"
      ],
      "text/markdown": [
       "\n",
       "A data.frame: 6 × 2\n",
       "\n",
       "| <!--/--> | x &lt;dbl&gt; | y &lt;dbl&gt; |\n",
       "|---|---|---|\n",
       "| 1 | -4.32 | -0.08663415 |\n",
       "| 2 |  2.52 |  2.40786448 |\n",
       "| 3 | -8.64 |  1.00645142 |\n",
       "| 4 |  5.94 |  2.01487369 |\n",
       "| 5 |  7.20 |  0.10934315 |\n",
       "| 6 | -7.38 |  1.08539063 |\n",
       "\n"
      ],
      "text/plain": [
       "  x     y          \n",
       "1 -4.32 -0.08663415\n",
       "2  2.52  2.40786448\n",
       "3 -8.64  1.00645142\n",
       "4  5.94  2.01487369\n",
       "5  7.20  0.10934315\n",
       "6 -7.38  1.08539063"
      ]
     },
     "metadata": {},
     "output_type": "display_data"
    },
    {
     "data": {
      "text/html": [
       "<table class=\"dataframe\">\n",
       "<caption>A data.frame: 6 × 2</caption>\n",
       "<thead>\n",
       "\t<tr><th></th><th scope=col>x</th><th scope=col>y</th></tr>\n",
       "\t<tr><th></th><th scope=col>&lt;dbl&gt;</th><th scope=col>&lt;dbl&gt;</th></tr>\n",
       "</thead>\n",
       "<tbody>\n",
       "\t<tr><th scope=row>1</th><td>-7.20</td><td> 1.00645142</td></tr>\n",
       "\t<tr><th scope=row>2</th><td>-5.22</td><td>-0.02988438</td></tr>\n",
       "\t<tr><th scope=row>3</th><td>-3.60</td><td> 1.51547265</td></tr>\n",
       "\t<tr><th scope=row>4</th><td> 2.52</td><td> 1.10789561</td></tr>\n",
       "\t<tr><th scope=row>5</th><td> 1.26</td><td> 2.01193107</td></tr>\n",
       "\t<tr><th scope=row>6</th><td> 2.70</td><td> 1.08090100</td></tr>\n",
       "</tbody>\n",
       "</table>\n"
      ],
      "text/latex": [
       "A data.frame: 6 × 2\n",
       "\\begin{tabular}{r|ll}\n",
       "  & x & y\\\\\n",
       "  & <dbl> & <dbl>\\\\\n",
       "\\hline\n",
       "\t1 & -7.20 &  1.00645142\\\\\n",
       "\t2 & -5.22 & -0.02988438\\\\\n",
       "\t3 & -3.60 &  1.51547265\\\\\n",
       "\t4 &  2.52 &  1.10789561\\\\\n",
       "\t5 &  1.26 &  2.01193107\\\\\n",
       "\t6 &  2.70 &  1.08090100\\\\\n",
       "\\end{tabular}\n"
      ],
      "text/markdown": [
       "\n",
       "A data.frame: 6 × 2\n",
       "\n",
       "| <!--/--> | x &lt;dbl&gt; | y &lt;dbl&gt; |\n",
       "|---|---|---|\n",
       "| 1 | -7.20 |  1.00645142 |\n",
       "| 2 | -5.22 | -0.02988438 |\n",
       "| 3 | -3.60 |  1.51547265 |\n",
       "| 4 |  2.52 |  1.10789561 |\n",
       "| 5 |  1.26 |  2.01193107 |\n",
       "| 6 |  2.70 |  1.08090100 |\n",
       "\n"
      ],
      "text/plain": [
       "  x     y          \n",
       "1 -7.20  1.00645142\n",
       "2 -5.22 -0.02988438\n",
       "3 -3.60  1.51547265\n",
       "4  2.52  1.10789561\n",
       "5  1.26  2.01193107\n",
       "6  2.70  1.08090100"
      ]
     },
     "metadata": {},
     "output_type": "display_data"
    }
   ],
   "source": [
    "# WRITE YOUR CODE HERE\n",
    "#length(y)\n",
    "#typeof(y)\n",
    "\n",
    "trainy = sample(y, size = 50, replace = FALSE)\n",
    "trainx = sample(x, size = 50, replace = FALSE)\n",
    "train = data.frame(x = trainx, y = trainy) # defines train\n",
    "\n",
    "head(train)\n",
    "\n",
    "#test=(-train) #run on not train data\n",
    "\n",
    "testy = sample(y, size = 51, replace = FALSE)\n",
    "testx = sample(x, size = 51, replace = FALSE)\n",
    "test = data.frame(x = testx, y = testy)\n",
    "\n",
    "head(test)"
   ]
  },
  {
   "cell_type": "markdown",
   "metadata": {
    "id": "KZ4B7a1lBujg"
   },
   "source": [
    "(b) Plot the training data ($x$ \\& $y$). Describe the relationship that you see in the training data."
   ]
  },
  {
   "cell_type": "code",
   "execution_count": 4,
   "metadata": {
    "id": "hRyRddZJBujh"
   },
   "outputs": [
    {
     "data": {
      "image/png": "[encoded data removed]",
      "text/plain": [
       "plot without title"
      ]
     },
     "metadata": {
      "image/png": {
       "height": 420,
       "width": 420
      }
     },
     "output_type": "display_data"
    }
   ],
   "source": [
    "# WRITE YOUR CODE HERE\n",
    "plot(train)"
   ]
  },
  {
   "cell_type": "markdown",
   "metadata": {
    "id": "LaVD7SEeBuji"
   },
   "source": [
    "How would you describe the relationship between $x$ and $y$ based on this plot?\n",
    "\n",
    "> *Weakly correlated, appears to be positive.*\n",
    "> "
   ]
  },
  {
   "cell_type": "markdown",
   "metadata": {
    "id": "zqLPa45zBuji"
   },
   "source": [
    "---\n",
    "## 2. Bias-variance tradeoff: polynomial regression (4 points)"
   ]
  },
  {
   "cell_type": "markdown",
   "metadata": {
    "id": "HyP55tOade1P"
   },
   "source": [
    "Recall that in polynomial regression we increase model complexity by expanding $x$ out to the power $k$ (which we call degree)."
   ]
  },
  {
   "cell_type": "markdown",
   "metadata": {
    "id": "Dxra2iFvde1Q"
   },
   "source": [
    "\n",
    "$$Y = \\hat{\\beta}_0 + \\sum_{j=1}^K \\hat{\\beta}_jX^j $$  \n",
    "\n",
    "$$ = poly(x,k)$$"
   ]
  },
  {
   "cell_type": "markdown",
   "metadata": {
    "id": "4SvSDGa9Buji"
   },
   "source": [
    "(a) Fit a 2nd degree polynomial regression model to the training data. Plot the results. \n"
   ]
  },
  {
   "cell_type": "markdown",
   "metadata": {
    "id": "vysWxHwVde1R"
   },
   "source": [
    "*Hint: Use the* `help` *function to see how to use the* `stat_smooth()` *and* `poly()` *functions.*"
   ]
  },
  {
   "cell_type": "code",
   "execution_count": 5,
   "metadata": {
    "id": "R_mZIsWwBuji"
   },
   "outputs": [
    {
     "data": {
      "text/plain": [
       "\n",
       "Call:\n",
       "lm(formula = train$y ~ poly(x, 4), data = train)\n",
       "\n",
       "Coefficients:\n",
       "(Intercept)  poly(x, 4)1  poly(x, 4)2  poly(x, 4)3  poly(x, 4)4  \n",
       "    0.85195      1.48478      1.46680     -0.66646     -0.01089  \n"
      ]
     },
     "metadata": {},
     "output_type": "display_data"
    },
    {
     "data": {
      "image/png": "[encoded data removed]",
      "text/plain": [
       "plot without title"
      ]
     },
     "metadata": {
      "image/png": {
       "height": 420,
       "width": 420
      }
     },
     "output_type": "display_data"
    }
   ],
   "source": [
    "# WRITE YOUR CODE HERE\n",
    "lm.fit = lm(train$y~poly(x,4), data=train)\n",
    "lm.fit\n",
    "\n",
    "gg  <- ggplot(train, aes(trainx, trainy))\n",
    "gg + geom_point() + stat_smooth(method = \"lm\", formula = y ~ poly(x,4), se = FALSE)\n",
    "\n",
    "#plot(lm.fit)\n",
    "\n",
    "#ggplot(train(aes(x,y)))"
   ]
  },
  {
   "cell_type": "markdown",
   "metadata": {
    "id": "oYxz29TyBujj"
   },
   "source": [
    "How well does this 2nd degree polynomial model qualitatively fit the data? Could it do better? \n",
    "\n",
    "> *Write your response here*\n",
    "> "
   ]
  },
  {
   "cell_type": "markdown",
   "metadata": {
    "id": "6A83iJUkBujj"
   },
   "source": [
    "(b) Fit a 12th degree polynomial to the data. Does this do qualitatively better or worse than the 2nd degree model?"
   ]
  },
  {
   "cell_type": "code",
   "execution_count": 11,
   "metadata": {
    "id": "VZAQ0PB5Bujj"
   },
   "outputs": [
    {
     "data": {
      "text/plain": [
       "\n",
       "Call:\n",
       "lm(formula = train$y ~ poly(x, 12), data = train)\n",
       "\n",
       "Coefficients:\n",
       "  (Intercept)   poly(x, 12)1   poly(x, 12)2   poly(x, 12)3   poly(x, 12)4  \n",
       "      0.85195        1.48478        1.46680       -0.66646       -0.01089  \n",
       " poly(x, 12)5   poly(x, 12)6   poly(x, 12)7   poly(x, 12)8   poly(x, 12)9  \n",
       "     -0.93070       -0.59113        0.37908        0.62334        0.03374  \n",
       "poly(x, 12)10  poly(x, 12)11  poly(x, 12)12  \n",
       "      0.61447       -2.00049       -0.05199  \n"
      ]
     },
     "metadata": {},
     "output_type": "display_data"
    },
    {
     "name": "stderr",
     "output_type": "stream",
     "text": [
      "Warning message:\n",
      "\"\u001b[1m\u001b[22mComputation failed in `stat_smooth()`\n",
      "Caused by error in `poly()`:\n",
      "\u001b[33m!\u001b[39m 'degree' must be less than number of unique points\"\n"
     ]
    },
    {
     "data": {
      "image/png": "[encoded data removed]",
      "text/plain": [
       "plot without title"
      ]
     },
     "metadata": {
      "image/png": {
       "height": 420,
       "width": 420
      }
     },
     "output_type": "display_data"
    }
   ],
   "source": [
    "# WRITE YOUR CODE HERE\n",
    "lm.fit = lm(train$y~poly(x,12), data=train)\n",
    "lm.fit\n",
    "\n",
    "gg  <- ggplot(train, aes(trainx, trainy))\n",
    "gg + geom_point() + stat_smooth(method = \"lm\", formula = y ~ poly(x,50))"
   ]
  },
  {
   "cell_type": "markdown",
   "metadata": {
    "id": "-xanWSXvBujk"
   },
   "source": [
    "> Worse, it seems to be overfitting the data something awful."
   ]
  },
  {
   "cell_type": "markdown",
   "metadata": {
    "id": "VpDFP-eSBujl"
   },
   "source": [
    "(c) Modify the loop below to estimate the bias-variance tradeoff as model complexity (i.e., degree of the polynomial model, $k$) increases from 2 to 50. Use the training data to fit the model and test data to evaluate its predictive accuracy. \n",
    "\n",
    "Visualize your results by plotting the *median* squared error for the training data and test data as a function of polynomial degree. "
   ]
  },
  {
   "cell_type": "markdown",
   "metadata": {
    "id": "b2kXJb-5de1S"
   },
   "source": [
    "\n",
    "(**Note**: We are using median accuracies here because there are often 1 or 2 outlier values in the higher degree polynomial models that can throw off the accuracy estimates)."
   ]
  },
  {
   "cell_type": "code",
   "execution_count": 24,
   "metadata": {
    "id": "lnoZVv4OBujl"
   },
   "outputs": [
    {
     "name": "stdout",
     "output_type": "stream",
     "text": [
      " [1]  2  3  4  5  6  7  8  9 10 11 12 13 14 15 16 17 18 19 20 21 22 23 24 25 26\n",
      "[26] 27 28 29 30 31 32 33 34 35 36 37 38 39 40 41 42 43 44 45 46 47 48 49 50\n"
     ]
    },
    {
     "ename": "ERROR",
     "evalue": "Error in poly(x, din): 'degree' must be less than number of unique points\n",
     "output_type": "error",
     "traceback": [
      "Error in poly(x, din): 'degree' must be less than number of unique points\nTraceback:\n",
      "1. lm(train$y ~ poly(x, din), data = train)",
      "2. eval(mf, parent.frame())",
      "3. eval(mf, parent.frame())",
      "4. stats::model.frame(formula = train$y ~ poly(x, din), data = train, \n .     drop.unused.levels = TRUE)",
      "5. model.frame.default(formula = train$y ~ poly(x, din), data = train, \n .     drop.unused.levels = TRUE)",
      "6. eval(predvars, data, env)",
      "7. eval(predvars, data, env)",
      "8. poly(x, din)",
      "9. stop(\"'degree' must be less than number of unique points\")"
     ]
    }
   ],
   "source": [
    "# Now do the variance-bias trade off analysis using regular regression\n",
    "degree = seq(2,50)\n",
    "\n",
    "# Need to setup your output vectors\n",
    "train_rss = matrix(data=NA,nrow=length(degree),ncol=1)\n",
    "test_rss = matrix(data=NA,nrow=length(degree),ncol=1)\n",
    "\n",
    "print(degree)\n",
    "\n",
    "for (k in degree) {\n",
    "    # WRITE YOUR CODE HERE\n",
    "    \n",
    "    din  <- degree[k-1]\n",
    "    lm.fit = lm(train$y~poly(x,din), data=train)\n",
    "    #sm  <- summary(lm.fit)\n",
    "    #mse <- mean(sm$residuals^2)\n",
    "    #train_rss[mse, 1]\n",
    "    \n",
    "}\n",
    "\n",
    "# Plot your results here\n",
    "# WRITE YOUR CODE HERE\n"
   ]
  },
  {
   "cell_type": "code",
   "execution_count": 27,
   "metadata": {},
   "outputs": [
    {
     "ename": "ERROR",
     "evalue": "Error in poly(x, 50): 'degree' must be less than number of unique points\n",
     "output_type": "error",
     "traceback": [
      "Error in poly(x, 50): 'degree' must be less than number of unique points\nTraceback:\n",
      "1. lm(train$y ~ poly(x, 50), data = train)",
      "2. eval(mf, parent.frame())",
      "3. eval(mf, parent.frame())",
      "4. stats::model.frame(formula = train$y ~ poly(x, 50), data = train, \n .     drop.unused.levels = TRUE)",
      "5. model.frame.default(formula = train$y ~ poly(x, 50), data = train, \n .     drop.unused.levels = TRUE)",
      "6. eval(predvars, data, env)",
      "7. eval(predvars, data, env)",
      "8. poly(x, 50)",
      "9. stop(\"'degree' must be less than number of unique points\")"
     ]
    }
   ],
   "source": [
    "?poly\n",
    "fit1 = lm(train$y~poly(x,50), data=train)\n",
    "terms(fit1)"
   ]
  },
  {
   "cell_type": "markdown",
   "metadata": {
    "id": "Vx8zgVDGBujm"
   },
   "source": [
    "What do you see as $k$ increase?\n",
    "\n",
    "> *Write your response here* \n",
    "> "
   ]
  },
  {
   "cell_type": "markdown",
   "metadata": {
    "id": "pfF6syENBujm"
   },
   "source": [
    "(d) Now copy the code above and let's see what happens when we go beyond $p=n$ (remember, in this case $k=p$). Test polynomial models up to $k=150$. Visualize your results by plotting the *median* squared error for the training data and test data as a function of polynomial degree. \n",
    "\n",
    "Use the `geom_vline()` function in `ggplot` to draw a vertical line where $k=n$ (here $n$ is the number of observations in the training set). This will make it clear where we cross the threshold for finding *unique* solutions in our data.\n",
    "\n"
   ]
  },
  {
   "cell_type": "code",
   "execution_count": null,
   "metadata": {
    "id": "Fqk3xlUBBujm"
   },
   "outputs": [],
   "source": [
    "# WRITE YOUR CODE HERE\n",
    "\n"
   ]
  },
  {
   "cell_type": "markdown",
   "metadata": {
    "id": "JsiaI7CNBujn"
   },
   "source": [
    "What do you see as $k$ gets larger than $n$?\n",
    "\n",
    "> *Write your response here* \n",
    "> "
   ]
  },
  {
   "cell_type": "markdown",
   "metadata": {
    "id": "ez8Cy8anBujn"
   },
   "source": [
    "---\n",
    "## 3. Applying regularization to the model fits (2 points)"
   ]
  },
  {
   "cell_type": "markdown",
   "metadata": {
    "id": "NFAAGungBujn"
   },
   "source": [
    "Repeat the previous bias-variance tradeoff test, going up to $k=150$, but now use ridge regression with a sparsity parameter of $\\lambda=0.00005$. Plot your results the same way as last time. "
   ]
  },
  {
   "cell_type": "code",
   "execution_count": null,
   "metadata": {
    "id": "0uVdEguGBujn"
   },
   "outputs": [],
   "source": [
    "# Now do the variance-bias trade off analysis using ridge regression\n",
    "lambda=0.00005\n",
    "degree = seq(2,150)\n",
    "\n",
    "rm(train_rss, test_rss)\n",
    "train_rss = matrix(data=NA,nrow=length(degree),ncol=1)\n",
    "test_rss = matrix(data=NA,nrow=length(degree),ncol=1)\n",
    "\n",
    "for (k in degree) {\n",
    "    # WRITE YOUR CODE HERE\n",
    "    \n",
    "}\n",
    "\n",
    "# Plot your results here\n",
    "# WRITE YOUR CODE HERE\n"
   ]
  },
  {
   "cell_type": "markdown",
   "metadata": {
    "id": "5IF6tO_uBujo"
   },
   "source": [
    "What happens now when $k$ gets larger than $n$?\n",
    "\n",
    "> *Write your response here* \n",
    "> "
   ]
  },
  {
   "cell_type": "markdown",
   "metadata": {
    "id": "5zheO4rLBujo"
   },
   "source": [
    "---\n",
    "## 4. Reflection (2 points)"
   ]
  },
  {
   "cell_type": "markdown",
   "metadata": {
    "id": "T-65QvdnBujo"
   },
   "source": [
    "The simulations above should have shown that, when applying a regularization (i.e., a sparsity constraint), the behavior of the bias-variance tradeoff changes. Explain why this happens."
   ]
  },
  {
   "cell_type": "markdown",
   "metadata": {
    "id": "dkM1H1_WBujo"
   },
   "source": [
    "> *Write your response here* \n",
    "> "
   ]
  },
  {
   "cell_type": "markdown",
   "metadata": {
    "id": "ietUafKfBujo"
   },
   "source": [
    "--- \n",
    "## Bonus (1 extra credit point)\n",
    "Recall that the $p=n$ threshold defines the limit for finding a *unique* solution to $Y=F(X)$ (i.e., there is only one combination of regression coefficients that is *best* at explaining variance in $Y$). With this in mind, what is regularization doing that works around this upper limit?"
   ]
  },
  {
   "cell_type": "markdown",
   "metadata": {
    "id": "eo5eCrpuBujp"
   },
   "source": [
    "> *Write your response here* \n",
    "> "
   ]
  },
  {
   "cell_type": "markdown",
   "metadata": {
    "id": "HmcAxEQCBujp"
   },
   "source": [
    "**DUE:** 5pm EST, April 12, 2023"
   ]
  },
  {
   "cell_type": "markdown",
   "metadata": {
    "id": "hYdsoRobBujp"
   },
   "source": [
    "**IMPORTANT** Did you collaborate with anyone on this assignment? If so, list their names here. \n",
    "> *Someone's Name*"
   ]
  }
 ],
 "metadata": {
  "colab": {
   "provenance": []
  },
  "kernelspec": {
   "display_name": "R",
   "language": "R",
   "name": "ir"
  },
  "language_info": {
   "codemirror_mode": "r",
   "file_extension": ".r",
   "mimetype": "text/x-r-source",
   "name": "R",
   "pygments_lexer": "r",
   "version": "4.2.2"
  }
 },
 "nbformat": 4,
 "nbformat_minor": 1
}
