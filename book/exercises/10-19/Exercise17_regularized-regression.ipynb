{
 "cells": [
  {
   "cell_type": "markdown",
   "metadata": {
    "id": "X0-Q9NYTBujb"
   },
   "source": [
    "# Exercise 17: Regularized regression\n",
    "\n",
    "This homework assignment is designed to give you an intuition as an interesting property of regularization in the context of ultra-high dimensional statistical problems.\n",
    "\n",
    "You won't need to load in any data for this homework."
   ]
  },
  {
   "cell_type": "markdown",
   "metadata": {
    "id": "bODln6rvBujd"
   },
   "source": [
    "---\n",
    "## 1. Simulating & visualizing data (2 points)"
   ]
  },
  {
   "cell_type": "markdown",
   "metadata": {
    "id": "sezRLzgHBuje"
   },
   "source": [
    "We are going to be looking at what happens in the context where $p>n$. In order to have total control over our data, we will use simulations for this homework. First, we will need to load the `glmnet`, `tidyverse`, and `ggplot2` libraries for this assignment. \n"
   ]
  },
  {
   "cell_type": "code",
   "execution_count": 75,
   "metadata": {
    "id": "LVJwea2rBujf"
   },
   "outputs": [
    {
     "name": "stderr",
     "output_type": "stream",
     "text": [
      "Warning message:\n",
      "\"package 'glmnet' is in use and will not be installed\"\n"
     ]
    }
   ],
   "source": [
    "install.packages(\"glmnet\", dependencies = TRUE)\n",
    "library(glmnet)\n",
    "library(tidyverse)\n",
    "library(ggplot2)"
   ]
  },
  {
   "cell_type": "markdown",
   "metadata": {
    "id": "mXwMchX7Bujf"
   },
   "source": [
    "We are going to generate a data set with complex structure and try to recover it using polynomial models. For simplicity sake, use the following code to produce a response variable, $y$ that has complex structure."
   ]
  },
  {
   "cell_type": "markdown",
   "metadata": {
    "id": "GpLho0wUde1L"
   },
   "source": [
    "*Hint: Look up what a cosine function looks like if you need a reminder.*"
   ]
  },
  {
   "cell_type": "code",
   "execution_count": 2,
   "metadata": {
    "id": "BeK03Sx7Bujg"
   },
   "outputs": [],
   "source": [
    "# Generate data\n",
    "set.seed(121)\n",
    "sigma_noise = .5\n",
    "x=seq(-9,9,by=.18)\n",
    "n=length(x)\n",
    "y = 0.1*x + cos(x) + cos(x/20)+rnorm(n,sd=sigma_noise)"
   ]
  },
  {
   "cell_type": "markdown",
   "metadata": {
    "id": "UfmUWGIlBujg"
   },
   "source": [
    "(a) Break the data into a training set (n=50) and test set (n=51) using the `sample` function to randomly select subsets of x and y.  Make a separate data frame for the training and test data.\n",
    "\n",
    "(**Note**: *Do not* just take the first 50 observations to be the training set and last 51 observations to be the test set.)"
   ]
  },
  {
   "cell_type": "code",
   "execution_count": 3,
   "metadata": {
    "id": "rIg6XGaHBujg"
   },
   "outputs": [
    {
     "data": {
      "text/html": [
       "<table class=\"dataframe\">\n",
       "<caption>A data.frame: 6 × 2</caption>\n",
       "<thead>\n",
       "\t<tr><th></th><th scope=col>x</th><th scope=col>y</th></tr>\n",
       "\t<tr><th></th><th scope=col>&lt;dbl&gt;</th><th scope=col>&lt;dbl&gt;</th></tr>\n",
       "</thead>\n",
       "<tbody>\n",
       "\t<tr><th scope=row>1</th><td>-7.56</td><td>-0.08663415</td></tr>\n",
       "\t<tr><th scope=row>2</th><td> 5.58</td><td> 2.40786448</td></tr>\n",
       "\t<tr><th scope=row>3</th><td> 1.80</td><td> 1.00645142</td></tr>\n",
       "\t<tr><th scope=row>4</th><td>-0.54</td><td> 2.01487369</td></tr>\n",
       "\t<tr><th scope=row>5</th><td>-1.44</td><td> 0.10934315</td></tr>\n",
       "\t<tr><th scope=row>6</th><td>-4.86</td><td> 1.08539063</td></tr>\n",
       "</tbody>\n",
       "</table>\n"
      ],
      "text/latex": [
       "A data.frame: 6 × 2\n",
       "\\begin{tabular}{r|ll}\n",
       "  & x & y\\\\\n",
       "  & <dbl> & <dbl>\\\\\n",
       "\\hline\n",
       "\t1 & -7.56 & -0.08663415\\\\\n",
       "\t2 &  5.58 &  2.40786448\\\\\n",
       "\t3 &  1.80 &  1.00645142\\\\\n",
       "\t4 & -0.54 &  2.01487369\\\\\n",
       "\t5 & -1.44 &  0.10934315\\\\\n",
       "\t6 & -4.86 &  1.08539063\\\\\n",
       "\\end{tabular}\n"
      ],
      "text/markdown": [
       "\n",
       "A data.frame: 6 × 2\n",
       "\n",
       "| <!--/--> | x &lt;dbl&gt; | y &lt;dbl&gt; |\n",
       "|---|---|---|\n",
       "| 1 | -7.56 | -0.08663415 |\n",
       "| 2 |  5.58 |  2.40786448 |\n",
       "| 3 |  1.80 |  1.00645142 |\n",
       "| 4 | -0.54 |  2.01487369 |\n",
       "| 5 | -1.44 |  0.10934315 |\n",
       "| 6 | -4.86 |  1.08539063 |\n",
       "\n"
      ],
      "text/plain": [
       "  x     y          \n",
       "1 -7.56 -0.08663415\n",
       "2  5.58  2.40786448\n",
       "3  1.80  1.00645142\n",
       "4 -0.54  2.01487369\n",
       "5 -1.44  0.10934315\n",
       "6 -4.86  1.08539063"
      ]
     },
     "metadata": {},
     "output_type": "display_data"
    },
    {
     "data": {
      "text/html": [
       "<table class=\"dataframe\">\n",
       "<caption>A data.frame: 6 × 2</caption>\n",
       "<thead>\n",
       "\t<tr><th></th><th scope=col>x</th><th scope=col>y</th></tr>\n",
       "\t<tr><th></th><th scope=col>&lt;dbl&gt;</th><th scope=col>&lt;dbl&gt;</th></tr>\n",
       "</thead>\n",
       "<tbody>\n",
       "\t<tr><th scope=row>1</th><td>-8.46</td><td>-0.5442746</td></tr>\n",
       "\t<tr><th scope=row>2</th><td>-8.10</td><td> 0.6732243</td></tr>\n",
       "\t<tr><th scope=row>3</th><td>-7.20</td><td> 1.5256458</td></tr>\n",
       "\t<tr><th scope=row>4</th><td>-7.02</td><td> 0.5469083</td></tr>\n",
       "\t<tr><th scope=row>5</th><td>-6.84</td><td> 0.9066007</td></tr>\n",
       "\t<tr><th scope=row>6</th><td>-6.66</td><td> 0.9259283</td></tr>\n",
       "</tbody>\n",
       "</table>\n"
      ],
      "text/latex": [
       "A data.frame: 6 × 2\n",
       "\\begin{tabular}{r|ll}\n",
       "  & x & y\\\\\n",
       "  & <dbl> & <dbl>\\\\\n",
       "\\hline\n",
       "\t1 & -8.46 & -0.5442746\\\\\n",
       "\t2 & -8.10 &  0.6732243\\\\\n",
       "\t3 & -7.20 &  1.5256458\\\\\n",
       "\t4 & -7.02 &  0.5469083\\\\\n",
       "\t5 & -6.84 &  0.9066007\\\\\n",
       "\t6 & -6.66 &  0.9259283\\\\\n",
       "\\end{tabular}\n"
      ],
      "text/markdown": [
       "\n",
       "A data.frame: 6 × 2\n",
       "\n",
       "| <!--/--> | x &lt;dbl&gt; | y &lt;dbl&gt; |\n",
       "|---|---|---|\n",
       "| 1 | -8.46 | -0.5442746 |\n",
       "| 2 | -8.10 |  0.6732243 |\n",
       "| 3 | -7.20 |  1.5256458 |\n",
       "| 4 | -7.02 |  0.5469083 |\n",
       "| 5 | -6.84 |  0.9066007 |\n",
       "| 6 | -6.66 |  0.9259283 |\n",
       "\n"
      ],
      "text/plain": [
       "  x     y         \n",
       "1 -8.46 -0.5442746\n",
       "2 -8.10  0.6732243\n",
       "3 -7.20  1.5256458\n",
       "4 -7.02  0.5469083\n",
       "5 -6.84  0.9066007\n",
       "6 -6.66  0.9259283"
      ]
     },
     "metadata": {},
     "output_type": "display_data"
    }
   ],
   "source": [
    "# WRITE YOUR CODE HERE\n",
    "#length(y)\n",
    "#typeof(y)\n",
    "\n",
    "# 1) Sample a subset of indeces; set test to be the \n",
    "\n",
    "train_indeces <-  sample(1:n, size = 50, replace = FALSE)\n",
    "\n",
    "trainy = y[train_indeces]\n",
    "trainx = x[train_indeces]\n",
    "train = data.frame(x = trainx, y = trainy) # defines train\n",
    "\n",
    "head(train)\n",
    "\n",
    "test_indeces = -(train_indeces) #run on not train data\n",
    "\n",
    "# print(train_indeces)\n",
    "# print(test_indeces)\n",
    "\n",
    "#length(y[-7])\n",
    "\n",
    "testy = y[test_indeces]\n",
    "testx = x[test_indeces]\n",
    "test = data.frame(x = testx, y = testy)\n",
    "\n",
    "head(test)"
   ]
  },
  {
   "cell_type": "markdown",
   "metadata": {
    "id": "KZ4B7a1lBujg"
   },
   "source": [
    "(b) Plot the training data ($x$ \\& $y$). Describe the relationship that you see in the training data."
   ]
  },
  {
   "cell_type": "code",
   "execution_count": 4,
   "metadata": {
    "id": "hRyRddZJBujh"
   },
   "outputs": [
    {
     "data": {
      "text/html": [
       "<style>\n",
       ".list-inline {list-style: none; margin:0; padding: 0}\n",
       ".list-inline>li {display: inline-block}\n",
       ".list-inline>li:not(:last-child)::after {content: \"\\00b7\"; padding: 0 .5ex}\n",
       "</style>\n",
       "<ol class=list-inline><li>50</li><li>2</li></ol>\n"
      ],
      "text/latex": [
       "\\begin{enumerate*}\n",
       "\\item 50\n",
       "\\item 2\n",
       "\\end{enumerate*}\n"
      ],
      "text/markdown": [
       "1. 50\n",
       "2. 2\n",
       "\n",
       "\n"
      ],
      "text/plain": [
       "[1] 50  2"
      ]
     },
     "metadata": {},
     "output_type": "display_data"
    },
    {
     "data": {
      "image/png": "[encoded data removed]",
      "text/plain": [
       "plot without title"
      ]
     },
     "metadata": {
      "image/png": {
       "height": 420,
       "width": 420
      }
     },
     "output_type": "display_data"
    }
   ],
   "source": [
    "# WRITE YOUR CODE HERE\n",
    "plot(train)\n",
    "dim(train)"
   ]
  },
  {
   "cell_type": "markdown",
   "metadata": {
    "id": "LaVD7SEeBuji"
   },
   "source": [
    "How would you describe the relationship between $x$ and $y$ based on this plot?\n",
    "\n",
    "> *Medium-strong correlated, appears to be positive.*\n",
    "> "
   ]
  },
  {
   "cell_type": "markdown",
   "metadata": {
    "id": "zqLPa45zBuji"
   },
   "source": [
    "---\n",
    "## 2. Bias-variance tradeoff: polynomial regression (4 points)"
   ]
  },
  {
   "cell_type": "markdown",
   "metadata": {
    "id": "HyP55tOade1P"
   },
   "source": [
    "Recall that in polynomial regression we increase model complexity by expanding $x$ out to the power $k$ (which we call degree)."
   ]
  },
  {
   "cell_type": "markdown",
   "metadata": {
    "id": "Dxra2iFvde1Q"
   },
   "source": [
    "\n",
    "$$Y = \\hat{\\beta}_0 + \\sum_{j=1}^K \\hat{\\beta}_jX^j $$  \n",
    "\n",
    "$$ = poly(x,k)$$"
   ]
  },
  {
   "cell_type": "markdown",
   "metadata": {
    "id": "4SvSDGa9Buji"
   },
   "source": [
    "(a) Fit a 2nd degree polynomial regression model to the training data. Plot the results. \n"
   ]
  },
  {
   "cell_type": "markdown",
   "metadata": {
    "id": "vysWxHwVde1R"
   },
   "source": [
    "*Hint: Use the* `help` *function to see how to use the* `stat_smooth()` *and* `poly()` *functions.*"
   ]
  },
  {
   "cell_type": "code",
   "execution_count": 5,
   "metadata": {
    "id": "R_mZIsWwBuji"
   },
   "outputs": [
    {
     "data": {
      "text/plain": [
       "\n",
       "Call:\n",
       "lm(formula = train$y ~ poly(x, 4), data = train)\n",
       "\n",
       "Coefficients:\n",
       "(Intercept)  poly(x, 4)1  poly(x, 4)2  poly(x, 4)3  poly(x, 4)4  \n",
       "      0.852        3.150       -1.619        0.627       -1.453  \n"
      ]
     },
     "metadata": {},
     "output_type": "display_data"
    },
    {
     "data": {
      "image/png": "[encoded data removed]",
      "text/plain": [
       "plot without title"
      ]
     },
     "metadata": {
      "image/png": {
       "height": 420,
       "width": 420
      }
     },
     "output_type": "display_data"
    }
   ],
   "source": [
    "# WRITE YOUR CODE HERE\n",
    "lm.fit = lm(train$y~poly(x,4), data=train)\n",
    "lm.fit\n",
    "\n",
    "gg  <- ggplot(train, aes(trainx, trainy))\n",
    "gg + geom_point() + stat_smooth(method = \"lm\", formula = y ~ poly(x,4), se = FALSE)\n",
    "\n",
    "#plot(lm.fit)\n",
    "\n",
    "#ggplot(train(aes(x,y)))"
   ]
  },
  {
   "cell_type": "markdown",
   "metadata": {
    "id": "oYxz29TyBujj"
   },
   "source": [
    "How well does this 2nd degree polynomial model qualitatively fit the data? Could it do better? \n",
    "\n",
    "> *Write your response here*\n",
    "> "
   ]
  },
  {
   "cell_type": "markdown",
   "metadata": {
    "id": "6A83iJUkBujj"
   },
   "source": [
    "(b) Fit a 12th degree polynomial to the data. Does this do qualitatively better or worse than the 2nd degree model?"
   ]
  },
  {
   "cell_type": "code",
   "execution_count": 6,
   "metadata": {
    "id": "VZAQ0PB5Bujj"
   },
   "outputs": [
    {
     "data": {
      "text/plain": [
       "\n",
       "Call:\n",
       "lm(formula = train$y ~ poly(x, 12), data = train)\n",
       "\n",
       "Coefficients:\n",
       "  (Intercept)   poly(x, 12)1   poly(x, 12)2   poly(x, 12)3   poly(x, 12)4  \n",
       "       0.8520         3.1503        -1.6190         0.6270        -1.4530  \n",
       " poly(x, 12)5   poly(x, 12)6   poly(x, 12)7   poly(x, 12)8   poly(x, 12)9  \n",
       "      -0.1762        -1.9631         0.1982         2.6802         0.3293  \n",
       "poly(x, 12)10  poly(x, 12)11  poly(x, 12)12  \n",
       "      -0.6134         0.2229         0.5390  \n"
      ]
     },
     "metadata": {},
     "output_type": "display_data"
    },
    {
     "data": {
      "image/png": "[encoded data removed]",
      "text/plain": [
       "plot without title"
      ]
     },
     "metadata": {
      "image/png": {
       "height": 420,
       "width": 420
      }
     },
     "output_type": "display_data"
    }
   ],
   "source": [
    "# WRITE YOUR CODE HERE\n",
    "lm.fit = lm(train$y~poly(x,12), data=train)\n",
    "lm.fit\n",
    "\n",
    "gg  <- ggplot(train, aes(trainx, trainy))\n",
    "gg + geom_point() + stat_smooth(method = \"lm\", formula = y ~ poly(x,12))"
   ]
  },
  {
   "cell_type": "markdown",
   "metadata": {
    "id": "-xanWSXvBujk"
   },
   "source": [
    "> Worse, it seems to be overfitting the data something awful."
   ]
  },
  {
   "cell_type": "markdown",
   "metadata": {
    "id": "VpDFP-eSBujl"
   },
   "source": [
    "(c) Modify the loop below to estimate the bias-variance tradeoff as model complexity (i.e., degree of the polynomial model, $k$) increases from 2 to 50. Use the training data to fit the model and test data to evaluate its predictive accuracy. \n",
    "\n",
    "Visualize your results by plotting the *median* squared error for the training data and test data as a function of polynomial degree. "
   ]
  },
  {
   "cell_type": "markdown",
   "metadata": {
    "id": "b2kXJb-5de1S"
   },
   "source": [
    "\n",
    "(**Note**: We are using median accuracies here because there are often 1 or 2 outlier values in the higher degree polynomial models that can throw off the accuracy estimates)."
   ]
  },
  {
   "cell_type": "code",
   "execution_count": 7,
   "metadata": {
    "id": "lnoZVv4OBujl"
   },
   "outputs": [
    {
     "name": "stdout",
     "output_type": "stream",
     "text": [
      " [1]  2  3  4  5  6  7  8  9 10 11 12 13 14 15 16 17 18 19 20 21 22 23 24 25 26\n",
      "[26] 27 28 29 30 31 32 33 34 35 36 37 38 39 40 41 42 43 44 45 46 47 48 49 50\n",
      "[1] 50  2\n"
     ]
    },
    {
     "data": {
      "text/html": [
       "<table class=\"dataframe\">\n",
       "<caption>A matrix: 49 × 1 of type dbl</caption>\n",
       "<tbody>\n",
       "\t<tr><td>0.251161232</td></tr>\n",
       "\t<tr><td>0.186329702</td></tr>\n",
       "\t<tr><td>0.175029690</td></tr>\n",
       "\t<tr><td>0.181514063</td></tr>\n",
       "\t<tr><td>0.184010890</td></tr>\n",
       "\t<tr><td>0.165732316</td></tr>\n",
       "\t<tr><td>0.112757859</td></tr>\n",
       "\t<tr><td>0.085588083</td></tr>\n",
       "\t<tr><td>0.086417369</td></tr>\n",
       "\t<tr><td>0.091365964</td></tr>\n",
       "\t<tr><td>0.096307185</td></tr>\n",
       "\t<tr><td>0.087803266</td></tr>\n",
       "\t<tr><td>0.084380639</td></tr>\n",
       "\t<tr><td>0.084192399</td></tr>\n",
       "\t<tr><td>0.082510445</td></tr>\n",
       "\t<tr><td>0.063072244</td></tr>\n",
       "\t<tr><td>0.065289242</td></tr>\n",
       "\t<tr><td>0.066939989</td></tr>\n",
       "\t<tr><td>0.055934954</td></tr>\n",
       "\t<tr><td>0.053705183</td></tr>\n",
       "\t<tr><td>0.054892122</td></tr>\n",
       "\t<tr><td>0.059911945</td></tr>\n",
       "\t<tr><td>0.058344982</td></tr>\n",
       "\t<tr><td>0.040026403</td></tr>\n",
       "\t<tr><td>0.040026403</td></tr>\n",
       "\t<tr><td>0.040026403</td></tr>\n",
       "\t<tr><td>0.036425122</td></tr>\n",
       "\t<tr><td>0.013871855</td></tr>\n",
       "\t<tr><td>0.013871855</td></tr>\n",
       "\t<tr><td>0.013871855</td></tr>\n",
       "\t<tr><td>0.025619688</td></tr>\n",
       "\t<tr><td>0.025619688</td></tr>\n",
       "\t<tr><td>0.025619688</td></tr>\n",
       "\t<tr><td>0.011305849</td></tr>\n",
       "\t<tr><td>0.011305849</td></tr>\n",
       "\t<tr><td>0.011305849</td></tr>\n",
       "\t<tr><td>0.014525180</td></tr>\n",
       "\t<tr><td>0.014525180</td></tr>\n",
       "\t<tr><td>0.014525180</td></tr>\n",
       "\t<tr><td>0.009568701</td></tr>\n",
       "\t<tr><td>0.009568701</td></tr>\n",
       "\t<tr><td>0.009568701</td></tr>\n",
       "\t<tr><td>0.009921934</td></tr>\n",
       "\t<tr><td>0.009921934</td></tr>\n",
       "\t<tr><td>0.009921934</td></tr>\n",
       "\t<tr><td>0.009921934</td></tr>\n",
       "\t<tr><td>0.009921934</td></tr>\n",
       "\t<tr><td>0.010840239</td></tr>\n",
       "\t<tr><td>0.010840239</td></tr>\n",
       "</tbody>\n",
       "</table>\n"
      ],
      "text/latex": [
       "A matrix: 49 × 1 of type dbl\n",
       "\\begin{tabular}{l}\n",
       "\t 0.251161232\\\\\n",
       "\t 0.186329702\\\\\n",
       "\t 0.175029690\\\\\n",
       "\t 0.181514063\\\\\n",
       "\t 0.184010890\\\\\n",
       "\t 0.165732316\\\\\n",
       "\t 0.112757859\\\\\n",
       "\t 0.085588083\\\\\n",
       "\t 0.086417369\\\\\n",
       "\t 0.091365964\\\\\n",
       "\t 0.096307185\\\\\n",
       "\t 0.087803266\\\\\n",
       "\t 0.084380639\\\\\n",
       "\t 0.084192399\\\\\n",
       "\t 0.082510445\\\\\n",
       "\t 0.063072244\\\\\n",
       "\t 0.065289242\\\\\n",
       "\t 0.066939989\\\\\n",
       "\t 0.055934954\\\\\n",
       "\t 0.053705183\\\\\n",
       "\t 0.054892122\\\\\n",
       "\t 0.059911945\\\\\n",
       "\t 0.058344982\\\\\n",
       "\t 0.040026403\\\\\n",
       "\t 0.040026403\\\\\n",
       "\t 0.040026403\\\\\n",
       "\t 0.036425122\\\\\n",
       "\t 0.013871855\\\\\n",
       "\t 0.013871855\\\\\n",
       "\t 0.013871855\\\\\n",
       "\t 0.025619688\\\\\n",
       "\t 0.025619688\\\\\n",
       "\t 0.025619688\\\\\n",
       "\t 0.011305849\\\\\n",
       "\t 0.011305849\\\\\n",
       "\t 0.011305849\\\\\n",
       "\t 0.014525180\\\\\n",
       "\t 0.014525180\\\\\n",
       "\t 0.014525180\\\\\n",
       "\t 0.009568701\\\\\n",
       "\t 0.009568701\\\\\n",
       "\t 0.009568701\\\\\n",
       "\t 0.009921934\\\\\n",
       "\t 0.009921934\\\\\n",
       "\t 0.009921934\\\\\n",
       "\t 0.009921934\\\\\n",
       "\t 0.009921934\\\\\n",
       "\t 0.010840239\\\\\n",
       "\t 0.010840239\\\\\n",
       "\\end{tabular}\n"
      ],
      "text/markdown": [
       "\n",
       "A matrix: 49 × 1 of type dbl\n",
       "\n",
       "| 0.251161232 |\n",
       "| 0.186329702 |\n",
       "| 0.175029690 |\n",
       "| 0.181514063 |\n",
       "| 0.184010890 |\n",
       "| 0.165732316 |\n",
       "| 0.112757859 |\n",
       "| 0.085588083 |\n",
       "| 0.086417369 |\n",
       "| 0.091365964 |\n",
       "| 0.096307185 |\n",
       "| 0.087803266 |\n",
       "| 0.084380639 |\n",
       "| 0.084192399 |\n",
       "| 0.082510445 |\n",
       "| 0.063072244 |\n",
       "| 0.065289242 |\n",
       "| 0.066939989 |\n",
       "| 0.055934954 |\n",
       "| 0.053705183 |\n",
       "| 0.054892122 |\n",
       "| 0.059911945 |\n",
       "| 0.058344982 |\n",
       "| 0.040026403 |\n",
       "| 0.040026403 |\n",
       "| 0.040026403 |\n",
       "| 0.036425122 |\n",
       "| 0.013871855 |\n",
       "| 0.013871855 |\n",
       "| 0.013871855 |\n",
       "| 0.025619688 |\n",
       "| 0.025619688 |\n",
       "| 0.025619688 |\n",
       "| 0.011305849 |\n",
       "| 0.011305849 |\n",
       "| 0.011305849 |\n",
       "| 0.014525180 |\n",
       "| 0.014525180 |\n",
       "| 0.014525180 |\n",
       "| 0.009568701 |\n",
       "| 0.009568701 |\n",
       "| 0.009568701 |\n",
       "| 0.009921934 |\n",
       "| 0.009921934 |\n",
       "| 0.009921934 |\n",
       "| 0.009921934 |\n",
       "| 0.009921934 |\n",
       "| 0.010840239 |\n",
       "| 0.010840239 |\n",
       "\n"
      ],
      "text/plain": [
       "      [,1]       \n",
       " [1,] 0.251161232\n",
       " [2,] 0.186329702\n",
       " [3,] 0.175029690\n",
       " [4,] 0.181514063\n",
       " [5,] 0.184010890\n",
       " [6,] 0.165732316\n",
       " [7,] 0.112757859\n",
       " [8,] 0.085588083\n",
       " [9,] 0.086417369\n",
       "[10,] 0.091365964\n",
       "[11,] 0.096307185\n",
       "[12,] 0.087803266\n",
       "[13,] 0.084380639\n",
       "[14,] 0.084192399\n",
       "[15,] 0.082510445\n",
       "[16,] 0.063072244\n",
       "[17,] 0.065289242\n",
       "[18,] 0.066939989\n",
       "[19,] 0.055934954\n",
       "[20,] 0.053705183\n",
       "[21,] 0.054892122\n",
       "[22,] 0.059911945\n",
       "[23,] 0.058344982\n",
       "[24,] 0.040026403\n",
       "[25,] 0.040026403\n",
       "[26,] 0.040026403\n",
       "[27,] 0.036425122\n",
       "[28,] 0.013871855\n",
       "[29,] 0.013871855\n",
       "[30,] 0.013871855\n",
       "[31,] 0.025619688\n",
       "[32,] 0.025619688\n",
       "[33,] 0.025619688\n",
       "[34,] 0.011305849\n",
       "[35,] 0.011305849\n",
       "[36,] 0.011305849\n",
       "[37,] 0.014525180\n",
       "[38,] 0.014525180\n",
       "[39,] 0.014525180\n",
       "[40,] 0.009568701\n",
       "[41,] 0.009568701\n",
       "[42,] 0.009568701\n",
       "[43,] 0.009921934\n",
       "[44,] 0.009921934\n",
       "[45,] 0.009921934\n",
       "[46,] 0.009921934\n",
       "[47,] 0.009921934\n",
       "[48,] 0.010840239\n",
       "[49,] 0.010840239"
      ]
     },
     "metadata": {},
     "output_type": "display_data"
    },
    {
     "data": {
      "text/html": [
       "<table class=\"dataframe\">\n",
       "<caption>A matrix: 49 × 1 of type dbl</caption>\n",
       "<tbody>\n",
       "\t<tr><td>0.5324046</td></tr>\n",
       "\t<tr><td>0.6345179</td></tr>\n",
       "\t<tr><td>0.4375390</td></tr>\n",
       "\t<tr><td>0.4670082</td></tr>\n",
       "\t<tr><td>0.3720000</td></tr>\n",
       "\t<tr><td>0.4127740</td></tr>\n",
       "\t<tr><td>0.1568720</td></tr>\n",
       "\t<tr><td>0.1671801</td></tr>\n",
       "\t<tr><td>0.1179985</td></tr>\n",
       "\t<tr><td>0.1137178</td></tr>\n",
       "\t<tr><td>0.1442581</td></tr>\n",
       "\t<tr><td>0.1289516</td></tr>\n",
       "\t<tr><td>0.1377475</td></tr>\n",
       "\t<tr><td>0.1275652</td></tr>\n",
       "\t<tr><td>0.1517842</td></tr>\n",
       "\t<tr><td>0.2136704</td></tr>\n",
       "\t<tr><td>0.1908047</td></tr>\n",
       "\t<tr><td>0.1856275</td></tr>\n",
       "\t<tr><td>0.1884357</td></tr>\n",
       "\t<tr><td>0.1906918</td></tr>\n",
       "\t<tr><td>0.2212522</td></tr>\n",
       "\t<tr><td>0.2088557</td></tr>\n",
       "\t<tr><td>0.2074836</td></tr>\n",
       "\t<tr><td>0.2609761</td></tr>\n",
       "\t<tr><td>0.2609761</td></tr>\n",
       "\t<tr><td>0.2609761</td></tr>\n",
       "\t<tr><td>0.2170889</td></tr>\n",
       "\t<tr><td>0.1881373</td></tr>\n",
       "\t<tr><td>0.1881373</td></tr>\n",
       "\t<tr><td>0.1881373</td></tr>\n",
       "\t<tr><td>0.2489212</td></tr>\n",
       "\t<tr><td>0.2489212</td></tr>\n",
       "\t<tr><td>0.2489212</td></tr>\n",
       "\t<tr><td>0.3001658</td></tr>\n",
       "\t<tr><td>0.3001658</td></tr>\n",
       "\t<tr><td>0.3001658</td></tr>\n",
       "\t<tr><td>0.3402193</td></tr>\n",
       "\t<tr><td>0.3402193</td></tr>\n",
       "\t<tr><td>0.3402193</td></tr>\n",
       "\t<tr><td>0.3013975</td></tr>\n",
       "\t<tr><td>0.3013975</td></tr>\n",
       "\t<tr><td>0.3013975</td></tr>\n",
       "\t<tr><td>0.2964675</td></tr>\n",
       "\t<tr><td>0.2964675</td></tr>\n",
       "\t<tr><td>0.2964675</td></tr>\n",
       "\t<tr><td>0.2964675</td></tr>\n",
       "\t<tr><td>0.2964675</td></tr>\n",
       "\t<tr><td>0.3222904</td></tr>\n",
       "\t<tr><td>0.3222904</td></tr>\n",
       "</tbody>\n",
       "</table>\n"
      ],
      "text/latex": [
       "A matrix: 49 × 1 of type dbl\n",
       "\\begin{tabular}{l}\n",
       "\t 0.5324046\\\\\n",
       "\t 0.6345179\\\\\n",
       "\t 0.4375390\\\\\n",
       "\t 0.4670082\\\\\n",
       "\t 0.3720000\\\\\n",
       "\t 0.4127740\\\\\n",
       "\t 0.1568720\\\\\n",
       "\t 0.1671801\\\\\n",
       "\t 0.1179985\\\\\n",
       "\t 0.1137178\\\\\n",
       "\t 0.1442581\\\\\n",
       "\t 0.1289516\\\\\n",
       "\t 0.1377475\\\\\n",
       "\t 0.1275652\\\\\n",
       "\t 0.1517842\\\\\n",
       "\t 0.2136704\\\\\n",
       "\t 0.1908047\\\\\n",
       "\t 0.1856275\\\\\n",
       "\t 0.1884357\\\\\n",
       "\t 0.1906918\\\\\n",
       "\t 0.2212522\\\\\n",
       "\t 0.2088557\\\\\n",
       "\t 0.2074836\\\\\n",
       "\t 0.2609761\\\\\n",
       "\t 0.2609761\\\\\n",
       "\t 0.2609761\\\\\n",
       "\t 0.2170889\\\\\n",
       "\t 0.1881373\\\\\n",
       "\t 0.1881373\\\\\n",
       "\t 0.1881373\\\\\n",
       "\t 0.2489212\\\\\n",
       "\t 0.2489212\\\\\n",
       "\t 0.2489212\\\\\n",
       "\t 0.3001658\\\\\n",
       "\t 0.3001658\\\\\n",
       "\t 0.3001658\\\\\n",
       "\t 0.3402193\\\\\n",
       "\t 0.3402193\\\\\n",
       "\t 0.3402193\\\\\n",
       "\t 0.3013975\\\\\n",
       "\t 0.3013975\\\\\n",
       "\t 0.3013975\\\\\n",
       "\t 0.2964675\\\\\n",
       "\t 0.2964675\\\\\n",
       "\t 0.2964675\\\\\n",
       "\t 0.2964675\\\\\n",
       "\t 0.2964675\\\\\n",
       "\t 0.3222904\\\\\n",
       "\t 0.3222904\\\\\n",
       "\\end{tabular}\n"
      ],
      "text/markdown": [
       "\n",
       "A matrix: 49 × 1 of type dbl\n",
       "\n",
       "| 0.5324046 |\n",
       "| 0.6345179 |\n",
       "| 0.4375390 |\n",
       "| 0.4670082 |\n",
       "| 0.3720000 |\n",
       "| 0.4127740 |\n",
       "| 0.1568720 |\n",
       "| 0.1671801 |\n",
       "| 0.1179985 |\n",
       "| 0.1137178 |\n",
       "| 0.1442581 |\n",
       "| 0.1289516 |\n",
       "| 0.1377475 |\n",
       "| 0.1275652 |\n",
       "| 0.1517842 |\n",
       "| 0.2136704 |\n",
       "| 0.1908047 |\n",
       "| 0.1856275 |\n",
       "| 0.1884357 |\n",
       "| 0.1906918 |\n",
       "| 0.2212522 |\n",
       "| 0.2088557 |\n",
       "| 0.2074836 |\n",
       "| 0.2609761 |\n",
       "| 0.2609761 |\n",
       "| 0.2609761 |\n",
       "| 0.2170889 |\n",
       "| 0.1881373 |\n",
       "| 0.1881373 |\n",
       "| 0.1881373 |\n",
       "| 0.2489212 |\n",
       "| 0.2489212 |\n",
       "| 0.2489212 |\n",
       "| 0.3001658 |\n",
       "| 0.3001658 |\n",
       "| 0.3001658 |\n",
       "| 0.3402193 |\n",
       "| 0.3402193 |\n",
       "| 0.3402193 |\n",
       "| 0.3013975 |\n",
       "| 0.3013975 |\n",
       "| 0.3013975 |\n",
       "| 0.2964675 |\n",
       "| 0.2964675 |\n",
       "| 0.2964675 |\n",
       "| 0.2964675 |\n",
       "| 0.2964675 |\n",
       "| 0.3222904 |\n",
       "| 0.3222904 |\n",
       "\n"
      ],
      "text/plain": [
       "      [,1]     \n",
       " [1,] 0.5324046\n",
       " [2,] 0.6345179\n",
       " [3,] 0.4375390\n",
       " [4,] 0.4670082\n",
       " [5,] 0.3720000\n",
       " [6,] 0.4127740\n",
       " [7,] 0.1568720\n",
       " [8,] 0.1671801\n",
       " [9,] 0.1179985\n",
       "[10,] 0.1137178\n",
       "[11,] 0.1442581\n",
       "[12,] 0.1289516\n",
       "[13,] 0.1377475\n",
       "[14,] 0.1275652\n",
       "[15,] 0.1517842\n",
       "[16,] 0.2136704\n",
       "[17,] 0.1908047\n",
       "[18,] 0.1856275\n",
       "[19,] 0.1884357\n",
       "[20,] 0.1906918\n",
       "[21,] 0.2212522\n",
       "[22,] 0.2088557\n",
       "[23,] 0.2074836\n",
       "[24,] 0.2609761\n",
       "[25,] 0.2609761\n",
       "[26,] 0.2609761\n",
       "[27,] 0.2170889\n",
       "[28,] 0.1881373\n",
       "[29,] 0.1881373\n",
       "[30,] 0.1881373\n",
       "[31,] 0.2489212\n",
       "[32,] 0.2489212\n",
       "[33,] 0.2489212\n",
       "[34,] 0.3001658\n",
       "[35,] 0.3001658\n",
       "[36,] 0.3001658\n",
       "[37,] 0.3402193\n",
       "[38,] 0.3402193\n",
       "[39,] 0.3402193\n",
       "[40,] 0.3013975\n",
       "[41,] 0.3013975\n",
       "[42,] 0.3013975\n",
       "[43,] 0.2964675\n",
       "[44,] 0.2964675\n",
       "[45,] 0.2964675\n",
       "[46,] 0.2964675\n",
       "[47,] 0.2964675\n",
       "[48,] 0.3222904\n",
       "[49,] 0.3222904"
      ]
     },
     "metadata": {},
     "output_type": "display_data"
    },
    {
     "data": {
      "image/png": "[encoded data removed]",
      "text/plain": [
       "plot without title"
      ]
     },
     "metadata": {
      "image/png": {
       "height": 420,
       "width": 420
      }
     },
     "output_type": "display_data"
    },
    {
     "data": {
      "image/png": "[encoded data removed]",
      "text/plain": [
       "plot without title"
      ]
     },
     "metadata": {
      "image/png": {
       "height": 420,
       "width": 420
      }
     },
     "output_type": "display_data"
    }
   ],
   "source": [
    "# Now do the variance-bias trade off analysis using regular regression\n",
    "degree = seq(2,50)\n",
    "\n",
    "# Need to setup your output vectors\n",
    "train_rss = matrix(data=NA,nrow=length(degree),ncol=1)\n",
    "test_rss = matrix(data=NA,nrow=length(degree),ncol=1)\n",
    "\n",
    "print(degree)\n",
    "\n",
    "print(dim(train))\n",
    "\n",
    "for (k in degree) {\n",
    "    # WRITE YOUR CODE HERE\n",
    "    \n",
    "    #print(k)\n",
    "    #din  <- degree[k]\n",
    "    lm.fit.4 = lm(y~poly(x, k, raw = TRUE), data=train)\n",
    "    #lm.fit\n",
    "    sm_train  <- summary(lm.fit.4)\n",
    "    mse_train <- median(sm_train$residuals^2)\n",
    "    \n",
    "    pred = suppressWarnings(predict(lm.fit.4, newdata = test))\n",
    "    mse_test <- median((test$y-pred)^2)\n",
    "    \n",
    "    train_rss[k-1, 1] = mse_train\n",
    "    test_rss[k-1, 1] = mse_test\n",
    "    \n",
    "}\n",
    "\n",
    "train_rss\n",
    "test_rss\n",
    "\n",
    "plot(x = degree, y = train_rss)\n",
    "plot(x = degree, y = test_rss)\n",
    "\n",
    "# Plot your results here\n",
    "# WRITE YOUR CODE HERE"
   ]
  },
  {
   "cell_type": "code",
   "execution_count": 8,
   "metadata": {},
   "outputs": [
    {
     "data": {
      "text/html": [
       "<dl>\n",
       "\t<dt>$names</dt>\n",
       "\t\t<dd><style>\n",
       ".list-inline {list-style: none; margin:0; padding: 0}\n",
       ".list-inline>li {display: inline-block}\n",
       ".list-inline>li:not(:last-child)::after {content: \"\\00b7\"; padding: 0 .5ex}\n",
       "</style>\n",
       "<ol class=list-inline><li>'coefficients'</li><li>'residuals'</li><li>'effects'</li><li>'rank'</li><li>'fitted.values'</li><li>'assign'</li><li>'qr'</li><li>'df.residual'</li><li>'xlevels'</li><li>'call'</li><li>'terms'</li><li>'model'</li></ol>\n",
       "</dd>\n",
       "\t<dt>$class</dt>\n",
       "\t\t<dd>'lm'</dd>\n",
       "</dl>\n"
      ],
      "text/latex": [
       "\\begin{description}\n",
       "\\item[\\$names] \\begin{enumerate*}\n",
       "\\item 'coefficients'\n",
       "\\item 'residuals'\n",
       "\\item 'effects'\n",
       "\\item 'rank'\n",
       "\\item 'fitted.values'\n",
       "\\item 'assign'\n",
       "\\item 'qr'\n",
       "\\item 'df.residual'\n",
       "\\item 'xlevels'\n",
       "\\item 'call'\n",
       "\\item 'terms'\n",
       "\\item 'model'\n",
       "\\end{enumerate*}\n",
       "\n",
       "\\item[\\$class] 'lm'\n",
       "\\end{description}\n"
      ],
      "text/markdown": [
       "$names\n",
       ":   1. 'coefficients'\n",
       "2. 'residuals'\n",
       "3. 'effects'\n",
       "4. 'rank'\n",
       "5. 'fitted.values'\n",
       "6. 'assign'\n",
       "7. 'qr'\n",
       "8. 'df.residual'\n",
       "9. 'xlevels'\n",
       "10. 'call'\n",
       "11. 'terms'\n",
       "12. 'model'\n",
       "\n",
       "\n",
       "\n",
       "$class\n",
       ":   'lm'\n",
       "\n",
       "\n"
      ],
      "text/plain": [
       "$names\n",
       " [1] \"coefficients\"  \"residuals\"     \"effects\"       \"rank\"         \n",
       " [5] \"fitted.values\" \"assign\"        \"qr\"            \"df.residual\"  \n",
       " [9] \"xlevels\"       \"call\"          \"terms\"         \"model\"        \n",
       "\n",
       "$class\n",
       "[1] \"lm\"\n"
      ]
     },
     "metadata": {},
     "output_type": "display_data"
    }
   ],
   "source": [
    "?predict\n",
    "fit1 = lm(train$y~poly(x,10), data=train)\n",
    "attributes(fit1)"
   ]
  },
  {
   "cell_type": "markdown",
   "metadata": {
    "id": "Vx8zgVDGBujm"
   },
   "source": [
    "What do you see as $k$ increase?\n",
    "\n",
    "> *Write your response here* \n",
    "> "
   ]
  },
  {
   "cell_type": "markdown",
   "metadata": {
    "id": "pfF6syENBujm"
   },
   "source": [
    "(d) Now copy the code above and let's see what happens when we go beyond $p=n$ (remember, in this case $k=p$). Test polynomial models up to $k=150$. Visualize your results by plotting the *median* squared error for the training data and test data as a function of polynomial degree. \n",
    "\n",
    "Use the `geom_vline()` function in `ggplot` to draw a vertical line where $k=n$ (here $n$ is the number of observations in the training set). This will make it clear where we cross the threshold for finding *unique* solutions in our data.\n",
    "\n"
   ]
  },
  {
   "cell_type": "code",
   "execution_count": 9,
   "metadata": {
    "id": "Fqk3xlUBBujm"
   },
   "outputs": [
    {
     "name": "stdout",
     "output_type": "stream",
     "text": [
      "  [1]   2   3   4   5   6   7   8   9  10  11  12  13  14  15  16  17  18  19\n",
      " [19]  20  21  22  23  24  25  26  27  28  29  30  31  32  33  34  35  36  37\n",
      " [37]  38  39  40  41  42  43  44  45  46  47  48  49  50  51  52  53  54  55\n",
      " [55]  56  57  58  59  60  61  62  63  64  65  66  67  68  69  70  71  72  73\n",
      " [73]  74  75  76  77  78  79  80  81  82  83  84  85  86  87  88  89  90  91\n",
      " [91]  92  93  94  95  96  97  98  99 100 101 102 103 104 105 106 107 108 109\n",
      "[109] 110 111 112 113 114 115 116 117 118 119 120 121 122 123 124 125 126 127\n",
      "[127] 128 129 130 131 132 133 134 135 136 137 138 139 140 141 142 143 144 145\n",
      "[145] 146 147 148 149 150\n",
      "[1] 50  2\n"
     ]
    },
    {
     "data": {
      "text/html": [
       "<table class=\"dataframe\">\n",
       "<caption>A matrix: 6 × 1 of type dbl</caption>\n",
       "<tbody>\n",
       "\t<tr><td>0.2511612</td></tr>\n",
       "\t<tr><td>0.1863297</td></tr>\n",
       "\t<tr><td>0.1750297</td></tr>\n",
       "\t<tr><td>0.1815141</td></tr>\n",
       "\t<tr><td>0.1840109</td></tr>\n",
       "\t<tr><td>0.1657323</td></tr>\n",
       "</tbody>\n",
       "</table>\n"
      ],
      "text/latex": [
       "A matrix: 6 × 1 of type dbl\n",
       "\\begin{tabular}{l}\n",
       "\t 0.2511612\\\\\n",
       "\t 0.1863297\\\\\n",
       "\t 0.1750297\\\\\n",
       "\t 0.1815141\\\\\n",
       "\t 0.1840109\\\\\n",
       "\t 0.1657323\\\\\n",
       "\\end{tabular}\n"
      ],
      "text/markdown": [
       "\n",
       "A matrix: 6 × 1 of type dbl\n",
       "\n",
       "| 0.2511612 |\n",
       "| 0.1863297 |\n",
       "| 0.1750297 |\n",
       "| 0.1815141 |\n",
       "| 0.1840109 |\n",
       "| 0.1657323 |\n",
       "\n"
      ],
      "text/plain": [
       "     [,1]     \n",
       "[1,] 0.2511612\n",
       "[2,] 0.1863297\n",
       "[3,] 0.1750297\n",
       "[4,] 0.1815141\n",
       "[5,] 0.1840109\n",
       "[6,] 0.1657323"
      ]
     },
     "metadata": {},
     "output_type": "display_data"
    }
   ],
   "source": [
    "# WRITE YOUR CODE HERE\n",
    "# Now do the variance-bias trade off analysis using regular regression\n",
    "degree = seq(2,150)\n",
    "\n",
    "# Need to setup your output vectors\n",
    "train_rss = matrix(data=NA,nrow=length(degree),ncol=1)\n",
    "test_rss = matrix(data=NA,nrow=length(degree),ncol=1)\n",
    "\n",
    "print(degree)\n",
    "\n",
    "print(dim(train))\n",
    "\n",
    "for (k in degree) {\n",
    "    # WRITE YOUR CODE HERE\n",
    "    \n",
    "    #print(k)\n",
    "    #din  <- degree[k]\n",
    "    lm.fit.4 = lm(y~poly(x, k, raw = TRUE), data=train)\n",
    "    #lm.fit\n",
    "    sm_train  <- summary(lm.fit.4)\n",
    "    mse_train <- median(sm_train$residuals^2)\n",
    "    \n",
    "    pred = suppressWarnings(predict(lm.fit.4, newdata = test))\n",
    "    mse_test <- median((test$y-pred)^2)\n",
    "    \n",
    "    train_rss[k-1, 1] = mse_train\n",
    "    test_rss[k-1, 1] = mse_test\n",
    "    \n",
    "}\n",
    "\n",
    "#train_rss\n",
    "#test_rss\n",
    "\n",
    "head(train_rss)\n",
    "\n",
    "#gg.train  <- ggplot(y = train_rss)\n",
    "#gg.train + geom_point()\n",
    "\n",
    "#plot(x = degree, y = train_rss)\n",
    "#plot(x = degree, y = test_rss)\n",
    "\n",
    "# Plot your results here\n",
    "# WRITE YOUR CODE HERE\n"
   ]
  },
  {
   "cell_type": "markdown",
   "metadata": {
    "id": "JsiaI7CNBujn"
   },
   "source": [
    "What do you see as $k$ gets larger than $n$?\n",
    "\n",
    "> *Write your response here* \n",
    "> "
   ]
  },
  {
   "cell_type": "markdown",
   "metadata": {
    "id": "ez8Cy8anBujn"
   },
   "source": [
    "---\n",
    "## 3. Applying regularization to the model fits (2 points)"
   ]
  },
  {
   "cell_type": "markdown",
   "metadata": {
    "id": "NFAAGungBujn"
   },
   "source": [
    "Repeat the previous bias-variance tradeoff test, going up to $k=150$, but now use ridge regression with a sparsity parameter of $\\lambda=0.00005$. Plot your results the same way as last time. "
   ]
  },
  {
   "cell_type": "code",
   "execution_count": 98,
   "metadata": {
    "id": "0uVdEguGBujn"
   },
   "outputs": [
    {
     "data": {
      "text/html": [
       "'double'"
      ],
      "text/latex": [
       "'double'"
      ],
      "text/markdown": [
       "'double'"
      ],
      "text/plain": [
       "[1] \"double\""
      ]
     },
     "metadata": {},
     "output_type": "display_data"
    },
    {
     "name": "stderr",
     "output_type": "stream",
     "text": [
      "Warning message in ridge_pred - t.y:\n",
      "\"longer object length is not a multiple of shorter object length\"\n",
      "Warning message in ridge_pred - tr.y:\n",
      "\"longer object length is not a multiple of shorter object length\"\n",
      "Warning message in ridge_pred - tr.y:\n",
      "\"longer object length is not a multiple of shorter object length\"\n",
      "Warning message in ridge_pred - t.y:\n",
      "\"longer object length is not a multiple of shorter object length\"\n",
      "Warning message in ridge_pred - t.y:\n",
      "\"longer object length is not a multiple of shorter object length\"\n",
      "Warning message in ridge_pred - tr.y:\n",
      "\"longer object length is not a multiple of shorter object length\"\n",
      "Warning message in ridge_pred - t.y:\n",
      "\"longer object length is not a multiple of shorter object length\"\n",
      "Warning message in ridge_pred - tr.y:\n",
      "\"longer object length is not a multiple of shorter object length\"\n",
      "Warning message in ridge_pred - t.y:\n",
      "\"longer object length is not a multiple of shorter object length\"\n",
      "Warning message in ridge_pred - tr.y:\n",
      "\"longer object length is not a multiple of shorter object length\"\n",
      "Warning message in ridge_pred - t.y:\n",
      "\"longer object length is not a multiple of shorter object length\"\n",
      "Warning message in ridge_pred - tr.y:\n",
      "\"longer object length is not a multiple of shorter object length\"\n",
      "Warning message in ridge_pred - t.y:\n",
      "\"longer object length is not a multiple of shorter object length\"\n",
      "Warning message in ridge_pred - t.y:\n",
      "\"longer object length is not a multiple of shorter object length\"\n",
      "Warning message in ridge_pred - tr.y:\n",
      "\"longer object length is not a multiple of shorter object length\"\n",
      "Warning message in ridge_pred - t.y:\n",
      "\"longer object length is not a multiple of shorter object length\"\n",
      "Warning message in ridge_pred - tr.y:\n",
      "\"longer object length is not a multiple of shorter object length\"\n",
      "Warning message in ridge_pred - t.y:\n",
      "\"longer object length is not a multiple of shorter object length\"\n",
      "Warning message in ridge_pred - tr.y:\n",
      "\"longer object length is not a multiple of shorter object length\"\n",
      "Warning message in ridge_pred - t.y:\n",
      "\"longer object length is not a multiple of shorter object length\"\n",
      "Warning message in ridge_pred - tr.y:\n",
      "\"longer object length is not a multiple of shorter object length\"\n",
      "Warning message in ridge_pred - t.y:\n",
      "\"longer object length is not a multiple of shorter object length\"\n",
      "Warning message in ridge_pred - tr.y:\n",
      "\"longer object length is not a multiple of shorter object length\"\n",
      "Warning message in ridge_pred - t.y:\n",
      "\"longer object length is not a multiple of shorter object length\"\n",
      "Warning message in ridge_pred - tr.y:\n",
      "\"longer object length is not a multiple of shorter object length\"\n",
      "Warning message in ridge_pred - t.y:\n",
      "\"longer object length is not a multiple of shorter object length\"\n",
      "Warning message in ridge_pred - tr.y:\n",
      "\"longer object length is not a multiple of shorter object length\"\n",
      "Warning message in ridge_pred - tr.y:\n",
      "\"longer object length is not a multiple of shorter object length\"\n",
      "Warning message in ridge_pred - t.y:\n",
      "\"longer object length is not a multiple of shorter object length\"\n",
      "Warning message in ridge_pred - tr.y:\n",
      "\"longer object length is not a multiple of shorter object length\"\n",
      "Warning message in ridge_pred - t.y:\n",
      "\"longer object length is not a multiple of shorter object length\"\n",
      "Warning message in ridge_pred - tr.y:\n",
      "\"longer object length is not a multiple of shorter object length\"\n",
      "Warning message in ridge_pred - t.y:\n",
      "\"longer object length is not a multiple of shorter object length\"\n",
      "Warning message in ridge_pred - tr.y:\n",
      "\"longer object length is not a multiple of shorter object length\"\n",
      "Warning message in ridge_pred - t.y:\n",
      "\"longer object length is not a multiple of shorter object length\"\n",
      "Warning message in ridge_pred - tr.y:\n",
      "\"longer object length is not a multiple of shorter object length\"\n",
      "Warning message in ridge_pred - t.y:\n",
      "\"longer object length is not a multiple of shorter object length\"\n",
      "Warning message in ridge_pred - tr.y:\n",
      "\"longer object length is not a multiple of shorter object length\"\n",
      "Warning message in ridge_pred - t.y:\n",
      "\"longer object length is not a multiple of shorter object length\"\n",
      "Warning message in ridge_pred - tr.y:\n",
      "\"longer object length is not a multiple of shorter object length\"\n",
      "Warning message in ridge_pred - t.y:\n",
      "\"longer object length is not a multiple of shorter object length\"\n",
      "Warning message in ridge_pred - t.y:\n",
      "\"longer object length is not a multiple of shorter object length\"\n",
      "Warning message in ridge_pred - tr.y:\n",
      "\"longer object length is not a multiple of shorter object length\"\n",
      "Warning message in ridge_pred - t.y:\n",
      "\"longer object length is not a multiple of shorter object length\"\n",
      "Warning message in ridge_pred - tr.y:\n",
      "\"longer object length is not a multiple of shorter object length\"\n",
      "Warning message in ridge_pred - t.y:\n",
      "\"longer object length is not a multiple of shorter object length\"\n",
      "Warning message in ridge_pred - tr.y:\n",
      "\"longer object length is not a multiple of shorter object length\"\n",
      "Warning message in ridge_pred - t.y:\n",
      "\"longer object length is not a multiple of shorter object length\"\n",
      "Warning message in ridge_pred - tr.y:\n",
      "\"longer object length is not a multiple of shorter object length\"\n",
      "Warning message in ridge_pred - t.y:\n",
      "\"longer object length is not a multiple of shorter object length\"\n",
      "Warning message in ridge_pred - tr.y:\n",
      "\"longer object length is not a multiple of shorter object length\"\n",
      "Warning message in ridge_pred - t.y:\n",
      "\"longer object length is not a multiple of shorter object length\"\n",
      "Warning message in ridge_pred - tr.y:\n",
      "\"longer object length is not a multiple of shorter object length\"\n",
      "Warning message in ridge_pred - t.y:\n",
      "\"longer object length is not a multiple of shorter object length\"\n",
      "Warning message in ridge_pred - tr.y:\n",
      "\"longer object length is not a multiple of shorter object length\"\n",
      "Warning message in ridge_pred - t.y:\n",
      "\"longer object length is not a multiple of shorter object length\"\n",
      "Warning message in ridge_pred - tr.y:\n",
      "\"longer object length is not a multiple of shorter object length\"\n",
      "Warning message in ridge_pred - t.y:\n",
      "\"longer object length is not a multiple of shorter object length\"\n",
      "Warning message in ridge_pred - tr.y:\n",
      "\"longer object length is not a multiple of shorter object length\"\n",
      "Warning message in ridge_pred - t.y:\n",
      "\"longer object length is not a multiple of shorter object length\"\n",
      "Warning message in ridge_pred - tr.y:\n",
      "\"longer object length is not a multiple of shorter object length\"\n",
      "Warning message in ridge_pred - t.y:\n",
      "\"longer object length is not a multiple of shorter object length\"\n",
      "Warning message in ridge_pred - tr.y:\n",
      "\"longer object length is not a multiple of shorter object length\"\n",
      "Warning message in ridge_pred - t.y:\n",
      "\"longer object length is not a multiple of shorter object length\"\n",
      "Warning message in ridge_pred - tr.y:\n",
      "\"longer object length is not a multiple of shorter object length\"\n",
      "Warning message in ridge_pred - t.y:\n",
      "\"longer object length is not a multiple of shorter object length\"\n",
      "Warning message in ridge_pred - tr.y:\n",
      "\"longer object length is not a multiple of shorter object length\"\n",
      "Warning message in ridge_pred - t.y:\n",
      "\"longer object length is not a multiple of shorter object length\"\n",
      "Warning message in ridge_pred - tr.y:\n",
      "\"longer object length is not a multiple of shorter object length\"\n",
      "Warning message in ridge_pred - t.y:\n",
      "\"longer object length is not a multiple of shorter object length\"\n",
      "Warning message in ridge_pred - tr.y:\n",
      "\"longer object length is not a multiple of shorter object length\"\n",
      "Warning message in ridge_pred - t.y:\n",
      "\"longer object length is not a multiple of shorter object length\"\n",
      "Warning message in ridge_pred - tr.y:\n",
      "\"longer object length is not a multiple of shorter object length\"\n",
      "Warning message in ridge_pred - t.y:\n",
      "\"longer object length is not a multiple of shorter object length\"\n",
      "Warning message in ridge_pred - tr.y:\n",
      "\"longer object length is not a multiple of shorter object length\"\n",
      "Warning message in ridge_pred - t.y:\n",
      "\"longer object length is not a multiple of shorter object length\"\n",
      "Warning message in ridge_pred - tr.y:\n",
      "\"longer object length is not a multiple of shorter object length\"\n",
      "Warning message in ridge_pred - t.y:\n",
      "\"longer object length is not a multiple of shorter object length\"\n",
      "Warning message in ridge_pred - tr.y:\n",
      "\"longer object length is not a multiple of shorter object length\"\n",
      "Warning message in ridge_pred - t.y:\n",
      "\"longer object length is not a multiple of shorter object length\"\n"
     ]
    },
    {
     "name": "stderr",
     "output_type": "stream",
     "text": [
      "Warning message in ridge_pred - tr.y:\n",
      "\"longer object length is not a multiple of shorter object length\"\n",
      "Warning message in ridge_pred - t.y:\n",
      "\"longer object length is not a multiple of shorter object length\"\n",
      "Warning message in ridge_pred - tr.y:\n",
      "\"longer object length is not a multiple of shorter object length\"\n",
      "Warning message in ridge_pred - t.y:\n",
      "\"longer object length is not a multiple of shorter object length\"\n",
      "Warning message in ridge_pred - tr.y:\n",
      "\"longer object length is not a multiple of shorter object length\"\n",
      "Warning message in ridge_pred - t.y:\n",
      "\"longer object length is not a multiple of shorter object length\"\n",
      "Warning message in ridge_pred - tr.y:\n",
      "\"longer object length is not a multiple of shorter object length\"\n",
      "Warning message in ridge_pred - t.y:\n",
      "\"longer object length is not a multiple of shorter object length\"\n",
      "Warning message in ridge_pred - tr.y:\n",
      "\"longer object length is not a multiple of shorter object length\"\n",
      "Warning message in ridge_pred - t.y:\n",
      "\"longer object length is not a multiple of shorter object length\"\n",
      "Warning message in ridge_pred - t.y:\n",
      "\"longer object length is not a multiple of shorter object length\"\n",
      "Warning message in ridge_pred - tr.y:\n",
      "\"longer object length is not a multiple of shorter object length\"\n",
      "Warning message in ridge_pred - tr.y:\n",
      "\"longer object length is not a multiple of shorter object length\"\n",
      "Warning message in ridge_pred - t.y:\n",
      "\"longer object length is not a multiple of shorter object length\"\n",
      "Warning message in ridge_pred - tr.y:\n",
      "\"longer object length is not a multiple of shorter object length\"\n",
      "Warning message in ridge_pred - t.y:\n",
      "\"longer object length is not a multiple of shorter object length\"\n",
      "Warning message in ridge_pred - tr.y:\n",
      "\"longer object length is not a multiple of shorter object length\"\n",
      "Warning message in ridge_pred - t.y:\n",
      "\"longer object length is not a multiple of shorter object length\"\n",
      "Warning message in ridge_pred - tr.y:\n",
      "\"longer object length is not a multiple of shorter object length\"\n",
      "Warning message in ridge_pred - t.y:\n",
      "\"longer object length is not a multiple of shorter object length\"\n",
      "Warning message in ridge_pred - tr.y:\n",
      "\"longer object length is not a multiple of shorter object length\"\n",
      "Warning message in ridge_pred - t.y:\n",
      "\"longer object length is not a multiple of shorter object length\"\n",
      "Warning message in ridge_pred - tr.y:\n",
      "\"longer object length is not a multiple of shorter object length\"\n",
      "Warning message in ridge_pred - t.y:\n",
      "\"longer object length is not a multiple of shorter object length\"\n",
      "Warning message in ridge_pred - tr.y:\n",
      "\"longer object length is not a multiple of shorter object length\"\n",
      "Warning message in ridge_pred - t.y:\n",
      "\"longer object length is not a multiple of shorter object length\"\n",
      "Warning message in ridge_pred - tr.y:\n",
      "\"longer object length is not a multiple of shorter object length\"\n",
      "Warning message in ridge_pred - t.y:\n",
      "\"longer object length is not a multiple of shorter object length\"\n",
      "Warning message in ridge_pred - tr.y:\n",
      "\"longer object length is not a multiple of shorter object length\"\n",
      "Warning message in ridge_pred - t.y:\n",
      "\"longer object length is not a multiple of shorter object length\"\n",
      "Warning message in ridge_pred - tr.y:\n",
      "\"longer object length is not a multiple of shorter object length\"\n",
      "Warning message in ridge_pred - t.y:\n",
      "\"longer object length is not a multiple of shorter object length\"\n",
      "Warning message in ridge_pred - tr.y:\n",
      "\"longer object length is not a multiple of shorter object length\"\n",
      "Warning message in ridge_pred - t.y:\n",
      "\"longer object length is not a multiple of shorter object length\"\n",
      "Warning message in ridge_pred - tr.y:\n",
      "\"longer object length is not a multiple of shorter object length\"\n",
      "Warning message in ridge_pred - t.y:\n",
      "\"longer object length is not a multiple of shorter object length\"\n",
      "Warning message in ridge_pred - tr.y:\n",
      "\"longer object length is not a multiple of shorter object length\"\n",
      "Warning message in ridge_pred - t.y:\n",
      "\"longer object length is not a multiple of shorter object length\"\n",
      "Warning message in ridge_pred - tr.y:\n",
      "\"longer object length is not a multiple of shorter object length\"\n",
      "Warning message in ridge_pred - t.y:\n",
      "\"longer object length is not a multiple of shorter object length\"\n",
      "Warning message in ridge_pred - tr.y:\n",
      "\"longer object length is not a multiple of shorter object length\"\n",
      "Warning message in ridge_pred - t.y:\n",
      "\"longer object length is not a multiple of shorter object length\"\n",
      "Warning message in ridge_pred - tr.y:\n",
      "\"longer object length is not a multiple of shorter object length\"\n",
      "Warning message in ridge_pred - t.y:\n",
      "\"longer object length is not a multiple of shorter object length\"\n",
      "Warning message in ridge_pred - tr.y:\n",
      "\"longer object length is not a multiple of shorter object length\"\n",
      "Warning message in ridge_pred - t.y:\n",
      "\"longer object length is not a multiple of shorter object length\"\n",
      "Warning message in ridge_pred - tr.y:\n",
      "\"longer object length is not a multiple of shorter object length\"\n",
      "Warning message in ridge_pred - t.y:\n",
      "\"longer object length is not a multiple of shorter object length\"\n",
      "Warning message in ridge_pred - tr.y:\n",
      "\"longer object length is not a multiple of shorter object length\"\n",
      "Warning message in ridge_pred - t.y:\n",
      "\"longer object length is not a multiple of shorter object length\"\n",
      "Warning message in ridge_pred - tr.y:\n",
      "\"longer object length is not a multiple of shorter object length\"\n",
      "Warning message in ridge_pred - t.y:\n",
      "\"longer object length is not a multiple of shorter object length\"\n",
      "Warning message in ridge_pred - tr.y:\n",
      "\"longer object length is not a multiple of shorter object length\"\n",
      "Warning message in ridge_pred - t.y:\n",
      "\"longer object length is not a multiple of shorter object length\"\n",
      "Warning message in ridge_pred - tr.y:\n",
      "\"longer object length is not a multiple of shorter object length\"\n",
      "Warning message in ridge_pred - t.y:\n",
      "\"longer object length is not a multiple of shorter object length\"\n",
      "Warning message in ridge_pred - tr.y:\n",
      "\"longer object length is not a multiple of shorter object length\"\n",
      "Warning message in ridge_pred - t.y:\n",
      "\"longer object length is not a multiple of shorter object length\"\n",
      "Warning message in ridge_pred - tr.y:\n",
      "\"longer object length is not a multiple of shorter object length\"\n",
      "Warning message in ridge_pred - t.y:\n",
      "\"longer object length is not a multiple of shorter object length\"\n",
      "Warning message in ridge_pred - tr.y:\n",
      "\"longer object length is not a multiple of shorter object length\"\n",
      "Warning message in ridge_pred - t.y:\n",
      "\"longer object length is not a multiple of shorter object length\"\n",
      "Warning message in ridge_pred - tr.y:\n",
      "\"longer object length is not a multiple of shorter object length\"\n",
      "Warning message in ridge_pred - t.y:\n",
      "\"longer object length is not a multiple of shorter object length\"\n",
      "Warning message in ridge_pred - tr.y:\n",
      "\"longer object length is not a multiple of shorter object length\"\n",
      "Warning message in ridge_pred - t.y:\n",
      "\"longer object length is not a multiple of shorter object length\"\n",
      "Warning message in ridge_pred - tr.y:\n",
      "\"longer object length is not a multiple of shorter object length\"\n",
      "Warning message in ridge_pred - t.y:\n",
      "\"longer object length is not a multiple of shorter object length\"\n",
      "Warning message in ridge_pred - tr.y:\n",
      "\"longer object length is not a multiple of shorter object length\"\n",
      "Warning message in ridge_pred - t.y:\n",
      "\"longer object length is not a multiple of shorter object length\"\n",
      "Warning message in ridge_pred - tr.y:\n",
      "\"longer object length is not a multiple of shorter object length\"\n",
      "Warning message in ridge_pred - t.y:\n",
      "\"longer object length is not a multiple of shorter object length\"\n",
      "Warning message in ridge_pred - tr.y:\n",
      "\"longer object length is not a multiple of shorter object length\"\n",
      "Warning message in ridge_pred - t.y:\n",
      "\"longer object length is not a multiple of shorter object length\"\n",
      "Warning message in ridge_pred - tr.y:\n",
      "\"longer object length is not a multiple of shorter object length\"\n",
      "Warning message in ridge_pred - t.y:\n",
      "\"longer object length is not a multiple of shorter object length\"\n",
      "Warning message in ridge_pred - tr.y:\n",
      "\"longer object length is not a multiple of shorter object length\"\n",
      "Warning message in ridge_pred - t.y:\n",
      "\"longer object length is not a multiple of shorter object length\"\n",
      "Warning message in ridge_pred - tr.y:\n",
      "\"longer object length is not a multiple of shorter object length\"\n",
      "Warning message in ridge_pred - t.y:\n",
      "\"longer object length is not a multiple of shorter object length\"\n"
     ]
    },
    {
     "name": "stderr",
     "output_type": "stream",
     "text": [
      "Warning message in ridge_pred - tr.y:\n",
      "\"longer object length is not a multiple of shorter object length\"\n",
      "Warning message in ridge_pred - t.y:\n",
      "\"longer object length is not a multiple of shorter object length\"\n",
      "Warning message in ridge_pred - tr.y:\n",
      "\"longer object length is not a multiple of shorter object length\"\n",
      "Warning message in ridge_pred - t.y:\n",
      "\"longer object length is not a multiple of shorter object length\"\n",
      "Warning message in ridge_pred - tr.y:\n",
      "\"longer object length is not a multiple of shorter object length\"\n",
      "Warning message in ridge_pred - t.y:\n",
      "\"longer object length is not a multiple of shorter object length\"\n",
      "Warning message in ridge_pred - tr.y:\n",
      "\"longer object length is not a multiple of shorter object length\"\n",
      "Warning message in ridge_pred - t.y:\n",
      "\"longer object length is not a multiple of shorter object length\"\n",
      "Warning message in ridge_pred - tr.y:\n",
      "\"longer object length is not a multiple of shorter object length\"\n",
      "Warning message in ridge_pred - t.y:\n",
      "\"longer object length is not a multiple of shorter object length\"\n",
      "Warning message in ridge_pred - tr.y:\n",
      "\"longer object length is not a multiple of shorter object length\"\n",
      "Warning message in ridge_pred - t.y:\n",
      "\"longer object length is not a multiple of shorter object length\"\n",
      "Warning message in ridge_pred - tr.y:\n",
      "\"longer object length is not a multiple of shorter object length\"\n",
      "Warning message in ridge_pred - t.y:\n",
      "\"longer object length is not a multiple of shorter object length\"\n",
      "Warning message in ridge_pred - tr.y:\n",
      "\"longer object length is not a multiple of shorter object length\"\n",
      "Warning message in ridge_pred - t.y:\n",
      "\"longer object length is not a multiple of shorter object length\"\n",
      "Warning message in ridge_pred - tr.y:\n",
      "\"longer object length is not a multiple of shorter object length\"\n",
      "Warning message in ridge_pred - t.y:\n",
      "\"longer object length is not a multiple of shorter object length\"\n",
      "Warning message in ridge_pred - tr.y:\n",
      "\"longer object length is not a multiple of shorter object length\"\n",
      "Warning message in ridge_pred - t.y:\n",
      "\"longer object length is not a multiple of shorter object length\"\n",
      "Warning message in ridge_pred - tr.y:\n",
      "\"longer object length is not a multiple of shorter object length\"\n",
      "Warning message in ridge_pred - t.y:\n",
      "\"longer object length is not a multiple of shorter object length\"\n",
      "Warning message in ridge_pred - tr.y:\n",
      "\"longer object length is not a multiple of shorter object length\"\n",
      "Warning message in ridge_pred - t.y:\n",
      "\"longer object length is not a multiple of shorter object length\"\n",
      "Warning message in ridge_pred - tr.y:\n",
      "\"longer object length is not a multiple of shorter object length\"\n",
      "Warning message in ridge_pred - t.y:\n",
      "\"longer object length is not a multiple of shorter object length\"\n",
      "Warning message in ridge_pred - tr.y:\n",
      "\"longer object length is not a multiple of shorter object length\"\n",
      "Warning message in ridge_pred - t.y:\n",
      "\"longer object length is not a multiple of shorter object length\"\n",
      "Warning message in ridge_pred - t.y:\n",
      "\"longer object length is not a multiple of shorter object length\"\n",
      "Warning message in ridge_pred - tr.y:\n",
      "\"longer object length is not a multiple of shorter object length\"\n",
      "Warning message in ridge_pred - t.y:\n",
      "\"longer object length is not a multiple of shorter object length\"\n",
      "Warning message in ridge_pred - tr.y:\n",
      "\"longer object length is not a multiple of shorter object length\"\n",
      "Warning message in ridge_pred - tr.y:\n",
      "\"longer object length is not a multiple of shorter object length\"\n",
      "Warning message in ridge_pred - t.y:\n",
      "\"longer object length is not a multiple of shorter object length\"\n",
      "Warning message in ridge_pred - tr.y:\n",
      "\"longer object length is not a multiple of shorter object length\"\n",
      "Warning message in ridge_pred - t.y:\n",
      "\"longer object length is not a multiple of shorter object length\"\n",
      "Warning message in ridge_pred - tr.y:\n",
      "\"longer object length is not a multiple of shorter object length\"\n",
      "Warning message in ridge_pred - t.y:\n",
      "\"longer object length is not a multiple of shorter object length\"\n",
      "Warning message in ridge_pred - tr.y:\n",
      "\"longer object length is not a multiple of shorter object length\"\n",
      "Warning message in ridge_pred - t.y:\n",
      "\"longer object length is not a multiple of shorter object length\"\n",
      "Warning message in ridge_pred - tr.y:\n",
      "\"longer object length is not a multiple of shorter object length\"\n",
      "Warning message in ridge_pred - t.y:\n",
      "\"longer object length is not a multiple of shorter object length\"\n",
      "Warning message in ridge_pred - tr.y:\n",
      "\"longer object length is not a multiple of shorter object length\"\n",
      "Warning message in ridge_pred - t.y:\n",
      "\"longer object length is not a multiple of shorter object length\"\n",
      "Warning message in ridge_pred - tr.y:\n",
      "\"longer object length is not a multiple of shorter object length\"\n",
      "Warning message in ridge_pred - t.y:\n",
      "\"longer object length is not a multiple of shorter object length\"\n",
      "Warning message in ridge_pred - tr.y:\n",
      "\"longer object length is not a multiple of shorter object length\"\n",
      "Warning message in ridge_pred - t.y:\n",
      "\"longer object length is not a multiple of shorter object length\"\n",
      "Warning message in ridge_pred - tr.y:\n",
      "\"longer object length is not a multiple of shorter object length\"\n",
      "Warning message in ridge_pred - t.y:\n",
      "\"longer object length is not a multiple of shorter object length\"\n",
      "Warning message in ridge_pred - tr.y:\n",
      "\"longer object length is not a multiple of shorter object length\"\n",
      "Warning message in ridge_pred - t.y:\n",
      "\"longer object length is not a multiple of shorter object length\"\n",
      "Warning message in ridge_pred - tr.y:\n",
      "\"longer object length is not a multiple of shorter object length\"\n",
      "Warning message in ridge_pred - t.y:\n",
      "\"longer object length is not a multiple of shorter object length\"\n",
      "Warning message in ridge_pred - tr.y:\n",
      "\"longer object length is not a multiple of shorter object length\"\n",
      "Warning message in ridge_pred - t.y:\n",
      "\"longer object length is not a multiple of shorter object length\"\n",
      "Warning message in ridge_pred - tr.y:\n",
      "\"longer object length is not a multiple of shorter object length\"\n",
      "Warning message in ridge_pred - t.y:\n",
      "\"longer object length is not a multiple of shorter object length\"\n",
      "Warning message in ridge_pred - tr.y:\n",
      "\"longer object length is not a multiple of shorter object length\"\n",
      "Warning message in ridge_pred - t.y:\n",
      "\"longer object length is not a multiple of shorter object length\"\n",
      "Warning message in ridge_pred - tr.y:\n",
      "\"longer object length is not a multiple of shorter object length\"\n",
      "Warning message in ridge_pred - t.y:\n",
      "\"longer object length is not a multiple of shorter object length\"\n",
      "Warning message in ridge_pred - tr.y:\n",
      "\"longer object length is not a multiple of shorter object length\"\n",
      "Warning message in ridge_pred - t.y:\n",
      "\"longer object length is not a multiple of shorter object length\"\n",
      "Warning message in ridge_pred - tr.y:\n",
      "\"longer object length is not a multiple of shorter object length\"\n",
      "Warning message in ridge_pred - t.y:\n",
      "\"longer object length is not a multiple of shorter object length\"\n",
      "Warning message in ridge_pred - tr.y:\n",
      "\"longer object length is not a multiple of shorter object length\"\n",
      "Warning message in ridge_pred - t.y:\n",
      "\"longer object length is not a multiple of shorter object length\"\n",
      "Warning message in ridge_pred - tr.y:\n",
      "\"longer object length is not a multiple of shorter object length\"\n",
      "Warning message in ridge_pred - t.y:\n",
      "\"longer object length is not a multiple of shorter object length\"\n",
      "Warning message in ridge_pred - tr.y:\n",
      "\"longer object length is not a multiple of shorter object length\"\n",
      "Warning message in ridge_pred - t.y:\n",
      "\"longer object length is not a multiple of shorter object length\"\n",
      "Warning message in ridge_pred - tr.y:\n",
      "\"longer object length is not a multiple of shorter object length\"\n",
      "Warning message in ridge_pred - t.y:\n",
      "\"longer object length is not a multiple of shorter object length\"\n",
      "Warning message in ridge_pred - tr.y:\n",
      "\"longer object length is not a multiple of shorter object length\"\n",
      "Warning message in ridge_pred - t.y:\n",
      "\"longer object length is not a multiple of shorter object length\"\n",
      "Warning message in ridge_pred - tr.y:\n",
      "\"longer object length is not a multiple of shorter object length\"\n",
      "Warning message in ridge_pred - t.y:\n",
      "\"longer object length is not a multiple of shorter object length\"\n",
      "Warning message in ridge_pred - tr.y:\n",
      "\"longer object length is not a multiple of shorter object length\"\n",
      "Warning message in ridge_pred - t.y:\n",
      "\"longer object length is not a multiple of shorter object length\"\n"
     ]
    },
    {
     "name": "stderr",
     "output_type": "stream",
     "text": [
      "Warning message in ridge_pred - tr.y:\n",
      "\"longer object length is not a multiple of shorter object length\"\n",
      "Warning message in ridge_pred - t.y:\n",
      "\"longer object length is not a multiple of shorter object length\"\n",
      "Warning message in ridge_pred - tr.y:\n",
      "\"longer object length is not a multiple of shorter object length\"\n",
      "Warning message in ridge_pred - t.y:\n",
      "\"longer object length is not a multiple of shorter object length\"\n",
      "Warning message in ridge_pred - tr.y:\n",
      "\"longer object length is not a multiple of shorter object length\"\n",
      "Warning message in ridge_pred - t.y:\n",
      "\"longer object length is not a multiple of shorter object length\"\n",
      "Warning message in ridge_pred - tr.y:\n",
      "\"longer object length is not a multiple of shorter object length\"\n",
      "Warning message in ridge_pred - t.y:\n",
      "\"longer object length is not a multiple of shorter object length\"\n",
      "Warning message in ridge_pred - tr.y:\n",
      "\"longer object length is not a multiple of shorter object length\"\n",
      "Warning message in ridge_pred - t.y:\n",
      "\"longer object length is not a multiple of shorter object length\"\n",
      "Warning message in ridge_pred - tr.y:\n",
      "\"longer object length is not a multiple of shorter object length\"\n",
      "Warning message in ridge_pred - t.y:\n",
      "\"longer object length is not a multiple of shorter object length\"\n",
      "Warning message in ridge_pred - tr.y:\n",
      "\"longer object length is not a multiple of shorter object length\"\n",
      "Warning message in ridge_pred - t.y:\n",
      "\"longer object length is not a multiple of shorter object length\"\n",
      "Warning message in ridge_pred - tr.y:\n",
      "\"longer object length is not a multiple of shorter object length\"\n",
      "Warning message in ridge_pred - t.y:\n",
      "\"longer object length is not a multiple of shorter object length\"\n",
      "Warning message in ridge_pred - tr.y:\n",
      "\"longer object length is not a multiple of shorter object length\"\n",
      "Warning message in ridge_pred - t.y:\n",
      "\"longer object length is not a multiple of shorter object length\"\n",
      "Warning message in ridge_pred - tr.y:\n",
      "\"longer object length is not a multiple of shorter object length\"\n",
      "Warning message in ridge_pred - t.y:\n",
      "\"longer object length is not a multiple of shorter object length\"\n",
      "Warning message in ridge_pred - tr.y:\n",
      "\"longer object length is not a multiple of shorter object length\"\n",
      "Warning message in ridge_pred - t.y:\n",
      "\"longer object length is not a multiple of shorter object length\"\n",
      "Warning message in ridge_pred - tr.y:\n",
      "\"longer object length is not a multiple of shorter object length\"\n",
      "Warning message in ridge_pred - t.y:\n",
      "\"longer object length is not a multiple of shorter object length\"\n",
      "Warning message in ridge_pred - tr.y:\n",
      "\"longer object length is not a multiple of shorter object length\"\n",
      "Warning message in ridge_pred - t.y:\n",
      "\"longer object length is not a multiple of shorter object length\"\n",
      "Warning message in ridge_pred - tr.y:\n",
      "\"longer object length is not a multiple of shorter object length\"\n",
      "Warning message in ridge_pred - t.y:\n",
      "\"longer object length is not a multiple of shorter object length\"\n",
      "Warning message in ridge_pred - tr.y:\n",
      "\"longer object length is not a multiple of shorter object length\"\n",
      "Warning message in ridge_pred - t.y:\n",
      "\"longer object length is not a multiple of shorter object length\"\n",
      "Warning message in ridge_pred - tr.y:\n",
      "\"longer object length is not a multiple of shorter object length\"\n",
      "Warning message in ridge_pred - t.y:\n",
      "\"longer object length is not a multiple of shorter object length\"\n",
      "Warning message in ridge_pred - tr.y:\n",
      "\"longer object length is not a multiple of shorter object length\"\n",
      "Warning message in ridge_pred - t.y:\n",
      "\"longer object length is not a multiple of shorter object length\"\n",
      "Warning message in ridge_pred - tr.y:\n",
      "\"longer object length is not a multiple of shorter object length\"\n",
      "Warning message in ridge_pred - t.y:\n",
      "\"longer object length is not a multiple of shorter object length\"\n",
      "Warning message in ridge_pred - tr.y:\n",
      "\"longer object length is not a multiple of shorter object length\"\n",
      "Warning message in ridge_pred - t.y:\n",
      "\"longer object length is not a multiple of shorter object length\"\n",
      "Warning message in ridge_pred - tr.y:\n",
      "\"longer object length is not a multiple of shorter object length\"\n",
      "Warning message in ridge_pred - t.y:\n",
      "\"longer object length is not a multiple of shorter object length\"\n",
      "Warning message in ridge_pred - tr.y:\n",
      "\"longer object length is not a multiple of shorter object length\"\n",
      "Warning message in ridge_pred - t.y:\n",
      "\"longer object length is not a multiple of shorter object length\"\n",
      "Warning message in ridge_pred - tr.y:\n",
      "\"longer object length is not a multiple of shorter object length\"\n",
      "Warning message in ridge_pred - t.y:\n",
      "\"longer object length is not a multiple of shorter object length\"\n",
      "Warning message in ridge_pred - tr.y:\n",
      "\"longer object length is not a multiple of shorter object length\"\n",
      "Warning message in ridge_pred - t.y:\n",
      "\"longer object length is not a multiple of shorter object length\"\n",
      "Warning message in ridge_pred - t.y:\n",
      "\"longer object length is not a multiple of shorter object length\"\n"
     ]
    }
   ],
   "source": [
    "# Now do the variance-bias trade off analysis using ridge regression\n",
    "lambda=0.00005\n",
    "degree = seq(2,150)\n",
    "\n",
    "tr.x = train$x\n",
    "tr.y = train$y\n",
    "typeof(tr.x)\n",
    "#tr.x\n",
    "#poly(x, 3, raw = TRUE)\n",
    "#poly(y, 3, raw = TRUE)\n",
    "\n",
    "t.x = test$x\n",
    "t.y = test$y\n",
    "\n",
    "rm(train_rss, test_rss)\n",
    "train_rss = matrix(data=NA,nrow=length(degree),ncol=1)\n",
    "test_rss = matrix(data=NA,nrow=length(degree),ncol=1)\n",
    "\n",
    "for (k in degree) {\n",
    "    # WRITE YOUR CODE HERE\n",
    "    ridge.mod = glmnet(poly(tr.x, k, raw = TRUE), tr.y, alpha=0, lambda=0.00005)\n",
    "    ridge_pred  <- predict(ridge.mod, s=0.00005, type=\"coefficients\")[1:k,]\n",
    "    \n",
    "    mse_train  <- mean((ridge_pred - tr.y)^2) #train MSE?\n",
    "    mse_test  <- mean((ridge_pred - t.y)^2) #test MSE?\n",
    "    \n",
    "    #print\n",
    "    \n",
    "    train_rss[k-1, 1] = mse_train\n",
    "    test_rss[k-1, 1] = mse_test\n",
    "}\n",
    "\n",
    "# Plot your results here\n",
    "# WRITE YOUR CODE HERE\n"
   ]
  },
  {
   "cell_type": "code",
   "execution_count": 101,
   "metadata": {},
   "outputs": [
    {
     "name": "stderr",
     "output_type": "stream",
     "text": [
      "Warning message in ridge_pred - t.y:\n",
      "\"longer object length is not a multiple of shorter object length\"\n"
     ]
    },
    {
     "data": {
      "text/html": [
       "2.21515809347067"
      ],
      "text/latex": [
       "2.21515809347067"
      ],
      "text/markdown": [
       "2.21515809347067"
      ],
      "text/plain": [
       "[1] 2.215158"
      ]
     },
     "metadata": {},
     "output_type": "display_data"
    },
    {
     "data": {
      "text/html": [
       "<table class=\"dataframe\">\n",
       "<caption>A matrix: 149 × 1 of type dbl</caption>\n",
       "<tbody>\n",
       "\t<tr><td>1.092311</td></tr>\n",
       "\t<tr><td>1.010770</td></tr>\n",
       "\t<tr><td>1.412427</td></tr>\n",
       "\t<tr><td>1.326422</td></tr>\n",
       "\t<tr><td>1.251140</td></tr>\n",
       "\t<tr><td>1.270938</td></tr>\n",
       "\t<tr><td>1.608938</td></tr>\n",
       "\t<tr><td>1.394848</td></tr>\n",
       "\t<tr><td>1.509627</td></tr>\n",
       "\t<tr><td>1.397192</td></tr>\n",
       "\t<tr><td>1.417529</td></tr>\n",
       "\t<tr><td>1.399611</td></tr>\n",
       "\t<tr><td>1.320172</td></tr>\n",
       "\t<tr><td>1.504458</td></tr>\n",
       "\t<tr><td>1.519552</td></tr>\n",
       "\t<tr><td>1.497186</td></tr>\n",
       "\t<tr><td>1.433665</td></tr>\n",
       "\t<tr><td>1.440874</td></tr>\n",
       "\t<tr><td>1.535498</td></tr>\n",
       "\t<tr><td>1.411579</td></tr>\n",
       "\t<tr><td>1.506531</td></tr>\n",
       "\t<tr><td>1.472295</td></tr>\n",
       "\t<tr><td>1.535998</td></tr>\n",
       "\t<tr><td>1.513948</td></tr>\n",
       "\t<tr><td>1.488988</td></tr>\n",
       "\t<tr><td>1.514506</td></tr>\n",
       "\t<tr><td>1.514921</td></tr>\n",
       "\t<tr><td>1.476430</td></tr>\n",
       "\t<tr><td>1.492324</td></tr>\n",
       "\t<tr><td>1.578104</td></tr>\n",
       "\t<tr><td>⋮</td></tr>\n",
       "\t<tr><td>1.474174</td></tr>\n",
       "\t<tr><td>1.462464</td></tr>\n",
       "\t<tr><td>1.470189</td></tr>\n",
       "\t<tr><td>1.465147</td></tr>\n",
       "\t<tr><td>1.456308</td></tr>\n",
       "\t<tr><td>1.445116</td></tr>\n",
       "\t<tr><td>1.437275</td></tr>\n",
       "\t<tr><td>1.426646</td></tr>\n",
       "\t<tr><td>1.416027</td></tr>\n",
       "\t<tr><td>1.409643</td></tr>\n",
       "\t<tr><td>1.402970</td></tr>\n",
       "\t<tr><td>1.396559</td></tr>\n",
       "\t<tr><td>1.397697</td></tr>\n",
       "\t<tr><td>1.432465</td></tr>\n",
       "\t<tr><td>1.424128</td></tr>\n",
       "\t<tr><td>1.432221</td></tr>\n",
       "\t<tr><td>1.445322</td></tr>\n",
       "\t<tr><td>1.437672</td></tr>\n",
       "\t<tr><td>1.440685</td></tr>\n",
       "\t<tr><td>1.459308</td></tr>\n",
       "\t<tr><td>1.450610</td></tr>\n",
       "\t<tr><td>1.440452</td></tr>\n",
       "\t<tr><td>1.475160</td></tr>\n",
       "\t<tr><td>1.468152</td></tr>\n",
       "\t<tr><td>1.460244</td></tr>\n",
       "\t<tr><td>1.461754</td></tr>\n",
       "\t<tr><td>1.456780</td></tr>\n",
       "\t<tr><td>1.463344</td></tr>\n",
       "\t<tr><td>1.462435</td></tr>\n",
       "\t<tr><td>1.455037</td></tr>\n",
       "</tbody>\n",
       "</table>\n"
      ],
      "text/latex": [
       "A matrix: 149 × 1 of type dbl\n",
       "\\begin{tabular}{l}\n",
       "\t 1.092311\\\\\n",
       "\t 1.010770\\\\\n",
       "\t 1.412427\\\\\n",
       "\t 1.326422\\\\\n",
       "\t 1.251140\\\\\n",
       "\t 1.270938\\\\\n",
       "\t 1.608938\\\\\n",
       "\t 1.394848\\\\\n",
       "\t 1.509627\\\\\n",
       "\t 1.397192\\\\\n",
       "\t 1.417529\\\\\n",
       "\t 1.399611\\\\\n",
       "\t 1.320172\\\\\n",
       "\t 1.504458\\\\\n",
       "\t 1.519552\\\\\n",
       "\t 1.497186\\\\\n",
       "\t 1.433665\\\\\n",
       "\t 1.440874\\\\\n",
       "\t 1.535498\\\\\n",
       "\t 1.411579\\\\\n",
       "\t 1.506531\\\\\n",
       "\t 1.472295\\\\\n",
       "\t 1.535998\\\\\n",
       "\t 1.513948\\\\\n",
       "\t 1.488988\\\\\n",
       "\t 1.514506\\\\\n",
       "\t 1.514921\\\\\n",
       "\t 1.476430\\\\\n",
       "\t 1.492324\\\\\n",
       "\t 1.578104\\\\\n",
       "\t ⋮\\\\\n",
       "\t 1.474174\\\\\n",
       "\t 1.462464\\\\\n",
       "\t 1.470189\\\\\n",
       "\t 1.465147\\\\\n",
       "\t 1.456308\\\\\n",
       "\t 1.445116\\\\\n",
       "\t 1.437275\\\\\n",
       "\t 1.426646\\\\\n",
       "\t 1.416027\\\\\n",
       "\t 1.409643\\\\\n",
       "\t 1.402970\\\\\n",
       "\t 1.396559\\\\\n",
       "\t 1.397697\\\\\n",
       "\t 1.432465\\\\\n",
       "\t 1.424128\\\\\n",
       "\t 1.432221\\\\\n",
       "\t 1.445322\\\\\n",
       "\t 1.437672\\\\\n",
       "\t 1.440685\\\\\n",
       "\t 1.459308\\\\\n",
       "\t 1.450610\\\\\n",
       "\t 1.440452\\\\\n",
       "\t 1.475160\\\\\n",
       "\t 1.468152\\\\\n",
       "\t 1.460244\\\\\n",
       "\t 1.461754\\\\\n",
       "\t 1.456780\\\\\n",
       "\t 1.463344\\\\\n",
       "\t 1.462435\\\\\n",
       "\t 1.455037\\\\\n",
       "\\end{tabular}\n"
      ],
      "text/markdown": [
       "\n",
       "A matrix: 149 × 1 of type dbl\n",
       "\n",
       "| 1.092311 |\n",
       "| 1.010770 |\n",
       "| 1.412427 |\n",
       "| 1.326422 |\n",
       "| 1.251140 |\n",
       "| 1.270938 |\n",
       "| 1.608938 |\n",
       "| 1.394848 |\n",
       "| 1.509627 |\n",
       "| 1.397192 |\n",
       "| 1.417529 |\n",
       "| 1.399611 |\n",
       "| 1.320172 |\n",
       "| 1.504458 |\n",
       "| 1.519552 |\n",
       "| 1.497186 |\n",
       "| 1.433665 |\n",
       "| 1.440874 |\n",
       "| 1.535498 |\n",
       "| 1.411579 |\n",
       "| 1.506531 |\n",
       "| 1.472295 |\n",
       "| 1.535998 |\n",
       "| 1.513948 |\n",
       "| 1.488988 |\n",
       "| 1.514506 |\n",
       "| 1.514921 |\n",
       "| 1.476430 |\n",
       "| 1.492324 |\n",
       "| 1.578104 |\n",
       "| ⋮ |\n",
       "| 1.474174 |\n",
       "| 1.462464 |\n",
       "| 1.470189 |\n",
       "| 1.465147 |\n",
       "| 1.456308 |\n",
       "| 1.445116 |\n",
       "| 1.437275 |\n",
       "| 1.426646 |\n",
       "| 1.416027 |\n",
       "| 1.409643 |\n",
       "| 1.402970 |\n",
       "| 1.396559 |\n",
       "| 1.397697 |\n",
       "| 1.432465 |\n",
       "| 1.424128 |\n",
       "| 1.432221 |\n",
       "| 1.445322 |\n",
       "| 1.437672 |\n",
       "| 1.440685 |\n",
       "| 1.459308 |\n",
       "| 1.450610 |\n",
       "| 1.440452 |\n",
       "| 1.475160 |\n",
       "| 1.468152 |\n",
       "| 1.460244 |\n",
       "| 1.461754 |\n",
       "| 1.456780 |\n",
       "| 1.463344 |\n",
       "| 1.462435 |\n",
       "| 1.455037 |\n",
       "\n"
      ],
      "text/plain": [
       "      [,1]    \n",
       " [1,] 1.092311\n",
       " [2,] 1.010770\n",
       " [3,] 1.412427\n",
       " [4,] 1.326422\n",
       " [5,] 1.251140\n",
       " [6,] 1.270938\n",
       " [7,] 1.608938\n",
       " [8,] 1.394848\n",
       " [9,] 1.509627\n",
       "[10,] 1.397192\n",
       "[11,] 1.417529\n",
       "[12,] 1.399611\n",
       "[13,] 1.320172\n",
       "[14,] 1.504458\n",
       "[15,] 1.519552\n",
       "[16,] 1.497186\n",
       "[17,] 1.433665\n",
       "[18,] 1.440874\n",
       "[19,] 1.535498\n",
       "[20,] 1.411579\n",
       "[21,] 1.506531\n",
       "[22,] 1.472295\n",
       "[23,] 1.535998\n",
       "[24,] 1.513948\n",
       "[25,] 1.488988\n",
       "[26,] 1.514506\n",
       "[27,] 1.514921\n",
       "[28,] 1.476430\n",
       "[29,] 1.492324\n",
       "[30,] 1.578104\n",
       "[31,] ⋮       \n",
       "[32,] 1.474174\n",
       "[33,] 1.462464\n",
       "[34,] 1.470189\n",
       "[35,] 1.465147\n",
       "[36,] 1.456308\n",
       "[37,] 1.445116\n",
       "[38,] 1.437275\n",
       "[39,] 1.426646\n",
       "[40,] 1.416027\n",
       "[41,] 1.409643\n",
       "[42,] 1.402970\n",
       "[43,] 1.396559\n",
       "[44,] 1.397697\n",
       "[45,] 1.432465\n",
       "[46,] 1.424128\n",
       "[47,] 1.432221\n",
       "[48,] 1.445322\n",
       "[49,] 1.437672\n",
       "[50,] 1.440685\n",
       "[51,] 1.459308\n",
       "[52,] 1.450610\n",
       "[53,] 1.440452\n",
       "[54,] 1.475160\n",
       "[55,] 1.468152\n",
       "[56,] 1.460244\n",
       "[57,] 1.461754\n",
       "[58,] 1.456780\n",
       "[59,] 1.463344\n",
       "[60,] 1.462435\n",
       "[61,] 1.455037"
      ]
     },
     "metadata": {},
     "output_type": "display_data"
    },
    {
     "data": {
      "image/png": "[encoded data removed]",
      "text/plain": [
       "plot without title"
      ]
     },
     "metadata": {
      "image/png": {
       "height": 420,
       "width": 420
      }
     },
     "output_type": "display_data"
    },
    {
     "data": {
      "image/png": "[encoded data removed]",
      "text/plain": [
       "plot without title"
      ]
     },
     "metadata": {
      "image/png": {
       "height": 420,
       "width": 420
      }
     },
     "output_type": "display_data"
    }
   ],
   "source": [
    "ridge.mod = glmnet(poly(tr.x, 50, raw = TRUE), tr.y, alpha=0, lambda=0.00005)\n",
    "ridge_pred  <- predict(ridge.mod, s=0.00005, type=\"coefficients\")[1:50,]\n",
    "mean_ridge  <- mean((ridge_pred - t.y)^2)\n",
    "mean_ridge\n",
    "train_rss[50, 1] = mean_ridge\n",
    "train_rss"
   ]
  },
  {
   "cell_type": "code",
   "execution_count": 102,
   "metadata": {},
   "outputs": [
    {
     "data": {
      "image/png": "[encoded data removed]",
      "text/plain": [
       "plot without title"
      ]
     },
     "metadata": {
      "image/png": {
       "height": 420,
       "width": 420
      }
     },
     "output_type": "display_data"
    },
    {
     "data": {
      "image/png": "[encoded data removed]",
      "text/plain": [
       "plot without title"
      ]
     },
     "metadata": {
      "image/png": {
       "height": 420,
       "width": 420
      }
     },
     "output_type": "display_data"
    }
   ],
   "source": [
    "plot(train_rss)\n",
    "plot(test_rss)"
   ]
  },
  {
   "cell_type": "markdown",
   "metadata": {
    "id": "5IF6tO_uBujo"
   },
   "source": [
    "What happens now when $k$ gets larger than $n$?\n",
    "\n",
    "> *Write your response here* \n",
    "> "
   ]
  },
  {
   "cell_type": "markdown",
   "metadata": {
    "id": "5zheO4rLBujo"
   },
   "source": [
    "---\n",
    "## 4. Reflection (2 points)"
   ]
  },
  {
   "cell_type": "markdown",
   "metadata": {
    "id": "T-65QvdnBujo"
   },
   "source": [
    "The simulations above should have shown that, when applying a regularization (i.e., a sparsity constraint), the behavior of the bias-variance tradeoff changes. Explain why this happens."
   ]
  },
  {
   "cell_type": "markdown",
   "metadata": {
    "id": "dkM1H1_WBujo"
   },
   "source": [
    "> *Write your response here* \n",
    "> It's following the distribution of that particular lambda."
   ]
  },
  {
   "cell_type": "markdown",
   "metadata": {
    "id": "ietUafKfBujo"
   },
   "source": [
    "--- \n",
    "## Bonus (1 extra credit point)\n",
    "Recall that the $p=n$ threshold defines the limit for finding a *unique* solution to $Y=F(X)$ (i.e., there is only one combination of regression coefficients that is *best* at explaining variance in $Y$). With this in mind, what is regularization doing that works around this upper limit?"
   ]
  },
  {
   "cell_type": "markdown",
   "metadata": {
    "id": "eo5eCrpuBujp"
   },
   "source": [
    "> *Write your response here* \n",
    "> "
   ]
  },
  {
   "cell_type": "markdown",
   "metadata": {
    "id": "HmcAxEQCBujp"
   },
   "source": [
    "**DUE:** 5pm EST, April 12, 2023"
   ]
  },
  {
   "cell_type": "markdown",
   "metadata": {
    "id": "hYdsoRobBujp"
   },
   "source": [
    "**IMPORTANT** Did you collaborate with anyone on this assignment? If so, list their names here. \n",
    "> *Someone's Name*"
   ]
  }
 ],
 "metadata": {
  "colab": {
   "provenance": []
  },
  "kernelspec": {
   "display_name": "R",
   "language": "R",
   "name": "ir"
  },
  "language_info": {
   "codemirror_mode": "r",
   "file_extension": ".r",
   "mimetype": "text/x-r-source",
   "name": "R",
   "pygments_lexer": "r",
   "version": "4.2.2"
  }
 },
 "nbformat": 4,
 "nbformat_minor": 1
}
