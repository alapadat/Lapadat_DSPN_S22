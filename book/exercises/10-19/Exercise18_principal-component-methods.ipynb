{
 "cells": [
  {
   "cell_type": "markdown",
   "metadata": {
    "id": "X0-Q9NYTBujb"
   },
   "source": [
    "# Exercise 18: Principal component methods\n",
    "\n",
    "This homework assignment is designed to give you an intuition on principal component approaches to understanding high dimensional statistical relationships.\n",
    "\n",
    "Like earlier homework, you will need to download the **unrestricted_trimmed_1_7_2020_10_50_44.csv** file from the *Homework/hcp_data* folder in the class GitHub repository. \n",
    "\n",
    "This data is a portion of the [Human Connectome Project database](http://www.humanconnectomeproject.org/). It provides measures of cognitive tasks and brain morphology measuresments from 1206 participants. The full description of each variable is provided in the **HCP_S1200_DataDictionary_April_20_2018.csv** file in the *Homework/hcp_data* folder in the class GitHub repository."
   ]
  },
  {
   "cell_type": "markdown",
   "metadata": {
    "id": "bODln6rvBujd"
   },
   "source": [
    "---\n",
    "## 1. Loading data (1 point)"
   ]
  },
  {
   "cell_type": "markdown",
   "metadata": {
    "id": "sezRLzgHBuje"
   },
   "source": [
    "We are going to look for low dimensional relationships between brain volume measures and working memory capacity.\n",
    "\n",
    "First, we will need to load the `pls`, `tidyverse`, and `ggplot2` libraries for this assignment. \n"
   ]
  },
  {
   "cell_type": "code",
   "execution_count": 2,
   "metadata": {
    "id": "LVJwea2rBujf",
    "vscode": {
     "languageId": "r"
    }
   },
   "outputs": [
    {
     "name": "stderr",
     "output_type": "stream",
     "text": [
      "Installing package into 'C:/Users/roman/AppData/Local/R/win-library/4.2'\n",
      "(as 'lib' is unspecified)\n",
      "\n"
     ]
    },
    {
     "name": "stdout",
     "output_type": "stream",
     "text": [
      "package 'pls' successfully unpacked and MD5 sums checked\n",
      "\n",
      "The downloaded binary packages are in\n",
      "\tC:\\Users\\roman\\AppData\\Local\\Temp\\RtmpOKE12q\\downloaded_packages\n"
     ]
    },
    {
     "name": "stderr",
     "output_type": "stream",
     "text": [
      "Warning message:\n",
      "\"package 'pls' was built under R version 4.2.3\"\n",
      "\n",
      "Attaching package: 'pls'\n",
      "\n",
      "\n",
      "The following object is masked from 'package:stats':\n",
      "\n",
      "    loadings\n",
      "\n",
      "\n",
      "── \u001b[1mAttaching packages\u001b[22m ─────────────────────────────────────────────────────────────────────────────── tidyverse 1.3.2 ──\n",
      "\u001b[32m✔\u001b[39m \u001b[34mggplot2\u001b[39m 3.4.1     \u001b[32m✔\u001b[39m \u001b[34mpurrr  \u001b[39m 1.0.1\n",
      "\u001b[32m✔\u001b[39m \u001b[34mtibble \u001b[39m 3.1.8     \u001b[32m✔\u001b[39m \u001b[34mdplyr  \u001b[39m 1.1.0\n",
      "\u001b[32m✔\u001b[39m \u001b[34mtidyr  \u001b[39m 1.3.0     \u001b[32m✔\u001b[39m \u001b[34mstringr\u001b[39m 1.5.0\n",
      "\u001b[32m✔\u001b[39m \u001b[34mreadr  \u001b[39m 2.1.4     \u001b[32m✔\u001b[39m \u001b[34mforcats\u001b[39m 1.0.0\n",
      "── \u001b[1mConflicts\u001b[22m ────────────────────────────────────────────────────────────────────────────────── tidyverse_conflicts() ──\n",
      "\u001b[31m✖\u001b[39m \u001b[34mdplyr\u001b[39m::\u001b[32mfilter()\u001b[39m masks \u001b[34mstats\u001b[39m::filter()\n",
      "\u001b[31m✖\u001b[39m \u001b[34mdplyr\u001b[39m::\u001b[32mlag()\u001b[39m    masks \u001b[34mstats\u001b[39m::lag()\n"
     ]
    }
   ],
   "source": [
    "#Install Previously-Uninstalled Package\n",
    "install.packages(\"pls\")\n",
    "\n",
    "#Load Libraries\n",
    "library(pls)\n",
    "library(tidyverse)\n",
    "library(ggplot2)"
   ]
  },
  {
   "cell_type": "markdown",
   "metadata": {
    "id": "mXwMchX7Bujf"
   },
   "source": [
    "Use `read.csv` function to load data from the **unrestricted_trimmed_1_7_2020_10_50_44.csv** file in the **hcp_data** folder. \n",
    "\n",
    "(a) Using the tidyverse tools, make a new dataframe `d1` that only includes the Flanker Task performance (`Flanker_Unadj`) and *all* freesurfer **volume** measures for the right and left hemispheres together. Remove both \"na's\" and any columns that consist of only zeros.\n",
    "\n",
    "Hint: Look up using the `ends_with` function to only select variables that end with \"_Vol\"\n",
    "\n",
    "Use the `head` function to look at the first few rows of each data frame. "
   ]
  },
  {
   "cell_type": "code",
   "execution_count": 28,
   "metadata": {
    "id": "BeK03Sx7Bujg",
    "vscode": {
     "languageId": "r"
    }
   },
   "outputs": [
    {
     "data": {
      "text/html": [
       "'x x x'"
      ],
      "text/latex": [
       "'x x x'"
      ],
      "text/markdown": [
       "'x x x'"
      ],
      "text/plain": [
       "[1] \"x x x\""
      ]
     },
     "metadata": {},
     "output_type": "display_data"
    },
    {
     "data": {
      "text/html": [
       "'Head: Unrestricted_Trimmed'"
      ],
      "text/latex": [
       "'Head: Unrestricted\\_Trimmed'"
      ],
      "text/markdown": [
       "'Head: Unrestricted_Trimmed'"
      ],
      "text/plain": [
       "[1] \"Head: Unrestricted_Trimmed\""
      ]
     },
     "metadata": {},
     "output_type": "display_data"
    },
    {
     "data": {
      "text/html": [
       "<table class=\"dataframe\">\n",
       "<caption>A data.frame: 6 × 500</caption>\n",
       "<thead>\n",
       "\t<tr><th></th><th scope=col>Subject</th><th scope=col>Release</th><th scope=col>Acquisition</th><th scope=col>Gender</th><th scope=col>Age</th><th scope=col>MMSE_Score</th><th scope=col>PSQI_Score</th><th scope=col>PSQI_Comp1</th><th scope=col>PSQI_Comp2</th><th scope=col>PSQI_Comp3</th><th scope=col>⋯</th><th scope=col>Noise_Comp</th><th scope=col>Odor_Unadj</th><th scope=col>Odor_AgeAdj</th><th scope=col>PainIntens_RawScore</th><th scope=col>PainInterf_Tscore</th><th scope=col>Taste_Unadj</th><th scope=col>Taste_AgeAdj</th><th scope=col>Mars_Log_Score</th><th scope=col>Mars_Errs</th><th scope=col>Mars_Final</th></tr>\n",
       "\t<tr><th></th><th scope=col>&lt;int&gt;</th><th scope=col>&lt;chr&gt;</th><th scope=col>&lt;chr&gt;</th><th scope=col>&lt;chr&gt;</th><th scope=col>&lt;chr&gt;</th><th scope=col>&lt;int&gt;</th><th scope=col>&lt;int&gt;</th><th scope=col>&lt;int&gt;</th><th scope=col>&lt;int&gt;</th><th scope=col>&lt;int&gt;</th><th scope=col>⋯</th><th scope=col>&lt;dbl&gt;</th><th scope=col>&lt;dbl&gt;</th><th scope=col>&lt;dbl&gt;</th><th scope=col>&lt;int&gt;</th><th scope=col>&lt;dbl&gt;</th><th scope=col>&lt;dbl&gt;</th><th scope=col>&lt;dbl&gt;</th><th scope=col>&lt;dbl&gt;</th><th scope=col>&lt;int&gt;</th><th scope=col>&lt;dbl&gt;</th></tr>\n",
       "</thead>\n",
       "<tbody>\n",
       "\t<tr><th scope=row>1</th><td>100004</td><td>S900</td><td>Q06</td><td>M</td><td>22-25</td><td>29</td><td>8</td><td>1</td><td>2</td><td>2</td><td>⋯</td><td>5.2</td><td>101.12</td><td> 86.45</td><td>2</td><td>45.9</td><td>107.17</td><td>105.31</td><td>1.80</td><td>0</td><td>1.80</td></tr>\n",
       "\t<tr><th scope=row>2</th><td>100206</td><td>S900</td><td>Q11</td><td>M</td><td>26-30</td><td>30</td><td>6</td><td>1</td><td>1</td><td>1</td><td>⋯</td><td>6.0</td><td>108.79</td><td> 97.19</td><td>1</td><td>49.7</td><td> 72.63</td><td> 72.03</td><td>1.84</td><td>0</td><td>1.84</td></tr>\n",
       "\t<tr><th scope=row>3</th><td>100307</td><td>Q1  </td><td>Q01</td><td>F</td><td>26-30</td><td>29</td><td>4</td><td>1</td><td>0</td><td>1</td><td>⋯</td><td>3.6</td><td>101.12</td><td> 86.45</td><td>0</td><td>38.6</td><td> 71.69</td><td> 71.76</td><td>1.76</td><td>0</td><td>1.76</td></tr>\n",
       "\t<tr><th scope=row>4</th><td>100408</td><td>Q3  </td><td>Q03</td><td>M</td><td>31-35</td><td>30</td><td>4</td><td>1</td><td>1</td><td>0</td><td>⋯</td><td>2.0</td><td>108.79</td><td> 98.04</td><td>2</td><td>52.6</td><td>114.01</td><td>113.59</td><td>1.76</td><td>2</td><td>1.68</td></tr>\n",
       "\t<tr><th scope=row>5</th><td>100610</td><td>S900</td><td>Q08</td><td>M</td><td>26-30</td><td>30</td><td>4</td><td>1</td><td>1</td><td>0</td><td>⋯</td><td>2.0</td><td>122.25</td><td>110.45</td><td>0</td><td>38.6</td><td> 84.84</td><td> 85.31</td><td>1.92</td><td>1</td><td>1.88</td></tr>\n",
       "\t<tr><th scope=row>6</th><td>101006</td><td>S500</td><td>Q06</td><td>F</td><td>31-35</td><td>28</td><td>2</td><td>1</td><td>1</td><td>0</td><td>⋯</td><td>6.0</td><td>122.25</td><td>111.41</td><td>0</td><td>38.6</td><td>123.80</td><td>123.31</td><td>1.80</td><td>0</td><td>1.80</td></tr>\n",
       "</tbody>\n",
       "</table>\n"
      ],
      "text/latex": [
       "A data.frame: 6 × 500\n",
       "\\begin{tabular}{r|lllllllllllllllllllll}\n",
       "  & Subject & Release & Acquisition & Gender & Age & MMSE\\_Score & PSQI\\_Score & PSQI\\_Comp1 & PSQI\\_Comp2 & PSQI\\_Comp3 & ⋯ & Noise\\_Comp & Odor\\_Unadj & Odor\\_AgeAdj & PainIntens\\_RawScore & PainInterf\\_Tscore & Taste\\_Unadj & Taste\\_AgeAdj & Mars\\_Log\\_Score & Mars\\_Errs & Mars\\_Final\\\\\n",
       "  & <int> & <chr> & <chr> & <chr> & <chr> & <int> & <int> & <int> & <int> & <int> & ⋯ & <dbl> & <dbl> & <dbl> & <int> & <dbl> & <dbl> & <dbl> & <dbl> & <int> & <dbl>\\\\\n",
       "\\hline\n",
       "\t1 & 100004 & S900 & Q06 & M & 22-25 & 29 & 8 & 1 & 2 & 2 & ⋯ & 5.2 & 101.12 &  86.45 & 2 & 45.9 & 107.17 & 105.31 & 1.80 & 0 & 1.80\\\\\n",
       "\t2 & 100206 & S900 & Q11 & M & 26-30 & 30 & 6 & 1 & 1 & 1 & ⋯ & 6.0 & 108.79 &  97.19 & 1 & 49.7 &  72.63 &  72.03 & 1.84 & 0 & 1.84\\\\\n",
       "\t3 & 100307 & Q1   & Q01 & F & 26-30 & 29 & 4 & 1 & 0 & 1 & ⋯ & 3.6 & 101.12 &  86.45 & 0 & 38.6 &  71.69 &  71.76 & 1.76 & 0 & 1.76\\\\\n",
       "\t4 & 100408 & Q3   & Q03 & M & 31-35 & 30 & 4 & 1 & 1 & 0 & ⋯ & 2.0 & 108.79 &  98.04 & 2 & 52.6 & 114.01 & 113.59 & 1.76 & 2 & 1.68\\\\\n",
       "\t5 & 100610 & S900 & Q08 & M & 26-30 & 30 & 4 & 1 & 1 & 0 & ⋯ & 2.0 & 122.25 & 110.45 & 0 & 38.6 &  84.84 &  85.31 & 1.92 & 1 & 1.88\\\\\n",
       "\t6 & 101006 & S500 & Q06 & F & 31-35 & 28 & 2 & 1 & 1 & 0 & ⋯ & 6.0 & 122.25 & 111.41 & 0 & 38.6 & 123.80 & 123.31 & 1.80 & 0 & 1.80\\\\\n",
       "\\end{tabular}\n"
      ],
      "text/markdown": [
       "\n",
       "A data.frame: 6 × 500\n",
       "\n",
       "| <!--/--> | Subject &lt;int&gt; | Release &lt;chr&gt; | Acquisition &lt;chr&gt; | Gender &lt;chr&gt; | Age &lt;chr&gt; | MMSE_Score &lt;int&gt; | PSQI_Score &lt;int&gt; | PSQI_Comp1 &lt;int&gt; | PSQI_Comp2 &lt;int&gt; | PSQI_Comp3 &lt;int&gt; | ⋯ ⋯ | Noise_Comp &lt;dbl&gt; | Odor_Unadj &lt;dbl&gt; | Odor_AgeAdj &lt;dbl&gt; | PainIntens_RawScore &lt;int&gt; | PainInterf_Tscore &lt;dbl&gt; | Taste_Unadj &lt;dbl&gt; | Taste_AgeAdj &lt;dbl&gt; | Mars_Log_Score &lt;dbl&gt; | Mars_Errs &lt;int&gt; | Mars_Final &lt;dbl&gt; |\n",
       "|---|---|---|---|---|---|---|---|---|---|---|---|---|---|---|---|---|---|---|---|---|---|\n",
       "| 1 | 100004 | S900 | Q06 | M | 22-25 | 29 | 8 | 1 | 2 | 2 | ⋯ | 5.2 | 101.12 |  86.45 | 2 | 45.9 | 107.17 | 105.31 | 1.80 | 0 | 1.80 |\n",
       "| 2 | 100206 | S900 | Q11 | M | 26-30 | 30 | 6 | 1 | 1 | 1 | ⋯ | 6.0 | 108.79 |  97.19 | 1 | 49.7 |  72.63 |  72.03 | 1.84 | 0 | 1.84 |\n",
       "| 3 | 100307 | Q1   | Q01 | F | 26-30 | 29 | 4 | 1 | 0 | 1 | ⋯ | 3.6 | 101.12 |  86.45 | 0 | 38.6 |  71.69 |  71.76 | 1.76 | 0 | 1.76 |\n",
       "| 4 | 100408 | Q3   | Q03 | M | 31-35 | 30 | 4 | 1 | 1 | 0 | ⋯ | 2.0 | 108.79 |  98.04 | 2 | 52.6 | 114.01 | 113.59 | 1.76 | 2 | 1.68 |\n",
       "| 5 | 100610 | S900 | Q08 | M | 26-30 | 30 | 4 | 1 | 1 | 0 | ⋯ | 2.0 | 122.25 | 110.45 | 0 | 38.6 |  84.84 |  85.31 | 1.92 | 1 | 1.88 |\n",
       "| 6 | 101006 | S500 | Q06 | F | 31-35 | 28 | 2 | 1 | 1 | 0 | ⋯ | 6.0 | 122.25 | 111.41 | 0 | 38.6 | 123.80 | 123.31 | 1.80 | 0 | 1.80 |\n",
       "\n"
      ],
      "text/plain": [
       "  Subject Release Acquisition Gender Age   MMSE_Score PSQI_Score PSQI_Comp1\n",
       "1 100004  S900    Q06         M      22-25 29         8          1         \n",
       "2 100206  S900    Q11         M      26-30 30         6          1         \n",
       "3 100307  Q1      Q01         F      26-30 29         4          1         \n",
       "4 100408  Q3      Q03         M      31-35 30         4          1         \n",
       "5 100610  S900    Q08         M      26-30 30         4          1         \n",
       "6 101006  S500    Q06         F      31-35 28         2          1         \n",
       "  PSQI_Comp2 PSQI_Comp3 ⋯ Noise_Comp Odor_Unadj Odor_AgeAdj PainIntens_RawScore\n",
       "1 2          2          ⋯ 5.2        101.12      86.45      2                  \n",
       "2 1          1          ⋯ 6.0        108.79      97.19      1                  \n",
       "3 0          1          ⋯ 3.6        101.12      86.45      0                  \n",
       "4 1          0          ⋯ 2.0        108.79      98.04      2                  \n",
       "5 1          0          ⋯ 2.0        122.25     110.45      0                  \n",
       "6 1          0          ⋯ 6.0        122.25     111.41      0                  \n",
       "  PainInterf_Tscore Taste_Unadj Taste_AgeAdj Mars_Log_Score Mars_Errs\n",
       "1 45.9              107.17      105.31       1.80           0        \n",
       "2 49.7               72.63       72.03       1.84           0        \n",
       "3 38.6               71.69       71.76       1.76           0        \n",
       "4 52.6              114.01      113.59       1.76           2        \n",
       "5 38.6               84.84       85.31       1.92           1        \n",
       "6 38.6              123.80      123.31       1.80           0        \n",
       "  Mars_Final\n",
       "1 1.80      \n",
       "2 1.84      \n",
       "3 1.76      \n",
       "4 1.68      \n",
       "5 1.88      \n",
       "6 1.80      "
      ]
     },
     "metadata": {},
     "output_type": "display_data"
    },
    {
     "data": {
      "text/html": [
       "'x x x'"
      ],
      "text/latex": [
       "'x x x'"
      ],
      "text/markdown": [
       "'x x x'"
      ],
      "text/plain": [
       "[1] \"x x x\""
      ]
     },
     "metadata": {},
     "output_type": "display_data"
    },
    {
     "data": {
      "text/html": [
       "'Head: d1'"
      ],
      "text/latex": [
       "'Head: d1'"
      ],
      "text/markdown": [
       "'Head: d1'"
      ],
      "text/plain": [
       "[1] \"Head: d1\""
      ]
     },
     "metadata": {},
     "output_type": "display_data"
    },
    {
     "data": {
      "text/html": [
       "<table class=\"dataframe\">\n",
       "<caption>A data.frame: 6 × 57</caption>\n",
       "<thead>\n",
       "\t<tr><th></th><th scope=col>Flanker_Unadj</th><th scope=col>FS_IntraCranial_Vol</th><th scope=col>FS_BrainSeg_Vol</th><th scope=col>FS_LCort_GM_Vol</th><th scope=col>FS_RCort_GM_Vol</th><th scope=col>FS_TotCort_GM_Vol</th><th scope=col>FS_SubCort_GM_Vol</th><th scope=col>FS_Total_GM_Vol</th><th scope=col>FS_SupraTentorial_Vol</th><th scope=col>FS_L_WM_Vol</th><th scope=col>⋯</th><th scope=col>FS_L_WM_Hypointens_Vol</th><th scope=col>FS_R_WM_Hypointens_Vol</th><th scope=col>FS_L_Non.WM_Hypointens_Vol</th><th scope=col>FS_R_Non.WM_Hypointens_Vol</th><th scope=col>FS_OpticChiasm_Vol</th><th scope=col>FS_CC_Posterior_Vol</th><th scope=col>FS_CC_MidPosterior_Vol</th><th scope=col>FS_CC_Central_Vol</th><th scope=col>FS_CC_MidAnterior_Vol</th><th scope=col>FS_CC_Anterior_Vol</th></tr>\n",
       "\t<tr><th></th><th scope=col>&lt;dbl&gt;</th><th scope=col>&lt;dbl&gt;</th><th scope=col>&lt;int&gt;</th><th scope=col>&lt;int&gt;</th><th scope=col>&lt;int&gt;</th><th scope=col>&lt;int&gt;</th><th scope=col>&lt;int&gt;</th><th scope=col>&lt;int&gt;</th><th scope=col>&lt;int&gt;</th><th scope=col>&lt;int&gt;</th><th scope=col>⋯</th><th scope=col>&lt;int&gt;</th><th scope=col>&lt;int&gt;</th><th scope=col>&lt;int&gt;</th><th scope=col>&lt;int&gt;</th><th scope=col>&lt;int&gt;</th><th scope=col>&lt;int&gt;</th><th scope=col>&lt;int&gt;</th><th scope=col>&lt;int&gt;</th><th scope=col>&lt;int&gt;</th><th scope=col>&lt;int&gt;</th></tr>\n",
       "</thead>\n",
       "<tbody>\n",
       "\t<tr><th scope=row>1</th><td>130.42</td><td>1864518</td><td>1406924</td><td>304488</td><td>305634</td><td>610122</td><td>70240</td><td>807245</td><td>1239692</td><td>269963</td><td>⋯</td><td>0</td><td>0</td><td>0</td><td>0</td><td>325</td><td> 800</td><td>409</td><td>569</td><td>522</td><td> 813</td></tr>\n",
       "\t<tr><th scope=row>2</th><td>112.56</td><td>1512540</td><td>1109710</td><td>240030</td><td>243207</td><td>483238</td><td>56623</td><td>664124</td><td> 957615</td><td>203472</td><td>⋯</td><td>0</td><td>0</td><td>0</td><td>0</td><td>195</td><td>1029</td><td>526</td><td>578</td><td>576</td><td> 649</td></tr>\n",
       "\t<tr><th scope=row>3</th><td>121.18</td><td>1684117</td><td>1280171</td><td>260695</td><td>265243</td><td>525938</td><td>63869</td><td>726206</td><td>1106881</td><td>247504</td><td>⋯</td><td>0</td><td>0</td><td>0</td><td>0</td><td>302</td><td> 972</td><td>589</td><td>528</td><td>471</td><td> 858</td></tr>\n",
       "\t<tr><th scope=row>4</th><td>126.53</td><td>1816044</td><td>1321362</td><td>276506</td><td>278002</td><td>554508</td><td>74869</td><td>762308</td><td>1155067</td><td>254742</td><td>⋯</td><td>0</td><td>0</td><td>0</td><td>0</td><td>296</td><td>1065</td><td>618</td><td>838</td><td>729</td><td>1072</td></tr>\n",
       "\t<tr><th scope=row>5</th><td>101.85</td><td>1437868</td><td>1053766</td><td>203718</td><td>210539</td><td>414257</td><td>58813</td><td>579632</td><td> 916973</td><td>213012</td><td>⋯</td><td>0</td><td>0</td><td>0</td><td>0</td><td>235</td><td>1057</td><td>591</td><td>538</td><td>430</td><td> 849</td></tr>\n",
       "\t<tr><th scope=row>6</th><td>107.04</td><td>1512727</td><td>1126655</td><td>242489</td><td>248807</td><td>491296</td><td>62092</td><td>665024</td><td> 984952</td><td>205342</td><td>⋯</td><td>0</td><td>0</td><td>0</td><td>0</td><td>258</td><td>1033</td><td>494</td><td>487</td><td>489</td><td> 992</td></tr>\n",
       "</tbody>\n",
       "</table>\n"
      ],
      "text/latex": [
       "A data.frame: 6 × 57\n",
       "\\begin{tabular}{r|lllllllllllllllllllll}\n",
       "  & Flanker\\_Unadj & FS\\_IntraCranial\\_Vol & FS\\_BrainSeg\\_Vol & FS\\_LCort\\_GM\\_Vol & FS\\_RCort\\_GM\\_Vol & FS\\_TotCort\\_GM\\_Vol & FS\\_SubCort\\_GM\\_Vol & FS\\_Total\\_GM\\_Vol & FS\\_SupraTentorial\\_Vol & FS\\_L\\_WM\\_Vol & ⋯ & FS\\_L\\_WM\\_Hypointens\\_Vol & FS\\_R\\_WM\\_Hypointens\\_Vol & FS\\_L\\_Non.WM\\_Hypointens\\_Vol & FS\\_R\\_Non.WM\\_Hypointens\\_Vol & FS\\_OpticChiasm\\_Vol & FS\\_CC\\_Posterior\\_Vol & FS\\_CC\\_MidPosterior\\_Vol & FS\\_CC\\_Central\\_Vol & FS\\_CC\\_MidAnterior\\_Vol & FS\\_CC\\_Anterior\\_Vol\\\\\n",
       "  & <dbl> & <dbl> & <int> & <int> & <int> & <int> & <int> & <int> & <int> & <int> & ⋯ & <int> & <int> & <int> & <int> & <int> & <int> & <int> & <int> & <int> & <int>\\\\\n",
       "\\hline\n",
       "\t1 & 130.42 & 1864518 & 1406924 & 304488 & 305634 & 610122 & 70240 & 807245 & 1239692 & 269963 & ⋯ & 0 & 0 & 0 & 0 & 325 &  800 & 409 & 569 & 522 &  813\\\\\n",
       "\t2 & 112.56 & 1512540 & 1109710 & 240030 & 243207 & 483238 & 56623 & 664124 &  957615 & 203472 & ⋯ & 0 & 0 & 0 & 0 & 195 & 1029 & 526 & 578 & 576 &  649\\\\\n",
       "\t3 & 121.18 & 1684117 & 1280171 & 260695 & 265243 & 525938 & 63869 & 726206 & 1106881 & 247504 & ⋯ & 0 & 0 & 0 & 0 & 302 &  972 & 589 & 528 & 471 &  858\\\\\n",
       "\t4 & 126.53 & 1816044 & 1321362 & 276506 & 278002 & 554508 & 74869 & 762308 & 1155067 & 254742 & ⋯ & 0 & 0 & 0 & 0 & 296 & 1065 & 618 & 838 & 729 & 1072\\\\\n",
       "\t5 & 101.85 & 1437868 & 1053766 & 203718 & 210539 & 414257 & 58813 & 579632 &  916973 & 213012 & ⋯ & 0 & 0 & 0 & 0 & 235 & 1057 & 591 & 538 & 430 &  849\\\\\n",
       "\t6 & 107.04 & 1512727 & 1126655 & 242489 & 248807 & 491296 & 62092 & 665024 &  984952 & 205342 & ⋯ & 0 & 0 & 0 & 0 & 258 & 1033 & 494 & 487 & 489 &  992\\\\\n",
       "\\end{tabular}\n"
      ],
      "text/markdown": [
       "\n",
       "A data.frame: 6 × 57\n",
       "\n",
       "| <!--/--> | Flanker_Unadj &lt;dbl&gt; | FS_IntraCranial_Vol &lt;dbl&gt; | FS_BrainSeg_Vol &lt;int&gt; | FS_LCort_GM_Vol &lt;int&gt; | FS_RCort_GM_Vol &lt;int&gt; | FS_TotCort_GM_Vol &lt;int&gt; | FS_SubCort_GM_Vol &lt;int&gt; | FS_Total_GM_Vol &lt;int&gt; | FS_SupraTentorial_Vol &lt;int&gt; | FS_L_WM_Vol &lt;int&gt; | ⋯ ⋯ | FS_L_WM_Hypointens_Vol &lt;int&gt; | FS_R_WM_Hypointens_Vol &lt;int&gt; | FS_L_Non.WM_Hypointens_Vol &lt;int&gt; | FS_R_Non.WM_Hypointens_Vol &lt;int&gt; | FS_OpticChiasm_Vol &lt;int&gt; | FS_CC_Posterior_Vol &lt;int&gt; | FS_CC_MidPosterior_Vol &lt;int&gt; | FS_CC_Central_Vol &lt;int&gt; | FS_CC_MidAnterior_Vol &lt;int&gt; | FS_CC_Anterior_Vol &lt;int&gt; |\n",
       "|---|---|---|---|---|---|---|---|---|---|---|---|---|---|---|---|---|---|---|---|---|---|\n",
       "| 1 | 130.42 | 1864518 | 1406924 | 304488 | 305634 | 610122 | 70240 | 807245 | 1239692 | 269963 | ⋯ | 0 | 0 | 0 | 0 | 325 |  800 | 409 | 569 | 522 |  813 |\n",
       "| 2 | 112.56 | 1512540 | 1109710 | 240030 | 243207 | 483238 | 56623 | 664124 |  957615 | 203472 | ⋯ | 0 | 0 | 0 | 0 | 195 | 1029 | 526 | 578 | 576 |  649 |\n",
       "| 3 | 121.18 | 1684117 | 1280171 | 260695 | 265243 | 525938 | 63869 | 726206 | 1106881 | 247504 | ⋯ | 0 | 0 | 0 | 0 | 302 |  972 | 589 | 528 | 471 |  858 |\n",
       "| 4 | 126.53 | 1816044 | 1321362 | 276506 | 278002 | 554508 | 74869 | 762308 | 1155067 | 254742 | ⋯ | 0 | 0 | 0 | 0 | 296 | 1065 | 618 | 838 | 729 | 1072 |\n",
       "| 5 | 101.85 | 1437868 | 1053766 | 203718 | 210539 | 414257 | 58813 | 579632 |  916973 | 213012 | ⋯ | 0 | 0 | 0 | 0 | 235 | 1057 | 591 | 538 | 430 |  849 |\n",
       "| 6 | 107.04 | 1512727 | 1126655 | 242489 | 248807 | 491296 | 62092 | 665024 |  984952 | 205342 | ⋯ | 0 | 0 | 0 | 0 | 258 | 1033 | 494 | 487 | 489 |  992 |\n",
       "\n"
      ],
      "text/plain": [
       "  Flanker_Unadj FS_IntraCranial_Vol FS_BrainSeg_Vol FS_LCort_GM_Vol\n",
       "1 130.42        1864518             1406924         304488         \n",
       "2 112.56        1512540             1109710         240030         \n",
       "3 121.18        1684117             1280171         260695         \n",
       "4 126.53        1816044             1321362         276506         \n",
       "5 101.85        1437868             1053766         203718         \n",
       "6 107.04        1512727             1126655         242489         \n",
       "  FS_RCort_GM_Vol FS_TotCort_GM_Vol FS_SubCort_GM_Vol FS_Total_GM_Vol\n",
       "1 305634          610122            70240             807245         \n",
       "2 243207          483238            56623             664124         \n",
       "3 265243          525938            63869             726206         \n",
       "4 278002          554508            74869             762308         \n",
       "5 210539          414257            58813             579632         \n",
       "6 248807          491296            62092             665024         \n",
       "  FS_SupraTentorial_Vol FS_L_WM_Vol ⋯ FS_L_WM_Hypointens_Vol\n",
       "1 1239692               269963      ⋯ 0                     \n",
       "2  957615               203472      ⋯ 0                     \n",
       "3 1106881               247504      ⋯ 0                     \n",
       "4 1155067               254742      ⋯ 0                     \n",
       "5  916973               213012      ⋯ 0                     \n",
       "6  984952               205342      ⋯ 0                     \n",
       "  FS_R_WM_Hypointens_Vol FS_L_Non.WM_Hypointens_Vol FS_R_Non.WM_Hypointens_Vol\n",
       "1 0                      0                          0                         \n",
       "2 0                      0                          0                         \n",
       "3 0                      0                          0                         \n",
       "4 0                      0                          0                         \n",
       "5 0                      0                          0                         \n",
       "6 0                      0                          0                         \n",
       "  FS_OpticChiasm_Vol FS_CC_Posterior_Vol FS_CC_MidPosterior_Vol\n",
       "1 325                 800                409                   \n",
       "2 195                1029                526                   \n",
       "3 302                 972                589                   \n",
       "4 296                1065                618                   \n",
       "5 235                1057                591                   \n",
       "6 258                1033                494                   \n",
       "  FS_CC_Central_Vol FS_CC_MidAnterior_Vol FS_CC_Anterior_Vol\n",
       "1 569               522                    813              \n",
       "2 578               576                    649              \n",
       "3 528               471                    858              \n",
       "4 838               729                   1072              \n",
       "5 538               430                    849              \n",
       "6 487               489                    992              "
      ]
     },
     "metadata": {},
     "output_type": "display_data"
    }
   ],
   "source": [
    "# WRITE YOUR CODE HERE\n",
    "setwd(\"C:/Users/roman/OneDrive/Documents/Python Scripts/Lapadat_DSPN_S22/book/exercises/unrestricted_trimmed_1_7_2020_10_50_44\")\n",
    "unrestricted_trimmed  <- read.csv(\"unrestricted_trimmed_1_7_2020_10_50_44.csv\")\n",
    "\n",
    "d1  <- unrestricted_trimmed %>%\n",
    "    select(ends_with(c(\"Flanker_Unadj\", \"_Vol\"))) %>%\n",
    "    drop_na()\n",
    "\n",
    "paste(\"x x x\")\n",
    "paste(\"Head: Unrestricted_Trimmed\")\n",
    "head(unrestricted_trimmed)\n",
    "\n",
    "paste(\"x x x\")\n",
    "paste(\"Head: d1\")\n",
    "head(d1)"
   ]
  },
  {
   "cell_type": "markdown",
   "metadata": {},
   "source": [
    "---\n",
    "## 2. Correlational structure (4 points)"
   ]
  },
  {
   "cell_type": "markdown",
   "metadata": {},
   "source": [
    "(a) Take a look at the correlation between all of the freesurfer volume measures (\"FS_\") using the `cor` function. Create a new variable called `fs_cor` that is the correlation matrix for only the freesurfer volumes"
   ]
  },
  {
   "cell_type": "code",
   "execution_count": 36,
   "metadata": {
    "vscode": {
     "languageId": "r"
    }
   },
   "outputs": [
    {
     "name": "stderr",
     "output_type": "stream",
     "text": [
      "Warning message in cor(d1[, 2:57]):\n",
      "\"the standard deviation is zero\"\n"
     ]
    },
    {
     "data": {
      "text/html": [
       "<table class=\"dataframe\">\n",
       "<caption>A matrix: 56 × 56 of type dbl</caption>\n",
       "<thead>\n",
       "\t<tr><th></th><th scope=col>FS_IntraCranial_Vol</th><th scope=col>FS_BrainSeg_Vol</th><th scope=col>FS_LCort_GM_Vol</th><th scope=col>FS_RCort_GM_Vol</th><th scope=col>FS_TotCort_GM_Vol</th><th scope=col>FS_SubCort_GM_Vol</th><th scope=col>FS_Total_GM_Vol</th><th scope=col>FS_SupraTentorial_Vol</th><th scope=col>FS_L_WM_Vol</th><th scope=col>FS_R_WM_Vol</th><th scope=col>⋯</th><th scope=col>FS_L_WM_Hypointens_Vol</th><th scope=col>FS_R_WM_Hypointens_Vol</th><th scope=col>FS_L_Non.WM_Hypointens_Vol</th><th scope=col>FS_R_Non.WM_Hypointens_Vol</th><th scope=col>FS_OpticChiasm_Vol</th><th scope=col>FS_CC_Posterior_Vol</th><th scope=col>FS_CC_MidPosterior_Vol</th><th scope=col>FS_CC_Central_Vol</th><th scope=col>FS_CC_MidAnterior_Vol</th><th scope=col>FS_CC_Anterior_Vol</th></tr>\n",
       "</thead>\n",
       "<tbody>\n",
       "\t<tr><th scope=row>FS_IntraCranial_Vol</th><td>1.00000000</td><td>0.89775779</td><td>0.84001739</td><td>0.8439151</td><td>0.84527801</td><td>0.78851398</td><td>0.8751297</td><td>0.88515809</td><td>0.83110860</td><td>0.82780629</td><td>⋯</td><td>NA</td><td>NA</td><td>NA</td><td>NA</td><td>0.33097622</td><td> 0.34486799</td><td> 0.18960892</td><td> 0.197341425</td><td> 0.284599652</td><td> 0.40182119</td></tr>\n",
       "\t<tr><th scope=row>FS_BrainSeg_Vol</th><td>0.89775779</td><td>1.00000000</td><td>0.94481588</td><td>0.9482717</td><td>0.95026178</td><td>0.86899391</td><td>0.9664839</td><td>0.99584206</td><td>0.95025059</td><td>0.94827234</td><td>⋯</td><td>NA</td><td>NA</td><td>NA</td><td>NA</td><td>0.35006717</td><td> 0.37677373</td><td> 0.27243466</td><td> 0.270768619</td><td> 0.353484192</td><td> 0.43087227</td></tr>\n",
       "\t<tr><th scope=row>FS_LCort_GM_Vol</th><td>0.84001739</td><td>0.94481588</td><td>1.00000000</td><td>0.9844592</td><td>0.99601958</td><td>0.78978633</td><td>0.9821287</td><td>0.94856174</td><td>0.82823562</td><td>0.82204438</td><td>⋯</td><td>NA</td><td>NA</td><td>NA</td><td>NA</td><td>0.27354855</td><td> 0.25151569</td><td> 0.19618089</td><td> 0.208943426</td><td> 0.257297934</td><td> 0.31406264</td></tr>\n",
       "\t<tr><th scope=row>FS_RCort_GM_Vol</th><td>0.84391512</td><td>0.94827175</td><td>0.98445925</td><td>1.0000000</td><td>0.99619391</td><td>0.79257235</td><td>0.9830322</td><td>0.95186738</td><td>0.83308464</td><td>0.83075164</td><td>⋯</td><td>NA</td><td>NA</td><td>NA</td><td>NA</td><td>0.28341844</td><td> 0.24448681</td><td> 0.19182668</td><td> 0.211885362</td><td> 0.259001604</td><td> 0.30540697</td></tr>\n",
       "\t<tr><th scope=row>FS_TotCort_GM_Vol</th><td>0.84527801</td><td>0.95026178</td><td>0.99601958</td><td>0.9961939</td><td>1.00000000</td><td>0.79428656</td><td>0.9864250</td><td>0.95394600</td><td>0.83393307</td><td>0.82967591</td><td>⋯</td><td>NA</td><td>NA</td><td>NA</td><td>NA</td><td>0.27962765</td><td> 0.24893064</td><td> 0.19473767</td><td> 0.211253307</td><td> 0.259167897</td><td> 0.31089656</td></tr>\n",
       "\t<tr><th scope=row>FS_SubCort_GM_Vol</th><td>0.78851398</td><td>0.86899391</td><td>0.78978633</td><td>0.7925724</td><td>0.79428656</td><td>1.00000000</td><td>0.8407289</td><td>0.85912648</td><td>0.82483108</td><td>0.82505024</td><td>⋯</td><td>NA</td><td>NA</td><td>NA</td><td>NA</td><td>0.32808259</td><td> 0.36367157</td><td> 0.31694057</td><td> 0.270171847</td><td> 0.332095449</td><td> 0.40412120</td></tr>\n",
       "\t<tr><th scope=row>FS_Total_GM_Vol</th><td>0.87512975</td><td>0.96648393</td><td>0.98212867</td><td>0.9830322</td><td>0.98642496</td><td>0.84072890</td><td>1.0000000</td><td>0.95676918</td><td>0.84630850</td><td>0.84265274</td><td>⋯</td><td>NA</td><td>NA</td><td>NA</td><td>NA</td><td>0.30026585</td><td> 0.26509338</td><td> 0.21393596</td><td> 0.227828080</td><td> 0.273788710</td><td> 0.32692300</td></tr>\n",
       "\t<tr><th scope=row>FS_SupraTentorial_Vol</th><td>0.88515809</td><td>0.99584206</td><td>0.94856174</td><td>0.9518674</td><td>0.95394600</td><td>0.85912648</td><td>0.9567692</td><td>1.00000000</td><td>0.95657235</td><td>0.95448952</td><td>⋯</td><td>NA</td><td>NA</td><td>NA</td><td>NA</td><td>0.34304042</td><td> 0.38403125</td><td> 0.27388840</td><td> 0.268821695</td><td> 0.356887229</td><td> 0.43655852</td></tr>\n",
       "\t<tr><th scope=row>FS_L_WM_Vol</th><td>0.83110860</td><td>0.95025059</td><td>0.82823562</td><td>0.8330846</td><td>0.83393307</td><td>0.82483108</td><td>0.8463085</td><td>0.95657235</td><td>1.00000000</td><td>0.99720862</td><td>⋯</td><td>NA</td><td>NA</td><td>NA</td><td>NA</td><td>0.35983007</td><td> 0.46628464</td><td> 0.37067576</td><td> 0.352852343</td><td> 0.445780348</td><td> 0.50126064</td></tr>\n",
       "\t<tr><th scope=row>FS_R_WM_Vol</th><td>0.82780629</td><td>0.94827234</td><td>0.82204438</td><td>0.8307516</td><td>0.82967591</td><td>0.82505024</td><td>0.8426527</td><td>0.95448952</td><td>0.99720862</td><td>1.00000000</td><td>⋯</td><td>NA</td><td>NA</td><td>NA</td><td>NA</td><td>0.36438062</td><td> 0.46048694</td><td> 0.36768598</td><td> 0.351758721</td><td> 0.441418100</td><td> 0.49765782</td></tr>\n",
       "\t<tr><th scope=row>FS_Tot_WM_Vol</th><td>0.83002517</td><td>0.94991754</td><td>0.82569472</td><td>0.8324909</td><td>0.83237055</td><td>0.82551771</td><td>0.8450576</td><td>0.95619104</td><td>0.99929225</td><td>0.99931150</td><td>⋯</td><td>NA</td><td>NA</td><td>NA</td><td>NA</td><td>0.36237463</td><td> 0.46368948</td><td> 0.36942909</td><td> 0.352548344</td><td> 0.443894485</td><td> 0.49979563</td></tr>\n",
       "\t<tr><th scope=row>FS_Mask_Vol</th><td>0.92238431</td><td>0.96810008</td><td>0.91261040</td><td>0.9214448</td><td>0.92066041</td><td>0.83418647</td><td>0.9420697</td><td>0.95960458</td><td>0.90546843</td><td>0.90381070</td><td>⋯</td><td>NA</td><td>NA</td><td>NA</td><td>NA</td><td>0.36204991</td><td> 0.32123625</td><td> 0.21398828</td><td> 0.229917822</td><td> 0.300400561</td><td> 0.38155673</td></tr>\n",
       "\t<tr><th scope=row>FS_L_LatVent_Vol</th><td>0.37498057</td><td>0.31495935</td><td>0.27196380</td><td>0.2627924</td><td>0.26837106</td><td>0.21972221</td><td>0.2787827</td><td>0.31021654</td><td>0.22299148</td><td>0.21833276</td><td>⋯</td><td>NA</td><td>NA</td><td>NA</td><td>NA</td><td>0.15782271</td><td> 0.19190399</td><td>-0.33835739</td><td>-0.354591986</td><td>-0.112187057</td><td> 0.23845911</td></tr>\n",
       "\t<tr><th scope=row>FS_L_InfLatVent_Vol</th><td>0.16897039</td><td>0.16427039</td><td>0.14025086</td><td>0.1405857</td><td>0.14096874</td><td>0.11605003</td><td>0.1475694</td><td>0.16110367</td><td>0.12708001</td><td>0.13516651</td><td>⋯</td><td>NA</td><td>NA</td><td>NA</td><td>NA</td><td>0.09791341</td><td> 0.01787406</td><td>-0.13100380</td><td>-0.121619568</td><td>-0.066120581</td><td> 0.03246335</td></tr>\n",
       "\t<tr><th scope=row>FS_L_Cerebellum_WM_Vol</th><td>0.58869113</td><td>0.65867820</td><td>0.53289669</td><td>0.5368370</td><td>0.53697923</td><td>0.65047701</td><td>0.6086340</td><td>0.61603149</td><td>0.62745556</td><td>0.62907125</td><td>⋯</td><td>NA</td><td>NA</td><td>NA</td><td>NA</td><td>0.32163916</td><td> 0.27551312</td><td> 0.23750191</td><td> 0.240304001</td><td> 0.282653282</td><td> 0.30334184</td></tr>\n",
       "\t<tr><th scope=row>FS_L_Cerebellum_Cort_Vol</th><td>0.70484631</td><td>0.71025149</td><td>0.63269806</td><td>0.6352676</td><td>0.63647460</td><td>0.65207517</td><td>0.7474425</td><td>0.64692993</td><td>0.58640309</td><td>0.58496534</td><td>⋯</td><td>NA</td><td>NA</td><td>NA</td><td>NA</td><td>0.25406561</td><td> 0.19047795</td><td> 0.17824911</td><td> 0.194220830</td><td> 0.205249335</td><td> 0.23592487</td></tr>\n",
       "\t<tr><th scope=row>FS_L_ThalamusProper_Vol</th><td>0.68216106</td><td>0.77641629</td><td>0.70631617</td><td>0.7140138</td><td>0.71298313</td><td>0.78822900</td><td>0.7409553</td><td>0.77011062</td><td>0.76511845</td><td>0.76632921</td><td>⋯</td><td>NA</td><td>NA</td><td>NA</td><td>NA</td><td>0.26771741</td><td> 0.28741749</td><td> 0.33623070</td><td> 0.344381312</td><td> 0.334279003</td><td> 0.31844737</td></tr>\n",
       "\t<tr><th scope=row>FS_L_Caudate_Vol</th><td>0.57837711</td><td>0.60731745</td><td>0.56290870</td><td>0.5612505</td><td>0.56426697</td><td>0.72520307</td><td>0.5950966</td><td>0.60241243</td><td>0.55049655</td><td>0.54920508</td><td>⋯</td><td>NA</td><td>NA</td><td>NA</td><td>NA</td><td>0.23421579</td><td> 0.32350650</td><td> 0.19234071</td><td> 0.069267616</td><td> 0.236316760</td><td> 0.36921706</td></tr>\n",
       "\t<tr><th scope=row>FS_L_Putamen_Vol</th><td>0.49587271</td><td>0.55088417</td><td>0.48657814</td><td>0.4867579</td><td>0.48857086</td><td>0.74070423</td><td>0.5261222</td><td>0.54697962</td><td>0.52123639</td><td>0.52299015</td><td>⋯</td><td>NA</td><td>NA</td><td>NA</td><td>NA</td><td>0.21678923</td><td> 0.26268852</td><td> 0.18166994</td><td> 0.137873794</td><td> 0.211357873</td><td> 0.27766425</td></tr>\n",
       "\t<tr><th scope=row>FS_L_Pallidum_Vol</th><td>0.40092995</td><td>0.40264251</td><td>0.31546092</td><td>0.3134731</td><td>0.31568436</td><td>0.59378262</td><td>0.3650246</td><td>0.39117153</td><td>0.38616852</td><td>0.39011947</td><td>⋯</td><td>NA</td><td>NA</td><td>NA</td><td>NA</td><td>0.24700268</td><td> 0.28405522</td><td> 0.14832367</td><td> 0.101925587</td><td> 0.184649447</td><td> 0.29488687</td></tr>\n",
       "\t<tr><th scope=row>FS_3rdVent_Vol</th><td>0.43228163</td><td>0.35776700</td><td>0.31893800</td><td>0.3270079</td><td>0.32428027</td><td>0.27135090</td><td>0.3423191</td><td>0.34445607</td><td>0.28198592</td><td>0.28260452</td><td>⋯</td><td>NA</td><td>NA</td><td>NA</td><td>NA</td><td>0.21756009</td><td>-0.05027613</td><td>-0.20052345</td><td>-0.159983624</td><td>-0.069379369</td><td> 0.04654838</td></tr>\n",
       "\t<tr><th scope=row>FS_4thVent_Vol</th><td>0.32107241</td><td>0.26307622</td><td>0.22764227</td><td>0.2342832</td><td>0.23190244</td><td>0.21908221</td><td>0.2576606</td><td>0.24649555</td><td>0.20912414</td><td>0.21031987</td><td>⋯</td><td>NA</td><td>NA</td><td>NA</td><td>NA</td><td>0.13316577</td><td> 0.01037032</td><td>-0.07038117</td><td>-0.039772343</td><td>-0.027422258</td><td> 0.07581835</td></tr>\n",
       "\t<tr><th scope=row>FS_BrainStem_Vol</th><td>0.65724561</td><td>0.70590071</td><td>0.57061360</td><td>0.5720646</td><td>0.57357993</td><td>0.74591960</td><td>0.6397039</td><td>0.67791128</td><td>0.70820029</td><td>0.71016008</td><td>⋯</td><td>NA</td><td>NA</td><td>NA</td><td>NA</td><td>0.34252158</td><td> 0.35156050</td><td> 0.31162590</td><td> 0.303904026</td><td> 0.351210134</td><td> 0.37410134</td></tr>\n",
       "\t<tr><th scope=row>FS_L_Hippo_Vol</th><td>0.60383890</td><td>0.65476918</td><td>0.62977513</td><td>0.6377678</td><td>0.63629285</td><td>0.72099694</td><td>0.6637568</td><td>0.64757552</td><td>0.60220009</td><td>0.60260273</td><td>⋯</td><td>NA</td><td>NA</td><td>NA</td><td>NA</td><td>0.20814715</td><td> 0.15853175</td><td> 0.23447570</td><td> 0.214219368</td><td> 0.200860452</td><td> 0.20512724</td></tr>\n",
       "\t<tr><th scope=row>FS_L_Amygdala_Vol</th><td>0.66024855</td><td>0.73360586</td><td>0.71195816</td><td>0.7170476</td><td>0.71732337</td><td>0.73944118</td><td>0.7391765</td><td>0.72780548</td><td>0.66719338</td><td>0.66617605</td><td>⋯</td><td>NA</td><td>NA</td><td>NA</td><td>NA</td><td>0.27769365</td><td> 0.17809394</td><td> 0.18368402</td><td> 0.168520265</td><td> 0.191736781</td><td> 0.24468927</td></tr>\n",
       "\t<tr><th scope=row>FS_CSF_Vol</th><td>0.55361292</td><td>0.47747795</td><td>0.43278750</td><td>0.4303665</td><td>0.43324943</td><td>0.39460051</td><td>0.4582325</td><td>0.46244543</td><td>0.40135594</td><td>0.40157805</td><td>⋯</td><td>NA</td><td>NA</td><td>NA</td><td>NA</td><td>0.26432005</td><td> 0.18564012</td><td>-0.09181928</td><td> 0.009190069</td><td> 0.084256143</td><td> 0.25824951</td></tr>\n",
       "\t<tr><th scope=row>FS_L_AccumbensArea_Vol</th><td>0.49553785</td><td>0.59436104</td><td>0.56062865</td><td>0.5620968</td><td>0.56356423</td><td>0.67752145</td><td>0.5847115</td><td>0.59237972</td><td>0.56554081</td><td>0.56566973</td><td>⋯</td><td>NA</td><td>NA</td><td>NA</td><td>NA</td><td>0.24385685</td><td> 0.24465133</td><td> 0.23671897</td><td> 0.233856467</td><td> 0.259170741</td><td> 0.23897517</td></tr>\n",
       "\t<tr><th scope=row>FS_L_VentDC_Vol</th><td>0.67595118</td><td>0.72721648</td><td>0.60731952</td><td>0.6069536</td><td>0.60950691</td><td>0.85389740</td><td>0.6715359</td><td>0.70839634</td><td>0.71527942</td><td>0.71834719</td><td>⋯</td><td>NA</td><td>NA</td><td>NA</td><td>NA</td><td>0.28081754</td><td> 0.35502034</td><td> 0.26972917</td><td> 0.235815465</td><td> 0.302010616</td><td> 0.37457565</td></tr>\n",
       "\t<tr><th scope=row>FS_L_Vessel_Vol</th><td>0.15423056</td><td>0.17388908</td><td>0.12356261</td><td>0.1223822</td><td>0.12344663</td><td>0.21733003</td><td>0.1418038</td><td>0.17212325</td><td>0.19038013</td><td>0.18970246</td><td>⋯</td><td>NA</td><td>NA</td><td>NA</td><td>NA</td><td>0.14483046</td><td> 0.13270800</td><td> 0.09117550</td><td> 0.052523912</td><td> 0.090073083</td><td> 0.15186436</td></tr>\n",
       "\t<tr><th scope=row>FS_L_ChoroidPlexus_Vol</th><td>0.38314025</td><td>0.34979289</td><td>0.28261783</td><td>0.2759203</td><td>0.28032239</td><td>0.38015342</td><td>0.3032990</td><td>0.34517940</td><td>0.31931111</td><td>0.31951950</td><td>⋯</td><td>NA</td><td>NA</td><td>NA</td><td>NA</td><td>0.29759526</td><td> 0.25117885</td><td>-0.04300835</td><td>-0.191037102</td><td>-0.002031803</td><td> 0.27539582</td></tr>\n",
       "\t<tr><th scope=row>FS_R_LatVent_Vol</th><td>0.35856367</td><td>0.29778365</td><td>0.24384293</td><td>0.2451055</td><td>0.24543639</td><td>0.20824129</td><td>0.2546900</td><td>0.29477214</td><td>0.21230926</td><td>0.21533513</td><td>⋯</td><td>NA</td><td>NA</td><td>NA</td><td>NA</td><td>0.15676343</td><td> 0.23453834</td><td>-0.29196871</td><td>-0.325190183</td><td>-0.083145915</td><td> 0.26998554</td></tr>\n",
       "\t<tr><th scope=row>FS_R_InfLatVent_Vol</th><td>0.11406510</td><td>0.14424500</td><td>0.12590300</td><td>0.1313933</td><td>0.12918191</td><td>0.13821658</td><td>0.1325345</td><td>0.14464319</td><td>0.14132533</td><td>0.14400271</td><td>⋯</td><td>NA</td><td>NA</td><td>NA</td><td>NA</td><td>0.11810310</td><td>-0.01070464</td><td> 0.03134870</td><td>-0.022794158</td><td>-0.015031924</td><td>-0.01088744</td></tr>\n",
       "\t<tr><th scope=row>FS_R_Cerebellum_WM_Vol</th><td>0.60653775</td><td>0.67180386</td><td>0.54915733</td><td>0.5522298</td><td>0.55286280</td><td>0.65383174</td><td>0.6237727</td><td>0.62898391</td><td>0.63555864</td><td>0.63627718</td><td>⋯</td><td>NA</td><td>NA</td><td>NA</td><td>NA</td><td>0.31451859</td><td> 0.27047999</td><td> 0.22654022</td><td> 0.229015826</td><td> 0.261755082</td><td> 0.30048710</td></tr>\n",
       "\t<tr><th scope=row>FS_R_Cerebellum_Cort_Vol</th><td>0.69770064</td><td>0.69783034</td><td>0.61739874</td><td>0.6206763</td><td>0.62147499</td><td>0.63989251</td><td>0.7345061</td><td>0.63266284</td><td>0.57275888</td><td>0.57162004</td><td>⋯</td><td>NA</td><td>NA</td><td>NA</td><td>NA</td><td>0.26488627</td><td> 0.18520073</td><td> 0.15904233</td><td> 0.189774870</td><td> 0.202922459</td><td> 0.23111295</td></tr>\n",
       "\t<tr><th scope=row>FS_R_ThalamusProper_Vol</th><td>0.66638340</td><td>0.76047232</td><td>0.68711152</td><td>0.6892555</td><td>0.69088450</td><td>0.81568633</td><td>0.7211526</td><td>0.75570745</td><td>0.75352775</td><td>0.75267298</td><td>⋯</td><td>NA</td><td>NA</td><td>NA</td><td>NA</td><td>0.27942250</td><td> 0.31969923</td><td> 0.33119045</td><td> 0.324331329</td><td> 0.333443575</td><td> 0.36147784</td></tr>\n",
       "\t<tr><th scope=row>FS_R_Caudate_Vol</th><td>0.59652243</td><td>0.62894354</td><td>0.58134576</td><td>0.5815797</td><td>0.58373629</td><td>0.74030578</td><td>0.6155689</td><td>0.62321961</td><td>0.56876245</td><td>0.56710824</td><td>⋯</td><td>NA</td><td>NA</td><td>NA</td><td>NA</td><td>0.25157426</td><td> 0.33899010</td><td> 0.19783273</td><td> 0.072997872</td><td> 0.240941120</td><td> 0.39980914</td></tr>\n",
       "\t<tr><th scope=row>FS_R_Putamen_Vol</th><td>0.56201022</td><td>0.65553149</td><td>0.62239410</td><td>0.6250373</td><td>0.62616768</td><td>0.81630130</td><td>0.6562190</td><td>0.65247803</td><td>0.60477273</td><td>0.60216773</td><td>⋯</td><td>NA</td><td>NA</td><td>NA</td><td>NA</td><td>0.23266220</td><td> 0.23229500</td><td> 0.23677992</td><td> 0.195076225</td><td> 0.217510953</td><td> 0.23710875</td></tr>\n",
       "\t<tr><th scope=row>FS_R_Pallidum_Vol</th><td>0.53329495</td><td>0.56376373</td><td>0.46164873</td><td>0.4609046</td><td>0.46307499</td><td>0.73311105</td><td>0.5125299</td><td>0.55292319</td><td>0.55637177</td><td>0.55657998</td><td>⋯</td><td>NA</td><td>NA</td><td>NA</td><td>NA</td><td>0.27095986</td><td> 0.38963822</td><td> 0.24364165</td><td> 0.188192305</td><td> 0.272988747</td><td> 0.38866368</td></tr>\n",
       "\t<tr><th scope=row>FS_R_Hippo_Vol</th><td>0.64958935</td><td>0.69806228</td><td>0.67513577</td><td>0.6779019</td><td>0.67917795</td><td>0.75673715</td><td>0.7110396</td><td>0.68786161</td><td>0.63016270</td><td>0.62887364</td><td>⋯</td><td>NA</td><td>NA</td><td>NA</td><td>NA</td><td>0.24316970</td><td> 0.15830952</td><td> 0.20182127</td><td> 0.204680359</td><td> 0.190793526</td><td> 0.21309232</td></tr>\n",
       "\t<tr><th scope=row>FS_R_Amygdala_Vol</th><td>0.64711222</td><td>0.72521574</td><td>0.70370077</td><td>0.7097618</td><td>0.70952682</td><td>0.73524457</td><td>0.7284178</td><td>0.72094178</td><td>0.66402879</td><td>0.66401776</td><td>⋯</td><td>NA</td><td>NA</td><td>NA</td><td>NA</td><td>0.26656145</td><td> 0.18074813</td><td> 0.18915618</td><td> 0.182590547</td><td> 0.190116082</td><td> 0.23304277</td></tr>\n",
       "\t<tr><th scope=row>FS_R_AccumbensArea_Vol</th><td>0.49778070</td><td>0.60499200</td><td>0.59393316</td><td>0.6030192</td><td>0.60086577</td><td>0.64231880</td><td>0.6131929</td><td>0.60461055</td><td>0.56667339</td><td>0.56467548</td><td>⋯</td><td>NA</td><td>NA</td><td>NA</td><td>NA</td><td>0.22462449</td><td> 0.21887301</td><td> 0.25517654</td><td> 0.250561785</td><td> 0.259488641</td><td> 0.21236850</td></tr>\n",
       "\t<tr><th scope=row>FS_R_VentDC_Vol</th><td>0.69245560</td><td>0.75064560</td><td>0.63103100</td><td>0.6320048</td><td>0.63399092</td><td>0.86597425</td><td>0.6941850</td><td>0.73256836</td><td>0.73841848</td><td>0.74080095</td><td>⋯</td><td>NA</td><td>NA</td><td>NA</td><td>NA</td><td>0.29740875</td><td> 0.36962726</td><td> 0.28785729</td><td> 0.261573414</td><td> 0.315267781</td><td> 0.39321861</td></tr>\n",
       "\t<tr><th scope=row>FS_R_Vessel_Vol</th><td>0.15363321</td><td>0.20678367</td><td>0.17001517</td><td>0.1759543</td><td>0.17369412</td><td>0.23081438</td><td>0.1906112</td><td>0.20303200</td><td>0.20733288</td><td>0.20560868</td><td>⋯</td><td>NA</td><td>NA</td><td>NA</td><td>NA</td><td>0.12259295</td><td> 0.09271901</td><td> 0.04781022</td><td> 0.020375562</td><td> 0.042604163</td><td> 0.07380737</td></tr>\n",
       "\t<tr><th scope=row>FS_R_ChoroidPlexus_Vol</th><td>0.42861209</td><td>0.41258103</td><td>0.35164750</td><td>0.3441177</td><td>0.34919952</td><td>0.38104392</td><td>0.3650723</td><td>0.41009582</td><td>0.36005397</td><td>0.36096046</td><td>⋯</td><td>NA</td><td>NA</td><td>NA</td><td>NA</td><td>0.31793805</td><td> 0.24662120</td><td>-0.11900260</td><td>-0.264764892</td><td>-0.055538206</td><td> 0.29034148</td></tr>\n",
       "\t<tr><th scope=row>FS_5thVent_Vol</th><td>0.08758425</td><td>0.04979092</td><td>0.02747529</td><td>0.0343031</td><td>0.03104854</td><td>0.02854927</td><td>0.0364988</td><td>0.04701623</td><td>0.04116974</td><td>0.04174618</td><td>⋯</td><td>NA</td><td>NA</td><td>NA</td><td>NA</td><td>0.01033982</td><td> 0.07941491</td><td>-0.03331922</td><td>-0.071024869</td><td>-0.036366699</td><td> 0.15002437</td></tr>\n",
       "\t<tr><th scope=row>FS_WM_Hypointens_Vol</th><td>0.22258258</td><td>0.32314434</td><td>0.32722217</td><td>0.3390336</td><td>0.33449594</td><td>0.27792949</td><td>0.3277528</td><td>0.32691662</td><td>0.31212583</td><td>0.31623149</td><td>⋯</td><td>NA</td><td>NA</td><td>NA</td><td>NA</td><td>0.09943160</td><td>-0.06416489</td><td> 0.04439970</td><td> 0.182043682</td><td> 0.086213266</td><td>-0.03530666</td></tr>\n",
       "\t<tr><th scope=row>FS_L_WM_Hypointens_Vol</th><td>        NA</td><td>        NA</td><td>        NA</td><td>       NA</td><td>        NA</td><td>        NA</td><td>       NA</td><td>        NA</td><td>        NA</td><td>        NA</td><td>⋯</td><td> 1</td><td>NA</td><td>NA</td><td>NA</td><td>        NA</td><td>         NA</td><td>         NA</td><td>          NA</td><td>          NA</td><td>         NA</td></tr>\n",
       "\t<tr><th scope=row>FS_R_WM_Hypointens_Vol</th><td>        NA</td><td>        NA</td><td>        NA</td><td>       NA</td><td>        NA</td><td>        NA</td><td>       NA</td><td>        NA</td><td>        NA</td><td>        NA</td><td>⋯</td><td>NA</td><td> 1</td><td>NA</td><td>NA</td><td>        NA</td><td>         NA</td><td>         NA</td><td>          NA</td><td>          NA</td><td>         NA</td></tr>\n",
       "\t<tr><th scope=row>FS_L_Non.WM_Hypointens_Vol</th><td>        NA</td><td>        NA</td><td>        NA</td><td>       NA</td><td>        NA</td><td>        NA</td><td>       NA</td><td>        NA</td><td>        NA</td><td>        NA</td><td>⋯</td><td>NA</td><td>NA</td><td> 1</td><td>NA</td><td>        NA</td><td>         NA</td><td>         NA</td><td>          NA</td><td>          NA</td><td>         NA</td></tr>\n",
       "\t<tr><th scope=row>FS_R_Non.WM_Hypointens_Vol</th><td>        NA</td><td>        NA</td><td>        NA</td><td>       NA</td><td>        NA</td><td>        NA</td><td>       NA</td><td>        NA</td><td>        NA</td><td>        NA</td><td>⋯</td><td>NA</td><td>NA</td><td>NA</td><td> 1</td><td>        NA</td><td>         NA</td><td>         NA</td><td>          NA</td><td>          NA</td><td>         NA</td></tr>\n",
       "\t<tr><th scope=row>FS_OpticChiasm_Vol</th><td>0.33097622</td><td>0.35006717</td><td>0.27354855</td><td>0.2834184</td><td>0.27962765</td><td>0.32808259</td><td>0.3002658</td><td>0.34304042</td><td>0.35983007</td><td>0.36438062</td><td>⋯</td><td>NA</td><td>NA</td><td>NA</td><td>NA</td><td>1.00000000</td><td> 0.14288754</td><td> 0.08528853</td><td> 0.044730790</td><td> 0.077610930</td><td> 0.18599436</td></tr>\n",
       "\t<tr><th scope=row>FS_CC_Posterior_Vol</th><td>0.34486799</td><td>0.37677373</td><td>0.25151569</td><td>0.2444868</td><td>0.24893064</td><td>0.36367157</td><td>0.2650934</td><td>0.38403125</td><td>0.46628464</td><td>0.46048694</td><td>⋯</td><td>NA</td><td>NA</td><td>NA</td><td>NA</td><td>0.14288754</td><td> 1.00000000</td><td> 0.53498193</td><td> 0.374613841</td><td> 0.593652934</td><td> 0.64488818</td></tr>\n",
       "\t<tr><th scope=row>FS_CC_MidPosterior_Vol</th><td>0.18960892</td><td>0.27243466</td><td>0.19618089</td><td>0.1918267</td><td>0.19473767</td><td>0.31694057</td><td>0.2139360</td><td>0.27388840</td><td>0.37067576</td><td>0.36768598</td><td>⋯</td><td>NA</td><td>NA</td><td>NA</td><td>NA</td><td>0.08528853</td><td> 0.53498193</td><td> 1.00000000</td><td> 0.678057564</td><td> 0.641496004</td><td> 0.40374282</td></tr>\n",
       "\t<tr><th scope=row>FS_CC_Central_Vol</th><td>0.19734142</td><td>0.27076862</td><td>0.20894343</td><td>0.2118854</td><td>0.21125331</td><td>0.27017185</td><td>0.2278281</td><td>0.26882169</td><td>0.35285234</td><td>0.35175872</td><td>⋯</td><td>NA</td><td>NA</td><td>NA</td><td>NA</td><td>0.04473079</td><td> 0.37461384</td><td> 0.67805756</td><td> 1.000000000</td><td> 0.711421149</td><td> 0.29418749</td></tr>\n",
       "\t<tr><th scope=row>FS_CC_MidAnterior_Vol</th><td>0.28459965</td><td>0.35348419</td><td>0.25729793</td><td>0.2590016</td><td>0.25916790</td><td>0.33209545</td><td>0.2737887</td><td>0.35688723</td><td>0.44578035</td><td>0.44141810</td><td>⋯</td><td>NA</td><td>NA</td><td>NA</td><td>NA</td><td>0.07761093</td><td> 0.59365293</td><td> 0.64149600</td><td> 0.711421149</td><td> 1.000000000</td><td> 0.49733860</td></tr>\n",
       "\t<tr><th scope=row>FS_CC_Anterior_Vol</th><td>0.40182119</td><td>0.43087227</td><td>0.31406264</td><td>0.3054070</td><td>0.31089656</td><td>0.40412120</td><td>0.3269230</td><td>0.43655852</td><td>0.50126064</td><td>0.49765782</td><td>⋯</td><td>NA</td><td>NA</td><td>NA</td><td>NA</td><td>0.18599436</td><td> 0.64488818</td><td> 0.40374282</td><td> 0.294187488</td><td> 0.497338603</td><td> 1.00000000</td></tr>\n",
       "</tbody>\n",
       "</table>\n"
      ],
      "text/latex": [
       "A matrix: 56 × 56 of type dbl\n",
       "\\begin{tabular}{r|lllllllllllllllllllll}\n",
       "  & FS\\_IntraCranial\\_Vol & FS\\_BrainSeg\\_Vol & FS\\_LCort\\_GM\\_Vol & FS\\_RCort\\_GM\\_Vol & FS\\_TotCort\\_GM\\_Vol & FS\\_SubCort\\_GM\\_Vol & FS\\_Total\\_GM\\_Vol & FS\\_SupraTentorial\\_Vol & FS\\_L\\_WM\\_Vol & FS\\_R\\_WM\\_Vol & ⋯ & FS\\_L\\_WM\\_Hypointens\\_Vol & FS\\_R\\_WM\\_Hypointens\\_Vol & FS\\_L\\_Non.WM\\_Hypointens\\_Vol & FS\\_R\\_Non.WM\\_Hypointens\\_Vol & FS\\_OpticChiasm\\_Vol & FS\\_CC\\_Posterior\\_Vol & FS\\_CC\\_MidPosterior\\_Vol & FS\\_CC\\_Central\\_Vol & FS\\_CC\\_MidAnterior\\_Vol & FS\\_CC\\_Anterior\\_Vol\\\\\n",
       "\\hline\n",
       "\tFS\\_IntraCranial\\_Vol & 1.00000000 & 0.89775779 & 0.84001739 & 0.8439151 & 0.84527801 & 0.78851398 & 0.8751297 & 0.88515809 & 0.83110860 & 0.82780629 & ⋯ & NA & NA & NA & NA & 0.33097622 &  0.34486799 &  0.18960892 &  0.197341425 &  0.284599652 &  0.40182119\\\\\n",
       "\tFS\\_BrainSeg\\_Vol & 0.89775779 & 1.00000000 & 0.94481588 & 0.9482717 & 0.95026178 & 0.86899391 & 0.9664839 & 0.99584206 & 0.95025059 & 0.94827234 & ⋯ & NA & NA & NA & NA & 0.35006717 &  0.37677373 &  0.27243466 &  0.270768619 &  0.353484192 &  0.43087227\\\\\n",
       "\tFS\\_LCort\\_GM\\_Vol & 0.84001739 & 0.94481588 & 1.00000000 & 0.9844592 & 0.99601958 & 0.78978633 & 0.9821287 & 0.94856174 & 0.82823562 & 0.82204438 & ⋯ & NA & NA & NA & NA & 0.27354855 &  0.25151569 &  0.19618089 &  0.208943426 &  0.257297934 &  0.31406264\\\\\n",
       "\tFS\\_RCort\\_GM\\_Vol & 0.84391512 & 0.94827175 & 0.98445925 & 1.0000000 & 0.99619391 & 0.79257235 & 0.9830322 & 0.95186738 & 0.83308464 & 0.83075164 & ⋯ & NA & NA & NA & NA & 0.28341844 &  0.24448681 &  0.19182668 &  0.211885362 &  0.259001604 &  0.30540697\\\\\n",
       "\tFS\\_TotCort\\_GM\\_Vol & 0.84527801 & 0.95026178 & 0.99601958 & 0.9961939 & 1.00000000 & 0.79428656 & 0.9864250 & 0.95394600 & 0.83393307 & 0.82967591 & ⋯ & NA & NA & NA & NA & 0.27962765 &  0.24893064 &  0.19473767 &  0.211253307 &  0.259167897 &  0.31089656\\\\\n",
       "\tFS\\_SubCort\\_GM\\_Vol & 0.78851398 & 0.86899391 & 0.78978633 & 0.7925724 & 0.79428656 & 1.00000000 & 0.8407289 & 0.85912648 & 0.82483108 & 0.82505024 & ⋯ & NA & NA & NA & NA & 0.32808259 &  0.36367157 &  0.31694057 &  0.270171847 &  0.332095449 &  0.40412120\\\\\n",
       "\tFS\\_Total\\_GM\\_Vol & 0.87512975 & 0.96648393 & 0.98212867 & 0.9830322 & 0.98642496 & 0.84072890 & 1.0000000 & 0.95676918 & 0.84630850 & 0.84265274 & ⋯ & NA & NA & NA & NA & 0.30026585 &  0.26509338 &  0.21393596 &  0.227828080 &  0.273788710 &  0.32692300\\\\\n",
       "\tFS\\_SupraTentorial\\_Vol & 0.88515809 & 0.99584206 & 0.94856174 & 0.9518674 & 0.95394600 & 0.85912648 & 0.9567692 & 1.00000000 & 0.95657235 & 0.95448952 & ⋯ & NA & NA & NA & NA & 0.34304042 &  0.38403125 &  0.27388840 &  0.268821695 &  0.356887229 &  0.43655852\\\\\n",
       "\tFS\\_L\\_WM\\_Vol & 0.83110860 & 0.95025059 & 0.82823562 & 0.8330846 & 0.83393307 & 0.82483108 & 0.8463085 & 0.95657235 & 1.00000000 & 0.99720862 & ⋯ & NA & NA & NA & NA & 0.35983007 &  0.46628464 &  0.37067576 &  0.352852343 &  0.445780348 &  0.50126064\\\\\n",
       "\tFS\\_R\\_WM\\_Vol & 0.82780629 & 0.94827234 & 0.82204438 & 0.8307516 & 0.82967591 & 0.82505024 & 0.8426527 & 0.95448952 & 0.99720862 & 1.00000000 & ⋯ & NA & NA & NA & NA & 0.36438062 &  0.46048694 &  0.36768598 &  0.351758721 &  0.441418100 &  0.49765782\\\\\n",
       "\tFS\\_Tot\\_WM\\_Vol & 0.83002517 & 0.94991754 & 0.82569472 & 0.8324909 & 0.83237055 & 0.82551771 & 0.8450576 & 0.95619104 & 0.99929225 & 0.99931150 & ⋯ & NA & NA & NA & NA & 0.36237463 &  0.46368948 &  0.36942909 &  0.352548344 &  0.443894485 &  0.49979563\\\\\n",
       "\tFS\\_Mask\\_Vol & 0.92238431 & 0.96810008 & 0.91261040 & 0.9214448 & 0.92066041 & 0.83418647 & 0.9420697 & 0.95960458 & 0.90546843 & 0.90381070 & ⋯ & NA & NA & NA & NA & 0.36204991 &  0.32123625 &  0.21398828 &  0.229917822 &  0.300400561 &  0.38155673\\\\\n",
       "\tFS\\_L\\_LatVent\\_Vol & 0.37498057 & 0.31495935 & 0.27196380 & 0.2627924 & 0.26837106 & 0.21972221 & 0.2787827 & 0.31021654 & 0.22299148 & 0.21833276 & ⋯ & NA & NA & NA & NA & 0.15782271 &  0.19190399 & -0.33835739 & -0.354591986 & -0.112187057 &  0.23845911\\\\\n",
       "\tFS\\_L\\_InfLatVent\\_Vol & 0.16897039 & 0.16427039 & 0.14025086 & 0.1405857 & 0.14096874 & 0.11605003 & 0.1475694 & 0.16110367 & 0.12708001 & 0.13516651 & ⋯ & NA & NA & NA & NA & 0.09791341 &  0.01787406 & -0.13100380 & -0.121619568 & -0.066120581 &  0.03246335\\\\\n",
       "\tFS\\_L\\_Cerebellum\\_WM\\_Vol & 0.58869113 & 0.65867820 & 0.53289669 & 0.5368370 & 0.53697923 & 0.65047701 & 0.6086340 & 0.61603149 & 0.62745556 & 0.62907125 & ⋯ & NA & NA & NA & NA & 0.32163916 &  0.27551312 &  0.23750191 &  0.240304001 &  0.282653282 &  0.30334184\\\\\n",
       "\tFS\\_L\\_Cerebellum\\_Cort\\_Vol & 0.70484631 & 0.71025149 & 0.63269806 & 0.6352676 & 0.63647460 & 0.65207517 & 0.7474425 & 0.64692993 & 0.58640309 & 0.58496534 & ⋯ & NA & NA & NA & NA & 0.25406561 &  0.19047795 &  0.17824911 &  0.194220830 &  0.205249335 &  0.23592487\\\\\n",
       "\tFS\\_L\\_ThalamusProper\\_Vol & 0.68216106 & 0.77641629 & 0.70631617 & 0.7140138 & 0.71298313 & 0.78822900 & 0.7409553 & 0.77011062 & 0.76511845 & 0.76632921 & ⋯ & NA & NA & NA & NA & 0.26771741 &  0.28741749 &  0.33623070 &  0.344381312 &  0.334279003 &  0.31844737\\\\\n",
       "\tFS\\_L\\_Caudate\\_Vol & 0.57837711 & 0.60731745 & 0.56290870 & 0.5612505 & 0.56426697 & 0.72520307 & 0.5950966 & 0.60241243 & 0.55049655 & 0.54920508 & ⋯ & NA & NA & NA & NA & 0.23421579 &  0.32350650 &  0.19234071 &  0.069267616 &  0.236316760 &  0.36921706\\\\\n",
       "\tFS\\_L\\_Putamen\\_Vol & 0.49587271 & 0.55088417 & 0.48657814 & 0.4867579 & 0.48857086 & 0.74070423 & 0.5261222 & 0.54697962 & 0.52123639 & 0.52299015 & ⋯ & NA & NA & NA & NA & 0.21678923 &  0.26268852 &  0.18166994 &  0.137873794 &  0.211357873 &  0.27766425\\\\\n",
       "\tFS\\_L\\_Pallidum\\_Vol & 0.40092995 & 0.40264251 & 0.31546092 & 0.3134731 & 0.31568436 & 0.59378262 & 0.3650246 & 0.39117153 & 0.38616852 & 0.39011947 & ⋯ & NA & NA & NA & NA & 0.24700268 &  0.28405522 &  0.14832367 &  0.101925587 &  0.184649447 &  0.29488687\\\\\n",
       "\tFS\\_3rdVent\\_Vol & 0.43228163 & 0.35776700 & 0.31893800 & 0.3270079 & 0.32428027 & 0.27135090 & 0.3423191 & 0.34445607 & 0.28198592 & 0.28260452 & ⋯ & NA & NA & NA & NA & 0.21756009 & -0.05027613 & -0.20052345 & -0.159983624 & -0.069379369 &  0.04654838\\\\\n",
       "\tFS\\_4thVent\\_Vol & 0.32107241 & 0.26307622 & 0.22764227 & 0.2342832 & 0.23190244 & 0.21908221 & 0.2576606 & 0.24649555 & 0.20912414 & 0.21031987 & ⋯ & NA & NA & NA & NA & 0.13316577 &  0.01037032 & -0.07038117 & -0.039772343 & -0.027422258 &  0.07581835\\\\\n",
       "\tFS\\_BrainStem\\_Vol & 0.65724561 & 0.70590071 & 0.57061360 & 0.5720646 & 0.57357993 & 0.74591960 & 0.6397039 & 0.67791128 & 0.70820029 & 0.71016008 & ⋯ & NA & NA & NA & NA & 0.34252158 &  0.35156050 &  0.31162590 &  0.303904026 &  0.351210134 &  0.37410134\\\\\n",
       "\tFS\\_L\\_Hippo\\_Vol & 0.60383890 & 0.65476918 & 0.62977513 & 0.6377678 & 0.63629285 & 0.72099694 & 0.6637568 & 0.64757552 & 0.60220009 & 0.60260273 & ⋯ & NA & NA & NA & NA & 0.20814715 &  0.15853175 &  0.23447570 &  0.214219368 &  0.200860452 &  0.20512724\\\\\n",
       "\tFS\\_L\\_Amygdala\\_Vol & 0.66024855 & 0.73360586 & 0.71195816 & 0.7170476 & 0.71732337 & 0.73944118 & 0.7391765 & 0.72780548 & 0.66719338 & 0.66617605 & ⋯ & NA & NA & NA & NA & 0.27769365 &  0.17809394 &  0.18368402 &  0.168520265 &  0.191736781 &  0.24468927\\\\\n",
       "\tFS\\_CSF\\_Vol & 0.55361292 & 0.47747795 & 0.43278750 & 0.4303665 & 0.43324943 & 0.39460051 & 0.4582325 & 0.46244543 & 0.40135594 & 0.40157805 & ⋯ & NA & NA & NA & NA & 0.26432005 &  0.18564012 & -0.09181928 &  0.009190069 &  0.084256143 &  0.25824951\\\\\n",
       "\tFS\\_L\\_AccumbensArea\\_Vol & 0.49553785 & 0.59436104 & 0.56062865 & 0.5620968 & 0.56356423 & 0.67752145 & 0.5847115 & 0.59237972 & 0.56554081 & 0.56566973 & ⋯ & NA & NA & NA & NA & 0.24385685 &  0.24465133 &  0.23671897 &  0.233856467 &  0.259170741 &  0.23897517\\\\\n",
       "\tFS\\_L\\_VentDC\\_Vol & 0.67595118 & 0.72721648 & 0.60731952 & 0.6069536 & 0.60950691 & 0.85389740 & 0.6715359 & 0.70839634 & 0.71527942 & 0.71834719 & ⋯ & NA & NA & NA & NA & 0.28081754 &  0.35502034 &  0.26972917 &  0.235815465 &  0.302010616 &  0.37457565\\\\\n",
       "\tFS\\_L\\_Vessel\\_Vol & 0.15423056 & 0.17388908 & 0.12356261 & 0.1223822 & 0.12344663 & 0.21733003 & 0.1418038 & 0.17212325 & 0.19038013 & 0.18970246 & ⋯ & NA & NA & NA & NA & 0.14483046 &  0.13270800 &  0.09117550 &  0.052523912 &  0.090073083 &  0.15186436\\\\\n",
       "\tFS\\_L\\_ChoroidPlexus\\_Vol & 0.38314025 & 0.34979289 & 0.28261783 & 0.2759203 & 0.28032239 & 0.38015342 & 0.3032990 & 0.34517940 & 0.31931111 & 0.31951950 & ⋯ & NA & NA & NA & NA & 0.29759526 &  0.25117885 & -0.04300835 & -0.191037102 & -0.002031803 &  0.27539582\\\\\n",
       "\tFS\\_R\\_LatVent\\_Vol & 0.35856367 & 0.29778365 & 0.24384293 & 0.2451055 & 0.24543639 & 0.20824129 & 0.2546900 & 0.29477214 & 0.21230926 & 0.21533513 & ⋯ & NA & NA & NA & NA & 0.15676343 &  0.23453834 & -0.29196871 & -0.325190183 & -0.083145915 &  0.26998554\\\\\n",
       "\tFS\\_R\\_InfLatVent\\_Vol & 0.11406510 & 0.14424500 & 0.12590300 & 0.1313933 & 0.12918191 & 0.13821658 & 0.1325345 & 0.14464319 & 0.14132533 & 0.14400271 & ⋯ & NA & NA & NA & NA & 0.11810310 & -0.01070464 &  0.03134870 & -0.022794158 & -0.015031924 & -0.01088744\\\\\n",
       "\tFS\\_R\\_Cerebellum\\_WM\\_Vol & 0.60653775 & 0.67180386 & 0.54915733 & 0.5522298 & 0.55286280 & 0.65383174 & 0.6237727 & 0.62898391 & 0.63555864 & 0.63627718 & ⋯ & NA & NA & NA & NA & 0.31451859 &  0.27047999 &  0.22654022 &  0.229015826 &  0.261755082 &  0.30048710\\\\\n",
       "\tFS\\_R\\_Cerebellum\\_Cort\\_Vol & 0.69770064 & 0.69783034 & 0.61739874 & 0.6206763 & 0.62147499 & 0.63989251 & 0.7345061 & 0.63266284 & 0.57275888 & 0.57162004 & ⋯ & NA & NA & NA & NA & 0.26488627 &  0.18520073 &  0.15904233 &  0.189774870 &  0.202922459 &  0.23111295\\\\\n",
       "\tFS\\_R\\_ThalamusProper\\_Vol & 0.66638340 & 0.76047232 & 0.68711152 & 0.6892555 & 0.69088450 & 0.81568633 & 0.7211526 & 0.75570745 & 0.75352775 & 0.75267298 & ⋯ & NA & NA & NA & NA & 0.27942250 &  0.31969923 &  0.33119045 &  0.324331329 &  0.333443575 &  0.36147784\\\\\n",
       "\tFS\\_R\\_Caudate\\_Vol & 0.59652243 & 0.62894354 & 0.58134576 & 0.5815797 & 0.58373629 & 0.74030578 & 0.6155689 & 0.62321961 & 0.56876245 & 0.56710824 & ⋯ & NA & NA & NA & NA & 0.25157426 &  0.33899010 &  0.19783273 &  0.072997872 &  0.240941120 &  0.39980914\\\\\n",
       "\tFS\\_R\\_Putamen\\_Vol & 0.56201022 & 0.65553149 & 0.62239410 & 0.6250373 & 0.62616768 & 0.81630130 & 0.6562190 & 0.65247803 & 0.60477273 & 0.60216773 & ⋯ & NA & NA & NA & NA & 0.23266220 &  0.23229500 &  0.23677992 &  0.195076225 &  0.217510953 &  0.23710875\\\\\n",
       "\tFS\\_R\\_Pallidum\\_Vol & 0.53329495 & 0.56376373 & 0.46164873 & 0.4609046 & 0.46307499 & 0.73311105 & 0.5125299 & 0.55292319 & 0.55637177 & 0.55657998 & ⋯ & NA & NA & NA & NA & 0.27095986 &  0.38963822 &  0.24364165 &  0.188192305 &  0.272988747 &  0.38866368\\\\\n",
       "\tFS\\_R\\_Hippo\\_Vol & 0.64958935 & 0.69806228 & 0.67513577 & 0.6779019 & 0.67917795 & 0.75673715 & 0.7110396 & 0.68786161 & 0.63016270 & 0.62887364 & ⋯ & NA & NA & NA & NA & 0.24316970 &  0.15830952 &  0.20182127 &  0.204680359 &  0.190793526 &  0.21309232\\\\\n",
       "\tFS\\_R\\_Amygdala\\_Vol & 0.64711222 & 0.72521574 & 0.70370077 & 0.7097618 & 0.70952682 & 0.73524457 & 0.7284178 & 0.72094178 & 0.66402879 & 0.66401776 & ⋯ & NA & NA & NA & NA & 0.26656145 &  0.18074813 &  0.18915618 &  0.182590547 &  0.190116082 &  0.23304277\\\\\n",
       "\tFS\\_R\\_AccumbensArea\\_Vol & 0.49778070 & 0.60499200 & 0.59393316 & 0.6030192 & 0.60086577 & 0.64231880 & 0.6131929 & 0.60461055 & 0.56667339 & 0.56467548 & ⋯ & NA & NA & NA & NA & 0.22462449 &  0.21887301 &  0.25517654 &  0.250561785 &  0.259488641 &  0.21236850\\\\\n",
       "\tFS\\_R\\_VentDC\\_Vol & 0.69245560 & 0.75064560 & 0.63103100 & 0.6320048 & 0.63399092 & 0.86597425 & 0.6941850 & 0.73256836 & 0.73841848 & 0.74080095 & ⋯ & NA & NA & NA & NA & 0.29740875 &  0.36962726 &  0.28785729 &  0.261573414 &  0.315267781 &  0.39321861\\\\\n",
       "\tFS\\_R\\_Vessel\\_Vol & 0.15363321 & 0.20678367 & 0.17001517 & 0.1759543 & 0.17369412 & 0.23081438 & 0.1906112 & 0.20303200 & 0.20733288 & 0.20560868 & ⋯ & NA & NA & NA & NA & 0.12259295 &  0.09271901 &  0.04781022 &  0.020375562 &  0.042604163 &  0.07380737\\\\\n",
       "\tFS\\_R\\_ChoroidPlexus\\_Vol & 0.42861209 & 0.41258103 & 0.35164750 & 0.3441177 & 0.34919952 & 0.38104392 & 0.3650723 & 0.41009582 & 0.36005397 & 0.36096046 & ⋯ & NA & NA & NA & NA & 0.31793805 &  0.24662120 & -0.11900260 & -0.264764892 & -0.055538206 &  0.29034148\\\\\n",
       "\tFS\\_5thVent\\_Vol & 0.08758425 & 0.04979092 & 0.02747529 & 0.0343031 & 0.03104854 & 0.02854927 & 0.0364988 & 0.04701623 & 0.04116974 & 0.04174618 & ⋯ & NA & NA & NA & NA & 0.01033982 &  0.07941491 & -0.03331922 & -0.071024869 & -0.036366699 &  0.15002437\\\\\n",
       "\tFS\\_WM\\_Hypointens\\_Vol & 0.22258258 & 0.32314434 & 0.32722217 & 0.3390336 & 0.33449594 & 0.27792949 & 0.3277528 & 0.32691662 & 0.31212583 & 0.31623149 & ⋯ & NA & NA & NA & NA & 0.09943160 & -0.06416489 &  0.04439970 &  0.182043682 &  0.086213266 & -0.03530666\\\\\n",
       "\tFS\\_L\\_WM\\_Hypointens\\_Vol &         NA &         NA &         NA &        NA &         NA &         NA &        NA &         NA &         NA &         NA & ⋯ &  1 & NA & NA & NA &         NA &          NA &          NA &           NA &           NA &          NA\\\\\n",
       "\tFS\\_R\\_WM\\_Hypointens\\_Vol &         NA &         NA &         NA &        NA &         NA &         NA &        NA &         NA &         NA &         NA & ⋯ & NA &  1 & NA & NA &         NA &          NA &          NA &           NA &           NA &          NA\\\\\n",
       "\tFS\\_L\\_Non.WM\\_Hypointens\\_Vol &         NA &         NA &         NA &        NA &         NA &         NA &        NA &         NA &         NA &         NA & ⋯ & NA & NA &  1 & NA &         NA &          NA &          NA &           NA &           NA &          NA\\\\\n",
       "\tFS\\_R\\_Non.WM\\_Hypointens\\_Vol &         NA &         NA &         NA &        NA &         NA &         NA &        NA &         NA &         NA &         NA & ⋯ & NA & NA & NA &  1 &         NA &          NA &          NA &           NA &           NA &          NA\\\\\n",
       "\tFS\\_OpticChiasm\\_Vol & 0.33097622 & 0.35006717 & 0.27354855 & 0.2834184 & 0.27962765 & 0.32808259 & 0.3002658 & 0.34304042 & 0.35983007 & 0.36438062 & ⋯ & NA & NA & NA & NA & 1.00000000 &  0.14288754 &  0.08528853 &  0.044730790 &  0.077610930 &  0.18599436\\\\\n",
       "\tFS\\_CC\\_Posterior\\_Vol & 0.34486799 & 0.37677373 & 0.25151569 & 0.2444868 & 0.24893064 & 0.36367157 & 0.2650934 & 0.38403125 & 0.46628464 & 0.46048694 & ⋯ & NA & NA & NA & NA & 0.14288754 &  1.00000000 &  0.53498193 &  0.374613841 &  0.593652934 &  0.64488818\\\\\n",
       "\tFS\\_CC\\_MidPosterior\\_Vol & 0.18960892 & 0.27243466 & 0.19618089 & 0.1918267 & 0.19473767 & 0.31694057 & 0.2139360 & 0.27388840 & 0.37067576 & 0.36768598 & ⋯ & NA & NA & NA & NA & 0.08528853 &  0.53498193 &  1.00000000 &  0.678057564 &  0.641496004 &  0.40374282\\\\\n",
       "\tFS\\_CC\\_Central\\_Vol & 0.19734142 & 0.27076862 & 0.20894343 & 0.2118854 & 0.21125331 & 0.27017185 & 0.2278281 & 0.26882169 & 0.35285234 & 0.35175872 & ⋯ & NA & NA & NA & NA & 0.04473079 &  0.37461384 &  0.67805756 &  1.000000000 &  0.711421149 &  0.29418749\\\\\n",
       "\tFS\\_CC\\_MidAnterior\\_Vol & 0.28459965 & 0.35348419 & 0.25729793 & 0.2590016 & 0.25916790 & 0.33209545 & 0.2737887 & 0.35688723 & 0.44578035 & 0.44141810 & ⋯ & NA & NA & NA & NA & 0.07761093 &  0.59365293 &  0.64149600 &  0.711421149 &  1.000000000 &  0.49733860\\\\\n",
       "\tFS\\_CC\\_Anterior\\_Vol & 0.40182119 & 0.43087227 & 0.31406264 & 0.3054070 & 0.31089656 & 0.40412120 & 0.3269230 & 0.43655852 & 0.50126064 & 0.49765782 & ⋯ & NA & NA & NA & NA & 0.18599436 &  0.64488818 &  0.40374282 &  0.294187488 &  0.497338603 &  1.00000000\\\\\n",
       "\\end{tabular}\n"
      ],
      "text/markdown": [
       "\n",
       "A matrix: 56 × 56 of type dbl\n",
       "\n",
       "| <!--/--> | FS_IntraCranial_Vol | FS_BrainSeg_Vol | FS_LCort_GM_Vol | FS_RCort_GM_Vol | FS_TotCort_GM_Vol | FS_SubCort_GM_Vol | FS_Total_GM_Vol | FS_SupraTentorial_Vol | FS_L_WM_Vol | FS_R_WM_Vol | ⋯ | FS_L_WM_Hypointens_Vol | FS_R_WM_Hypointens_Vol | FS_L_Non.WM_Hypointens_Vol | FS_R_Non.WM_Hypointens_Vol | FS_OpticChiasm_Vol | FS_CC_Posterior_Vol | FS_CC_MidPosterior_Vol | FS_CC_Central_Vol | FS_CC_MidAnterior_Vol | FS_CC_Anterior_Vol |\n",
       "|---|---|---|---|---|---|---|---|---|---|---|---|---|---|---|---|---|---|---|---|---|---|\n",
       "| FS_IntraCranial_Vol | 1.00000000 | 0.89775779 | 0.84001739 | 0.8439151 | 0.84527801 | 0.78851398 | 0.8751297 | 0.88515809 | 0.83110860 | 0.82780629 | ⋯ | NA | NA | NA | NA | 0.33097622 |  0.34486799 |  0.18960892 |  0.197341425 |  0.284599652 |  0.40182119 |\n",
       "| FS_BrainSeg_Vol | 0.89775779 | 1.00000000 | 0.94481588 | 0.9482717 | 0.95026178 | 0.86899391 | 0.9664839 | 0.99584206 | 0.95025059 | 0.94827234 | ⋯ | NA | NA | NA | NA | 0.35006717 |  0.37677373 |  0.27243466 |  0.270768619 |  0.353484192 |  0.43087227 |\n",
       "| FS_LCort_GM_Vol | 0.84001739 | 0.94481588 | 1.00000000 | 0.9844592 | 0.99601958 | 0.78978633 | 0.9821287 | 0.94856174 | 0.82823562 | 0.82204438 | ⋯ | NA | NA | NA | NA | 0.27354855 |  0.25151569 |  0.19618089 |  0.208943426 |  0.257297934 |  0.31406264 |\n",
       "| FS_RCort_GM_Vol | 0.84391512 | 0.94827175 | 0.98445925 | 1.0000000 | 0.99619391 | 0.79257235 | 0.9830322 | 0.95186738 | 0.83308464 | 0.83075164 | ⋯ | NA | NA | NA | NA | 0.28341844 |  0.24448681 |  0.19182668 |  0.211885362 |  0.259001604 |  0.30540697 |\n",
       "| FS_TotCort_GM_Vol | 0.84527801 | 0.95026178 | 0.99601958 | 0.9961939 | 1.00000000 | 0.79428656 | 0.9864250 | 0.95394600 | 0.83393307 | 0.82967591 | ⋯ | NA | NA | NA | NA | 0.27962765 |  0.24893064 |  0.19473767 |  0.211253307 |  0.259167897 |  0.31089656 |\n",
       "| FS_SubCort_GM_Vol | 0.78851398 | 0.86899391 | 0.78978633 | 0.7925724 | 0.79428656 | 1.00000000 | 0.8407289 | 0.85912648 | 0.82483108 | 0.82505024 | ⋯ | NA | NA | NA | NA | 0.32808259 |  0.36367157 |  0.31694057 |  0.270171847 |  0.332095449 |  0.40412120 |\n",
       "| FS_Total_GM_Vol | 0.87512975 | 0.96648393 | 0.98212867 | 0.9830322 | 0.98642496 | 0.84072890 | 1.0000000 | 0.95676918 | 0.84630850 | 0.84265274 | ⋯ | NA | NA | NA | NA | 0.30026585 |  0.26509338 |  0.21393596 |  0.227828080 |  0.273788710 |  0.32692300 |\n",
       "| FS_SupraTentorial_Vol | 0.88515809 | 0.99584206 | 0.94856174 | 0.9518674 | 0.95394600 | 0.85912648 | 0.9567692 | 1.00000000 | 0.95657235 | 0.95448952 | ⋯ | NA | NA | NA | NA | 0.34304042 |  0.38403125 |  0.27388840 |  0.268821695 |  0.356887229 |  0.43655852 |\n",
       "| FS_L_WM_Vol | 0.83110860 | 0.95025059 | 0.82823562 | 0.8330846 | 0.83393307 | 0.82483108 | 0.8463085 | 0.95657235 | 1.00000000 | 0.99720862 | ⋯ | NA | NA | NA | NA | 0.35983007 |  0.46628464 |  0.37067576 |  0.352852343 |  0.445780348 |  0.50126064 |\n",
       "| FS_R_WM_Vol | 0.82780629 | 0.94827234 | 0.82204438 | 0.8307516 | 0.82967591 | 0.82505024 | 0.8426527 | 0.95448952 | 0.99720862 | 1.00000000 | ⋯ | NA | NA | NA | NA | 0.36438062 |  0.46048694 |  0.36768598 |  0.351758721 |  0.441418100 |  0.49765782 |\n",
       "| FS_Tot_WM_Vol | 0.83002517 | 0.94991754 | 0.82569472 | 0.8324909 | 0.83237055 | 0.82551771 | 0.8450576 | 0.95619104 | 0.99929225 | 0.99931150 | ⋯ | NA | NA | NA | NA | 0.36237463 |  0.46368948 |  0.36942909 |  0.352548344 |  0.443894485 |  0.49979563 |\n",
       "| FS_Mask_Vol | 0.92238431 | 0.96810008 | 0.91261040 | 0.9214448 | 0.92066041 | 0.83418647 | 0.9420697 | 0.95960458 | 0.90546843 | 0.90381070 | ⋯ | NA | NA | NA | NA | 0.36204991 |  0.32123625 |  0.21398828 |  0.229917822 |  0.300400561 |  0.38155673 |\n",
       "| FS_L_LatVent_Vol | 0.37498057 | 0.31495935 | 0.27196380 | 0.2627924 | 0.26837106 | 0.21972221 | 0.2787827 | 0.31021654 | 0.22299148 | 0.21833276 | ⋯ | NA | NA | NA | NA | 0.15782271 |  0.19190399 | -0.33835739 | -0.354591986 | -0.112187057 |  0.23845911 |\n",
       "| FS_L_InfLatVent_Vol | 0.16897039 | 0.16427039 | 0.14025086 | 0.1405857 | 0.14096874 | 0.11605003 | 0.1475694 | 0.16110367 | 0.12708001 | 0.13516651 | ⋯ | NA | NA | NA | NA | 0.09791341 |  0.01787406 | -0.13100380 | -0.121619568 | -0.066120581 |  0.03246335 |\n",
       "| FS_L_Cerebellum_WM_Vol | 0.58869113 | 0.65867820 | 0.53289669 | 0.5368370 | 0.53697923 | 0.65047701 | 0.6086340 | 0.61603149 | 0.62745556 | 0.62907125 | ⋯ | NA | NA | NA | NA | 0.32163916 |  0.27551312 |  0.23750191 |  0.240304001 |  0.282653282 |  0.30334184 |\n",
       "| FS_L_Cerebellum_Cort_Vol | 0.70484631 | 0.71025149 | 0.63269806 | 0.6352676 | 0.63647460 | 0.65207517 | 0.7474425 | 0.64692993 | 0.58640309 | 0.58496534 | ⋯ | NA | NA | NA | NA | 0.25406561 |  0.19047795 |  0.17824911 |  0.194220830 |  0.205249335 |  0.23592487 |\n",
       "| FS_L_ThalamusProper_Vol | 0.68216106 | 0.77641629 | 0.70631617 | 0.7140138 | 0.71298313 | 0.78822900 | 0.7409553 | 0.77011062 | 0.76511845 | 0.76632921 | ⋯ | NA | NA | NA | NA | 0.26771741 |  0.28741749 |  0.33623070 |  0.344381312 |  0.334279003 |  0.31844737 |\n",
       "| FS_L_Caudate_Vol | 0.57837711 | 0.60731745 | 0.56290870 | 0.5612505 | 0.56426697 | 0.72520307 | 0.5950966 | 0.60241243 | 0.55049655 | 0.54920508 | ⋯ | NA | NA | NA | NA | 0.23421579 |  0.32350650 |  0.19234071 |  0.069267616 |  0.236316760 |  0.36921706 |\n",
       "| FS_L_Putamen_Vol | 0.49587271 | 0.55088417 | 0.48657814 | 0.4867579 | 0.48857086 | 0.74070423 | 0.5261222 | 0.54697962 | 0.52123639 | 0.52299015 | ⋯ | NA | NA | NA | NA | 0.21678923 |  0.26268852 |  0.18166994 |  0.137873794 |  0.211357873 |  0.27766425 |\n",
       "| FS_L_Pallidum_Vol | 0.40092995 | 0.40264251 | 0.31546092 | 0.3134731 | 0.31568436 | 0.59378262 | 0.3650246 | 0.39117153 | 0.38616852 | 0.39011947 | ⋯ | NA | NA | NA | NA | 0.24700268 |  0.28405522 |  0.14832367 |  0.101925587 |  0.184649447 |  0.29488687 |\n",
       "| FS_3rdVent_Vol | 0.43228163 | 0.35776700 | 0.31893800 | 0.3270079 | 0.32428027 | 0.27135090 | 0.3423191 | 0.34445607 | 0.28198592 | 0.28260452 | ⋯ | NA | NA | NA | NA | 0.21756009 | -0.05027613 | -0.20052345 | -0.159983624 | -0.069379369 |  0.04654838 |\n",
       "| FS_4thVent_Vol | 0.32107241 | 0.26307622 | 0.22764227 | 0.2342832 | 0.23190244 | 0.21908221 | 0.2576606 | 0.24649555 | 0.20912414 | 0.21031987 | ⋯ | NA | NA | NA | NA | 0.13316577 |  0.01037032 | -0.07038117 | -0.039772343 | -0.027422258 |  0.07581835 |\n",
       "| FS_BrainStem_Vol | 0.65724561 | 0.70590071 | 0.57061360 | 0.5720646 | 0.57357993 | 0.74591960 | 0.6397039 | 0.67791128 | 0.70820029 | 0.71016008 | ⋯ | NA | NA | NA | NA | 0.34252158 |  0.35156050 |  0.31162590 |  0.303904026 |  0.351210134 |  0.37410134 |\n",
       "| FS_L_Hippo_Vol | 0.60383890 | 0.65476918 | 0.62977513 | 0.6377678 | 0.63629285 | 0.72099694 | 0.6637568 | 0.64757552 | 0.60220009 | 0.60260273 | ⋯ | NA | NA | NA | NA | 0.20814715 |  0.15853175 |  0.23447570 |  0.214219368 |  0.200860452 |  0.20512724 |\n",
       "| FS_L_Amygdala_Vol | 0.66024855 | 0.73360586 | 0.71195816 | 0.7170476 | 0.71732337 | 0.73944118 | 0.7391765 | 0.72780548 | 0.66719338 | 0.66617605 | ⋯ | NA | NA | NA | NA | 0.27769365 |  0.17809394 |  0.18368402 |  0.168520265 |  0.191736781 |  0.24468927 |\n",
       "| FS_CSF_Vol | 0.55361292 | 0.47747795 | 0.43278750 | 0.4303665 | 0.43324943 | 0.39460051 | 0.4582325 | 0.46244543 | 0.40135594 | 0.40157805 | ⋯ | NA | NA | NA | NA | 0.26432005 |  0.18564012 | -0.09181928 |  0.009190069 |  0.084256143 |  0.25824951 |\n",
       "| FS_L_AccumbensArea_Vol | 0.49553785 | 0.59436104 | 0.56062865 | 0.5620968 | 0.56356423 | 0.67752145 | 0.5847115 | 0.59237972 | 0.56554081 | 0.56566973 | ⋯ | NA | NA | NA | NA | 0.24385685 |  0.24465133 |  0.23671897 |  0.233856467 |  0.259170741 |  0.23897517 |\n",
       "| FS_L_VentDC_Vol | 0.67595118 | 0.72721648 | 0.60731952 | 0.6069536 | 0.60950691 | 0.85389740 | 0.6715359 | 0.70839634 | 0.71527942 | 0.71834719 | ⋯ | NA | NA | NA | NA | 0.28081754 |  0.35502034 |  0.26972917 |  0.235815465 |  0.302010616 |  0.37457565 |\n",
       "| FS_L_Vessel_Vol | 0.15423056 | 0.17388908 | 0.12356261 | 0.1223822 | 0.12344663 | 0.21733003 | 0.1418038 | 0.17212325 | 0.19038013 | 0.18970246 | ⋯ | NA | NA | NA | NA | 0.14483046 |  0.13270800 |  0.09117550 |  0.052523912 |  0.090073083 |  0.15186436 |\n",
       "| FS_L_ChoroidPlexus_Vol | 0.38314025 | 0.34979289 | 0.28261783 | 0.2759203 | 0.28032239 | 0.38015342 | 0.3032990 | 0.34517940 | 0.31931111 | 0.31951950 | ⋯ | NA | NA | NA | NA | 0.29759526 |  0.25117885 | -0.04300835 | -0.191037102 | -0.002031803 |  0.27539582 |\n",
       "| FS_R_LatVent_Vol | 0.35856367 | 0.29778365 | 0.24384293 | 0.2451055 | 0.24543639 | 0.20824129 | 0.2546900 | 0.29477214 | 0.21230926 | 0.21533513 | ⋯ | NA | NA | NA | NA | 0.15676343 |  0.23453834 | -0.29196871 | -0.325190183 | -0.083145915 |  0.26998554 |\n",
       "| FS_R_InfLatVent_Vol | 0.11406510 | 0.14424500 | 0.12590300 | 0.1313933 | 0.12918191 | 0.13821658 | 0.1325345 | 0.14464319 | 0.14132533 | 0.14400271 | ⋯ | NA | NA | NA | NA | 0.11810310 | -0.01070464 |  0.03134870 | -0.022794158 | -0.015031924 | -0.01088744 |\n",
       "| FS_R_Cerebellum_WM_Vol | 0.60653775 | 0.67180386 | 0.54915733 | 0.5522298 | 0.55286280 | 0.65383174 | 0.6237727 | 0.62898391 | 0.63555864 | 0.63627718 | ⋯ | NA | NA | NA | NA | 0.31451859 |  0.27047999 |  0.22654022 |  0.229015826 |  0.261755082 |  0.30048710 |\n",
       "| FS_R_Cerebellum_Cort_Vol | 0.69770064 | 0.69783034 | 0.61739874 | 0.6206763 | 0.62147499 | 0.63989251 | 0.7345061 | 0.63266284 | 0.57275888 | 0.57162004 | ⋯ | NA | NA | NA | NA | 0.26488627 |  0.18520073 |  0.15904233 |  0.189774870 |  0.202922459 |  0.23111295 |\n",
       "| FS_R_ThalamusProper_Vol | 0.66638340 | 0.76047232 | 0.68711152 | 0.6892555 | 0.69088450 | 0.81568633 | 0.7211526 | 0.75570745 | 0.75352775 | 0.75267298 | ⋯ | NA | NA | NA | NA | 0.27942250 |  0.31969923 |  0.33119045 |  0.324331329 |  0.333443575 |  0.36147784 |\n",
       "| FS_R_Caudate_Vol | 0.59652243 | 0.62894354 | 0.58134576 | 0.5815797 | 0.58373629 | 0.74030578 | 0.6155689 | 0.62321961 | 0.56876245 | 0.56710824 | ⋯ | NA | NA | NA | NA | 0.25157426 |  0.33899010 |  0.19783273 |  0.072997872 |  0.240941120 |  0.39980914 |\n",
       "| FS_R_Putamen_Vol | 0.56201022 | 0.65553149 | 0.62239410 | 0.6250373 | 0.62616768 | 0.81630130 | 0.6562190 | 0.65247803 | 0.60477273 | 0.60216773 | ⋯ | NA | NA | NA | NA | 0.23266220 |  0.23229500 |  0.23677992 |  0.195076225 |  0.217510953 |  0.23710875 |\n",
       "| FS_R_Pallidum_Vol | 0.53329495 | 0.56376373 | 0.46164873 | 0.4609046 | 0.46307499 | 0.73311105 | 0.5125299 | 0.55292319 | 0.55637177 | 0.55657998 | ⋯ | NA | NA | NA | NA | 0.27095986 |  0.38963822 |  0.24364165 |  0.188192305 |  0.272988747 |  0.38866368 |\n",
       "| FS_R_Hippo_Vol | 0.64958935 | 0.69806228 | 0.67513577 | 0.6779019 | 0.67917795 | 0.75673715 | 0.7110396 | 0.68786161 | 0.63016270 | 0.62887364 | ⋯ | NA | NA | NA | NA | 0.24316970 |  0.15830952 |  0.20182127 |  0.204680359 |  0.190793526 |  0.21309232 |\n",
       "| FS_R_Amygdala_Vol | 0.64711222 | 0.72521574 | 0.70370077 | 0.7097618 | 0.70952682 | 0.73524457 | 0.7284178 | 0.72094178 | 0.66402879 | 0.66401776 | ⋯ | NA | NA | NA | NA | 0.26656145 |  0.18074813 |  0.18915618 |  0.182590547 |  0.190116082 |  0.23304277 |\n",
       "| FS_R_AccumbensArea_Vol | 0.49778070 | 0.60499200 | 0.59393316 | 0.6030192 | 0.60086577 | 0.64231880 | 0.6131929 | 0.60461055 | 0.56667339 | 0.56467548 | ⋯ | NA | NA | NA | NA | 0.22462449 |  0.21887301 |  0.25517654 |  0.250561785 |  0.259488641 |  0.21236850 |\n",
       "| FS_R_VentDC_Vol | 0.69245560 | 0.75064560 | 0.63103100 | 0.6320048 | 0.63399092 | 0.86597425 | 0.6941850 | 0.73256836 | 0.73841848 | 0.74080095 | ⋯ | NA | NA | NA | NA | 0.29740875 |  0.36962726 |  0.28785729 |  0.261573414 |  0.315267781 |  0.39321861 |\n",
       "| FS_R_Vessel_Vol | 0.15363321 | 0.20678367 | 0.17001517 | 0.1759543 | 0.17369412 | 0.23081438 | 0.1906112 | 0.20303200 | 0.20733288 | 0.20560868 | ⋯ | NA | NA | NA | NA | 0.12259295 |  0.09271901 |  0.04781022 |  0.020375562 |  0.042604163 |  0.07380737 |\n",
       "| FS_R_ChoroidPlexus_Vol | 0.42861209 | 0.41258103 | 0.35164750 | 0.3441177 | 0.34919952 | 0.38104392 | 0.3650723 | 0.41009582 | 0.36005397 | 0.36096046 | ⋯ | NA | NA | NA | NA | 0.31793805 |  0.24662120 | -0.11900260 | -0.264764892 | -0.055538206 |  0.29034148 |\n",
       "| FS_5thVent_Vol | 0.08758425 | 0.04979092 | 0.02747529 | 0.0343031 | 0.03104854 | 0.02854927 | 0.0364988 | 0.04701623 | 0.04116974 | 0.04174618 | ⋯ | NA | NA | NA | NA | 0.01033982 |  0.07941491 | -0.03331922 | -0.071024869 | -0.036366699 |  0.15002437 |\n",
       "| FS_WM_Hypointens_Vol | 0.22258258 | 0.32314434 | 0.32722217 | 0.3390336 | 0.33449594 | 0.27792949 | 0.3277528 | 0.32691662 | 0.31212583 | 0.31623149 | ⋯ | NA | NA | NA | NA | 0.09943160 | -0.06416489 |  0.04439970 |  0.182043682 |  0.086213266 | -0.03530666 |\n",
       "| FS_L_WM_Hypointens_Vol |         NA |         NA |         NA |        NA |         NA |         NA |        NA |         NA |         NA |         NA | ⋯ |  1 | NA | NA | NA |         NA |          NA |          NA |           NA |           NA |          NA |\n",
       "| FS_R_WM_Hypointens_Vol |         NA |         NA |         NA |        NA |         NA |         NA |        NA |         NA |         NA |         NA | ⋯ | NA |  1 | NA | NA |         NA |          NA |          NA |           NA |           NA |          NA |\n",
       "| FS_L_Non.WM_Hypointens_Vol |         NA |         NA |         NA |        NA |         NA |         NA |        NA |         NA |         NA |         NA | ⋯ | NA | NA |  1 | NA |         NA |          NA |          NA |           NA |           NA |          NA |\n",
       "| FS_R_Non.WM_Hypointens_Vol |         NA |         NA |         NA |        NA |         NA |         NA |        NA |         NA |         NA |         NA | ⋯ | NA | NA | NA |  1 |         NA |          NA |          NA |           NA |           NA |          NA |\n",
       "| FS_OpticChiasm_Vol | 0.33097622 | 0.35006717 | 0.27354855 | 0.2834184 | 0.27962765 | 0.32808259 | 0.3002658 | 0.34304042 | 0.35983007 | 0.36438062 | ⋯ | NA | NA | NA | NA | 1.00000000 |  0.14288754 |  0.08528853 |  0.044730790 |  0.077610930 |  0.18599436 |\n",
       "| FS_CC_Posterior_Vol | 0.34486799 | 0.37677373 | 0.25151569 | 0.2444868 | 0.24893064 | 0.36367157 | 0.2650934 | 0.38403125 | 0.46628464 | 0.46048694 | ⋯ | NA | NA | NA | NA | 0.14288754 |  1.00000000 |  0.53498193 |  0.374613841 |  0.593652934 |  0.64488818 |\n",
       "| FS_CC_MidPosterior_Vol | 0.18960892 | 0.27243466 | 0.19618089 | 0.1918267 | 0.19473767 | 0.31694057 | 0.2139360 | 0.27388840 | 0.37067576 | 0.36768598 | ⋯ | NA | NA | NA | NA | 0.08528853 |  0.53498193 |  1.00000000 |  0.678057564 |  0.641496004 |  0.40374282 |\n",
       "| FS_CC_Central_Vol | 0.19734142 | 0.27076862 | 0.20894343 | 0.2118854 | 0.21125331 | 0.27017185 | 0.2278281 | 0.26882169 | 0.35285234 | 0.35175872 | ⋯ | NA | NA | NA | NA | 0.04473079 |  0.37461384 |  0.67805756 |  1.000000000 |  0.711421149 |  0.29418749 |\n",
       "| FS_CC_MidAnterior_Vol | 0.28459965 | 0.35348419 | 0.25729793 | 0.2590016 | 0.25916790 | 0.33209545 | 0.2737887 | 0.35688723 | 0.44578035 | 0.44141810 | ⋯ | NA | NA | NA | NA | 0.07761093 |  0.59365293 |  0.64149600 |  0.711421149 |  1.000000000 |  0.49733860 |\n",
       "| FS_CC_Anterior_Vol | 0.40182119 | 0.43087227 | 0.31406264 | 0.3054070 | 0.31089656 | 0.40412120 | 0.3269230 | 0.43655852 | 0.50126064 | 0.49765782 | ⋯ | NA | NA | NA | NA | 0.18599436 |  0.64488818 |  0.40374282 |  0.294187488 |  0.497338603 |  1.00000000 |\n",
       "\n"
      ],
      "text/plain": [
       "                           FS_IntraCranial_Vol FS_BrainSeg_Vol FS_LCort_GM_Vol\n",
       "FS_IntraCranial_Vol        1.00000000          0.89775779      0.84001739     \n",
       "FS_BrainSeg_Vol            0.89775779          1.00000000      0.94481588     \n",
       "FS_LCort_GM_Vol            0.84001739          0.94481588      1.00000000     \n",
       "FS_RCort_GM_Vol            0.84391512          0.94827175      0.98445925     \n",
       "FS_TotCort_GM_Vol          0.84527801          0.95026178      0.99601958     \n",
       "FS_SubCort_GM_Vol          0.78851398          0.86899391      0.78978633     \n",
       "FS_Total_GM_Vol            0.87512975          0.96648393      0.98212867     \n",
       "FS_SupraTentorial_Vol      0.88515809          0.99584206      0.94856174     \n",
       "FS_L_WM_Vol                0.83110860          0.95025059      0.82823562     \n",
       "FS_R_WM_Vol                0.82780629          0.94827234      0.82204438     \n",
       "FS_Tot_WM_Vol              0.83002517          0.94991754      0.82569472     \n",
       "FS_Mask_Vol                0.92238431          0.96810008      0.91261040     \n",
       "FS_L_LatVent_Vol           0.37498057          0.31495935      0.27196380     \n",
       "FS_L_InfLatVent_Vol        0.16897039          0.16427039      0.14025086     \n",
       "FS_L_Cerebellum_WM_Vol     0.58869113          0.65867820      0.53289669     \n",
       "FS_L_Cerebellum_Cort_Vol   0.70484631          0.71025149      0.63269806     \n",
       "FS_L_ThalamusProper_Vol    0.68216106          0.77641629      0.70631617     \n",
       "FS_L_Caudate_Vol           0.57837711          0.60731745      0.56290870     \n",
       "FS_L_Putamen_Vol           0.49587271          0.55088417      0.48657814     \n",
       "FS_L_Pallidum_Vol          0.40092995          0.40264251      0.31546092     \n",
       "FS_3rdVent_Vol             0.43228163          0.35776700      0.31893800     \n",
       "FS_4thVent_Vol             0.32107241          0.26307622      0.22764227     \n",
       "FS_BrainStem_Vol           0.65724561          0.70590071      0.57061360     \n",
       "FS_L_Hippo_Vol             0.60383890          0.65476918      0.62977513     \n",
       "FS_L_Amygdala_Vol          0.66024855          0.73360586      0.71195816     \n",
       "FS_CSF_Vol                 0.55361292          0.47747795      0.43278750     \n",
       "FS_L_AccumbensArea_Vol     0.49553785          0.59436104      0.56062865     \n",
       "FS_L_VentDC_Vol            0.67595118          0.72721648      0.60731952     \n",
       "FS_L_Vessel_Vol            0.15423056          0.17388908      0.12356261     \n",
       "FS_L_ChoroidPlexus_Vol     0.38314025          0.34979289      0.28261783     \n",
       "FS_R_LatVent_Vol           0.35856367          0.29778365      0.24384293     \n",
       "FS_R_InfLatVent_Vol        0.11406510          0.14424500      0.12590300     \n",
       "FS_R_Cerebellum_WM_Vol     0.60653775          0.67180386      0.54915733     \n",
       "FS_R_Cerebellum_Cort_Vol   0.69770064          0.69783034      0.61739874     \n",
       "FS_R_ThalamusProper_Vol    0.66638340          0.76047232      0.68711152     \n",
       "FS_R_Caudate_Vol           0.59652243          0.62894354      0.58134576     \n",
       "FS_R_Putamen_Vol           0.56201022          0.65553149      0.62239410     \n",
       "FS_R_Pallidum_Vol          0.53329495          0.56376373      0.46164873     \n",
       "FS_R_Hippo_Vol             0.64958935          0.69806228      0.67513577     \n",
       "FS_R_Amygdala_Vol          0.64711222          0.72521574      0.70370077     \n",
       "FS_R_AccumbensArea_Vol     0.49778070          0.60499200      0.59393316     \n",
       "FS_R_VentDC_Vol            0.69245560          0.75064560      0.63103100     \n",
       "FS_R_Vessel_Vol            0.15363321          0.20678367      0.17001517     \n",
       "FS_R_ChoroidPlexus_Vol     0.42861209          0.41258103      0.35164750     \n",
       "FS_5thVent_Vol             0.08758425          0.04979092      0.02747529     \n",
       "FS_WM_Hypointens_Vol       0.22258258          0.32314434      0.32722217     \n",
       "FS_L_WM_Hypointens_Vol             NA                  NA              NA     \n",
       "FS_R_WM_Hypointens_Vol             NA                  NA              NA     \n",
       "FS_L_Non.WM_Hypointens_Vol         NA                  NA              NA     \n",
       "FS_R_Non.WM_Hypointens_Vol         NA                  NA              NA     \n",
       "FS_OpticChiasm_Vol         0.33097622          0.35006717      0.27354855     \n",
       "FS_CC_Posterior_Vol        0.34486799          0.37677373      0.25151569     \n",
       "FS_CC_MidPosterior_Vol     0.18960892          0.27243466      0.19618089     \n",
       "FS_CC_Central_Vol          0.19734142          0.27076862      0.20894343     \n",
       "FS_CC_MidAnterior_Vol      0.28459965          0.35348419      0.25729793     \n",
       "FS_CC_Anterior_Vol         0.40182119          0.43087227      0.31406264     \n",
       "                           FS_RCort_GM_Vol FS_TotCort_GM_Vol FS_SubCort_GM_Vol\n",
       "FS_IntraCranial_Vol        0.8439151       0.84527801        0.78851398       \n",
       "FS_BrainSeg_Vol            0.9482717       0.95026178        0.86899391       \n",
       "FS_LCort_GM_Vol            0.9844592       0.99601958        0.78978633       \n",
       "FS_RCort_GM_Vol            1.0000000       0.99619391        0.79257235       \n",
       "FS_TotCort_GM_Vol          0.9961939       1.00000000        0.79428656       \n",
       "FS_SubCort_GM_Vol          0.7925724       0.79428656        1.00000000       \n",
       "FS_Total_GM_Vol            0.9830322       0.98642496        0.84072890       \n",
       "FS_SupraTentorial_Vol      0.9518674       0.95394600        0.85912648       \n",
       "FS_L_WM_Vol                0.8330846       0.83393307        0.82483108       \n",
       "FS_R_WM_Vol                0.8307516       0.82967591        0.82505024       \n",
       "FS_Tot_WM_Vol              0.8324909       0.83237055        0.82551771       \n",
       "FS_Mask_Vol                0.9214448       0.92066041        0.83418647       \n",
       "FS_L_LatVent_Vol           0.2627924       0.26837106        0.21972221       \n",
       "FS_L_InfLatVent_Vol        0.1405857       0.14096874        0.11605003       \n",
       "FS_L_Cerebellum_WM_Vol     0.5368370       0.53697923        0.65047701       \n",
       "FS_L_Cerebellum_Cort_Vol   0.6352676       0.63647460        0.65207517       \n",
       "FS_L_ThalamusProper_Vol    0.7140138       0.71298313        0.78822900       \n",
       "FS_L_Caudate_Vol           0.5612505       0.56426697        0.72520307       \n",
       "FS_L_Putamen_Vol           0.4867579       0.48857086        0.74070423       \n",
       "FS_L_Pallidum_Vol          0.3134731       0.31568436        0.59378262       \n",
       "FS_3rdVent_Vol             0.3270079       0.32428027        0.27135090       \n",
       "FS_4thVent_Vol             0.2342832       0.23190244        0.21908221       \n",
       "FS_BrainStem_Vol           0.5720646       0.57357993        0.74591960       \n",
       "FS_L_Hippo_Vol             0.6377678       0.63629285        0.72099694       \n",
       "FS_L_Amygdala_Vol          0.7170476       0.71732337        0.73944118       \n",
       "FS_CSF_Vol                 0.4303665       0.43324943        0.39460051       \n",
       "FS_L_AccumbensArea_Vol     0.5620968       0.56356423        0.67752145       \n",
       "FS_L_VentDC_Vol            0.6069536       0.60950691        0.85389740       \n",
       "FS_L_Vessel_Vol            0.1223822       0.12344663        0.21733003       \n",
       "FS_L_ChoroidPlexus_Vol     0.2759203       0.28032239        0.38015342       \n",
       "FS_R_LatVent_Vol           0.2451055       0.24543639        0.20824129       \n",
       "FS_R_InfLatVent_Vol        0.1313933       0.12918191        0.13821658       \n",
       "FS_R_Cerebellum_WM_Vol     0.5522298       0.55286280        0.65383174       \n",
       "FS_R_Cerebellum_Cort_Vol   0.6206763       0.62147499        0.63989251       \n",
       "FS_R_ThalamusProper_Vol    0.6892555       0.69088450        0.81568633       \n",
       "FS_R_Caudate_Vol           0.5815797       0.58373629        0.74030578       \n",
       "FS_R_Putamen_Vol           0.6250373       0.62616768        0.81630130       \n",
       "FS_R_Pallidum_Vol          0.4609046       0.46307499        0.73311105       \n",
       "FS_R_Hippo_Vol             0.6779019       0.67917795        0.75673715       \n",
       "FS_R_Amygdala_Vol          0.7097618       0.70952682        0.73524457       \n",
       "FS_R_AccumbensArea_Vol     0.6030192       0.60086577        0.64231880       \n",
       "FS_R_VentDC_Vol            0.6320048       0.63399092        0.86597425       \n",
       "FS_R_Vessel_Vol            0.1759543       0.17369412        0.23081438       \n",
       "FS_R_ChoroidPlexus_Vol     0.3441177       0.34919952        0.38104392       \n",
       "FS_5thVent_Vol             0.0343031       0.03104854        0.02854927       \n",
       "FS_WM_Hypointens_Vol       0.3390336       0.33449594        0.27792949       \n",
       "FS_L_WM_Hypointens_Vol            NA               NA                NA       \n",
       "FS_R_WM_Hypointens_Vol            NA               NA                NA       \n",
       "FS_L_Non.WM_Hypointens_Vol        NA               NA                NA       \n",
       "FS_R_Non.WM_Hypointens_Vol        NA               NA                NA       \n",
       "FS_OpticChiasm_Vol         0.2834184       0.27962765        0.32808259       \n",
       "FS_CC_Posterior_Vol        0.2444868       0.24893064        0.36367157       \n",
       "FS_CC_MidPosterior_Vol     0.1918267       0.19473767        0.31694057       \n",
       "FS_CC_Central_Vol          0.2118854       0.21125331        0.27017185       \n",
       "FS_CC_MidAnterior_Vol      0.2590016       0.25916790        0.33209545       \n",
       "FS_CC_Anterior_Vol         0.3054070       0.31089656        0.40412120       \n",
       "                           FS_Total_GM_Vol FS_SupraTentorial_Vol FS_L_WM_Vol\n",
       "FS_IntraCranial_Vol        0.8751297       0.88515809            0.83110860 \n",
       "FS_BrainSeg_Vol            0.9664839       0.99584206            0.95025059 \n",
       "FS_LCort_GM_Vol            0.9821287       0.94856174            0.82823562 \n",
       "FS_RCort_GM_Vol            0.9830322       0.95186738            0.83308464 \n",
       "FS_TotCort_GM_Vol          0.9864250       0.95394600            0.83393307 \n",
       "FS_SubCort_GM_Vol          0.8407289       0.85912648            0.82483108 \n",
       "FS_Total_GM_Vol            1.0000000       0.95676918            0.84630850 \n",
       "FS_SupraTentorial_Vol      0.9567692       1.00000000            0.95657235 \n",
       "FS_L_WM_Vol                0.8463085       0.95657235            1.00000000 \n",
       "FS_R_WM_Vol                0.8426527       0.95448952            0.99720862 \n",
       "FS_Tot_WM_Vol              0.8450576       0.95619104            0.99929225 \n",
       "FS_Mask_Vol                0.9420697       0.95960458            0.90546843 \n",
       "FS_L_LatVent_Vol           0.2787827       0.31021654            0.22299148 \n",
       "FS_L_InfLatVent_Vol        0.1475694       0.16110367            0.12708001 \n",
       "FS_L_Cerebellum_WM_Vol     0.6086340       0.61603149            0.62745556 \n",
       "FS_L_Cerebellum_Cort_Vol   0.7474425       0.64692993            0.58640309 \n",
       "FS_L_ThalamusProper_Vol    0.7409553       0.77011062            0.76511845 \n",
       "FS_L_Caudate_Vol           0.5950966       0.60241243            0.55049655 \n",
       "FS_L_Putamen_Vol           0.5261222       0.54697962            0.52123639 \n",
       "FS_L_Pallidum_Vol          0.3650246       0.39117153            0.38616852 \n",
       "FS_3rdVent_Vol             0.3423191       0.34445607            0.28198592 \n",
       "FS_4thVent_Vol             0.2576606       0.24649555            0.20912414 \n",
       "FS_BrainStem_Vol           0.6397039       0.67791128            0.70820029 \n",
       "FS_L_Hippo_Vol             0.6637568       0.64757552            0.60220009 \n",
       "FS_L_Amygdala_Vol          0.7391765       0.72780548            0.66719338 \n",
       "FS_CSF_Vol                 0.4582325       0.46244543            0.40135594 \n",
       "FS_L_AccumbensArea_Vol     0.5847115       0.59237972            0.56554081 \n",
       "FS_L_VentDC_Vol            0.6715359       0.70839634            0.71527942 \n",
       "FS_L_Vessel_Vol            0.1418038       0.17212325            0.19038013 \n",
       "FS_L_ChoroidPlexus_Vol     0.3032990       0.34517940            0.31931111 \n",
       "FS_R_LatVent_Vol           0.2546900       0.29477214            0.21230926 \n",
       "FS_R_InfLatVent_Vol        0.1325345       0.14464319            0.14132533 \n",
       "FS_R_Cerebellum_WM_Vol     0.6237727       0.62898391            0.63555864 \n",
       "FS_R_Cerebellum_Cort_Vol   0.7345061       0.63266284            0.57275888 \n",
       "FS_R_ThalamusProper_Vol    0.7211526       0.75570745            0.75352775 \n",
       "FS_R_Caudate_Vol           0.6155689       0.62321961            0.56876245 \n",
       "FS_R_Putamen_Vol           0.6562190       0.65247803            0.60477273 \n",
       "FS_R_Pallidum_Vol          0.5125299       0.55292319            0.55637177 \n",
       "FS_R_Hippo_Vol             0.7110396       0.68786161            0.63016270 \n",
       "FS_R_Amygdala_Vol          0.7284178       0.72094178            0.66402879 \n",
       "FS_R_AccumbensArea_Vol     0.6131929       0.60461055            0.56667339 \n",
       "FS_R_VentDC_Vol            0.6941850       0.73256836            0.73841848 \n",
       "FS_R_Vessel_Vol            0.1906112       0.20303200            0.20733288 \n",
       "FS_R_ChoroidPlexus_Vol     0.3650723       0.41009582            0.36005397 \n",
       "FS_5thVent_Vol             0.0364988       0.04701623            0.04116974 \n",
       "FS_WM_Hypointens_Vol       0.3277528       0.32691662            0.31212583 \n",
       "FS_L_WM_Hypointens_Vol            NA               NA                    NA \n",
       "FS_R_WM_Hypointens_Vol            NA               NA                    NA \n",
       "FS_L_Non.WM_Hypointens_Vol        NA               NA                    NA \n",
       "FS_R_Non.WM_Hypointens_Vol        NA               NA                    NA \n",
       "FS_OpticChiasm_Vol         0.3002658       0.34304042            0.35983007 \n",
       "FS_CC_Posterior_Vol        0.2650934       0.38403125            0.46628464 \n",
       "FS_CC_MidPosterior_Vol     0.2139360       0.27388840            0.37067576 \n",
       "FS_CC_Central_Vol          0.2278281       0.26882169            0.35285234 \n",
       "FS_CC_MidAnterior_Vol      0.2737887       0.35688723            0.44578035 \n",
       "FS_CC_Anterior_Vol         0.3269230       0.43655852            0.50126064 \n",
       "                           FS_R_WM_Vol ⋯ FS_L_WM_Hypointens_Vol\n",
       "FS_IntraCranial_Vol        0.82780629  ⋯ NA                    \n",
       "FS_BrainSeg_Vol            0.94827234  ⋯ NA                    \n",
       "FS_LCort_GM_Vol            0.82204438  ⋯ NA                    \n",
       "FS_RCort_GM_Vol            0.83075164  ⋯ NA                    \n",
       "FS_TotCort_GM_Vol          0.82967591  ⋯ NA                    \n",
       "FS_SubCort_GM_Vol          0.82505024  ⋯ NA                    \n",
       "FS_Total_GM_Vol            0.84265274  ⋯ NA                    \n",
       "FS_SupraTentorial_Vol      0.95448952  ⋯ NA                    \n",
       "FS_L_WM_Vol                0.99720862  ⋯ NA                    \n",
       "FS_R_WM_Vol                1.00000000  ⋯ NA                    \n",
       "FS_Tot_WM_Vol              0.99931150  ⋯ NA                    \n",
       "FS_Mask_Vol                0.90381070  ⋯ NA                    \n",
       "FS_L_LatVent_Vol           0.21833276  ⋯ NA                    \n",
       "FS_L_InfLatVent_Vol        0.13516651  ⋯ NA                    \n",
       "FS_L_Cerebellum_WM_Vol     0.62907125  ⋯ NA                    \n",
       "FS_L_Cerebellum_Cort_Vol   0.58496534  ⋯ NA                    \n",
       "FS_L_ThalamusProper_Vol    0.76632921  ⋯ NA                    \n",
       "FS_L_Caudate_Vol           0.54920508  ⋯ NA                    \n",
       "FS_L_Putamen_Vol           0.52299015  ⋯ NA                    \n",
       "FS_L_Pallidum_Vol          0.39011947  ⋯ NA                    \n",
       "FS_3rdVent_Vol             0.28260452  ⋯ NA                    \n",
       "FS_4thVent_Vol             0.21031987  ⋯ NA                    \n",
       "FS_BrainStem_Vol           0.71016008  ⋯ NA                    \n",
       "FS_L_Hippo_Vol             0.60260273  ⋯ NA                    \n",
       "FS_L_Amygdala_Vol          0.66617605  ⋯ NA                    \n",
       "FS_CSF_Vol                 0.40157805  ⋯ NA                    \n",
       "FS_L_AccumbensArea_Vol     0.56566973  ⋯ NA                    \n",
       "FS_L_VentDC_Vol            0.71834719  ⋯ NA                    \n",
       "FS_L_Vessel_Vol            0.18970246  ⋯ NA                    \n",
       "FS_L_ChoroidPlexus_Vol     0.31951950  ⋯ NA                    \n",
       "FS_R_LatVent_Vol           0.21533513  ⋯ NA                    \n",
       "FS_R_InfLatVent_Vol        0.14400271  ⋯ NA                    \n",
       "FS_R_Cerebellum_WM_Vol     0.63627718  ⋯ NA                    \n",
       "FS_R_Cerebellum_Cort_Vol   0.57162004  ⋯ NA                    \n",
       "FS_R_ThalamusProper_Vol    0.75267298  ⋯ NA                    \n",
       "FS_R_Caudate_Vol           0.56710824  ⋯ NA                    \n",
       "FS_R_Putamen_Vol           0.60216773  ⋯ NA                    \n",
       "FS_R_Pallidum_Vol          0.55657998  ⋯ NA                    \n",
       "FS_R_Hippo_Vol             0.62887364  ⋯ NA                    \n",
       "FS_R_Amygdala_Vol          0.66401776  ⋯ NA                    \n",
       "FS_R_AccumbensArea_Vol     0.56467548  ⋯ NA                    \n",
       "FS_R_VentDC_Vol            0.74080095  ⋯ NA                    \n",
       "FS_R_Vessel_Vol            0.20560868  ⋯ NA                    \n",
       "FS_R_ChoroidPlexus_Vol     0.36096046  ⋯ NA                    \n",
       "FS_5thVent_Vol             0.04174618  ⋯ NA                    \n",
       "FS_WM_Hypointens_Vol       0.31623149  ⋯ NA                    \n",
       "FS_L_WM_Hypointens_Vol             NA  ⋯  1                    \n",
       "FS_R_WM_Hypointens_Vol             NA  ⋯ NA                    \n",
       "FS_L_Non.WM_Hypointens_Vol         NA  ⋯ NA                    \n",
       "FS_R_Non.WM_Hypointens_Vol         NA  ⋯ NA                    \n",
       "FS_OpticChiasm_Vol         0.36438062  ⋯ NA                    \n",
       "FS_CC_Posterior_Vol        0.46048694  ⋯ NA                    \n",
       "FS_CC_MidPosterior_Vol     0.36768598  ⋯ NA                    \n",
       "FS_CC_Central_Vol          0.35175872  ⋯ NA                    \n",
       "FS_CC_MidAnterior_Vol      0.44141810  ⋯ NA                    \n",
       "FS_CC_Anterior_Vol         0.49765782  ⋯ NA                    \n",
       "                           FS_R_WM_Hypointens_Vol FS_L_Non.WM_Hypointens_Vol\n",
       "FS_IntraCranial_Vol        NA                     NA                        \n",
       "FS_BrainSeg_Vol            NA                     NA                        \n",
       "FS_LCort_GM_Vol            NA                     NA                        \n",
       "FS_RCort_GM_Vol            NA                     NA                        \n",
       "FS_TotCort_GM_Vol          NA                     NA                        \n",
       "FS_SubCort_GM_Vol          NA                     NA                        \n",
       "FS_Total_GM_Vol            NA                     NA                        \n",
       "FS_SupraTentorial_Vol      NA                     NA                        \n",
       "FS_L_WM_Vol                NA                     NA                        \n",
       "FS_R_WM_Vol                NA                     NA                        \n",
       "FS_Tot_WM_Vol              NA                     NA                        \n",
       "FS_Mask_Vol                NA                     NA                        \n",
       "FS_L_LatVent_Vol           NA                     NA                        \n",
       "FS_L_InfLatVent_Vol        NA                     NA                        \n",
       "FS_L_Cerebellum_WM_Vol     NA                     NA                        \n",
       "FS_L_Cerebellum_Cort_Vol   NA                     NA                        \n",
       "FS_L_ThalamusProper_Vol    NA                     NA                        \n",
       "FS_L_Caudate_Vol           NA                     NA                        \n",
       "FS_L_Putamen_Vol           NA                     NA                        \n",
       "FS_L_Pallidum_Vol          NA                     NA                        \n",
       "FS_3rdVent_Vol             NA                     NA                        \n",
       "FS_4thVent_Vol             NA                     NA                        \n",
       "FS_BrainStem_Vol           NA                     NA                        \n",
       "FS_L_Hippo_Vol             NA                     NA                        \n",
       "FS_L_Amygdala_Vol          NA                     NA                        \n",
       "FS_CSF_Vol                 NA                     NA                        \n",
       "FS_L_AccumbensArea_Vol     NA                     NA                        \n",
       "FS_L_VentDC_Vol            NA                     NA                        \n",
       "FS_L_Vessel_Vol            NA                     NA                        \n",
       "FS_L_ChoroidPlexus_Vol     NA                     NA                        \n",
       "FS_R_LatVent_Vol           NA                     NA                        \n",
       "FS_R_InfLatVent_Vol        NA                     NA                        \n",
       "FS_R_Cerebellum_WM_Vol     NA                     NA                        \n",
       "FS_R_Cerebellum_Cort_Vol   NA                     NA                        \n",
       "FS_R_ThalamusProper_Vol    NA                     NA                        \n",
       "FS_R_Caudate_Vol           NA                     NA                        \n",
       "FS_R_Putamen_Vol           NA                     NA                        \n",
       "FS_R_Pallidum_Vol          NA                     NA                        \n",
       "FS_R_Hippo_Vol             NA                     NA                        \n",
       "FS_R_Amygdala_Vol          NA                     NA                        \n",
       "FS_R_AccumbensArea_Vol     NA                     NA                        \n",
       "FS_R_VentDC_Vol            NA                     NA                        \n",
       "FS_R_Vessel_Vol            NA                     NA                        \n",
       "FS_R_ChoroidPlexus_Vol     NA                     NA                        \n",
       "FS_5thVent_Vol             NA                     NA                        \n",
       "FS_WM_Hypointens_Vol       NA                     NA                        \n",
       "FS_L_WM_Hypointens_Vol     NA                     NA                        \n",
       "FS_R_WM_Hypointens_Vol      1                     NA                        \n",
       "FS_L_Non.WM_Hypointens_Vol NA                      1                        \n",
       "FS_R_Non.WM_Hypointens_Vol NA                     NA                        \n",
       "FS_OpticChiasm_Vol         NA                     NA                        \n",
       "FS_CC_Posterior_Vol        NA                     NA                        \n",
       "FS_CC_MidPosterior_Vol     NA                     NA                        \n",
       "FS_CC_Central_Vol          NA                     NA                        \n",
       "FS_CC_MidAnterior_Vol      NA                     NA                        \n",
       "FS_CC_Anterior_Vol         NA                     NA                        \n",
       "                           FS_R_Non.WM_Hypointens_Vol FS_OpticChiasm_Vol\n",
       "FS_IntraCranial_Vol        NA                         0.33097622        \n",
       "FS_BrainSeg_Vol            NA                         0.35006717        \n",
       "FS_LCort_GM_Vol            NA                         0.27354855        \n",
       "FS_RCort_GM_Vol            NA                         0.28341844        \n",
       "FS_TotCort_GM_Vol          NA                         0.27962765        \n",
       "FS_SubCort_GM_Vol          NA                         0.32808259        \n",
       "FS_Total_GM_Vol            NA                         0.30026585        \n",
       "FS_SupraTentorial_Vol      NA                         0.34304042        \n",
       "FS_L_WM_Vol                NA                         0.35983007        \n",
       "FS_R_WM_Vol                NA                         0.36438062        \n",
       "FS_Tot_WM_Vol              NA                         0.36237463        \n",
       "FS_Mask_Vol                NA                         0.36204991        \n",
       "FS_L_LatVent_Vol           NA                         0.15782271        \n",
       "FS_L_InfLatVent_Vol        NA                         0.09791341        \n",
       "FS_L_Cerebellum_WM_Vol     NA                         0.32163916        \n",
       "FS_L_Cerebellum_Cort_Vol   NA                         0.25406561        \n",
       "FS_L_ThalamusProper_Vol    NA                         0.26771741        \n",
       "FS_L_Caudate_Vol           NA                         0.23421579        \n",
       "FS_L_Putamen_Vol           NA                         0.21678923        \n",
       "FS_L_Pallidum_Vol          NA                         0.24700268        \n",
       "FS_3rdVent_Vol             NA                         0.21756009        \n",
       "FS_4thVent_Vol             NA                         0.13316577        \n",
       "FS_BrainStem_Vol           NA                         0.34252158        \n",
       "FS_L_Hippo_Vol             NA                         0.20814715        \n",
       "FS_L_Amygdala_Vol          NA                         0.27769365        \n",
       "FS_CSF_Vol                 NA                         0.26432005        \n",
       "FS_L_AccumbensArea_Vol     NA                         0.24385685        \n",
       "FS_L_VentDC_Vol            NA                         0.28081754        \n",
       "FS_L_Vessel_Vol            NA                         0.14483046        \n",
       "FS_L_ChoroidPlexus_Vol     NA                         0.29759526        \n",
       "FS_R_LatVent_Vol           NA                         0.15676343        \n",
       "FS_R_InfLatVent_Vol        NA                         0.11810310        \n",
       "FS_R_Cerebellum_WM_Vol     NA                         0.31451859        \n",
       "FS_R_Cerebellum_Cort_Vol   NA                         0.26488627        \n",
       "FS_R_ThalamusProper_Vol    NA                         0.27942250        \n",
       "FS_R_Caudate_Vol           NA                         0.25157426        \n",
       "FS_R_Putamen_Vol           NA                         0.23266220        \n",
       "FS_R_Pallidum_Vol          NA                         0.27095986        \n",
       "FS_R_Hippo_Vol             NA                         0.24316970        \n",
       "FS_R_Amygdala_Vol          NA                         0.26656145        \n",
       "FS_R_AccumbensArea_Vol     NA                         0.22462449        \n",
       "FS_R_VentDC_Vol            NA                         0.29740875        \n",
       "FS_R_Vessel_Vol            NA                         0.12259295        \n",
       "FS_R_ChoroidPlexus_Vol     NA                         0.31793805        \n",
       "FS_5thVent_Vol             NA                         0.01033982        \n",
       "FS_WM_Hypointens_Vol       NA                         0.09943160        \n",
       "FS_L_WM_Hypointens_Vol     NA                                 NA        \n",
       "FS_R_WM_Hypointens_Vol     NA                                 NA        \n",
       "FS_L_Non.WM_Hypointens_Vol NA                                 NA        \n",
       "FS_R_Non.WM_Hypointens_Vol  1                                 NA        \n",
       "FS_OpticChiasm_Vol         NA                         1.00000000        \n",
       "FS_CC_Posterior_Vol        NA                         0.14288754        \n",
       "FS_CC_MidPosterior_Vol     NA                         0.08528853        \n",
       "FS_CC_Central_Vol          NA                         0.04473079        \n",
       "FS_CC_MidAnterior_Vol      NA                         0.07761093        \n",
       "FS_CC_Anterior_Vol         NA                         0.18599436        \n",
       "                           FS_CC_Posterior_Vol FS_CC_MidPosterior_Vol\n",
       "FS_IntraCranial_Vol         0.34486799          0.18960892           \n",
       "FS_BrainSeg_Vol             0.37677373          0.27243466           \n",
       "FS_LCort_GM_Vol             0.25151569          0.19618089           \n",
       "FS_RCort_GM_Vol             0.24448681          0.19182668           \n",
       "FS_TotCort_GM_Vol           0.24893064          0.19473767           \n",
       "FS_SubCort_GM_Vol           0.36367157          0.31694057           \n",
       "FS_Total_GM_Vol             0.26509338          0.21393596           \n",
       "FS_SupraTentorial_Vol       0.38403125          0.27388840           \n",
       "FS_L_WM_Vol                 0.46628464          0.37067576           \n",
       "FS_R_WM_Vol                 0.46048694          0.36768598           \n",
       "FS_Tot_WM_Vol               0.46368948          0.36942909           \n",
       "FS_Mask_Vol                 0.32123625          0.21398828           \n",
       "FS_L_LatVent_Vol            0.19190399         -0.33835739           \n",
       "FS_L_InfLatVent_Vol         0.01787406         -0.13100380           \n",
       "FS_L_Cerebellum_WM_Vol      0.27551312          0.23750191           \n",
       "FS_L_Cerebellum_Cort_Vol    0.19047795          0.17824911           \n",
       "FS_L_ThalamusProper_Vol     0.28741749          0.33623070           \n",
       "FS_L_Caudate_Vol            0.32350650          0.19234071           \n",
       "FS_L_Putamen_Vol            0.26268852          0.18166994           \n",
       "FS_L_Pallidum_Vol           0.28405522          0.14832367           \n",
       "FS_3rdVent_Vol             -0.05027613         -0.20052345           \n",
       "FS_4thVent_Vol              0.01037032         -0.07038117           \n",
       "FS_BrainStem_Vol            0.35156050          0.31162590           \n",
       "FS_L_Hippo_Vol              0.15853175          0.23447570           \n",
       "FS_L_Amygdala_Vol           0.17809394          0.18368402           \n",
       "FS_CSF_Vol                  0.18564012         -0.09181928           \n",
       "FS_L_AccumbensArea_Vol      0.24465133          0.23671897           \n",
       "FS_L_VentDC_Vol             0.35502034          0.26972917           \n",
       "FS_L_Vessel_Vol             0.13270800          0.09117550           \n",
       "FS_L_ChoroidPlexus_Vol      0.25117885         -0.04300835           \n",
       "FS_R_LatVent_Vol            0.23453834         -0.29196871           \n",
       "FS_R_InfLatVent_Vol        -0.01070464          0.03134870           \n",
       "FS_R_Cerebellum_WM_Vol      0.27047999          0.22654022           \n",
       "FS_R_Cerebellum_Cort_Vol    0.18520073          0.15904233           \n",
       "FS_R_ThalamusProper_Vol     0.31969923          0.33119045           \n",
       "FS_R_Caudate_Vol            0.33899010          0.19783273           \n",
       "FS_R_Putamen_Vol            0.23229500          0.23677992           \n",
       "FS_R_Pallidum_Vol           0.38963822          0.24364165           \n",
       "FS_R_Hippo_Vol              0.15830952          0.20182127           \n",
       "FS_R_Amygdala_Vol           0.18074813          0.18915618           \n",
       "FS_R_AccumbensArea_Vol      0.21887301          0.25517654           \n",
       "FS_R_VentDC_Vol             0.36962726          0.28785729           \n",
       "FS_R_Vessel_Vol             0.09271901          0.04781022           \n",
       "FS_R_ChoroidPlexus_Vol      0.24662120         -0.11900260           \n",
       "FS_5thVent_Vol              0.07941491         -0.03331922           \n",
       "FS_WM_Hypointens_Vol       -0.06416489          0.04439970           \n",
       "FS_L_WM_Hypointens_Vol              NA                  NA           \n",
       "FS_R_WM_Hypointens_Vol              NA                  NA           \n",
       "FS_L_Non.WM_Hypointens_Vol          NA                  NA           \n",
       "FS_R_Non.WM_Hypointens_Vol          NA                  NA           \n",
       "FS_OpticChiasm_Vol          0.14288754          0.08528853           \n",
       "FS_CC_Posterior_Vol         1.00000000          0.53498193           \n",
       "FS_CC_MidPosterior_Vol      0.53498193          1.00000000           \n",
       "FS_CC_Central_Vol           0.37461384          0.67805756           \n",
       "FS_CC_MidAnterior_Vol       0.59365293          0.64149600           \n",
       "FS_CC_Anterior_Vol          0.64488818          0.40374282           \n",
       "                           FS_CC_Central_Vol FS_CC_MidAnterior_Vol\n",
       "FS_IntraCranial_Vol         0.197341425       0.284599652         \n",
       "FS_BrainSeg_Vol             0.270768619       0.353484192         \n",
       "FS_LCort_GM_Vol             0.208943426       0.257297934         \n",
       "FS_RCort_GM_Vol             0.211885362       0.259001604         \n",
       "FS_TotCort_GM_Vol           0.211253307       0.259167897         \n",
       "FS_SubCort_GM_Vol           0.270171847       0.332095449         \n",
       "FS_Total_GM_Vol             0.227828080       0.273788710         \n",
       "FS_SupraTentorial_Vol       0.268821695       0.356887229         \n",
       "FS_L_WM_Vol                 0.352852343       0.445780348         \n",
       "FS_R_WM_Vol                 0.351758721       0.441418100         \n",
       "FS_Tot_WM_Vol               0.352548344       0.443894485         \n",
       "FS_Mask_Vol                 0.229917822       0.300400561         \n",
       "FS_L_LatVent_Vol           -0.354591986      -0.112187057         \n",
       "FS_L_InfLatVent_Vol        -0.121619568      -0.066120581         \n",
       "FS_L_Cerebellum_WM_Vol      0.240304001       0.282653282         \n",
       "FS_L_Cerebellum_Cort_Vol    0.194220830       0.205249335         \n",
       "FS_L_ThalamusProper_Vol     0.344381312       0.334279003         \n",
       "FS_L_Caudate_Vol            0.069267616       0.236316760         \n",
       "FS_L_Putamen_Vol            0.137873794       0.211357873         \n",
       "FS_L_Pallidum_Vol           0.101925587       0.184649447         \n",
       "FS_3rdVent_Vol             -0.159983624      -0.069379369         \n",
       "FS_4thVent_Vol             -0.039772343      -0.027422258         \n",
       "FS_BrainStem_Vol            0.303904026       0.351210134         \n",
       "FS_L_Hippo_Vol              0.214219368       0.200860452         \n",
       "FS_L_Amygdala_Vol           0.168520265       0.191736781         \n",
       "FS_CSF_Vol                  0.009190069       0.084256143         \n",
       "FS_L_AccumbensArea_Vol      0.233856467       0.259170741         \n",
       "FS_L_VentDC_Vol             0.235815465       0.302010616         \n",
       "FS_L_Vessel_Vol             0.052523912       0.090073083         \n",
       "FS_L_ChoroidPlexus_Vol     -0.191037102      -0.002031803         \n",
       "FS_R_LatVent_Vol           -0.325190183      -0.083145915         \n",
       "FS_R_InfLatVent_Vol        -0.022794158      -0.015031924         \n",
       "FS_R_Cerebellum_WM_Vol      0.229015826       0.261755082         \n",
       "FS_R_Cerebellum_Cort_Vol    0.189774870       0.202922459         \n",
       "FS_R_ThalamusProper_Vol     0.324331329       0.333443575         \n",
       "FS_R_Caudate_Vol            0.072997872       0.240941120         \n",
       "FS_R_Putamen_Vol            0.195076225       0.217510953         \n",
       "FS_R_Pallidum_Vol           0.188192305       0.272988747         \n",
       "FS_R_Hippo_Vol              0.204680359       0.190793526         \n",
       "FS_R_Amygdala_Vol           0.182590547       0.190116082         \n",
       "FS_R_AccumbensArea_Vol      0.250561785       0.259488641         \n",
       "FS_R_VentDC_Vol             0.261573414       0.315267781         \n",
       "FS_R_Vessel_Vol             0.020375562       0.042604163         \n",
       "FS_R_ChoroidPlexus_Vol     -0.264764892      -0.055538206         \n",
       "FS_5thVent_Vol             -0.071024869      -0.036366699         \n",
       "FS_WM_Hypointens_Vol        0.182043682       0.086213266         \n",
       "FS_L_WM_Hypointens_Vol               NA                NA         \n",
       "FS_R_WM_Hypointens_Vol               NA                NA         \n",
       "FS_L_Non.WM_Hypointens_Vol           NA                NA         \n",
       "FS_R_Non.WM_Hypointens_Vol           NA                NA         \n",
       "FS_OpticChiasm_Vol          0.044730790       0.077610930         \n",
       "FS_CC_Posterior_Vol         0.374613841       0.593652934         \n",
       "FS_CC_MidPosterior_Vol      0.678057564       0.641496004         \n",
       "FS_CC_Central_Vol           1.000000000       0.711421149         \n",
       "FS_CC_MidAnterior_Vol       0.711421149       1.000000000         \n",
       "FS_CC_Anterior_Vol          0.294187488       0.497338603         \n",
       "                           FS_CC_Anterior_Vol\n",
       "FS_IntraCranial_Vol         0.40182119       \n",
       "FS_BrainSeg_Vol             0.43087227       \n",
       "FS_LCort_GM_Vol             0.31406264       \n",
       "FS_RCort_GM_Vol             0.30540697       \n",
       "FS_TotCort_GM_Vol           0.31089656       \n",
       "FS_SubCort_GM_Vol           0.40412120       \n",
       "FS_Total_GM_Vol             0.32692300       \n",
       "FS_SupraTentorial_Vol       0.43655852       \n",
       "FS_L_WM_Vol                 0.50126064       \n",
       "FS_R_WM_Vol                 0.49765782       \n",
       "FS_Tot_WM_Vol               0.49979563       \n",
       "FS_Mask_Vol                 0.38155673       \n",
       "FS_L_LatVent_Vol            0.23845911       \n",
       "FS_L_InfLatVent_Vol         0.03246335       \n",
       "FS_L_Cerebellum_WM_Vol      0.30334184       \n",
       "FS_L_Cerebellum_Cort_Vol    0.23592487       \n",
       "FS_L_ThalamusProper_Vol     0.31844737       \n",
       "FS_L_Caudate_Vol            0.36921706       \n",
       "FS_L_Putamen_Vol            0.27766425       \n",
       "FS_L_Pallidum_Vol           0.29488687       \n",
       "FS_3rdVent_Vol              0.04654838       \n",
       "FS_4thVent_Vol              0.07581835       \n",
       "FS_BrainStem_Vol            0.37410134       \n",
       "FS_L_Hippo_Vol              0.20512724       \n",
       "FS_L_Amygdala_Vol           0.24468927       \n",
       "FS_CSF_Vol                  0.25824951       \n",
       "FS_L_AccumbensArea_Vol      0.23897517       \n",
       "FS_L_VentDC_Vol             0.37457565       \n",
       "FS_L_Vessel_Vol             0.15186436       \n",
       "FS_L_ChoroidPlexus_Vol      0.27539582       \n",
       "FS_R_LatVent_Vol            0.26998554       \n",
       "FS_R_InfLatVent_Vol        -0.01088744       \n",
       "FS_R_Cerebellum_WM_Vol      0.30048710       \n",
       "FS_R_Cerebellum_Cort_Vol    0.23111295       \n",
       "FS_R_ThalamusProper_Vol     0.36147784       \n",
       "FS_R_Caudate_Vol            0.39980914       \n",
       "FS_R_Putamen_Vol            0.23710875       \n",
       "FS_R_Pallidum_Vol           0.38866368       \n",
       "FS_R_Hippo_Vol              0.21309232       \n",
       "FS_R_Amygdala_Vol           0.23304277       \n",
       "FS_R_AccumbensArea_Vol      0.21236850       \n",
       "FS_R_VentDC_Vol             0.39321861       \n",
       "FS_R_Vessel_Vol             0.07380737       \n",
       "FS_R_ChoroidPlexus_Vol      0.29034148       \n",
       "FS_5thVent_Vol              0.15002437       \n",
       "FS_WM_Hypointens_Vol       -0.03530666       \n",
       "FS_L_WM_Hypointens_Vol              NA       \n",
       "FS_R_WM_Hypointens_Vol              NA       \n",
       "FS_L_Non.WM_Hypointens_Vol          NA       \n",
       "FS_R_Non.WM_Hypointens_Vol          NA       \n",
       "FS_OpticChiasm_Vol          0.18599436       \n",
       "FS_CC_Posterior_Vol         0.64488818       \n",
       "FS_CC_MidPosterior_Vol      0.40374282       \n",
       "FS_CC_Central_Vol           0.29418749       \n",
       "FS_CC_MidAnterior_Vol       0.49733860       \n",
       "FS_CC_Anterior_Vol          1.00000000       "
      ]
     },
     "metadata": {},
     "output_type": "display_data"
    },
    {
     "name": "stderr",
     "output_type": "stream",
     "text": [
      "Warning message in cor(d1[, 2:57]):\n",
      "\"the standard deviation is zero\"\n"
     ]
    }
   ],
   "source": [
    "cor(d1[,2:57])\n",
    "fs_cor  <- cor(d1[,2:57])"
   ]
  },
  {
   "cell_type": "markdown",
   "metadata": {},
   "source": [
    "(b) Load (and install locally if needed) the `reshape2` library in order to use the `melt` function on the new `fs_cor` object. Use `head` to show the new, melted `fs_cor` object."
   ]
  },
  {
   "cell_type": "code",
   "execution_count": 57,
   "metadata": {
    "vscode": {
     "languageId": "r"
    }
   },
   "outputs": [
    {
     "name": "stderr",
     "output_type": "stream",
     "text": [
      "Warning message:\n",
      "\"package 'reshape2' is in use and will not be installed\"\n",
      "Using Var1, Var2 as id variables\n",
      "\n"
     ]
    },
    {
     "data": {
      "text/html": [
       "<table class=\"dataframe\">\n",
       "<caption>A data.frame: 6 × 4</caption>\n",
       "<thead>\n",
       "\t<tr><th></th><th scope=col>Var1</th><th scope=col>Var2</th><th scope=col>variable</th><th scope=col>value</th></tr>\n",
       "\t<tr><th></th><th scope=col>&lt;fct&gt;</th><th scope=col>&lt;fct&gt;</th><th scope=col>&lt;fct&gt;</th><th scope=col>&lt;dbl&gt;</th></tr>\n",
       "</thead>\n",
       "<tbody>\n",
       "\t<tr><th scope=row>1</th><td>FS_IntraCranial_Vol</td><td>FS_IntraCranial_Vol</td><td>value</td><td>1.0000000</td></tr>\n",
       "\t<tr><th scope=row>2</th><td>FS_BrainSeg_Vol    </td><td>FS_IntraCranial_Vol</td><td>value</td><td>0.8977578</td></tr>\n",
       "\t<tr><th scope=row>3</th><td>FS_LCort_GM_Vol    </td><td>FS_IntraCranial_Vol</td><td>value</td><td>0.8400174</td></tr>\n",
       "\t<tr><th scope=row>4</th><td>FS_RCort_GM_Vol    </td><td>FS_IntraCranial_Vol</td><td>value</td><td>0.8439151</td></tr>\n",
       "\t<tr><th scope=row>5</th><td>FS_TotCort_GM_Vol  </td><td>FS_IntraCranial_Vol</td><td>value</td><td>0.8452780</td></tr>\n",
       "\t<tr><th scope=row>6</th><td>FS_SubCort_GM_Vol  </td><td>FS_IntraCranial_Vol</td><td>value</td><td>0.7885140</td></tr>\n",
       "</tbody>\n",
       "</table>\n"
      ],
      "text/latex": [
       "A data.frame: 6 × 4\n",
       "\\begin{tabular}{r|llll}\n",
       "  & Var1 & Var2 & variable & value\\\\\n",
       "  & <fct> & <fct> & <fct> & <dbl>\\\\\n",
       "\\hline\n",
       "\t1 & FS\\_IntraCranial\\_Vol & FS\\_IntraCranial\\_Vol & value & 1.0000000\\\\\n",
       "\t2 & FS\\_BrainSeg\\_Vol     & FS\\_IntraCranial\\_Vol & value & 0.8977578\\\\\n",
       "\t3 & FS\\_LCort\\_GM\\_Vol     & FS\\_IntraCranial\\_Vol & value & 0.8400174\\\\\n",
       "\t4 & FS\\_RCort\\_GM\\_Vol     & FS\\_IntraCranial\\_Vol & value & 0.8439151\\\\\n",
       "\t5 & FS\\_TotCort\\_GM\\_Vol   & FS\\_IntraCranial\\_Vol & value & 0.8452780\\\\\n",
       "\t6 & FS\\_SubCort\\_GM\\_Vol   & FS\\_IntraCranial\\_Vol & value & 0.7885140\\\\\n",
       "\\end{tabular}\n"
      ],
      "text/markdown": [
       "\n",
       "A data.frame: 6 × 4\n",
       "\n",
       "| <!--/--> | Var1 &lt;fct&gt; | Var2 &lt;fct&gt; | variable &lt;fct&gt; | value &lt;dbl&gt; |\n",
       "|---|---|---|---|---|\n",
       "| 1 | FS_IntraCranial_Vol | FS_IntraCranial_Vol | value | 1.0000000 |\n",
       "| 2 | FS_BrainSeg_Vol     | FS_IntraCranial_Vol | value | 0.8977578 |\n",
       "| 3 | FS_LCort_GM_Vol     | FS_IntraCranial_Vol | value | 0.8400174 |\n",
       "| 4 | FS_RCort_GM_Vol     | FS_IntraCranial_Vol | value | 0.8439151 |\n",
       "| 5 | FS_TotCort_GM_Vol   | FS_IntraCranial_Vol | value | 0.8452780 |\n",
       "| 6 | FS_SubCort_GM_Vol   | FS_IntraCranial_Vol | value | 0.7885140 |\n",
       "\n"
      ],
      "text/plain": [
       "  Var1                Var2                variable value    \n",
       "1 FS_IntraCranial_Vol FS_IntraCranial_Vol value    1.0000000\n",
       "2 FS_BrainSeg_Vol     FS_IntraCranial_Vol value    0.8977578\n",
       "3 FS_LCort_GM_Vol     FS_IntraCranial_Vol value    0.8400174\n",
       "4 FS_RCort_GM_Vol     FS_IntraCranial_Vol value    0.8439151\n",
       "5 FS_TotCort_GM_Vol   FS_IntraCranial_Vol value    0.8452780\n",
       "6 FS_SubCort_GM_Vol   FS_IntraCranial_Vol value    0.7885140"
      ]
     },
     "metadata": {},
     "output_type": "display_data"
    }
   ],
   "source": [
    "install.packages(\"reshape2\")\n",
    "library(reshape2)\n",
    "\n",
    "melt_fs_cor  <- melt(fs_cor)\n",
    "head(melt_fs_cor)\n",
    "#melt_fs_cor"
   ]
  },
  {
   "cell_type": "markdown",
   "metadata": {},
   "source": [
    "\n",
    "Plot the correlation as a heatmap using `ggplot2`.\n",
    "\n",
    "Hint: use the `scale_fill_gradient2` function to scale the colors between red and blue, capping the values at -1 and +1."
   ]
  },
  {
   "cell_type": "code",
   "execution_count": 80,
   "metadata": {
    "vscode": {
     "languageId": "r"
    }
   },
   "outputs": [
    {
     "data": {
      "image/png": "[encoded data removed]",
      "text/plain": [
       "plot without title"
      ]
     },
     "metadata": {
      "image/png": {
       "height": 420,
       "width": 420
      }
     },
     "output_type": "display_data"
    }
   ],
   "source": [
    "\n",
    "ggplot(data = melt_fs_cor, aes(x=Var1, y=Var2, fill=value)) + \n",
    "    geom_tile(color = \"white\") +\n",
    "    scale_fill_gradient2(low = \"blue\", high = \"red\", limit = c(-1,1)) +\n",
    "    theme_minimal() +\n",
    "    theme(axis.text.x=element_text(angle=90, vjust = 1, size = 7, hjust = 1))\n",
    "    "
   ]
  },
  {
   "cell_type": "markdown",
   "metadata": {},
   "source": [
    "What patterns do you see in the correlations?"
   ]
  },
  {
   "cell_type": "markdown",
   "metadata": {},
   "source": [
    "> *We have a strong group of intercorrelated measures in the bottom left corner.* \n",
    "> * \n"
   ]
  },
  {
   "cell_type": "markdown",
   "metadata": {
    "id": "zqLPa45zBuji"
   },
   "source": [
    "---\n",
    "## 3. Principal component analysis (3 points)"
   ]
  },
  {
   "cell_type": "markdown",
   "metadata": {
    "id": "HyP55tOade1P"
   },
   "source": [
    "Let's see how many principal components explain at *at least* 95% of the data."
   ]
  },
  {
   "cell_type": "markdown",
   "metadata": {
    "id": "4SvSDGa9Buji"
   },
   "source": [
    "(a) Create a new object called `fs_d.pca` using the `princomp` function (do not forget to scale the data).\n"
   ]
  },
  {
   "cell_type": "code",
   "execution_count": 88,
   "metadata": {
    "vscode": {
     "languageId": "r"
    }
   },
   "outputs": [
    {
     "name": "stderr",
     "output_type": "stream",
     "text": [
      "Warning message in FUN(X[[i]], ...):\n",
      "\"Scaling with (near) zero standard deviation\"\n"
     ]
    },
    {
     "ename": "ERROR",
     "evalue": "Error in La.svd(X): infinite or missing values in 'x'\n",
     "output_type": "error",
     "traceback": [
      "Error in La.svd(X): infinite or missing values in 'x'\nTraceback:\n",
      "1. pcr(Flanker_Unadj ~ ., data = d1, scale = TRUE, validation = \"CV\")",
      "2. eval(cl, parent.frame())",
      "3. eval(cl, parent.frame())",
      "4. pls::mvr(Flanker_Unadj ~ ., data = d1, scale = TRUE, validation = \"CV\", \n .     method = \"svdpc\")",
      "5. mvrCv(X, Y, ncomp, Y.add = Y.add, method = method, scale = sdscale, \n .     center = center, ...)",
      "6. lapplyFunc(pls.options()$parallel, seq_along(segments), mvrCvSeg)",
      "7. lapply(X, FUN)",
      "8. FUN(X[[i]], ...)",
      "9. fitFunc(Xtrain, Y[-seg, , drop = FALSE], ncomp, Y.add = Y.add[-seg, \n .     , drop = FALSE], stripped = TRUE, weights = weights[-seg], \n .     ...)",
      "10. La.svd(X)",
      "11. stop(\"infinite or missing values in 'x'\")"
     ]
    }
   ],
   "source": [
    "library(pls)\n",
    "\n",
    "set.seed(624)\n",
    "pcr.fit=pcr(Flanker_Unadj~., data=d1 ,scale=TRUE, validation =\"CV\")\n",
    "summary(pcr.fit)"
   ]
  },
  {
   "cell_type": "markdown",
   "metadata": {},
   "source": [
    "(b) Calculate the cumulative variance explained (not unique variance explained as in the tutorial) across the principal components and plot the results using `ggplot`."
   ]
  },
  {
   "cell_type": "code",
   "execution_count": null,
   "metadata": {
    "id": "R_mZIsWwBuji",
    "vscode": {
     "languageId": "r"
    }
   },
   "outputs": [],
   "source": [
    "# WRITE YOUR CODE HERE\n"
   ]
  },
  {
   "cell_type": "markdown",
   "metadata": {},
   "source": [
    "(c) Determine exactly how many principal components explain at least 95% of the variance.\n",
    "\n",
    "Hint: Look up the `which` function. "
   ]
  },
  {
   "cell_type": "code",
   "execution_count": null,
   "metadata": {
    "vscode": {
     "languageId": "r"
    }
   },
   "outputs": [],
   "source": [
    "# WRITE YOUR CODE HERE\n"
   ]
  },
  {
   "cell_type": "markdown",
   "metadata": {
    "id": "oYxz29TyBujj"
   },
   "source": [
    "What does this tell you about the underlying dimensionality of the brain volume measures? \n",
    "\n",
    "> *Write your response here* \n",
    "> * \n"
   ]
  },
  {
   "cell_type": "markdown",
   "metadata": {
    "id": "ez8Cy8anBujn"
   },
   "source": [
    "---\n",
    "## 4. Associating with Flanker task peformance (4 points)"
   ]
  },
  {
   "cell_type": "markdown",
   "metadata": {
    "id": "NFAAGungBujn"
   },
   "source": [
    "Now apply PCR to the `d1` object you created at the beginning (which includes the Flanker task scores) to find how freesurfer volumes predict Flanker task performance. Set the random seed to \"2\". Use cross-validation as the validation type and don't forget to scale your data. Show the `summary` of the model fit.\n",
    "\n",
    "Hint: If you receive an error applying the \"scale=TRUE\" flag, then you likely still have columns of all zeros somewhere in your data table."
   ]
  },
  {
   "cell_type": "code",
   "execution_count": null,
   "metadata": {
    "id": "0uVdEguGBujn",
    "vscode": {
     "languageId": "r"
    }
   },
   "outputs": [],
   "source": [
    "# WRITE YOUR CODE HERE\n"
   ]
  },
  {
   "cell_type": "markdown",
   "metadata": {},
   "source": [
    "(b) Use the `validationplot` function to evaluate the bias-variance tradeoff using the cross-validated mean squared-error for each component."
   ]
  },
  {
   "cell_type": "code",
   "execution_count": null,
   "metadata": {
    "vscode": {
     "languageId": "r"
    }
   },
   "outputs": [],
   "source": [
    "# WRITE YOUR CODE HERE\n"
   ]
  },
  {
   "cell_type": "markdown",
   "metadata": {},
   "source": [
    "(c) Extract the MSEP values of the cross validated fit (\"CV\" not \"adj_CV\") from the model object using the `MSEP` funtion. Create a new array of these values. Use the `drop` function to remove the singleton dimension (the original array is 2x1x53 and we want a 2x53 object). Find the minimum value of the first row (the \"CV\")."
   ]
  },
  {
   "cell_type": "code",
   "execution_count": null,
   "metadata": {
    "vscode": {
     "languageId": "r"
    }
   },
   "outputs": [],
   "source": [
    "# WRITE YOUR CODE HERE\n"
   ]
  },
  {
   "cell_type": "markdown",
   "metadata": {},
   "source": [
    "What what does this plot tell you about how many components best explain variance in Flanker task performance? \n",
    "\n",
    "> *Write your response here*\n",
    "> * "
   ]
  },
  {
   "cell_type": "markdown",
   "metadata": {
    "id": "5zheO4rLBujo"
   },
   "source": [
    "---\n",
    "## 5. Reflection (2 points)"
   ]
  },
  {
   "cell_type": "markdown",
   "metadata": {
    "id": "T-65QvdnBujo"
   },
   "source": [
    "Compare the number of components that explain variance in X alone (the brain volumes) to the number of components that explain performance in the Flanker task. What does the difference in these two numbers tell you about how variation in brain volumes relates to task performance?"
   ]
  },
  {
   "cell_type": "markdown",
   "metadata": {
    "id": "dkM1H1_WBujo"
   },
   "source": [
    "> *Write your response here* \n",
    "\n",
    "> "
   ]
  },
  {
   "cell_type": "markdown",
   "metadata": {
    "id": "HmcAxEQCBujp"
   },
   "source": [
    "**DUE:** 5pm EST, April 17, 2023"
   ]
  },
  {
   "cell_type": "markdown",
   "metadata": {
    "id": "hYdsoRobBujp"
   },
   "source": [
    "**IMPORTANT** Did you collaborate with anyone on this assignment? If so, list their names here. \n",
    "> *Someone's Name*"
   ]
  }
 ],
 "metadata": {
  "colab": {
   "provenance": []
  },
  "kernelspec": {
   "display_name": "R",
   "language": "R",
   "name": "ir"
  },
  "language_info": {
   "codemirror_mode": "r",
   "file_extension": ".r",
   "mimetype": "text/x-r-source",
   "name": "R",
   "pygments_lexer": "r",
   "version": "4.2.2"
  }
 },
 "nbformat": 4,
 "nbformat_minor": 1
}
