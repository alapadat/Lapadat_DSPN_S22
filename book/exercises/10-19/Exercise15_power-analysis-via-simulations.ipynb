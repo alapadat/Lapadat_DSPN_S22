{
 "cells": [
  {
   "cell_type": "markdown",
   "metadata": {
    "id": "-2W919d2ZXp7"
   },
   "source": [
    "# Exercise 15: Power Analyses"
   ]
  },
  {
   "cell_type": "markdown",
   "metadata": {
    "id": "L4nOzVhyZXqK"
   },
   "source": [
    "This  assignment is designed to give you practice with Monte Carlo methods to conduct power analyses via simulation. You won't need to load in any data for this homework. We will, however, be using parts of the homework from last week."
   ]
  },
  {
   "cell_type": "markdown",
   "metadata": {
    "id": "9DsyBTB6ZXqN"
   },
   "source": [
    "---\n",
    "## 1. Simulating data (1 points)\n"
   ]
  },
  {
   "cell_type": "markdown",
   "metadata": {
    "id": "J1f6MywYhyzN"
   },
   "source": [
    "Pull your `simulate_data()` function from your last homework and add it below. \n",
    "\n",
    "As a reminder, this function simulates the relationship between age, word reading experience, and reading comprehension skill. \n",
    "\n",
    "`c` is reading comprehension, and `x` is word reading experience."
   ]
  },
  {
   "cell_type": "code",
   "execution_count": 1,
   "metadata": {
    "id": "UnBVazYfZXqP"
   },
   "outputs": [
    {
     "data": {
      "text/html": [
       "<table class=\"dataframe\">\n",
       "<caption>A data.frame: 6 × 3</caption>\n",
       "<thead>\n",
       "\t<tr><th></th><th scope=col>age</th><th scope=col>x</th><th scope=col>c</th></tr>\n",
       "\t<tr><th></th><th scope=col>&lt;dbl&gt;</th><th scope=col>&lt;dbl&gt;</th><th scope=col>&lt;dbl&gt;</th></tr>\n",
       "</thead>\n",
       "<tbody>\n",
       "\t<tr><th scope=row>1</th><td> 91.27604</td><td>131.6742</td><td>132.42179</td></tr>\n",
       "\t<tr><th scope=row>2</th><td> 87.53383</td><td>210.1604</td><td>186.12311</td></tr>\n",
       "\t<tr><th scope=row>3</th><td>158.92601</td><td>213.8303</td><td>227.93976</td></tr>\n",
       "\t<tr><th scope=row>4</th><td>150.21775</td><td>216.1559</td><td> 69.02675</td></tr>\n",
       "\t<tr><th scope=row>5</th><td> 98.22772</td><td>227.5536</td><td>172.14299</td></tr>\n",
       "\t<tr><th scope=row>6</th><td>160.55970</td><td>157.5387</td><td> 74.07795</td></tr>\n",
       "</tbody>\n",
       "</table>\n"
      ],
      "text/latex": [
       "A data.frame: 6 × 3\n",
       "\\begin{tabular}{r|lll}\n",
       "  & age & x & c\\\\\n",
       "  & <dbl> & <dbl> & <dbl>\\\\\n",
       "\\hline\n",
       "\t1 &  91.27604 & 131.6742 & 132.42179\\\\\n",
       "\t2 &  87.53383 & 210.1604 & 186.12311\\\\\n",
       "\t3 & 158.92601 & 213.8303 & 227.93976\\\\\n",
       "\t4 & 150.21775 & 216.1559 &  69.02675\\\\\n",
       "\t5 &  98.22772 & 227.5536 & 172.14299\\\\\n",
       "\t6 & 160.55970 & 157.5387 &  74.07795\\\\\n",
       "\\end{tabular}\n"
      ],
      "text/markdown": [
       "\n",
       "A data.frame: 6 × 3\n",
       "\n",
       "| <!--/--> | age &lt;dbl&gt; | x &lt;dbl&gt; | c &lt;dbl&gt; |\n",
       "|---|---|---|---|\n",
       "| 1 |  91.27604 | 131.6742 | 132.42179 |\n",
       "| 2 |  87.53383 | 210.1604 | 186.12311 |\n",
       "| 3 | 158.92601 | 213.8303 | 227.93976 |\n",
       "| 4 | 150.21775 | 216.1559 |  69.02675 |\n",
       "| 5 |  98.22772 | 227.5536 | 172.14299 |\n",
       "| 6 | 160.55970 | 157.5387 |  74.07795 |\n",
       "\n"
      ],
      "text/plain": [
       "  age       x        c        \n",
       "1  91.27604 131.6742 132.42179\n",
       "2  87.53383 210.1604 186.12311\n",
       "3 158.92601 213.8303 227.93976\n",
       "4 150.21775 216.1559  69.02675\n",
       "5  98.22772 227.5536 172.14299\n",
       "6 160.55970 157.5387  74.07795"
      ]
     },
     "metadata": {},
     "output_type": "display_data"
    }
   ],
   "source": [
    "sample_size = 100 # How many children in data set? \n",
    "age_lo = 80     # minimum age, in months\n",
    "age_hi = 200    # maximum age, in months\n",
    "beta_xa = 0.5   # amount by which experience changes for increase of one month in age\n",
    "beta_x0 = -5    # amount of experience when age = 0 (not interpretable, since minimum age for this data is 80 months)\n",
    "sd_x = 50       # standard dev of gaussian noise term, epsilon_x\n",
    "beta_ca = 0.8   # amount that comprehension score improves for every increase of one unit in age\n",
    "beta_cx = 3     # amount that comprehension score improves for every increase of one unit in reading experience\n",
    "beta_c0 = 10    # comprehension score when reading experience is 0. \n",
    "sd_c = 85      # standard dev of gaussian noise term, epsilon_c\n",
    "\n",
    "simulate_data <- function(sample_size, age_lo, age_hi, beta_xa, beta_x0, sd_x, beta_ca, beta_cx, beta_c0, sd_c) {\n",
    "      # WRITE YOUR CODE HERE\n",
    "     \n",
    "    r <- runif(sample_size, age_lo, age_hi)\n",
    "    output_x = data.frame()\n",
    "    output_c = data.frame()\n",
    "    mean_r  <- mean(r) #generate mean(r)\n",
    "    \n",
    "    for (item in 1:sample_size)\n",
    "        #x = (beta_xa + beta_x0 + rnorm(1, mean_x, sd_x))\n",
    "        output_x = rbind(output_x, (beta_xa + beta_x0 + rnorm(1, mean_r, sd_x)))\n",
    "    \n",
    "    for (item in 1:sample_size)\n",
    "        #x = (beta_xa + beta_x0 + rnorm(1, mean_x, sd_x))\n",
    "        output_c = rbind(output_c, (beta_ca + beta_cx + beta_c0 + rnorm(1, mean_r, sd_c)))\n",
    "    \n",
    "    output = data.frame(\"age\" = r, output_x, output_c)\n",
    "    colnames(output)[2] =\"x\"\n",
    "    colnames(output)[3] =\"c\"\n",
    "    \n",
    "    \n",
    "      return(output)\n",
    "}\n",
    "\n",
    "dat <- simulate_data(sample_size, age_lo, age_hi, beta_xa, beta_x0, sd_x, beta_ca, beta_cx, beta_c0, sd_c)\n",
    "head(dat)"
   ]
  },
  {
   "cell_type": "markdown",
   "metadata": {
    "id": "T3b3_KsHk-xD"
   },
   "source": [
    "---\n",
    "## 2. `run_analysis()` function (2 pts)"
   ]
  },
  {
   "cell_type": "markdown",
   "metadata": {
    "id": "TJyPIaTO8zCS"
   },
   "source": [
    "Last week, we looked at whether word reading experience(`x`) mediated the relation between `age` and reading comprehension (`c`).\n",
    "\n",
    "Now we're going to use our `simulate_data()` function to conduct a power analysis. The goal is to determine how many participants we would need in order to detect both the mediated and the direct effects in this data. \n",
    "\n",
    "*Note: We're going to pretend for the sake of simplicity that we don't have any control over the ages of the children we get (so ages are generated using `runif(sample_size, age_lo, age_hi)`, although of course this would be an unusual situation in reality.*\n",
    "\n",
    "First, write a function, `run_analysis()`, that takes in simulated data, runs **your mediation from last week**, and returns a vector containing the ACME and ADE estimates and p-values (these are the `d0`, `d0.p`, `z0`, and `z0.p` features of the mediated model object, e.g., `fitMed$d0.p`). Print this function's output for the data we simulated previously. "
   ]
  },
  {
   "cell_type": "markdown",
   "metadata": {},
   "source": [
    "The following line confuses me, which data is it referring to?? :\n",
    "\n",
    "Print this function's output for the data we simulated previously."
   ]
  },
  {
   "cell_type": "code",
   "execution_count": 2,
   "metadata": {
    "id": "AidH_KidrX9L",
    "scrolled": true
   },
   "outputs": [
    {
     "name": "stderr",
     "output_type": "stream",
     "text": [
      "Warning message:\n",
      "\"package 'mediation' was built under R version 4.2.3\"\n",
      "Loading required package: MASS\n",
      "\n",
      "Loading required package: Matrix\n",
      "\n",
      "Loading required package: mvtnorm\n",
      "\n",
      "Loading required package: sandwich\n",
      "\n",
      "Warning message:\n",
      "\"package 'sandwich' was built under R version 4.2.3\"\n",
      "mediation: Causal Mediation Analysis\n",
      "Version: 4.5.0\n",
      "\n",
      "\n"
     ]
    },
    {
     "name": "stdout",
     "output_type": "stream",
     "text": [
      "\n",
      "Causal Mediation Analysis \n",
      "\n",
      "Quasi-Bayesian Confidence Intervals\n",
      "\n",
      "               Estimate 95% CI Lower 95% CI Upper p-value\n",
      "ACME              0.000        0.000         0.00    1.00\n",
      "ADE               0.132       -0.262         0.52    0.54\n",
      "Total Effect      0.132       -0.262         0.52    0.54\n",
      "Prop. Mediated    0.000        0.000         0.00    1.00\n",
      "\n",
      "Sample Size Used: 100 \n",
      "\n",
      "\n",
      "Simulations: 1000 \n",
      "\n"
     ]
    },
    {
     "data": {
      "text/html": [
       "<style>\n",
       ".list-inline {list-style: none; margin:0; padding: 0}\n",
       ".list-inline>li {display: inline-block}\n",
       ".list-inline>li:not(:last-child)::after {content: \"\\00b7\"; padding: 0 .5ex}\n",
       "</style>\n",
       "<ol class=list-inline><li>0</li><li>1</li><li>0.132278700432106</li><li>0.536</li></ol>\n"
      ],
      "text/latex": [
       "\\begin{enumerate*}\n",
       "\\item 0\n",
       "\\item 1\n",
       "\\item 0.132278700432106\n",
       "\\item 0.536\n",
       "\\end{enumerate*}\n"
      ],
      "text/markdown": [
       "1. 0\n",
       "2. 1\n",
       "3. 0.132278700432106\n",
       "4. 0.536\n",
       "\n",
       "\n"
      ],
      "text/plain": [
       "[1] 0.0000000 1.0000000 0.1322787 0.5360000"
      ]
     },
     "metadata": {},
     "output_type": "display_data"
    }
   ],
   "source": [
    "# WRITE YOUR CODE HERE\n",
    "library(mediation)\n",
    "\n",
    "#fitM <- lm(x ~ age,     data=dat) #Step 1: IV on M, age predicting x\n",
    "#fitY <- lm(c ~ x + age, data=dat) #Step 2: IV and M on DV, x and age predicting c\n",
    "\n",
    "#fitMed <- mediate(fitM, fitY, treat= \"age\", mediator= \"c\")\n",
    "#summary(fitMed)\n",
    "\n",
    "# a function for running a t-test and extracting p-value\n",
    "run_analysis <- function(data) {\n",
    "    fitM <- lm(x ~ age,    data=dat) #Step 1: IV on M, age predicting x\n",
    "    fitY <- lm(c ~ x + age,    data=dat) #Step 2: IV and M on DV, x and age predicting c\n",
    "    fit <- mediate(fitM, fitY, treat= \"age\", mediator= \"c\")  \n",
    "    \n",
    "    output  <- c(fit$d0, fit$d0.p, fit$z0, fit$z0.p)\n",
    "    print(summary(fit))\n",
    "    return(output)\n",
    "    #return(summary(fit))\n",
    "    #return(c(fit$estimate[1] - fit$estimate[2],fit$stderr,fit$p.value)) # this outputs the effect size, standard error, and significance for quality metrics \n",
    "}\n",
    "\n",
    "rad  <- run_analysis(dat)\n",
    "head(rad)"
   ]
  },
  {
   "cell_type": "markdown",
   "metadata": {
    "id": "bHxz5W2r5s79"
   },
   "source": [
    "---\n",
    "## 3. `repeat_analysis()` function (3 pts)"
   ]
  },
  {
   "cell_type": "markdown",
   "metadata": {
    "id": "G_jvc1XQBCpH"
   },
   "source": [
    "Next fill in the function `repeat_analysis()` below so that it simulates and analyzes data `num_simulations` times. Store the outputs from each simulation in the `simouts` matrix. Calculate and return the coverage across all the simulations run for both ACME and ADE."
   ]
  },
  {
   "cell_type": "code",
   "execution_count": 3,
   "metadata": {
    "id": "NheOpBDsBBo9"
   },
   "outputs": [
    {
     "name": "stdout",
     "output_type": "stream",
     "text": [
      "\n",
      "Causal Mediation Analysis \n",
      "\n",
      "Quasi-Bayesian Confidence Intervals\n",
      "\n",
      "               Estimate 95% CI Lower 95% CI Upper p-value\n",
      "ACME              0.000        0.000         0.00    1.00\n",
      "ADE               0.138       -0.281         0.55    0.52\n",
      "Total Effect      0.138       -0.281         0.55    0.52\n",
      "Prop. Mediated    0.000        0.000         0.00    1.00\n",
      "\n",
      "Sample Size Used: 100 \n",
      "\n",
      "\n",
      "Simulations: 1000 \n",
      "\n"
     ]
    },
    {
     "data": {
      "text/html": [
       "<dl>\n",
       "\t<dt>$ACME_cov</dt>\n",
       "\t\t<dd>0</dd>\n",
       "\t<dt>$ADE_cov</dt>\n",
       "\t\t<dd>0.138199754551006</dd>\n",
       "</dl>\n"
      ],
      "text/latex": [
       "\\begin{description}\n",
       "\\item[\\$ACME\\_cov] 0\n",
       "\\item[\\$ADE\\_cov] 0.138199754551006\n",
       "\\end{description}\n"
      ],
      "text/markdown": [
       "$ACME_cov\n",
       ":   0\n",
       "$ADE_cov\n",
       ":   0.138199754551006\n",
       "\n",
       "\n"
      ],
      "text/plain": [
       "$ACME_cov\n",
       "[1] 0\n",
       "\n",
       "$ADE_cov\n",
       "[1] 0.1381998\n"
      ]
     },
     "metadata": {},
     "output_type": "display_data"
    }
   ],
   "source": [
    "num_simulations = 1\n",
    "alpha = .05\n",
    "\n",
    "repeat_analysis <- function(num_simulations, alpha, sample_size, age_lo, age_hi, \n",
    "        beta_xa, beta_x0, sd_x, beta_ca, beta_cx, beta_c0, sd_c) {\n",
    "    # Initialize simouts matrix for storing each output from run_analysis()\n",
    "    simouts <- matrix(rep(NA, num_simulations*4), nrow=num_simulations, ncol=4)\n",
    "    \n",
    "        \n",
    "    # Start simulating\n",
    "    for (i in 1:num_simulations) {\n",
    "      sim_dat  <- simulate_data(sample_size, age_lo, age_hi, beta_xa, beta_x0, sd_x, beta_ca, beta_cx, beta_c0, sd_c)\n",
    "      run_analysis  <- run_analysis(sim_dat)\n",
    "      simouts[i, ]  <- run_analysis\n",
    "    }\n",
    "    \n",
    "    # Calculate coverage for both ACME and ADE estimates using p-values in simouts\n",
    "    #cvg <- mean(simouts[,3] <= alpha)\n",
    "    ACME_cov = mean(simouts[,1]) # D0 = ACME\n",
    "    ADE_cov = mean(simouts[,3]) # z0 = ADE\n",
    "\n",
    "    return(list(ACME_cov = ACME_cov, ADE_cov = ADE_cov))\n",
    "    #return(simouts)\n",
    "}\n",
    "\n",
    "repeat_analysis(num_simulations, alpha, sample_size, age_lo, age_hi, beta_xa, beta_x0, sd_x, beta_ca, beta_cx, beta_c0, sd_c)\n",
    "#head(repeat_analysis)"
   ]
  },
  {
   "cell_type": "code",
   "execution_count": 4,
   "metadata": {},
   "outputs": [
    {
     "data": {
      "text/html": [
       "<table class=\"dataframe\">\n",
       "<caption>A matrix: 1 × 4 of type dbl</caption>\n",
       "<tbody>\n",
       "\t<tr><td>2</td><td>3</td><td>4</td><td>4</td></tr>\n",
       "</tbody>\n",
       "</table>\n"
      ],
      "text/latex": [
       "A matrix: 1 × 4 of type dbl\n",
       "\\begin{tabular}{llll}\n",
       "\t 2 & 3 & 4 & 4\\\\\n",
       "\\end{tabular}\n"
      ],
      "text/markdown": [
       "\n",
       "A matrix: 1 × 4 of type dbl\n",
       "\n",
       "| 2 | 3 | 4 | 4 |\n",
       "\n"
      ],
      "text/plain": [
       "     [,1] [,2] [,3] [,4]\n",
       "[1,] 2    3    4    4   "
      ]
     },
     "metadata": {},
     "output_type": "display_data"
    }
   ],
   "source": [
    "simouts <- matrix(rep(NA, num_simulations*4), nrow=num_simulations, ncol=4)\n",
    "\n",
    "simouts[1, ]  <- c(2, 3, 4, 4)\n",
    "simouts"
   ]
  },
  {
   "cell_type": "markdown",
   "metadata": {
    "id": "bM5J5pYyQoRL"
   },
   "source": [
    "Now run the `repeat_analysis()` function using the same parameter settings as above, for 10 simulations, with an alpha criterion of 0.01. "
   ]
  },
  {
   "cell_type": "code",
   "execution_count": 5,
   "metadata": {
    "id": "RpURGbZQQlEK"
   },
   "outputs": [
    {
     "name": "stdout",
     "output_type": "stream",
     "text": [
      "\n",
      "Causal Mediation Analysis \n",
      "\n",
      "Quasi-Bayesian Confidence Intervals\n",
      "\n",
      "               Estimate 95% CI Lower 95% CI Upper p-value\n",
      "ACME              0.000        0.000         0.00    1.00\n",
      "ADE               0.137       -0.272         0.54    0.51\n",
      "Total Effect      0.137       -0.272         0.54    0.51\n",
      "Prop. Mediated    0.000        0.000         0.00    1.00\n",
      "\n",
      "Sample Size Used: 100 \n",
      "\n",
      "\n",
      "Simulations: 1000 \n",
      "\n",
      "\n",
      "Causal Mediation Analysis \n",
      "\n",
      "Quasi-Bayesian Confidence Intervals\n",
      "\n",
      "               Estimate 95% CI Lower 95% CI Upper p-value\n",
      "ACME              0.000        0.000         0.00    1.00\n",
      "ADE               0.136       -0.269         0.54    0.52\n",
      "Total Effect      0.136       -0.269         0.54    0.52\n",
      "Prop. Mediated    0.000        0.000         0.00    1.00\n",
      "\n",
      "Sample Size Used: 100 \n",
      "\n",
      "\n",
      "Simulations: 1000 \n",
      "\n",
      "\n",
      "Causal Mediation Analysis \n",
      "\n",
      "Quasi-Bayesian Confidence Intervals\n",
      "\n",
      "               Estimate 95% CI Lower 95% CI Upper p-value\n",
      "ACME              0.000        0.000         0.00    1.00\n",
      "ADE               0.136       -0.270         0.53    0.52\n",
      "Total Effect      0.136       -0.270         0.53    0.52\n",
      "Prop. Mediated    0.000        0.000         0.00    1.00\n",
      "\n",
      "Sample Size Used: 100 \n",
      "\n",
      "\n",
      "Simulations: 1000 \n",
      "\n",
      "\n",
      "Causal Mediation Analysis \n",
      "\n",
      "Quasi-Bayesian Confidence Intervals\n",
      "\n",
      "               Estimate 95% CI Lower 95% CI Upper p-value\n",
      "ACME              0.000        0.000         0.00    1.00\n",
      "ADE               0.153       -0.270         0.56    0.45\n",
      "Total Effect      0.153       -0.270         0.56    0.45\n",
      "Prop. Mediated    0.000        0.000         0.00    1.00\n",
      "\n",
      "Sample Size Used: 100 \n",
      "\n",
      "\n",
      "Simulations: 1000 \n",
      "\n",
      "\n",
      "Causal Mediation Analysis \n",
      "\n",
      "Quasi-Bayesian Confidence Intervals\n",
      "\n",
      "               Estimate 95% CI Lower 95% CI Upper p-value\n",
      "ACME              0.000        0.000         0.00    1.00\n",
      "ADE               0.126       -0.282         0.52    0.56\n",
      "Total Effect      0.126       -0.282         0.52    0.56\n",
      "Prop. Mediated    0.000        0.000         0.00    1.00\n",
      "\n",
      "Sample Size Used: 100 \n",
      "\n",
      "\n",
      "Simulations: 1000 \n",
      "\n",
      "\n",
      "Causal Mediation Analysis \n",
      "\n",
      "Quasi-Bayesian Confidence Intervals\n",
      "\n",
      "               Estimate 95% CI Lower 95% CI Upper p-value\n",
      "ACME              0.000        0.000         0.00    1.00\n",
      "ADE               0.124       -0.307         0.57    0.58\n",
      "Total Effect      0.124       -0.307         0.57    0.58\n",
      "Prop. Mediated    0.000        0.000         0.00    1.00\n",
      "\n",
      "Sample Size Used: 100 \n",
      "\n",
      "\n",
      "Simulations: 1000 \n",
      "\n",
      "\n",
      "Causal Mediation Analysis \n",
      "\n",
      "Quasi-Bayesian Confidence Intervals\n",
      "\n",
      "               Estimate 95% CI Lower 95% CI Upper p-value\n",
      "ACME              0.000        0.000         0.00    1.00\n",
      "ADE               0.132       -0.277         0.57    0.53\n",
      "Total Effect      0.132       -0.277         0.57    0.53\n",
      "Prop. Mediated    0.000        0.000         0.00    1.00\n",
      "\n",
      "Sample Size Used: 100 \n",
      "\n",
      "\n",
      "Simulations: 1000 \n",
      "\n",
      "\n",
      "Causal Mediation Analysis \n",
      "\n",
      "Quasi-Bayesian Confidence Intervals\n",
      "\n",
      "               Estimate 95% CI Lower 95% CI Upper p-value\n",
      "ACME              0.000        0.000         0.00     1.0\n",
      "ADE               0.142       -0.265         0.57     0.5\n",
      "Total Effect      0.142       -0.265         0.57     0.5\n",
      "Prop. Mediated    0.000        0.000         0.00     1.0\n",
      "\n",
      "Sample Size Used: 100 \n",
      "\n",
      "\n",
      "Simulations: 1000 \n",
      "\n",
      "\n",
      "Causal Mediation Analysis \n",
      "\n",
      "Quasi-Bayesian Confidence Intervals\n",
      "\n",
      "               Estimate 95% CI Lower 95% CI Upper p-value\n",
      "ACME              0.000        0.000         0.00    1.00\n",
      "ADE               0.141       -0.291         0.58    0.54\n",
      "Total Effect      0.141       -0.291         0.58    0.54\n",
      "Prop. Mediated    0.000        0.000         0.00    1.00\n",
      "\n",
      "Sample Size Used: 100 \n",
      "\n",
      "\n",
      "Simulations: 1000 \n",
      "\n",
      "\n",
      "Causal Mediation Analysis \n",
      "\n",
      "Quasi-Bayesian Confidence Intervals\n",
      "\n",
      "               Estimate 95% CI Lower 95% CI Upper p-value\n",
      "ACME              0.000        0.000         0.00    1.00\n",
      "ADE               0.116       -0.293         0.53    0.58\n",
      "Total Effect      0.116       -0.293         0.53    0.58\n",
      "Prop. Mediated    0.000        0.000         0.00    1.00\n",
      "\n",
      "Sample Size Used: 100 \n",
      "\n",
      "\n",
      "Simulations: 1000 \n",
      "\n"
     ]
    },
    {
     "data": {
      "text/html": [
       "<dl>\n",
       "\t<dt>$ACME_cov</dt>\n",
       "\t\t<dd>0</dd>\n",
       "\t<dt>$ADE_cov</dt>\n",
       "\t\t<dd>0.134299780953647</dd>\n",
       "</dl>\n"
      ],
      "text/latex": [
       "\\begin{description}\n",
       "\\item[\\$ACME\\_cov] 0\n",
       "\\item[\\$ADE\\_cov] 0.134299780953647\n",
       "\\end{description}\n"
      ],
      "text/markdown": [
       "$ACME_cov\n",
       ":   0\n",
       "$ADE_cov\n",
       ":   0.134299780953647\n",
       "\n",
       "\n"
      ],
      "text/plain": [
       "$ACME_cov\n",
       "[1] 0\n",
       "\n",
       "$ADE_cov\n",
       "[1] 0.1342998\n"
      ]
     },
     "metadata": {},
     "output_type": "display_data"
    }
   ],
   "source": [
    "num_simulations = 10\n",
    "alpha = .01\n",
    "\n",
    "repeat_analysis(num_simulations, alpha, sample_size, age_lo, age_hi, beta_xa, beta_x0, sd_x, beta_ca, beta_cx, beta_c0, sd_c)"
   ]
  },
  {
   "cell_type": "markdown",
   "metadata": {
    "id": "imIoN4w65s7_"
   },
   "source": [
    "---\n",
    "## 4. Testing different sample sizes (2 pts)"
   ]
  },
  {
   "cell_type": "markdown",
   "metadata": {
    "id": "CzeTaoY7SaXv"
   },
   "source": [
    "Finally, do the same thing (10 simulations, alpha criterion of 0.01) but for 5 different sample sizes: 50, 75, 100, 125, 150. You can do this using `map` (as in the tutorial), or a simple `for` loop, or by calculating each individually. Up to you! This should take around 3 minutes to run. "
   ]
  },
  {
   "cell_type": "code",
   "execution_count": 20,
   "metadata": {
    "id": "mp-a19XsS8Md"
   },
   "outputs": [
    {
     "name": "stdout",
     "output_type": "stream",
     "text": [
      "[1] 4\n"
     ]
    }
   ],
   "source": [
    "# WRITE YOUR CODE HERE\n",
    "library(purrr)\n",
    "\n",
    "num_simulations = 2\n",
    "alpha = .01\n",
    "\n",
    "named_vector  <- c(1, 2, 3, 4)\n",
    "\n",
    "sample_size = NA\n",
    "\n",
    "for (item in named_vector)\n",
    "    sample_size  <-  item\n",
    "    print(item)\n",
    "    repeat_analysis(num_simulations, alpha, item, age_lo, age_hi, beta_xa, beta_x0, sd_x, beta_ca, beta_cx, beta_c0, sd_c)"
   ]
  },
  {
   "cell_type": "markdown",
   "metadata": {
    "id": "akJwKCB7dkDw"
   },
   "source": [
    "Print your results. "
   ]
  },
  {
   "cell_type": "code",
   "execution_count": 24,
   "metadata": {
    "id": "gIkkWTG2aR4d",
    "scrolled": true
   },
   "outputs": [
    {
     "name": "stdout",
     "output_type": "stream",
     "text": [
      "\n",
      "Causal Mediation Analysis \n",
      "\n",
      "Quasi-Bayesian Confidence Intervals\n",
      "\n",
      "               Estimate 95% CI Lower 95% CI Upper p-value\n",
      "ACME              0.000        0.000         0.00    1.00\n",
      "ADE               0.129       -0.281         0.53    0.53\n",
      "Total Effect      0.129       -0.281         0.53    0.53\n",
      "Prop. Mediated    0.000        0.000         0.00    1.00\n",
      "\n",
      "Sample Size Used: 100 \n",
      "\n",
      "\n",
      "Simulations: 1000 \n",
      "\n",
      "\n",
      "Causal Mediation Analysis \n",
      "\n",
      "Quasi-Bayesian Confidence Intervals\n",
      "\n",
      "               Estimate 95% CI Lower 95% CI Upper p-value\n",
      "ACME              0.000        0.000         0.00    1.00\n",
      "ADE               0.127       -0.271         0.53    0.57\n",
      "Total Effect      0.127       -0.271         0.53    0.57\n",
      "Prop. Mediated    0.000        0.000         0.00    1.00\n",
      "\n",
      "Sample Size Used: 100 \n",
      "\n",
      "\n",
      "Simulations: 1000 \n",
      "\n"
     ]
    },
    {
     "data": {
      "text/html": [
       "<dl>\n",
       "\t<dt>$ACME_cov</dt>\n",
       "\t\t<dd>0</dd>\n",
       "\t<dt>$ADE_cov</dt>\n",
       "\t\t<dd>0.12794291045254</dd>\n",
       "</dl>\n"
      ],
      "text/latex": [
       "\\begin{description}\n",
       "\\item[\\$ACME\\_cov] 0\n",
       "\\item[\\$ADE\\_cov] 0.12794291045254\n",
       "\\end{description}\n"
      ],
      "text/markdown": [
       "$ACME_cov\n",
       ":   0\n",
       "$ADE_cov\n",
       ":   0.12794291045254\n",
       "\n",
       "\n"
      ],
      "text/plain": [
       "$ACME_cov\n",
       "[1] 0\n",
       "\n",
       "$ADE_cov\n",
       "[1] 0.1279429\n"
      ]
     },
     "metadata": {},
     "output_type": "display_data"
    }
   ],
   "source": [
    "# WRITE YOUR CODE HERE\n",
    "sample_size = 50\n",
    "\n",
    "repeat_analysis(num_simulations, alpha, sample_size, age_lo, age_hi, beta_xa, beta_x0, sd_x, beta_ca, beta_cx, beta_c0, sd_c)"
   ]
  },
  {
   "cell_type": "markdown",
   "metadata": {
    "id": "q3Oo6npB5s8B"
   },
   "source": [
    "## 5. Reflection (2 pts)"
   ]
  },
  {
   "cell_type": "markdown",
   "metadata": {
    "id": "tpbGkul2dr-5"
   },
   "source": [
    "If this were a real power analysis, we'd want to run more simulations per sample size (to get a more precise estimate of power) and we may also want to test out some other values of the parameters we used to simulate our data. However, what would you conclude just based on the results above? \n",
    "\n",
    "> *Write your response here.* \n",
    "> "
   ]
  },
  {
   "cell_type": "markdown",
   "metadata": {
    "id": "RcCo3QOifUi5"
   },
   "source": [
    "**Given** how we generated the data, why was the direct effect harder to detect than the mediated effect?\n",
    "> *Write your response here.* "
   ]
  },
  {
   "cell_type": "markdown",
   "metadata": {
    "id": "C4MPECMmZXqe"
   },
   "source": [
    "**DUE:** 5pm EST, April 5, 2023"
   ]
  },
  {
   "cell_type": "markdown",
   "metadata": {
    "id": "r9GUofXN4BVy"
   },
   "source": [
    "**IMPORTANT** Did you collaborate with anyone on this assignment? If so, list their names here. \n",
    "> *Someone's Name*"
   ]
  }
 ],
 "metadata": {
  "colab": {
   "provenance": []
  },
  "kernelspec": {
   "display_name": "R",
   "language": "R",
   "name": "ir"
  },
  "language_info": {
   "codemirror_mode": "r",
   "file_extension": ".r",
   "mimetype": "text/x-r-source",
   "name": "R",
   "pygments_lexer": "r",
   "version": "4.2.2"
  }
 },
 "nbformat": 4,
 "nbformat_minor": 1
}
