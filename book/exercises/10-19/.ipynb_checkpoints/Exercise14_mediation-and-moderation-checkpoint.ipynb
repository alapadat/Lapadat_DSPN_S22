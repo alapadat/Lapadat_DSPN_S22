{
 "cells": [
  {
   "cell_type": "markdown",
   "metadata": {
    "id": "-2W919d2ZXp7"
   },
   "source": [
    "# Exercise 14: Mediation"
   ]
  },
  {
   "cell_type": "markdown",
   "metadata": {
    "id": "L4nOzVhyZXqK"
   },
   "source": [
    "This homework assignment is designed to give you practice with mediation. You won't need to load in any data for this homework -- we'll simulate data instead."
   ]
  },
  {
   "cell_type": "markdown",
   "metadata": {
    "id": "9DsyBTB6ZXqN"
   },
   "source": [
    "---\n",
    "## 1. Simulating data (3 points)\n"
   ]
  },
  {
   "cell_type": "markdown",
   "metadata": {
    "id": "J1f6MywYhyzN"
   },
   "source": [
    "In this homework, we're going to simulate the relationship between age, word reading experience, and reading comprehension skill. Older children tend to be better at reading comprehension tasks, but this isn't just an inherent part of getting older. It's a combination of gaining more experience with reading, oral language skills, and executive functions development. In this homework, though, we're going to simplify this relationship down to a direct effect of age on reading comprehension (since improvements in oral language skills and executive functions are more guaranteed as children age than reading practice is), and a mediation of word reading experience.\n",
    "\n",
    "In graphical form: \n",
    "![picture](https://drive.google.com/uc?id=1wdm9xuiJhBJor99-9GnicO2_rzkGWtfN)"
   ]
  },
  {
   "cell_type": "markdown",
   "metadata": {
    "id": "qMpQX_ogjkyQ"
   },
   "source": [
    "Writing the relationship out formally: \n",
    "\n",
    "$$x = \\beta_{xa} a + \\beta_{x0} + \\epsilon_{x}$$\n",
    "\n",
    "$$c = \\beta_{ca} a + \\beta_{cx} x + \\beta_{c0} + \\epsilon_c$$\n",
    "\n"
   ]
  },
  {
   "cell_type": "markdown",
   "metadata": {
    "id": "5FidlpJlmKi8"
   },
   "source": [
    "$c$ is reading comprehension, $x$ is word reading experience, and $a$ is age. $\\beta_{c0}$ and $\\beta_{x0}$ are intercept terms for their respective formulas, and $\\epsilon_{c}$ and $\\epsilon_{x}$ are gaussian noise terms. We'll start by writing a function, `simulate_data`, that can simulate this relationship. The input values are set and the function structure is provided below. Complete the function such that it takes in those input variables and generates $age$, $x$, and $c$ values. Use `runif()` to generate ages. Use `rnorm()` to generate the noise terms. "
   ]
  },
  {
   "cell_type": "code",
   "execution_count": 3,
   "metadata": {
    "id": "UnBVazYfZXqP",
    "vscode": {
     "languageId": "r"
    }
   },
   "outputs": [
    {
     "data": {
      "text/html": [
       "<table class=\"dataframe\">\n",
       "<caption>A data.frame: 6 × 3</caption>\n",
       "<thead>\n",
       "\t<tr><th></th><th scope=col>age</th><th scope=col>x</th><th scope=col>c</th></tr>\n",
       "\t<tr><th></th><th scope=col>&lt;dbl&gt;</th><th scope=col>&lt;dbl&gt;</th><th scope=col>&lt;dbl&gt;</th></tr>\n",
       "</thead>\n",
       "<tbody>\n",
       "\t<tr><th scope=row>1</th><td>156.61179</td><td>192.11998</td><td>122.42930</td></tr>\n",
       "\t<tr><th scope=row>2</th><td>178.20767</td><td>156.61552</td><td>149.70118</td></tr>\n",
       "\t<tr><th scope=row>3</th><td>151.34812</td><td> 68.73043</td><td> 49.07987</td></tr>\n",
       "\t<tr><th scope=row>4</th><td>179.12549</td><td>103.61325</td><td>176.60868</td></tr>\n",
       "\t<tr><th scope=row>5</th><td>104.67675</td><td> 45.64182</td><td> 62.36982</td></tr>\n",
       "\t<tr><th scope=row>6</th><td> 97.98153</td><td> 99.55628</td><td> 36.69630</td></tr>\n",
       "</tbody>\n",
       "</table>\n"
      ],
      "text/latex": [
       "A data.frame: 6 × 3\n",
       "\\begin{tabular}{r|lll}\n",
       "  & age & x & c\\\\\n",
       "  & <dbl> & <dbl> & <dbl>\\\\\n",
       "\\hline\n",
       "\t1 & 156.61179 & 192.11998 & 122.42930\\\\\n",
       "\t2 & 178.20767 & 156.61552 & 149.70118\\\\\n",
       "\t3 & 151.34812 &  68.73043 &  49.07987\\\\\n",
       "\t4 & 179.12549 & 103.61325 & 176.60868\\\\\n",
       "\t5 & 104.67675 &  45.64182 &  62.36982\\\\\n",
       "\t6 &  97.98153 &  99.55628 &  36.69630\\\\\n",
       "\\end{tabular}\n"
      ],
      "text/markdown": [
       "\n",
       "A data.frame: 6 × 3\n",
       "\n",
       "| <!--/--> | age &lt;dbl&gt; | x &lt;dbl&gt; | c &lt;dbl&gt; |\n",
       "|---|---|---|---|\n",
       "| 1 | 156.61179 | 192.11998 | 122.42930 |\n",
       "| 2 | 178.20767 | 156.61552 | 149.70118 |\n",
       "| 3 | 151.34812 |  68.73043 |  49.07987 |\n",
       "| 4 | 179.12549 | 103.61325 | 176.60868 |\n",
       "| 5 | 104.67675 |  45.64182 |  62.36982 |\n",
       "| 6 |  97.98153 |  99.55628 |  36.69630 |\n",
       "\n"
      ],
      "text/plain": [
       "  age       x         c        \n",
       "1 156.61179 192.11998 122.42930\n",
       "2 178.20767 156.61552 149.70118\n",
       "3 151.34812  68.73043  49.07987\n",
       "4 179.12549 103.61325 176.60868\n",
       "5 104.67675  45.64182  62.36982\n",
       "6  97.98153  99.55628  36.69630"
      ]
     },
     "metadata": {},
     "output_type": "display_data"
    }
   ],
   "source": [
    "sample_size = 100 # How many children in data set? \n",
    "age_lo = 80     # minimum age, in months\n",
    "age_hi = 200    # maximum age, in months\n",
    "beta_xa = 0.5   # amount by which experience changes for increase of one month in age\n",
    "beta_x0 = -5    # amount of experience when age = 0 (not interpretable, since minimum age for this data is 80 months)\n",
    "sd_x = 50       # standard dev of gaussian noise term, epsilon_x\n",
    "beta_ca = 0.8   # amount that comprehension score improves for every increase of one unit in age\n",
    "beta_cx = 3     # amount that comprehension score improves for every increase of one unit in reading experience\n",
    "beta_c0 = 10    # comprehension score when reading experience is 0. \n",
    "sd_c = 85      # standard dev of gaussian noise term, epsilon_c\n",
    "\n",
    "#generate random numbers for df\n",
    "#r <- runif(sample_size, age_lo, age_hi)\n",
    "\n",
    "#mean_r  <- mean(r)\n",
    "#generate mean(r)\n",
    "\n",
    "#generate x values\n",
    "#x = (beta_xa + beta_x0 + rnorm(1, mean_x, sd_x))\n",
    "#x\n",
    "\n",
    "#generate c values\n",
    "#c = (beta_ca + beta_cx + beta_c0 + rnorm(1, mean_r, sd_c))\n",
    "\n",
    "#dat = data.frame(r, x, c)\n",
    "#dat\n",
    "\n",
    "simulate_data <- function(sample_size, age_lo, age_hi, beta_xa, \n",
    "                          beta_x0, sd_x, beta_ca, beta_cx, beta_c0, sd_c) {\n",
    "    \n",
    "    r <- runif(sample_size, age_lo, age_hi)\n",
    "    output_x = data.frame()\n",
    "    output_c = data.frame()\n",
    "    mean_r  <- mean(r) #generate mean(r)\n",
    "    \n",
    "    for (item in 1:sample_size)\n",
    "        #x = (beta_xa + beta_x0 + rnorm(1, mean_x, sd_x))\n",
    "        output_x = rbind(output_x, (beta_xa + beta_x0 + rnorm(1, mean_r, sd_x)))\n",
    "    \n",
    "    for (item in 1:sample_size)\n",
    "        #x = (beta_xa + beta_x0 + rnorm(1, mean_x, sd_x))\n",
    "        output_c = rbind(output_c, (beta_ca + beta_cx + beta_c0 + rnorm(1, mean_r, sd_c)))\n",
    "    \n",
    "    output = data.frame(\"age\" = r, output_x, output_c)\n",
    "    colnames(output)[2] =\"x\"\n",
    "    colnames(output)[3] =\"c\"\n",
    "    \n",
    "    return(output)\n",
    "      \n",
    "}\n",
    "\n",
    "dat <- simulate_data(sample_size, age_lo, age_hi, beta_xa, beta_x0, sd_x, beta_ca, beta_cx, beta_c0, sd_c)\n",
    "head(dat)"
   ]
  },
  {
   "cell_type": "markdown",
   "metadata": {
    "id": "I-Rt8PFe_G5O"
   },
   "source": [
    "---\n",
    "## 2. Visualizing Data (2 point)"
   ]
  },
  {
   "cell_type": "markdown",
   "metadata": {
    "id": "MQdcoYCLvuDf"
   },
   "source": [
    "Load the `tidyverse` library."
   ]
  },
  {
   "cell_type": "code",
   "execution_count": 4,
   "metadata": {
    "id": "H07EMQCwvzsL",
    "vscode": {
     "languageId": "r"
    }
   },
   "outputs": [
    {
     "name": "stderr",
     "output_type": "stream",
     "text": [
      "── \u001b[1mAttaching packages\u001b[22m ─────────────────────────────────────────────────────────────────────────────── tidyverse 1.3.2 ──\n",
      "\u001b[32m✔\u001b[39m \u001b[34mggplot2\u001b[39m 3.4.1     \u001b[32m✔\u001b[39m \u001b[34mpurrr  \u001b[39m 1.0.1\n",
      "\u001b[32m✔\u001b[39m \u001b[34mtibble \u001b[39m 3.1.8     \u001b[32m✔\u001b[39m \u001b[34mdplyr  \u001b[39m 1.1.0\n",
      "\u001b[32m✔\u001b[39m \u001b[34mtidyr  \u001b[39m 1.3.0     \u001b[32m✔\u001b[39m \u001b[34mstringr\u001b[39m 1.5.0\n",
      "\u001b[32m✔\u001b[39m \u001b[34mreadr  \u001b[39m 2.1.4     \u001b[32m✔\u001b[39m \u001b[34mforcats\u001b[39m 1.0.0\n",
      "── \u001b[1mConflicts\u001b[22m ────────────────────────────────────────────────────────────────────────────────── tidyverse_conflicts() ──\n",
      "\u001b[31m✖\u001b[39m \u001b[34mdplyr\u001b[39m::\u001b[32mfilter()\u001b[39m masks \u001b[34mstats\u001b[39m::filter()\n",
      "\u001b[31m✖\u001b[39m \u001b[34mdplyr\u001b[39m::\u001b[32mlag()\u001b[39m    masks \u001b[34mstats\u001b[39m::lag()\n"
     ]
    }
   ],
   "source": [
    "library(tidyverse)"
   ]
  },
  {
   "cell_type": "markdown",
   "metadata": {
    "id": "Vgc2ehTKv1jt"
   },
   "source": [
    "a) Plot the relationship between age and reading comprehension. "
   ]
  },
  {
   "cell_type": "code",
   "execution_count": 5,
   "metadata": {
    "id": "Pb-KYXwuwS28",
    "vscode": {
     "languageId": "r"
    }
   },
   "outputs": [
    {
     "data": {
      "image/png": "[encoded data removed]",
      "text/plain": [
       "plot without title"
      ]
     },
     "metadata": {
      "image/png": {
       "height": 420,
       "width": 420
      }
     },
     "output_type": "display_data"
    }
   ],
   "source": [
    "# WRITE YOUR CODE HERE\n",
    "gg  <- ggplot(dat, aes(age, c))\n",
    "gg + geom_point(size = 1)"
   ]
  },
  {
   "cell_type": "markdown",
   "metadata": {
    "id": "CB_8CsBZwQqW"
   },
   "source": [
    "b) Plot the relationship between reading experience, age, and reading comprehension."
   ]
  },
  {
   "cell_type": "code",
   "execution_count": 6,
   "metadata": {
    "id": "VeSOCXlMweSz",
    "vscode": {
     "languageId": "r"
    }
   },
   "outputs": [
    {
     "data": {
      "image/png": "[encoded data removed]",
      "text/plain": [
       "plot without title"
      ]
     },
     "metadata": {
      "image/png": {
       "height": 420,
       "width": 420
      }
     },
     "output_type": "display_data"
    }
   ],
   "source": [
    "# WRITE YOUR CODE HERE\n",
    "gg  <- ggplot(dat, aes(age, x, color = c))\n",
    "gg + geom_point(size = 3, alpha = 1)"
   ]
  },
  {
   "cell_type": "markdown",
   "metadata": {
    "id": "BeK0H64WlOBM"
   },
   "source": [
    "---\n",
    "## 3. Mediation Analysis (4 points)"
   ]
  },
  {
   "cell_type": "markdown",
   "metadata": {
    "id": "dP_6o9rpmThw"
   },
   "source": [
    "Load the `mediation` library."
   ]
  },
  {
   "cell_type": "code",
   "execution_count": 7,
   "metadata": {
    "id": "PIPheP5ipgKg",
    "vscode": {
     "languageId": "r"
    }
   },
   "outputs": [
    {
     "name": "stderr",
     "output_type": "stream",
     "text": [
      "Installing package into 'C:/Users/roman/AppData/Local/R/win-library/4.2'\n",
      "(as 'lib' is unspecified)\n",
      "\n"
     ]
    },
    {
     "name": "stdout",
     "output_type": "stream",
     "text": [
      "package 'mediation' successfully unpacked and MD5 sums checked\n",
      "\n",
      "The downloaded binary packages are in\n",
      "\tC:\\Users\\roman\\AppData\\Local\\Temp\\Rtmp2lSsfs\\downloaded_packages\n"
     ]
    },
    {
     "name": "stderr",
     "output_type": "stream",
     "text": [
      "Warning message:\n",
      "\"package 'mediation' was built under R version 4.2.3\"\n",
      "Loading required package: MASS\n",
      "\n",
      "\n",
      "Attaching package: 'MASS'\n",
      "\n",
      "\n",
      "The following object is masked from 'package:dplyr':\n",
      "\n",
      "    select\n",
      "\n",
      "\n",
      "Loading required package: Matrix\n",
      "\n",
      "\n",
      "Attaching package: 'Matrix'\n",
      "\n",
      "\n",
      "The following objects are masked from 'package:tidyr':\n",
      "\n",
      "    expand, pack, unpack\n",
      "\n",
      "\n",
      "Loading required package: mvtnorm\n",
      "\n",
      "Loading required package: sandwich\n",
      "\n",
      "Warning message:\n",
      "\"package 'sandwich' was built under R version 4.2.3\"\n",
      "mediation: Causal Mediation Analysis\n",
      "Version: 4.5.0\n",
      "\n",
      "\n"
     ]
    }
   ],
   "source": [
    "install.packages(\"mediation\") # uncomment to install the mediation package. \n",
    "library(mediation)"
   ]
  },
  {
   "cell_type": "markdown",
   "metadata": {
    "id": "Q1UM2Qhx6Kk-"
   },
   "source": [
    "Use the `mediate` function to determine whether `x` mediates the relationship between `age` and `c`. Use `summary()` to print the model results. *Hint: see the mediation and moderation tutorial.*"
   ]
  },
  {
   "cell_type": "code",
   "execution_count": 8,
   "metadata": {
    "id": "9h1ySgXm4HWm",
    "vscode": {
     "languageId": "r"
    }
   },
   "outputs": [
    {
     "data": {
      "text/plain": [
       "\n",
       "Causal Mediation Analysis \n",
       "\n",
       "Quasi-Bayesian Confidence Intervals\n",
       "\n",
       "               Estimate 95% CI Lower 95% CI Upper p-value\n",
       "ACME              0.000        0.000         0.00    1.00\n",
       "ADE               0.320       -0.188         0.81    0.18\n",
       "Total Effect      0.320       -0.188         0.81    0.18\n",
       "Prop. Mediated    0.000        0.000         0.00    1.00\n",
       "\n",
       "Sample Size Used: 100 \n",
       "\n",
       "\n",
       "Simulations: 1000 \n"
      ]
     },
     "metadata": {},
     "output_type": "display_data"
    }
   ],
   "source": [
    "# WRITE YOUR CODE HERE\n",
    "fitM <- lm(x ~ age,     data=dat) #Step 1: IV on M, Number of passengers predicting weight of car\n",
    "fitY <- lm(c ~ x + age, data=dat) #Step 2: IV and M on DV, Number of passengers and weight predicting highway\n",
    "#summary(fitM)\n",
    "#summary(fitY)\n",
    "fitMed <- mediate(fitM, fitY, treat= \"age\", mediator= \"c\")\n",
    "summary(fitMed)"
   ]
  },
  {
   "cell_type": "markdown",
   "metadata": {
    "id": "sYL6Pm0FOUbq"
   },
   "source": [
    "---\n",
    "## 5. Reflection (1 point)\n",
    "How do you interpret these results? Why do you think the analysis yielded this result?"
   ]
  },
  {
   "cell_type": "markdown",
   "metadata": {
    "id": "ZGVjm8AJOUbq",
    "outputId": "ccd7b03c-8619-4eb3-9752-06929c1e8ed0",
    "vscode": {
     "languageId": "r"
    }
   },
   "source": [
    "> *Write your response here* \n",
    "> According to our simulated model, word reading experience does not mediate age and comprehension. This could be because the sample size is too low or because there is too much noise, or too many outliers in our data. Otherwise, given that our simulation accurtely models the population of interest, I would guess that it is because age is too strong of a correlate in and of itself to reading comprehension to be eclipsed by word reading experience. "
   ]
  },
  {
   "cell_type": "markdown",
   "metadata": {
    "id": "C4MPECMmZXqe"
   },
   "source": [
    "**DUE:** 5pm EST, April 3, 2023"
   ]
  },
  {
   "cell_type": "markdown",
   "metadata": {
    "id": "r9GUofXN4BVy"
   },
   "source": [
    "**IMPORTANT** Did you collaborate with anyone on this assignment? If so, list their names here. \n",
    "> *Someone's Name*"
   ]
  }
 ],
 "metadata": {
  "colab": {
   "provenance": []
  },
  "kernelspec": {
   "display_name": "R",
   "language": "R",
   "name": "ir"
  },
  "language_info": {
   "codemirror_mode": "r",
   "file_extension": ".r",
   "mimetype": "text/x-r-source",
   "name": "R",
   "pygments_lexer": "r",
   "version": "4.2.2"
  }
 },
 "nbformat": 4,
 "nbformat_minor": 1
}
