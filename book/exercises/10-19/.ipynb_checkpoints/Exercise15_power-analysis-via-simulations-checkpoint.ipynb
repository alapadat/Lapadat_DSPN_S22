{
 "cells": [
  {
   "cell_type": "markdown",
   "metadata": {
    "id": "-2W919d2ZXp7"
   },
   "source": [
    "# Exercise 15: Power Analyses"
   ]
  },
  {
   "cell_type": "markdown",
   "metadata": {
    "id": "L4nOzVhyZXqK"
   },
   "source": [
    "This  assignment is designed to give you practice with Monte Carlo methods to conduct power analyses via simulation. You won't need to load in any data for this homework. We will, however, be using parts of the homework from last week."
   ]
  },
  {
   "cell_type": "markdown",
   "metadata": {
    "id": "9DsyBTB6ZXqN"
   },
   "source": [
    "---\n",
    "## 1. Simulating data (1 points)\n"
   ]
  },
  {
   "cell_type": "markdown",
   "metadata": {
    "id": "J1f6MywYhyzN"
   },
   "source": [
    "Pull your `simulate_data()` function from your last homework and add it below. \n",
    "\n",
    "As a reminder, this function simulates the relationship between age, word reading experience, and reading comprehension skill. \n",
    "\n",
    "`c` is reading comprehension, and `x` is word reading experience."
   ]
  },
  {
   "cell_type": "code",
   "execution_count": 1,
   "metadata": {
    "id": "UnBVazYfZXqP"
   },
   "outputs": [
    {
     "data": {
      "text/html": [
       "<table class=\"dataframe\">\n",
       "<caption>A data.frame: 6 × 3</caption>\n",
       "<thead>\n",
       "\t<tr><th></th><th scope=col>age</th><th scope=col>x</th><th scope=col>c</th></tr>\n",
       "\t<tr><th></th><th scope=col>&lt;dbl&gt;</th><th scope=col>&lt;dbl&gt;</th><th scope=col>&lt;dbl&gt;</th></tr>\n",
       "</thead>\n",
       "<tbody>\n",
       "\t<tr><th scope=row>1</th><td>197.0515</td><td>120.81428</td><td>555.2782</td></tr>\n",
       "\t<tr><th scope=row>2</th><td>114.4273</td><td> 80.45419</td><td>388.6203</td></tr>\n",
       "\t<tr><th scope=row>3</th><td>171.2117</td><td>108.53822</td><td>543.3799</td></tr>\n",
       "\t<tr><th scope=row>4</th><td>124.7102</td><td> 58.69679</td><td>213.9894</td></tr>\n",
       "\t<tr><th scope=row>5</th><td>141.2367</td><td>186.10611</td><td>690.5653</td></tr>\n",
       "\t<tr><th scope=row>6</th><td>182.7707</td><td>126.90229</td><td>418.4850</td></tr>\n",
       "</tbody>\n",
       "</table>\n"
      ],
      "text/latex": [
       "A data.frame: 6 × 3\n",
       "\\begin{tabular}{r|lll}\n",
       "  & age & x & c\\\\\n",
       "  & <dbl> & <dbl> & <dbl>\\\\\n",
       "\\hline\n",
       "\t1 & 197.0515 & 120.81428 & 555.2782\\\\\n",
       "\t2 & 114.4273 &  80.45419 & 388.6203\\\\\n",
       "\t3 & 171.2117 & 108.53822 & 543.3799\\\\\n",
       "\t4 & 124.7102 &  58.69679 & 213.9894\\\\\n",
       "\t5 & 141.2367 & 186.10611 & 690.5653\\\\\n",
       "\t6 & 182.7707 & 126.90229 & 418.4850\\\\\n",
       "\\end{tabular}\n"
      ],
      "text/markdown": [
       "\n",
       "A data.frame: 6 × 3\n",
       "\n",
       "| <!--/--> | age &lt;dbl&gt; | x &lt;dbl&gt; | c &lt;dbl&gt; |\n",
       "|---|---|---|---|\n",
       "| 1 | 197.0515 | 120.81428 | 555.2782 |\n",
       "| 2 | 114.4273 |  80.45419 | 388.6203 |\n",
       "| 3 | 171.2117 | 108.53822 | 543.3799 |\n",
       "| 4 | 124.7102 |  58.69679 | 213.9894 |\n",
       "| 5 | 141.2367 | 186.10611 | 690.5653 |\n",
       "| 6 | 182.7707 | 126.90229 | 418.4850 |\n",
       "\n"
      ],
      "text/plain": [
       "  age      x         c       \n",
       "1 197.0515 120.81428 555.2782\n",
       "2 114.4273  80.45419 388.6203\n",
       "3 171.2117 108.53822 543.3799\n",
       "4 124.7102  58.69679 213.9894\n",
       "5 141.2367 186.10611 690.5653\n",
       "6 182.7707 126.90229 418.4850"
      ]
     },
     "metadata": {},
     "output_type": "display_data"
    }
   ],
   "source": [
    "sample_size = 100 # How many children in data set? \n",
    "age_lo = 80     # minimum age, in months\n",
    "age_hi = 200    # maximum age, in months\n",
    "beta_xa = 0.5   # amount by which experience changes for increase of one month in age\n",
    "beta_x0 = -5    # amount of experience when age = 0 (not interpretable, since minimum age for this data is 80 months)\n",
    "sd_x = 50       # standard dev of gaussian noise term, epsilon_x\n",
    "beta_ca = 0.8   # amount that comprehension score improves for every increase of one unit in age\n",
    "beta_cx = 3     # amount that comprehension score improves for every increase of one unit in reading experience\n",
    "beta_c0 = 10    # comprehension score when reading experience is 0. \n",
    "sd_c = 85      # standard dev of gaussian noise term, epsilon_c\n",
    "\n",
    "simulate_data <- function(sample_size, age_lo, age_hi, beta_xa, beta_x0, sd_x, beta_ca, beta_cx, beta_c0, sd_c) {\n",
    "      # WRITE YOUR CODE HERE\n",
    "    \n",
    "    r <- runif(sample_size, age_lo, age_hi)\n",
    "    output_x = c()\n",
    "    output_c = c()\n",
    "    mean_r  <- mean(r) #generate mean(r)\n",
    "    \n",
    "    #print(r)\n",
    "    #print(paste(dim(output_c)))\n",
    "    \n",
    "    \n",
    "    for (item in 1:sample_size)\n",
    "        #x = (beta_xa + beta_x0 + rnorm(1, mean_x, sd_x))\n",
    "        output_x[item] = (((r[item])*beta_xa) + beta_x0 + rnorm(1, mean = 0, sd_x))\n",
    "    \n",
    "    for(item in 1:sample_size)       # for-loop over columns\n",
    "        #output_c[ , i] <- output_c[ , i] + 10\n",
    "        #print(paste(output_x[item]))\n",
    "        #print(paste(output_c[ , i]))\n",
    "        #output_c = rbind(output_c, (((r[item])*beta_ca) + beta_cx + beta_c0 + rnorm(1, mean = 0, sd_c)))  \n",
    "        output_c[item] = (((r[item])*beta_ca) + ((output_x[item])*beta_cx) + beta_c0 + rnorm(1, mean = 0, sd_c))\n",
    "    \n",
    "    output = data.frame(\"age\" = r, x =output_x, c =output_c)\n",
    "    \n",
    "    \n",
    "      return(output)\n",
    "}\n",
    "\n",
    "dat <- simulate_data(sample_size, age_lo, age_hi, beta_xa, beta_x0, sd_x, beta_ca, beta_cx, beta_c0, sd_c)\n",
    "head(dat)"
   ]
  },
  {
   "cell_type": "markdown",
   "metadata": {
    "id": "T3b3_KsHk-xD"
   },
   "source": [
    "---\n",
    "## 2. `run_analysis()` function (2 pts)"
   ]
  },
  {
   "cell_type": "markdown",
   "metadata": {
    "id": "TJyPIaTO8zCS"
   },
   "source": [
    "Last week, we looked at whether word reading experience(`x`) mediated the relation between `age` and reading comprehension (`c`).\n",
    "\n",
    "Now we're going to use our `simulate_data()` function to conduct a power analysis. The goal is to determine how many participants we would need in order to detect both the mediated and the direct effects in this data. \n",
    "\n",
    "*Note: We're going to pretend for the sake of simplicity that we don't have any control over the ages of the children we get (so ages are generated using `runif(sample_size, age_lo, age_hi)`, although of course this would be an unusual situation in reality.*\n",
    "\n",
    "First, write a function, `run_analysis()`, that takes in simulated data, runs **your mediation from last week**, and returns a vector containing the ACME and ADE estimates and p-values (these are the `d0`, `d0.p`, `z0`, and `z0.p` features of the mediated model object, e.g., `fitMed$d0.p`). Print this function's output for the data we simulated previously. "
   ]
  },
  {
   "cell_type": "markdown",
   "metadata": {},
   "source": [
    "The following line confuses me, which data is it referring to?? :\n",
    "\n",
    "Print this function's output for the data we simulated previously."
   ]
  },
  {
   "cell_type": "code",
   "execution_count": 15,
   "metadata": {
    "id": "AidH_KidrX9L",
    "scrolled": true
   },
   "outputs": [
    {
     "name": "stdout",
     "output_type": "stream",
     "text": [
      "NULL\n"
     ]
    },
    {
     "data": {
      "text/html": [
       "<style>\n",
       ".list-inline {list-style: none; margin:0; padding: 0}\n",
       ".list-inline>li {display: inline-block}\n",
       ".list-inline>li:not(:last-child)::after {content: \"\\00b7\"; padding: 0 .5ex}\n",
       "</style>\n",
       "<ol class=list-inline><li>0</li><li>1</li><li>0.749718634649412</li><li>0.006</li></ol>\n"
      ],
      "text/latex": [
       "\\begin{enumerate*}\n",
       "\\item 0\n",
       "\\item 1\n",
       "\\item 0.749718634649412\n",
       "\\item 0.006\n",
       "\\end{enumerate*}\n"
      ],
      "text/markdown": [
       "1. 0\n",
       "2. 1\n",
       "3. 0.749718634649412\n",
       "4. 0.006\n",
       "\n",
       "\n"
      ],
      "text/plain": [
       "[1] 0.0000000 1.0000000 0.7497186 0.0060000"
      ]
     },
     "metadata": {},
     "output_type": "display_data"
    }
   ],
   "source": [
    "# WRITE YOUR CODE HERE\n",
    "library(mediation)\n",
    "\n",
    "#fitM <- lm(x ~ age,     data=dat) #Step 1: IV on M, age predicting x\n",
    "#fitY <- lm(c ~ x + age, data=dat) #Step 2: IV and M on DV, x and age predicting c\n",
    "\n",
    "#fitMed <- mediate(fitM, fitY, treat= \"age\", mediator= \"c\")\n",
    "#summary(fitMed)\n",
    "\n",
    "# a function for running a t-test and extracting p-value\n",
    "run_analysis <- function(data) {\n",
    "    fitM <- lm(x ~ age,    data=dat) #Step 1: IV on M, age predicting x\n",
    "    fitY <- lm(c ~ x + age,    data=dat) #Step 2: IV and M on DV, x and age predicting c\n",
    "    fit <- mediate(fitM, fitY, treat= \"age\", mediator= \"c\")  \n",
    "    \n",
    "    output  <- c(fit$d0, fit$d0.p, fit$z0, fit$z0.p)\n",
    "    print(fit$estimate[1])\n",
    "    #print(summary(fit))\n",
    "    return(output)\n",
    "    #return(summary(fit))\n",
    "    #return(c(fit$estimate[1] - fit$estimate[2],fit$stderr,fit$p.value)) # this outputs the effect size, standard error, and significance for quality metrics \n",
    "}\n",
    "\n",
    "rad  <- run_analysis(dat)\n",
    "head(rad)"
   ]
  },
  {
   "cell_type": "markdown",
   "metadata": {
    "id": "bHxz5W2r5s79"
   },
   "source": [
    "---\n",
    "## 3. `repeat_analysis()` function (3 pts)"
   ]
  },
  {
   "cell_type": "markdown",
   "metadata": {
    "id": "G_jvc1XQBCpH"
   },
   "source": [
    "Next fill in the function `repeat_analysis()` below so that it simulates and analyzes data `num_simulations` times. Store the outputs from each simulation in the `simouts` matrix. Calculate and return the coverage across all the simulations run for both ACME and ADE."
   ]
  },
  {
   "cell_type": "code",
   "execution_count": 8,
   "metadata": {
    "id": "NheOpBDsBBo9"
   },
   "outputs": [
    {
     "name": "stdout",
     "output_type": "stream",
     "text": [
      "     [,1] [,2]      [,3]  [,4]\n",
      "[1,]    0    1 0.7353528 0.008\n",
      "[2,]    0    1 0.7352934 0.004\n",
      "[3,]    0    1 0.7339928 0.006\n",
      "[4,]    0    1 0.7436452 0.004\n",
      "[5,]    0    1 0.7439673 0.006\n"
     ]
    },
    {
     "data": {
      "text/html": [
       "<dl>\n",
       "\t<dt>$ACME_cov</dt>\n",
       "\t\t<dd>1</dd>\n",
       "\t<dt>$ADE_cov</dt>\n",
       "\t\t<dd>0</dd>\n",
       "</dl>\n"
      ],
      "text/latex": [
       "\\begin{description}\n",
       "\\item[\\$ACME\\_cov] 1\n",
       "\\item[\\$ADE\\_cov] 0\n",
       "\\end{description}\n"
      ],
      "text/markdown": [
       "$ACME_cov\n",
       ":   1\n",
       "$ADE_cov\n",
       ":   0\n",
       "\n",
       "\n"
      ],
      "text/plain": [
       "$ACME_cov\n",
       "[1] 1\n",
       "\n",
       "$ADE_cov\n",
       "[1] 0\n"
      ]
     },
     "metadata": {},
     "output_type": "display_data"
    }
   ],
   "source": [
    "#num_simulations = 2\n",
    "#alpha = .05\n",
    "\n",
    "repeat_analysis <- function(num_simulations, alpha, sample_size, age_lo, age_hi, \n",
    "        beta_xa, beta_x0, sd_x, beta_ca, beta_cx, beta_c0, sd_c) {\n",
    "    # Initialize simouts matrix for storing each output from run_analysis()\n",
    "    simouts <- matrix(rep(NA, num_simulations*4), nrow=num_simulations, ncol=4)\n",
    "    \n",
    "    #print(paste(\"Sample Size:\", sample_size, sep = ''))\n",
    "        \n",
    "    # Start simulating\n",
    "    for (i in 1:num_simulations) {\n",
    "      sim_dat  <- simulate_data(sample_size, age_lo, age_hi, beta_xa, beta_x0, sd_x, beta_ca, beta_cx, beta_c0, sd_c)\n",
    "      run_analysis  <- run_analysis(sim_dat)\n",
    "      simouts[i, ]  <- run_analysis\n",
    "      #print(paste(\"Simulation #\", i, sep = ' ')) #debug statement\n",
    "    }\n",
    "    print(simouts)\n",
    "    # Calculate coverage for both ACME and ADE estimates using p-values in simouts\n",
    "    #cvg <- mean(simouts[,3] <= alpha)\n",
    "    ACME_cov = mean(simouts[,1] <= alpha) # D0 = ACME/Average causal mediated effect\n",
    "    ADE_cov = mean(simouts[,3] <= alpha) # z0 = ADE/Average direct effects\n",
    "\n",
    "    return(list(ACME_cov = ACME_cov, ADE_cov = ADE_cov))\n",
    "    #return(simouts)\n",
    "}\n",
    "\n",
    "#print(cov(a, b, method = \"spearman\")) \n",
    "\n",
    "repeat_analysis(num_simulations = 5, alpha = 0.05, sample_size = 50, age_lo, age_hi, beta_xa, beta_x0, sd_x, beta_ca, beta_cx, beta_c0, sd_c)\n",
    "#head(repeat_analysis)"
   ]
  },
  {
   "cell_type": "code",
   "execution_count": 9,
   "metadata": {},
   "outputs": [
    {
     "name": "stderr",
     "output_type": "stream",
     "text": [
      "Warning message in data(\"Income\"):\n",
      "\"data set 'Income' not found\"\n"
     ]
    },
    {
     "ename": "ERROR",
     "evalue": "Error in apriori(Income): could not find function \"apriori\"\n",
     "output_type": "error",
     "traceback": [
      "Error in apriori(Income): could not find function \"apriori\"\nTraceback:\n"
     ]
    }
   ],
   "source": [
    "data(\"Income\")\n",
    "\n",
    "## find and some rules (we only use 5 rules here) and calculate coverage\n",
    "rules <- apriori(Income)[1:5]\n",
    "quality(rules) <- cbind(quality(rules), coverage = coverage(rules))\n",
    "\n",
    "inspect(rules)"
   ]
  },
  {
   "cell_type": "code",
   "execution_count": null,
   "metadata": {},
   "outputs": [],
   "source": [
    "#simouts <- matrix(rep(NA, num_simulations*4), nrow=num_simulations, ncol=4)\n",
    "\n",
    "#simouts[1, ]  <- c(2, 3, 4, 4)\n",
    "#simouts\n",
    "\n",
    "#print(paste(\"Simulation #\", 1, sep = ''))"
   ]
  },
  {
   "cell_type": "markdown",
   "metadata": {
    "id": "bM5J5pYyQoRL"
   },
   "source": [
    "Now run the `repeat_analysis()` function using the same parameter settings as above, for 10 simulations, with an alpha criterion of 0.01. "
   ]
  },
  {
   "cell_type": "code",
   "execution_count": 7,
   "metadata": {
    "id": "RpURGbZQQlEK"
   },
   "outputs": [
    {
     "data": {
      "text/html": [
       "<dl>\n",
       "\t<dt>$ACME_cov</dt>\n",
       "\t\t<dd>1</dd>\n",
       "\t<dt>$ADE_cov</dt>\n",
       "\t\t<dd>0</dd>\n",
       "</dl>\n"
      ],
      "text/latex": [
       "\\begin{description}\n",
       "\\item[\\$ACME\\_cov] 1\n",
       "\\item[\\$ADE\\_cov] 0\n",
       "\\end{description}\n"
      ],
      "text/markdown": [
       "$ACME_cov\n",
       ":   1\n",
       "$ADE_cov\n",
       ":   0\n",
       "\n",
       "\n"
      ],
      "text/plain": [
       "$ACME_cov\n",
       "[1] 1\n",
       "\n",
       "$ADE_cov\n",
       "[1] 0\n"
      ]
     },
     "metadata": {},
     "output_type": "display_data"
    }
   ],
   "source": [
    "num_simulations = 10\n",
    "alpha = .01\n",
    "\n",
    "repeat_analysis(num_simulations = 10, alpha = .01, sample_size, age_lo, age_hi, beta_xa, beta_x0, sd_x, beta_ca, beta_cx, beta_c0, sd_c)"
   ]
  },
  {
   "cell_type": "markdown",
   "metadata": {
    "id": "imIoN4w65s7_"
   },
   "source": [
    "---\n",
    "## 4. Testing different sample sizes (2 pts)"
   ]
  },
  {
   "cell_type": "markdown",
   "metadata": {
    "id": "CzeTaoY7SaXv"
   },
   "source": [
    "Finally, do the same thing (10 simulations, alpha criterion of 0.01) but for 5 different sample sizes: 50, 75, 100, 125, 150. You can do this using `map` (as in the tutorial), or a simple `for` loop, or by calculating each individually. Up to you! This should take around 3 minutes to run. "
   ]
  },
  {
   "cell_type": "code",
   "execution_count": null,
   "metadata": {
    "id": "mp-a19XsS8Md"
   },
   "outputs": [],
   "source": [
    "# WRITE YOUR CODE HERE\n",
    "library(purrr)\n",
    "\n",
    "num_simulations = 2\n",
    "alpha = .01\n",
    "\n",
    "named_vector  <- c(1, 2, 3, 4)\n",
    "\n",
    "sample_size = NA\n",
    "\n",
    "#Failed for loop\n",
    "for (item in named_vector)\n",
    "    sample_size  <-  item\n",
    "    print(item)\n",
    "    repeat_analysis(num_simulations, alpha, item, age_lo, age_hi, beta_xa, beta_x0, sd_x, beta_ca, beta_cx, beta_c0, sd_c)"
   ]
  },
  {
   "cell_type": "code",
   "execution_count": null,
   "metadata": {},
   "outputs": [],
   "source": [
    "sample_size = 100\n",
    "\n",
    "x = 20\n",
    "\n",
    "#repeat_analysis(num_simulations, alpha, sample_size = x, age_lo, age_hi, beta_xa, beta_x0, sd_x, beta_ca, beta_cx, beta_c0, sd_c)\n",
    "\n",
    "list.map = list(50, 75, 100)\n",
    "\n",
    "for (item in list.map)\n",
    "    x = item\n",
    "    run_repeat_analysis  <- repeat_analysis(num_simulations = 5, alpha = 0.01, sample_size = x, age_lo, age_hi, beta_xa, beta_x0, sd_x, beta_ca, beta_cx, beta_c0, sd_c)\n",
    "    print(paste(\"Item\", item, \"finished\", sep = ' '))"
   ]
  },
  {
   "cell_type": "markdown",
   "metadata": {
    "id": "akJwKCB7dkDw"
   },
   "source": [
    "Print your results. "
   ]
  },
  {
   "cell_type": "code",
   "execution_count": null,
   "metadata": {
    "id": "gIkkWTG2aR4d",
    "scrolled": true
   },
   "outputs": [],
   "source": [
    "# TERRIBLE BORING UGLY SOLUTION THAT I HATE\n",
    "sample_size = 50\n",
    "\n",
    "repeat_analysis(num_simulations = 100, alpha = 0.01, sample_size = 50, age_lo, age_hi, beta_xa, beta_x0, sd_x, beta_ca, beta_cx, beta_c0, sd_c)\n",
    "repeat_analysis(num_simulations = 100, alpha = 0.01, sample_size = 75, age_lo, age_hi, beta_xa, beta_x0, sd_x, beta_ca, beta_cx, beta_c0, sd_c)\n",
    "repeat_analysis(num_simulations = 100, alpha = 0.01, sample_size = 100, age_lo, age_hi, beta_xa, beta_x0, sd_x, beta_ca, beta_cx, beta_c0, sd_c)\n",
    "repeat_analysis(num_simulations = 100, alpha = 0.01, sample_size = 125, age_lo, age_hi, beta_xa, beta_x0, sd_x, beta_ca, beta_cx, beta_c0, sd_c)\n",
    "repeat_analysis(num_simulations = 100, alpha = 0.01, sample_size = 150, age_lo, age_hi, beta_xa, beta_x0, sd_x, beta_ca, beta_cx, beta_c0, sd_c)"
   ]
  },
  {
   "cell_type": "markdown",
   "metadata": {
    "id": "q3Oo6npB5s8B"
   },
   "source": [
    "## 5. Reflection (2 pts)"
   ]
  },
  {
   "cell_type": "markdown",
   "metadata": {
    "id": "tpbGkul2dr-5"
   },
   "source": [
    "If this were a real power analysis, we'd want to run more simulations per sample size (to get a more precise estimate of power) and we may also want to test out some other values of the parameters we used to simulate our data. However, what would you conclude just based on the results above? \n",
    "\n",
    "> *Write your response here.* \n",
    "> "
   ]
  },
  {
   "cell_type": "markdown",
   "metadata": {
    "id": "RcCo3QOifUi5"
   },
   "source": [
    "**Given** how we generated the data, why was the direct effect harder to detect than the mediated effect?\n",
    "> *Write your response here.* "
   ]
  },
  {
   "cell_type": "markdown",
   "metadata": {
    "id": "C4MPECMmZXqe"
   },
   "source": [
    "**DUE:** 5pm EST, April 5, 2023"
   ]
  },
  {
   "cell_type": "markdown",
   "metadata": {
    "id": "r9GUofXN4BVy"
   },
   "source": [
    "**IMPORTANT** Did you collaborate with anyone on this assignment? If so, list their names here. \n",
    "> *Someone's Name*"
   ]
  }
 ],
 "metadata": {
  "colab": {
   "provenance": []
  },
  "kernelspec": {
   "display_name": "R",
   "language": "R",
   "name": "ir"
  },
  "language_info": {
   "codemirror_mode": "r",
   "file_extension": ".r",
   "mimetype": "text/x-r-source",
   "name": "R",
   "pygments_lexer": "r",
   "version": "4.2.2"
  }
 },
 "nbformat": 4,
 "nbformat_minor": 1
}
