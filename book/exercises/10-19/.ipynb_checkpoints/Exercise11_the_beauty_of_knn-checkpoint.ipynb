{
 "cells": [
  {
   "cell_type": "markdown",
   "metadata": {
    "id": "S5Fpqv6H_cZA"
   },
   "source": [
    "# Exercise 11: The Beauty of kNN\n",
    "\n",
    "In this exercise, you'll gain practice working with kNN. We'll use the [diamonds](https://ggplot2.tidyverse.org/reference/diamonds.html) dataset, which comes as part of `ggplot2`. This dataset provides information on the quality and price of 50,000 diamonds\n"
   ]
  },
  {
   "cell_type": "markdown",
   "metadata": {},
   "source": [
    "### Useful links\n",
    "\n",
    "> *https://ggplot2.tidyverse.org/reference/diamonds.html \n",
    "> *http://r-statistics.co/ggplot2-cheatsheet.html#Basic%20plot%20setup\n",
    "> *Split train and test sets by proportion: https://www.statology.org/train-test-split-r/\n",
    "> *a brief intro to linear models in R: https://ucdavis-bioinformatics-training.github.io/2019-March-Bioinformatics-Prerequisites/thursday/linear_models.html\n",
    "> * How to create a column with a binary variable https://www.tutorialspoint.com/how-to-create-a-column-with-binary-variable-based-on-a-condition-of-other-variable-in-an-r-data-frame"
   ]
  },
  {
   "cell_type": "markdown",
   "metadata": {
    "id": "is-1Gkl6_cZC"
   },
   "source": [
    "## 1. Data, Plotting, and Train/Test Sets (2 pts)\n",
    "-----\n",
    "* Load the the `class` and `tidyverse` packages.\n",
    "* Assign the `diamonds` data set to a simpler name. Then, create a new variable `price_bin` that splits the `price` variable into a binary variable, where 1 indicates that the diamond costs greater than the mean price, and 0 indicates that the diamond costs less than the mean price. Set `price_bin` to be a factor. (*Hint: use the if_else() function*)\n",
    "* Select just the `carat`, `depth`, `table`, `x`, `y`, and your new `price_bin` variables\n",
    "* Print the first few lines of the data set\n",
    "* Print the dimensions of the data set\n"
   ]
  },
  {
   "cell_type": "markdown",
   "metadata": {},
   "source": [
    "Problem: Don't think I set \"price_bin\" to a factor"
   ]
  },
  {
   "cell_type": "code",
   "execution_count": 45,
   "metadata": {
    "id": "076b5Q2i_cZC",
    "scrolled": false
   },
   "outputs": [
    {
     "data": {
      "text/html": [
       "<table class=\"dataframe\">\n",
       "<caption>A tibble: 6 × 10</caption>\n",
       "<thead>\n",
       "\t<tr><th scope=col>carat</th><th scope=col>cut</th><th scope=col>color</th><th scope=col>clarity</th><th scope=col>depth</th><th scope=col>table</th><th scope=col>price</th><th scope=col>x</th><th scope=col>y</th><th scope=col>z</th></tr>\n",
       "\t<tr><th scope=col>&lt;dbl&gt;</th><th scope=col>&lt;ord&gt;</th><th scope=col>&lt;ord&gt;</th><th scope=col>&lt;ord&gt;</th><th scope=col>&lt;dbl&gt;</th><th scope=col>&lt;dbl&gt;</th><th scope=col>&lt;int&gt;</th><th scope=col>&lt;dbl&gt;</th><th scope=col>&lt;dbl&gt;</th><th scope=col>&lt;dbl&gt;</th></tr>\n",
       "</thead>\n",
       "<tbody>\n",
       "\t<tr><td>0.23</td><td>Ideal    </td><td>E</td><td>SI2 </td><td>61.5</td><td>55</td><td>326</td><td>3.95</td><td>3.98</td><td>2.43</td></tr>\n",
       "\t<tr><td>0.21</td><td>Premium  </td><td>E</td><td>SI1 </td><td>59.8</td><td>61</td><td>326</td><td>3.89</td><td>3.84</td><td>2.31</td></tr>\n",
       "\t<tr><td>0.23</td><td>Good     </td><td>E</td><td>VS1 </td><td>56.9</td><td>65</td><td>327</td><td>4.05</td><td>4.07</td><td>2.31</td></tr>\n",
       "\t<tr><td>0.29</td><td>Premium  </td><td>I</td><td>VS2 </td><td>62.4</td><td>58</td><td>334</td><td>4.20</td><td>4.23</td><td>2.63</td></tr>\n",
       "\t<tr><td>0.31</td><td>Good     </td><td>J</td><td>SI2 </td><td>63.3</td><td>58</td><td>335</td><td>4.34</td><td>4.35</td><td>2.75</td></tr>\n",
       "\t<tr><td>0.24</td><td>Very Good</td><td>J</td><td>VVS2</td><td>62.8</td><td>57</td><td>336</td><td>3.94</td><td>3.96</td><td>2.48</td></tr>\n",
       "</tbody>\n",
       "</table>\n"
      ],
      "text/latex": [
       "A tibble: 6 × 10\n",
       "\\begin{tabular}{llllllllll}\n",
       " carat & cut & color & clarity & depth & table & price & x & y & z\\\\\n",
       " <dbl> & <ord> & <ord> & <ord> & <dbl> & <dbl> & <int> & <dbl> & <dbl> & <dbl>\\\\\n",
       "\\hline\n",
       "\t 0.23 & Ideal     & E & SI2  & 61.5 & 55 & 326 & 3.95 & 3.98 & 2.43\\\\\n",
       "\t 0.21 & Premium   & E & SI1  & 59.8 & 61 & 326 & 3.89 & 3.84 & 2.31\\\\\n",
       "\t 0.23 & Good      & E & VS1  & 56.9 & 65 & 327 & 4.05 & 4.07 & 2.31\\\\\n",
       "\t 0.29 & Premium   & I & VS2  & 62.4 & 58 & 334 & 4.20 & 4.23 & 2.63\\\\\n",
       "\t 0.31 & Good      & J & SI2  & 63.3 & 58 & 335 & 4.34 & 4.35 & 2.75\\\\\n",
       "\t 0.24 & Very Good & J & VVS2 & 62.8 & 57 & 336 & 3.94 & 3.96 & 2.48\\\\\n",
       "\\end{tabular}\n"
      ],
      "text/markdown": [
       "\n",
       "A tibble: 6 × 10\n",
       "\n",
       "| carat &lt;dbl&gt; | cut &lt;ord&gt; | color &lt;ord&gt; | clarity &lt;ord&gt; | depth &lt;dbl&gt; | table &lt;dbl&gt; | price &lt;int&gt; | x &lt;dbl&gt; | y &lt;dbl&gt; | z &lt;dbl&gt; |\n",
       "|---|---|---|---|---|---|---|---|---|---|\n",
       "| 0.23 | Ideal     | E | SI2  | 61.5 | 55 | 326 | 3.95 | 3.98 | 2.43 |\n",
       "| 0.21 | Premium   | E | SI1  | 59.8 | 61 | 326 | 3.89 | 3.84 | 2.31 |\n",
       "| 0.23 | Good      | E | VS1  | 56.9 | 65 | 327 | 4.05 | 4.07 | 2.31 |\n",
       "| 0.29 | Premium   | I | VS2  | 62.4 | 58 | 334 | 4.20 | 4.23 | 2.63 |\n",
       "| 0.31 | Good      | J | SI2  | 63.3 | 58 | 335 | 4.34 | 4.35 | 2.75 |\n",
       "| 0.24 | Very Good | J | VVS2 | 62.8 | 57 | 336 | 3.94 | 3.96 | 2.48 |\n",
       "\n"
      ],
      "text/plain": [
       "  carat cut       color clarity depth table price x    y    z   \n",
       "1 0.23  Ideal     E     SI2     61.5  55    326   3.95 3.98 2.43\n",
       "2 0.21  Premium   E     SI1     59.8  61    326   3.89 3.84 2.31\n",
       "3 0.23  Good      E     VS1     56.9  65    327   4.05 4.07 2.31\n",
       "4 0.29  Premium   I     VS2     62.4  58    334   4.20 4.23 2.63\n",
       "5 0.31  Good      J     SI2     63.3  58    335   4.34 4.35 2.75\n",
       "6 0.24  Very Good J     VVS2    62.8  57    336   3.94 3.96 2.48"
      ]
     },
     "metadata": {},
     "output_type": "display_data"
    },
    {
     "name": "stdout",
     "output_type": "stream",
     "text": [
      "[1] \"Dimensions of shiny data frame\"\n"
     ]
    },
    {
     "data": {
      "text/html": [
       "<style>\n",
       ".list-inline {list-style: none; margin:0; padding: 0}\n",
       ".list-inline>li {display: inline-block}\n",
       ".list-inline>li:not(:last-child)::after {content: \"\\00b7\"; padding: 0 .5ex}\n",
       "</style>\n",
       "<ol class=list-inline><li>53940</li><li>11</li></ol>\n"
      ],
      "text/latex": [
       "\\begin{enumerate*}\n",
       "\\item 53940\n",
       "\\item 11\n",
       "\\end{enumerate*}\n"
      ],
      "text/markdown": [
       "1. 53940\n",
       "2. 11\n",
       "\n",
       "\n"
      ],
      "text/plain": [
       "[1] 53940    11"
      ]
     },
     "metadata": {},
     "output_type": "display_data"
    },
    {
     "name": "stdout",
     "output_type": "stream",
     "text": [
      "[1] \"Dimensions of shiny_select_1 (shiny data frame with...selected...parameters)\"\n"
     ]
    },
    {
     "data": {
      "text/html": [
       "<style>\n",
       ".list-inline {list-style: none; margin:0; padding: 0}\n",
       ".list-inline>li {display: inline-block}\n",
       ".list-inline>li:not(:last-child)::after {content: \"\\00b7\"; padding: 0 .5ex}\n",
       "</style>\n",
       "<ol class=list-inline><li>53940</li><li>6</li></ol>\n"
      ],
      "text/latex": [
       "\\begin{enumerate*}\n",
       "\\item 53940\n",
       "\\item 6\n",
       "\\end{enumerate*}\n"
      ],
      "text/markdown": [
       "1. 53940\n",
       "2. 6\n",
       "\n",
       "\n"
      ],
      "text/plain": [
       "[1] 53940     6"
      ]
     },
     "metadata": {},
     "output_type": "display_data"
    }
   ],
   "source": [
    "# INSERT CODE HERE\n",
    "\n",
    "#Load \"class\" and \"tidyverse\" packages\n",
    "library(class)\n",
    "library(tidyverse)\n",
    "\n",
    "#rename diamonds\n",
    "shiny  <- diamonds \n",
    "head(shiny)\n",
    "\n",
    "\n",
    "#df1$Category<-ifelse(df1$Frequency>25,\"Good\",\"Bad\")\n",
    "#df1\n",
    "\n",
    "#Split price into 1 if over mean, 1 if under mean.\n",
    "shiny  <- shiny %>% \n",
    "    mutate(price_bin = ifelse(price>mean(price),1,0))\n",
    "\n",
    "shiny_select_1  <-  shiny %>%\n",
    "    select(carat, depth, table, x, y, price_bin)\n",
    "\n",
    "print(\"Dimensions of shiny data frame\")\n",
    "dim(shiny)\n",
    "print(\"Dimensions of shiny_select_1 (shiny data frame with...selected...parameters)\")\n",
    "dim(shiny_select_1)\n",
    "\n",
    "#head(shiny)"
   ]
  },
  {
   "cell_type": "markdown",
   "metadata": {
    "id": "OE--UOxM_cZD"
   },
   "source": [
    "### Plot\n",
    "Create a scatterplot of the link between `carat` and `depth`, and use the `color` aesthetics mapping to differentiate between diamonds that cost above versus below the mean price. "
   ]
  },
  {
   "cell_type": "code",
   "execution_count": 44,
   "metadata": {
    "id": "SZQl5C9H_cZD"
   },
   "outputs": [
    {
     "data": {
      "image/png": "[encoded data removed]",
      "text/plain": [
       "plot without title"
      ]
     },
     "metadata": {
      "image/png": {
       "height": 420,
       "width": 420
      }
     },
     "output_type": "display_data"
    }
   ],
   "source": [
    "# INSERT CODE HERE\n",
    "\n",
    "gg  <- ggplot(shiny_select_1, aes(x = carat, y =depth))\n",
    "gg + geom_point(aes(color = price_bin))"
   ]
  },
  {
   "cell_type": "markdown",
   "metadata": {
    "id": "j-K6NEON_cZD"
   },
   "source": [
    "Based on the above scatterplot, how do you think kNN will perform using only these two variables to predict diabetes diagnosis? Which variable, carat or depth, gives us the most information about which price class the diamond will belong to?\n",
    "> * *Write response here*\n",
    "\n",
    "> What? Diabetes?! Listen, man, I'm just a writer. [look up more info] Carat is giving us more information, you can see that higher-carat diamonds are above the mean, and lower-carat diamonds are below, although they do overlap, and it maybe looks like lower depth is related to determining where diamonds are priced around the mean.\n",
    "> * \n"
   ]
  },
  {
   "cell_type": "markdown",
   "metadata": {
    "id": "wT7O-CHO_cZE"
   },
   "source": [
    "### Test vs Train\n",
    "\n",
    "Before we run KNN on these data, we need to set aside a portion of the observations as our test set. Below, randomly divide the data such that 30% are allotted to the `test` set and the rest are allotted to the `train` set. Print the first few lines of each set, and print the dimensions of each set to double check your division of the data."
   ]
  },
  {
   "cell_type": "code",
   "execution_count": 54,
   "metadata": {
    "id": "Oj3YcEP0_cZE"
   },
   "outputs": [
    {
     "name": "stderr",
     "output_type": "stream",
     "text": [
      "\u001b[1m\u001b[22mJoining with `by = join_by(carat, depth, table, x, y, price_bin)`\n"
     ]
    },
    {
     "data": {
      "text/html": [
       "<table class=\"dataframe\">\n",
       "<caption>A tibble: 6 × 6</caption>\n",
       "<thead>\n",
       "\t<tr><th scope=col>carat</th><th scope=col>depth</th><th scope=col>table</th><th scope=col>x</th><th scope=col>y</th><th scope=col>price_bin</th></tr>\n",
       "\t<tr><th scope=col>&lt;dbl&gt;</th><th scope=col>&lt;dbl&gt;</th><th scope=col>&lt;dbl&gt;</th><th scope=col>&lt;dbl&gt;</th><th scope=col>&lt;dbl&gt;</th><th scope=col>&lt;dbl&gt;</th></tr>\n",
       "</thead>\n",
       "<tbody>\n",
       "\t<tr><td>1.22</td><td>62.3</td><td>56.0</td><td>6.81</td><td>6.84</td><td>1</td></tr>\n",
       "\t<tr><td>1.57</td><td>62.3</td><td>56.0</td><td>7.48</td><td>7.41</td><td>1</td></tr>\n",
       "\t<tr><td>1.11</td><td>62.4</td><td>57.7</td><td>6.57</td><td>6.64</td><td>1</td></tr>\n",
       "\t<tr><td>0.42</td><td>60.6</td><td>57.0</td><td>4.82</td><td>4.85</td><td>0</td></tr>\n",
       "\t<tr><td>0.32</td><td>62.6</td><td>55.0</td><td>4.39</td><td>4.36</td><td>0</td></tr>\n",
       "\t<tr><td>0.90</td><td>62.7</td><td>58.0</td><td>6.06</td><td>6.15</td><td>1</td></tr>\n",
       "</tbody>\n",
       "</table>\n"
      ],
      "text/latex": [
       "A tibble: 6 × 6\n",
       "\\begin{tabular}{llllll}\n",
       " carat & depth & table & x & y & price\\_bin\\\\\n",
       " <dbl> & <dbl> & <dbl> & <dbl> & <dbl> & <dbl>\\\\\n",
       "\\hline\n",
       "\t 1.22 & 62.3 & 56.0 & 6.81 & 6.84 & 1\\\\\n",
       "\t 1.57 & 62.3 & 56.0 & 7.48 & 7.41 & 1\\\\\n",
       "\t 1.11 & 62.4 & 57.7 & 6.57 & 6.64 & 1\\\\\n",
       "\t 0.42 & 60.6 & 57.0 & 4.82 & 4.85 & 0\\\\\n",
       "\t 0.32 & 62.6 & 55.0 & 4.39 & 4.36 & 0\\\\\n",
       "\t 0.90 & 62.7 & 58.0 & 6.06 & 6.15 & 1\\\\\n",
       "\\end{tabular}\n"
      ],
      "text/markdown": [
       "\n",
       "A tibble: 6 × 6\n",
       "\n",
       "| carat &lt;dbl&gt; | depth &lt;dbl&gt; | table &lt;dbl&gt; | x &lt;dbl&gt; | y &lt;dbl&gt; | price_bin &lt;dbl&gt; |\n",
       "|---|---|---|---|---|---|\n",
       "| 1.22 | 62.3 | 56.0 | 6.81 | 6.84 | 1 |\n",
       "| 1.57 | 62.3 | 56.0 | 7.48 | 7.41 | 1 |\n",
       "| 1.11 | 62.4 | 57.7 | 6.57 | 6.64 | 1 |\n",
       "| 0.42 | 60.6 | 57.0 | 4.82 | 4.85 | 0 |\n",
       "| 0.32 | 62.6 | 55.0 | 4.39 | 4.36 | 0 |\n",
       "| 0.90 | 62.7 | 58.0 | 6.06 | 6.15 | 1 |\n",
       "\n"
      ],
      "text/plain": [
       "  carat depth table x    y    price_bin\n",
       "1 1.22  62.3  56.0  6.81 6.84 1        \n",
       "2 1.57  62.3  56.0  7.48 7.41 1        \n",
       "3 1.11  62.4  57.7  6.57 6.64 1        \n",
       "4 0.42  60.6  57.0  4.82 4.85 0        \n",
       "5 0.32  62.6  55.0  4.39 4.36 0        \n",
       "6 0.90  62.7  58.0  6.06 6.15 1        "
      ]
     },
     "metadata": {},
     "output_type": "display_data"
    },
    {
     "data": {
      "text/html": [
       "<table class=\"dataframe\">\n",
       "<caption>A tibble: 6 × 6</caption>\n",
       "<thead>\n",
       "\t<tr><th scope=col>carat</th><th scope=col>depth</th><th scope=col>table</th><th scope=col>x</th><th scope=col>y</th><th scope=col>price_bin</th></tr>\n",
       "\t<tr><th scope=col>&lt;dbl&gt;</th><th scope=col>&lt;dbl&gt;</th><th scope=col>&lt;dbl&gt;</th><th scope=col>&lt;dbl&gt;</th><th scope=col>&lt;dbl&gt;</th><th scope=col>&lt;dbl&gt;</th></tr>\n",
       "</thead>\n",
       "<tbody>\n",
       "\t<tr><td>0.23</td><td>61.5</td><td>55</td><td>3.95</td><td>3.98</td><td>0</td></tr>\n",
       "\t<tr><td>0.26</td><td>61.9</td><td>55</td><td>4.07</td><td>4.11</td><td>0</td></tr>\n",
       "\t<tr><td>0.22</td><td>65.1</td><td>61</td><td>3.87</td><td>3.78</td><td>0</td></tr>\n",
       "\t<tr><td>0.23</td><td>62.8</td><td>56</td><td>3.93</td><td>3.90</td><td>0</td></tr>\n",
       "\t<tr><td>0.31</td><td>62.2</td><td>54</td><td>4.35</td><td>4.37</td><td>0</td></tr>\n",
       "\t<tr><td>0.20</td><td>60.2</td><td>62</td><td>3.79</td><td>3.75</td><td>0</td></tr>\n",
       "</tbody>\n",
       "</table>\n"
      ],
      "text/latex": [
       "A tibble: 6 × 6\n",
       "\\begin{tabular}{llllll}\n",
       " carat & depth & table & x & y & price\\_bin\\\\\n",
       " <dbl> & <dbl> & <dbl> & <dbl> & <dbl> & <dbl>\\\\\n",
       "\\hline\n",
       "\t 0.23 & 61.5 & 55 & 3.95 & 3.98 & 0\\\\\n",
       "\t 0.26 & 61.9 & 55 & 4.07 & 4.11 & 0\\\\\n",
       "\t 0.22 & 65.1 & 61 & 3.87 & 3.78 & 0\\\\\n",
       "\t 0.23 & 62.8 & 56 & 3.93 & 3.90 & 0\\\\\n",
       "\t 0.31 & 62.2 & 54 & 4.35 & 4.37 & 0\\\\\n",
       "\t 0.20 & 60.2 & 62 & 3.79 & 3.75 & 0\\\\\n",
       "\\end{tabular}\n"
      ],
      "text/markdown": [
       "\n",
       "A tibble: 6 × 6\n",
       "\n",
       "| carat &lt;dbl&gt; | depth &lt;dbl&gt; | table &lt;dbl&gt; | x &lt;dbl&gt; | y &lt;dbl&gt; | price_bin &lt;dbl&gt; |\n",
       "|---|---|---|---|---|---|\n",
       "| 0.23 | 61.5 | 55 | 3.95 | 3.98 | 0 |\n",
       "| 0.26 | 61.9 | 55 | 4.07 | 4.11 | 0 |\n",
       "| 0.22 | 65.1 | 61 | 3.87 | 3.78 | 0 |\n",
       "| 0.23 | 62.8 | 56 | 3.93 | 3.90 | 0 |\n",
       "| 0.31 | 62.2 | 54 | 4.35 | 4.37 | 0 |\n",
       "| 0.20 | 60.2 | 62 | 3.79 | 3.75 | 0 |\n",
       "\n"
      ],
      "text/plain": [
       "  carat depth table x    y    price_bin\n",
       "1 0.23  61.5  55    3.95 3.98 0        \n",
       "2 0.26  61.9  55    4.07 4.11 0        \n",
       "3 0.22  65.1  61    3.87 3.78 0        \n",
       "4 0.23  62.8  56    3.93 3.90 0        \n",
       "5 0.31  62.2  54    4.35 4.37 0        \n",
       "6 0.20  60.2  62    3.79 3.75 0        "
      ]
     },
     "metadata": {},
     "output_type": "display_data"
    },
    {
     "data": {
      "text/html": [
       "'Train and test dimensions:'"
      ],
      "text/latex": [
       "'Train and test dimensions:'"
      ],
      "text/markdown": [
       "'Train and test dimensions:'"
      ],
      "text/plain": [
       "[1] \"Train and test dimensions:\""
      ]
     },
     "metadata": {},
     "output_type": "display_data"
    },
    {
     "data": {
      "text/html": [
       "<style>\n",
       ".list-inline {list-style: none; margin:0; padding: 0}\n",
       ".list-inline>li {display: inline-block}\n",
       ".list-inline>li:not(:last-child)::after {content: \"\\00b7\"; padding: 0 .5ex}\n",
       "</style>\n",
       "<ol class=list-inline><li>37758</li><li>6</li></ol>\n"
      ],
      "text/latex": [
       "\\begin{enumerate*}\n",
       "\\item 37758\n",
       "\\item 6\n",
       "\\end{enumerate*}\n"
      ],
      "text/markdown": [
       "1. 37758\n",
       "2. 6\n",
       "\n",
       "\n"
      ],
      "text/plain": [
       "[1] 37758     6"
      ]
     },
     "metadata": {},
     "output_type": "display_data"
    },
    {
     "data": {
      "text/html": [
       "<style>\n",
       ".list-inline {list-style: none; margin:0; padding: 0}\n",
       ".list-inline>li {display: inline-block}\n",
       ".list-inline>li:not(:last-child)::after {content: \"\\00b7\"; padding: 0 .5ex}\n",
       "</style>\n",
       "<ol class=list-inline><li>14858</li><li>6</li></ol>\n"
      ],
      "text/latex": [
       "\\begin{enumerate*}\n",
       "\\item 14858\n",
       "\\item 6\n",
       "\\end{enumerate*}\n"
      ],
      "text/markdown": [
       "1. 14858\n",
       "2. 6\n",
       "\n",
       "\n"
      ],
      "text/plain": [
       "[1] 14858     6"
      ]
     },
     "metadata": {},
     "output_type": "display_data"
    }
   ],
   "source": [
    "set.seed(2023)\n",
    "\n",
    "# INSERT CODE HERE\n",
    "\n",
    "#The train data is .70 of the shiny_select_1 data frame. The test data is the 30% that is left over. \n",
    "\n",
    "train <- shiny_select_1 %>% dplyr::sample_frac(0.70)\n",
    "test  <- dplyr::anti_join(shiny_select_1, train)\n",
    "\n",
    "head(train)\n",
    "head(test)\n",
    "\n",
    "\"Train and test dimensions:\"\n",
    "dim(train)\n",
    "dim(test)"
   ]
  },
  {
   "cell_type": "markdown",
   "metadata": {
    "id": "lFtmRUBN_cZF"
   },
   "source": [
    "## 2: KNN (3 points)\n",
    "----\n",
    "Now, use the `knn()` function from the `class` library to predict `price_bin` from the `carat` and `depth`. Set `k = 3`. \n",
    "\n",
    "*Hint: Review the format required for the arguments of knn()*"
   ]
  },
  {
   "cell_type": "code",
   "execution_count": 61,
   "metadata": {
    "id": "9pcL8AM9_cZG",
    "scrolled": true
   },
   "outputs": [
    {
     "data": {
      "text/html": [
       "<style>\n",
       ".list-inline {list-style: none; margin:0; padding: 0}\n",
       ".list-inline>li {display: inline-block}\n",
       ".list-inline>li:not(:last-child)::after {content: \"\\00b7\"; padding: 0 .5ex}\n",
       "</style>\n",
       "<ol class=list-inline><li>0</li><li>0</li><li>0</li><li>0</li><li>0</li><li>0</li><li>0</li><li>0</li><li>0</li><li>0</li></ol>\n",
       "\n",
       "<details>\n",
       "\t<summary style=display:list-item;cursor:pointer>\n",
       "\t\t<strong>Levels</strong>:\n",
       "\t</summary>\n",
       "\t<style>\n",
       "\t.list-inline {list-style: none; margin:0; padding: 0}\n",
       "\t.list-inline>li {display: inline-block}\n",
       "\t.list-inline>li:not(:last-child)::after {content: \"\\00b7\"; padding: 0 .5ex}\n",
       "\t</style>\n",
       "\t<ol class=list-inline><li>'0'</li><li>'1'</li></ol>\n",
       "</details>"
      ],
      "text/latex": [
       "\\begin{enumerate*}\n",
       "\\item 0\n",
       "\\item 0\n",
       "\\item 0\n",
       "\\item 0\n",
       "\\item 0\n",
       "\\item 0\n",
       "\\item 0\n",
       "\\item 0\n",
       "\\item 0\n",
       "\\item 0\n",
       "\\end{enumerate*}\n",
       "\n",
       "\\emph{Levels}: \\begin{enumerate*}\n",
       "\\item '0'\n",
       "\\item '1'\n",
       "\\end{enumerate*}\n"
      ],
      "text/markdown": [
       "1. 0\n",
       "2. 0\n",
       "3. 0\n",
       "4. 0\n",
       "5. 0\n",
       "6. 0\n",
       "7. 0\n",
       "8. 0\n",
       "9. 0\n",
       "10. 0\n",
       "\n",
       "\n",
       "\n",
       "**Levels**: 1. '0'\n",
       "2. '1'\n",
       "\n",
       "\n"
      ],
      "text/plain": [
       " [1] 0 0 0 0 0 0 0 0 0 0\n",
       "Levels: 0 1"
      ]
     },
     "metadata": {},
     "output_type": "display_data"
    }
   ],
   "source": [
    "set.seed(2023)\n",
    "# INSERT CODE HERE\n",
    "\n",
    "test.spec.knn <- knn(train, test, train$price_bin, k = 3)\n",
    "test.spec.knn[1:10]"
   ]
  },
  {
   "cell_type": "markdown",
   "metadata": {
    "id": "RXnTKbdi_cZG"
   },
   "source": [
    "Now, output a confusion matrix and calculate the test error to evaluate model performance. "
   ]
  },
  {
   "cell_type": "code",
   "execution_count": 63,
   "metadata": {
    "id": "qhwTYq9B_cZH"
   },
   "outputs": [
    {
     "data": {
      "text/plain": [
       "         actual\n",
       "predicted    0    1\n",
       "        0 9121    7\n",
       "        1   11 5719"
      ]
     },
     "metadata": {},
     "output_type": "display_data"
    },
    {
     "name": "stdout",
     "output_type": "stream",
     "text": [
      "[1] \"---\"\n",
      "[1] \"Accuracy: 0.998788531430879\"\n"
     ]
    }
   ],
   "source": [
    "# INSERT CODE HERE\n",
    "\n",
    "confusion_df <- data.frame(predicted = test.spec.knn, actual = test$price_bin)\n",
    "table(confusion_df)\n",
    "print(\"---\")\n",
    "print(paste(\"Accuracy:\",mean(confusion_df$predicted == confusion_df$actual)))"
   ]
  },
  {
   "cell_type": "markdown",
   "metadata": {
    "id": "mOQSLQ37_cZK"
   },
   "source": [
    "How did your model perform?\n",
    "> * Write your response here\n",
    ">\n",
    "> * It looks like it performed almost perfectly, with almost 99% accuracy."
   ]
  },
  {
   "cell_type": "markdown",
   "metadata": {
    "id": "p0lvEh3F_cZL"
   },
   "source": [
    "Let's try to improve our model by adding all of the other variables in our data set as predictors. Rerun your `knn()` below, keeping `k = 3`. Again, output a confusion matrix and error rate for your updated model fit."
   ]
  },
  {
   "cell_type": "code",
   "execution_count": null,
   "metadata": {
    "id": "KWsncoDP_cZL"
   },
   "outputs": [],
   "source": [
    "set.seed(2023)\n",
    "# INSERT CODE HERE\n"
   ]
  },
  {
   "cell_type": "markdown",
   "metadata": {
    "id": "t2Dyykaf_cZM"
   },
   "source": [
    "Did your model predictions improve?\n",
    "> * Write your response here\n",
    ">\n",
    "> * \n"
   ]
  },
  {
   "cell_type": "markdown",
   "metadata": {
    "id": "WYHprC4m_cZN"
   },
   "source": [
    "# 3: for loop (3 points)\n",
    "----\n",
    "\n",
    "So adding additional predictors didn't shift our error much. Let's see if adjusting `k` has a larger impact on model accuracy. \n",
    "\n",
    "Using your initial model above with just `carat` and `depth`, run a `for loop` that runs the same model 30 times, for `k = 1:30`. \n",
    "\n",
    "Output a data frame that has `k` and the overall `error` as columns.\n",
    "\n",
    "The structure of the output data frame and `for loop` are provided for you below. Note that your loop will take a minute or two to run because there are so many observations in the dataset. It may be helpful while you are writing and testing your loop to run it on a subset of the data with only a handful of rows."
   ]
  },
  {
   "cell_type": "code",
   "execution_count": null,
   "metadata": {
    "id": "D-GAvxGH_cZN",
    "scrolled": false
   },
   "outputs": [],
   "source": [
    "# this is provided\n",
    "# setting up empty table to store for loop output\n",
    "output  <- data.frame(k = seq(1:30),\n",
    "                     error = rep(NA, 30))\n",
    "head(output)"
   ]
  },
  {
   "cell_type": "code",
   "execution_count": null,
   "metadata": {
    "id": "we6mzfCJ_cZN"
   },
   "outputs": [],
   "source": [
    "for (k in seq(1:30)) {\n",
    "    knn_fits  <- # your knn function here\n",
    "    \n",
    "    #overall error\n",
    "    conf_df  <- # data frame of test predictions versus actual test\n",
    "    output$error[k]  <- #calculate error from conf_df and add to your output dataframe\n",
    "   \n",
    "}\n",
    "head(output)"
   ]
  },
  {
   "cell_type": "markdown",
   "metadata": {
    "id": "Ofk0jafy_cZN"
   },
   "source": [
    "Create a line plot of your `output` object using `ggplot`. Add a (non-linear) `geom_smooth` layer. "
   ]
  },
  {
   "cell_type": "code",
   "execution_count": null,
   "metadata": {
    "id": "9Oia_P98_cZN",
    "scrolled": false
   },
   "outputs": [],
   "source": [
    "# INSERT CODE HERE"
   ]
  },
  {
   "cell_type": "markdown",
   "metadata": {
    "id": "EG2gQhU0_cZO"
   },
   "source": [
    "Interpret your plot. What would you select as the best value of `k`? How much does this improve your test error?\n",
    "> * *Write your response here*\n",
    ">\n",
    "> * \n"
   ]
  },
  {
   "cell_type": "markdown",
   "metadata": {
    "id": "R5GYp8mt_cZO"
   },
   "source": [
    "# 4: Standardizing predictors (2)\n",
    "-----\n",
    "\n",
    "Because knn is based on distances between points, it is very sensitive to the scale of your variables. Looking at our predictor variables, we can see that `carat` and `depth` are orders of magnitude different in terms of scales. Maybe we can improve our fit even more by addressing this!\n",
    "\n",
    "Below, use the `scale()` function to standardize your predictors. (Note that you don't need to standardize `price_bin`.)\n",
    "\n",
    "Then, run your model a final time with your standardized predictors (just `carat` and `depth` still). Set `k` to the optimal value you determined in your plot above. Output the confusion matrix and error rate again."
   ]
  },
  {
   "cell_type": "code",
   "execution_count": null,
   "metadata": {
    "id": "DVAfP_iB_cZO"
   },
   "outputs": [],
   "source": [
    "set.seed(2023)\n",
    "#INSERT CODE HERE\n"
   ]
  },
  {
   "cell_type": "markdown",
   "metadata": {
    "id": "yl3pqjEA_cZO"
   },
   "source": [
    "What impact did rescaling the data have on your error rate?\n",
    "> * *Write response here*\n",
    ">\n",
    "> * \n"
   ]
  },
  {
   "cell_type": "markdown",
   "metadata": {
    "id": "XSFcQXke_cZO"
   },
   "source": [
    "**DUE:** 5pm March 22, 2023\n",
    "\n",
    "**IMPORTANT** Did you collaborate with anyone on this assignment? If so, list their names here.\n",
    "> *Someone's Name*\n",
    ">\n",
    ">\n"
   ]
  }
 ],
 "metadata": {
  "colab": {
   "provenance": []
  },
  "kernelspec": {
   "display_name": "R",
   "language": "R",
   "name": "ir"
  },
  "language_info": {
   "codemirror_mode": "r",
   "file_extension": ".r",
   "mimetype": "text/x-r-source",
   "name": "R",
   "pygments_lexer": "r",
   "version": "4.2.2"
  }
 },
 "nbformat": 4,
 "nbformat_minor": 1
}
