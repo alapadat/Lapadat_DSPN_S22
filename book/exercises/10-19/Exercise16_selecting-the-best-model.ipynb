{
 "cells": [
  {
   "cell_type": "markdown",
   "id": "03de7188",
   "metadata": {
    "id": "614c6a4a"
   },
   "source": [
    "# Exercise 16: Model selection"
   ]
  },
  {
   "cell_type": "markdown",
   "id": "ecb931e0",
   "metadata": {
    "id": "7e861f62"
   },
   "source": [
    "This homework is designed to give you practice implementing model selection techniques, including best subset selection and forward/backward stepwise selection.\n",
    "\n",
    "You won't need to load in any data for this homework, we will be simulating our own."
   ]
  },
  {
   "cell_type": "markdown",
   "id": "9bb1ceec",
   "metadata": {
    "id": "b065256e"
   },
   "source": [
    "---\n",
    "## 1. Best subset selection (4 points)"
   ]
  },
  {
   "cell_type": "markdown",
   "id": "6d61bac8",
   "metadata": {
    "id": "bfe412c5"
   },
   "source": [
    "In this question, we will first generate simulated data, and then use it to perform best subset selection.\n",
    "\n",
    "a) Use `rnorm()` to generate a dataset including a predictor $X$ of length $n = 100$ and a noise vector $\\epsilon$ of length $n = 100$. Generate data for a response variable $Y$ of length $n = 100$ according to the model\n",
    "\n",
    "$Y = \\beta_0 + \\beta_1X + \\beta_2X^2 + \\beta_3X^3 + \\epsilon$\n",
    "\n",
    "where $\\beta_0$, $\\beta_1$, $\\beta_2$, and $\\beta_3$ are constants of your choice.\n"
   ]
  },
  {
   "cell_type": "code",
   "execution_count": 6,
   "id": "84e178f1",
   "metadata": {
    "id": "82a01047"
   },
   "outputs": [],
   "source": [
    "# WRITE YOUR CODE HERE\n",
    "\n",
    "#how do you calculate the gaussian noise term?\n",
    "#calculating 100 times for 100 different variables\n",
    "\n",
    "beta_0 = 2\n",
    "beta_1 = 83\n",
    "beta_2 = 3\n",
    "beta_3 = 47\n",
    "\n",
    "X.t  <- rnorm(100, mean = 0)\n",
    "E.t  <- rnorm(100, mean = 0) #Do not think this term is correct\n",
    "E.t  <- jitter(E.t)\n",
    "\n",
    "output.t =  beta_0 + (X.t*beta_1) + (beta_2*(X.t)^2) + (beta_3*(X.t)^3) + E.t\n",
    "\n",
    "dat  <- data.frame(X = X.t,  Y = output.t, Epsilon = E.t)\n",
    "\n",
    "#head(output.t)\n",
    "#length(output.t)\n",
    "\n",
    "#head(X_test)\n",
    "#plot(X_test)\n",
    "\n",
    "#?rnorm"
   ]
  },
  {
   "cell_type": "markdown",
   "id": "e7bad507",
   "metadata": {
    "id": "19065c60"
   },
   "source": [
    "b) Use `regsubsets()` to perform best subset selection to determine the best model that contains the predictor variables $X$, $X^2$, . . . , $X^{10}$. Print the model summary."
   ]
  },
  {
   "cell_type": "code",
   "execution_count": 4,
   "id": "58cd5857",
   "metadata": {
    "id": "2d0ea51f"
   },
   "outputs": [
    {
     "name": "stderr",
     "output_type": "stream",
     "text": [
      "Installing package into 'C:/Users/roman/AppData/Local/R/win-library/4.2'\n",
      "(as 'lib' is unspecified)\n",
      "\n"
     ]
    },
    {
     "name": "stdout",
     "output_type": "stream",
     "text": [
      "package 'leaps' successfully unpacked and MD5 sums checked\n",
      "\n",
      "The downloaded binary packages are in\n",
      "\tC:\\Users\\roman\\AppData\\Local\\Temp\\RtmpmEpOiC\\downloaded_packages\n"
     ]
    },
    {
     "name": "stderr",
     "output_type": "stream",
     "text": [
      "Warning message:\n",
      "\"package 'leaps' was built under R version 4.2.3\"\n",
      "── \u001b[1mAttaching packages\u001b[22m ─────────────────────────────────────────────────────────────────────────────── tidyverse 1.3.2 ──\n",
      "\u001b[32m✔\u001b[39m \u001b[34mggplot2\u001b[39m 3.4.1     \u001b[32m✔\u001b[39m \u001b[34mpurrr  \u001b[39m 1.0.1\n",
      "\u001b[32m✔\u001b[39m \u001b[34mtibble \u001b[39m 3.1.8     \u001b[32m✔\u001b[39m \u001b[34mdplyr  \u001b[39m 1.1.0\n",
      "\u001b[32m✔\u001b[39m \u001b[34mtidyr  \u001b[39m 1.3.0     \u001b[32m✔\u001b[39m \u001b[34mstringr\u001b[39m 1.5.0\n",
      "\u001b[32m✔\u001b[39m \u001b[34mreadr  \u001b[39m 2.1.4     \u001b[32m✔\u001b[39m \u001b[34mforcats\u001b[39m 1.0.0\n",
      "── \u001b[1mConflicts\u001b[22m ────────────────────────────────────────────────────────────────────────────────── tidyverse_conflicts() ──\n",
      "\u001b[31m✖\u001b[39m \u001b[34mdplyr\u001b[39m::\u001b[32mfilter()\u001b[39m masks \u001b[34mstats\u001b[39m::filter()\n",
      "\u001b[31m✖\u001b[39m \u001b[34mdplyr\u001b[39m::\u001b[32mlag()\u001b[39m    masks \u001b[34mstats\u001b[39m::lag()\n"
     ]
    }
   ],
   "source": [
    "install.packages(\"leaps\")\n",
    "library(leaps)\n",
    "library(tidyverse)"
   ]
  },
  {
   "cell_type": "code",
   "execution_count": 43,
   "id": "006c6994",
   "metadata": {},
   "outputs": [
    {
     "data": {
      "text/html": [
       "<table class=\"dataframe\">\n",
       "<caption>A data.frame: 6 × 3</caption>\n",
       "<thead>\n",
       "\t<tr><th></th><th scope=col>X</th><th scope=col>Y</th><th scope=col>Epsilon</th></tr>\n",
       "\t<tr><th></th><th scope=col>&lt;dbl&gt;</th><th scope=col>&lt;dbl&gt;</th><th scope=col>&lt;dbl&gt;</th></tr>\n",
       "</thead>\n",
       "<tbody>\n",
       "\t<tr><th scope=row>1</th><td> 2.1369510</td><td> 651.29422</td><td>-0.4225677</td></tr>\n",
       "\t<tr><th scope=row>2</th><td>-0.2057144</td><td> -16.36943</td><td>-1.0129297</td></tr>\n",
       "\t<tr><th scope=row>3</th><td> 0.3610640</td><td>  33.02048</td><td>-1.5512595</td></tr>\n",
       "\t<tr><th scope=row>4</th><td>-1.9409722</td><td>-491.66822</td><td>-0.1884051</td></tr>\n",
       "\t<tr><th scope=row>5</th><td> 0.3000523</td><td>  28.68123</td><td> 0.2371354</td></tr>\n",
       "\t<tr><th scope=row>6</th><td> 1.7569047</td><td> 413.01762</td><td> 1.0504713</td></tr>\n",
       "</tbody>\n",
       "</table>\n"
      ],
      "text/latex": [
       "A data.frame: 6 × 3\n",
       "\\begin{tabular}{r|lll}\n",
       "  & X & Y & Epsilon\\\\\n",
       "  & <dbl> & <dbl> & <dbl>\\\\\n",
       "\\hline\n",
       "\t1 &  2.1369510 &  651.29422 & -0.4225677\\\\\n",
       "\t2 & -0.2057144 &  -16.36943 & -1.0129297\\\\\n",
       "\t3 &  0.3610640 &   33.02048 & -1.5512595\\\\\n",
       "\t4 & -1.9409722 & -491.66822 & -0.1884051\\\\\n",
       "\t5 &  0.3000523 &   28.68123 &  0.2371354\\\\\n",
       "\t6 &  1.7569047 &  413.01762 &  1.0504713\\\\\n",
       "\\end{tabular}\n"
      ],
      "text/markdown": [
       "\n",
       "A data.frame: 6 × 3\n",
       "\n",
       "| <!--/--> | X &lt;dbl&gt; | Y &lt;dbl&gt; | Epsilon &lt;dbl&gt; |\n",
       "|---|---|---|---|\n",
       "| 1 |  2.1369510 |  651.29422 | -0.4225677 |\n",
       "| 2 | -0.2057144 |  -16.36943 | -1.0129297 |\n",
       "| 3 |  0.3610640 |   33.02048 | -1.5512595 |\n",
       "| 4 | -1.9409722 | -491.66822 | -0.1884051 |\n",
       "| 5 |  0.3000523 |   28.68123 |  0.2371354 |\n",
       "| 6 |  1.7569047 |  413.01762 |  1.0504713 |\n",
       "\n"
      ],
      "text/plain": [
       "  X          Y          Epsilon   \n",
       "1  2.1369510  651.29422 -0.4225677\n",
       "2 -0.2057144  -16.36943 -1.0129297\n",
       "3  0.3610640   33.02048 -1.5512595\n",
       "4 -1.9409722 -491.66822 -0.1884051\n",
       "5  0.3000523   28.68123  0.2371354\n",
       "6  1.7569047  413.01762  1.0504713"
      ]
     },
     "metadata": {},
     "output_type": "display_data"
    },
    {
     "data": {
      "text/html": [
       "<style>\n",
       ".list-inline {list-style: none; margin:0; padding: 0}\n",
       ".list-inline>li {display: inline-block}\n",
       ".list-inline>li:not(:last-child)::after {content: \"\\00b7\"; padding: 0 .5ex}\n",
       "</style>\n",
       "<ol class=list-inline><li>10</li><li>3</li></ol>\n"
      ],
      "text/latex": [
       "\\begin{enumerate*}\n",
       "\\item 10\n",
       "\\item 3\n",
       "\\end{enumerate*}\n"
      ],
      "text/markdown": [
       "1. 10\n",
       "2. 3\n",
       "\n",
       "\n"
      ],
      "text/plain": [
       "[1] 10  3"
      ]
     },
     "metadata": {},
     "output_type": "display_data"
    },
    {
     "name": "stdout",
     "output_type": "stream",
     "text": [
      "Subset selection object\n",
      "Call: regsubsets.formula(Y ~ ., select(dat_10, c(X, Y, Epsilon)))\n",
      "2 Variables  (and intercept)\n",
      "        Forced in Forced out\n",
      "X           FALSE      FALSE\n",
      "Epsilon     FALSE      FALSE\n",
      "1 subsets of each size up to 2\n",
      "Selection Algorithm: exhaustive\n",
      "         X   Epsilon\n",
      "1  ( 1 ) \"*\" \" \"    \n",
      "2  ( 1 ) \"*\" \"*\"    \n"
     ]
    }
   ],
   "source": [
    "head(dat)\n",
    "\n",
    "dat_10  <- dat %>% \n",
    "    slice(1:10)\n",
    "\n",
    "dim(dat_10)\n",
    "        \n",
    "#dim(dat)\n",
    "#dim(dat_10)\n",
    "regfit_10  = regsubsets(Y~., select(dat_10, c(X, Y, Epsilon)))\n",
    "reg.summary  <- summary(regfit_10)\n",
    "print(reg.summary)"
   ]
  },
  {
   "cell_type": "code",
   "execution_count": 29,
   "id": "f20d7fee",
   "metadata": {
    "id": "e584b852"
   },
   "outputs": [
    {
     "ename": "ERROR",
     "evalue": "Error in parse(text = x, srcfile = src): attempt to use zero-length variable name\n",
     "output_type": "error",
     "traceback": [
      "Error in parse(text = x, srcfile = src): attempt to use zero-length variable name\nTraceback:\n"
     ]
    }
   ],
   "source": [
    "# Note: if your model summary doesn't show up when viewing your notebook on github, copy and paste the output below.\n",
    "# Otherwise you can either delete this cell or leave it blank.\n",
    "\n",
    "```\n",
    "# paste here\n",
    "\n",
    "```"
   ]
  },
  {
   "cell_type": "markdown",
   "id": "029e47cd",
   "metadata": {
    "id": "3528231b"
   },
   "source": [
    "c) Plot the Mallows' Cp, Bayesian Information Criteria (BIC) and the adjusted coefficient of determination, $R^2$, for each model tested. Which is the best model? Report the coefficients of the best model. "
   ]
  },
  {
   "cell_type": "code",
   "execution_count": null,
   "id": "1c7cd987",
   "metadata": {
    "id": "6a817913"
   },
   "outputs": [],
   "source": [
    "# WRITE YOUR CODE HERE\n",
    "\n"
   ]
  },
  {
   "cell_type": "code",
   "execution_count": 44,
   "id": "2ceebc3c",
   "metadata": {},
   "outputs": [
    {
     "data": {
      "image/png": "[encoded data removed]",
      "text/plain": [
       "plot without title"
      ]
     },
     "metadata": {
      "image/png": {
       "height": 420,
       "width": 420
      }
     },
     "output_type": "display_data"
    },
    {
     "data": {
      "image/png": "[encoded data removed]",
      "text/plain": [
       "plot without title"
      ]
     },
     "metadata": {
      "image/png": {
       "height": 420,
       "width": 420
      }
     },
     "output_type": "display_data"
    },
    {
     "data": {
      "image/png": "[encoded data removed]",
      "text/plain": [
       "plot without title"
      ]
     },
     "metadata": {
      "image/png": {
       "height": 420,
       "width": 420
      }
     },
     "output_type": "display_data"
    }
   ],
   "source": [
    "# Uncomment the model fit measures you want to look at. \n",
    "\n",
    "numvar = 1:length(reg.summary$rss)# Make a vector that lists the number of variables in sequence, from 1 to 19. \n",
    "allfalse = rep(FALSE,length(reg.summary$rss))# Starting point for an indicator that marks the best model choice for each metric.\n",
    "\n",
    "# #rss\n",
    "# rss.df <- data.frame(numvar = numvar, rss = reg.summary$rss, minrss = allfalse)\n",
    "# rss.df$minrss[which.min(reg.summary$rss)] <- TRUE\n",
    "# ggplot(rss.df,aes(x=numvar,y=rss,shape=minrss,col=minrss)) + \n",
    "#     geom_point(size=3) + theme_light() + \n",
    "#     labs(x = \"Number of Variables\", y = \"RSS\", color=\"Minimum RSS\", shape=\"Minimum RSS\")\n",
    "\n",
    "#adjr2\n",
    "adjr2.df <- data.frame(numvar = numvar, adjr2 <- reg.summary$adjr2, maxadjr2 <- allfalse)\n",
    "adjr2.df$maxadjr2[which.max(reg.summary$adjr2)] <- TRUE\n",
    "ggplot(adjr2.df,aes(x=numvar,y=adjr2,shape=maxadjr2,col=maxadjr2)) + \n",
    "    geom_point(size=3) + theme_light() + \n",
    "    labs(x = \"Number of Variables\", y = 'Adj'~R^2, color='Maximum Adj'~R^2, shape='Maximum Adj'~R^2)\n",
    "\n",
    "# #mallow's cp\n",
    "cp.df <- data.frame(numvar = numvar, cp <- reg.summary$cp, mincp <- allfalse)\n",
    "cp.df$mincp[which.min(reg.summary$cp)] <- TRUE\n",
    "ggplot(cp.df,aes(x=numvar,y=cp,shape=mincp,col=mincp)) + \n",
    "    geom_point(size=3) + theme_light() + \n",
    "    labs(x = \"Number of Variables\", y = \"Mallow's CP\", color=\"Maximum CP\", shape=\"Maximum CP\")\n",
    "\n",
    "# #bic\n",
    "bic.df <- data.frame(numvar = numvar,bic <- reg.summary$bic, minbic <- allfalse)\n",
    "bic.df$minbic[which.min(reg.summary$bic)] <- TRUE\n",
    "ggplot(bic.df,aes(x=numvar,y=bic,shape=minbic,col=minbic)) + \n",
    "     geom_point(size=3) + theme_light() + \n",
    "     labs(x = \"Number of Variables\", y = \"BIC\", color=\"Minimum BIC\", shape=\"Minimum BIC\")"
   ]
  },
  {
   "cell_type": "code",
   "execution_count": 45,
   "id": "b68df3df",
   "metadata": {},
   "outputs": [
    {
     "name": "stdout",
     "output_type": "stream",
     "text": [
      "[1] 0.9733931\n",
      "[1] 2.023799\n",
      "[1] -32.83851\n"
     ]
    }
   ],
   "source": [
    "print(adjr2.df[1, 2])\n",
    "print(cp.df[1, 2])\n",
    "print(bic.df[1, 2])"
   ]
  },
  {
   "cell_type": "markdown",
   "id": "bf7eb499",
   "metadata": {
    "id": "e7f16d76"
   },
   "source": [
    "> *Write your response here* \n",
    "> The 1-model term is better. The RSS increase is negligible, implying that as we add models, we don't get much better explanation for our data. Meanwhile, both cp and BIC measures point towards the first.\n",
    "\n",
    "Coefficients:\n",
    "\n",
    "adjr2 = 0.9733931\n",
    "cp = 2.023799 \n",
    "bic = -32.83851"
   ]
  },
  {
   "cell_type": "markdown",
   "id": "bea818e5",
   "metadata": {
    "id": "19d388b0"
   },
   "source": [
    "---\n",
    "## 2. Forward and backwards stepwise selection (3 points)"
   ]
  },
  {
   "cell_type": "markdown",
   "id": "43f80e96",
   "metadata": {
    "id": "620dc14c"
   },
   "source": [
    "Using the same simulated data from question 1, use forward stepwise selection, and backwards stepwise selections to determine the best model. Again, for both model selection methods, plot the Mallows' Cp, Bayesian Information Criteria (BIC) and the adjusted coefficient of determination, $R^2$, for each model tested. Report the coefficients of the best model. "
   ]
  },
  {
   "cell_type": "markdown",
   "id": "1a6c33c0",
   "metadata": {
    "id": "d734954e"
   },
   "source": [
    "a) Forward stepwise selection:"
   ]
  },
  {
   "cell_type": "code",
   "execution_count": 38,
   "id": "44a990a8",
   "metadata": {
    "id": "8018ba62"
   },
   "outputs": [
    {
     "data": {
      "text/plain": [
       "Subset selection object\n",
       "Call: regsubsets.formula(Y ~ ., select(dat, c(X, Y, Epsilon)), method = \"forward\")\n",
       "2 Variables  (and intercept)\n",
       "        Forced in Forced out\n",
       "X           FALSE      FALSE\n",
       "Epsilon     FALSE      FALSE\n",
       "1 subsets of each size up to 2\n",
       "Selection Algorithm: forward\n",
       "         X   Epsilon\n",
       "1  ( 1 ) \"*\" \" \"    \n",
       "2  ( 1 ) \"*\" \"*\"    "
      ]
     },
     "metadata": {},
     "output_type": "display_data"
    }
   ],
   "source": [
    "# WRITE YOUR CODE HERE\n",
    "\n",
    "regfit_fwd  = regsubsets(Y~., select(dat, c(X, Y, Epsilon)), method = \"forward\")\n",
    "fwd_summ  <- summary(regfit_fwd)\n",
    "fwd_summ"
   ]
  },
  {
   "cell_type": "code",
   "execution_count": 50,
   "id": "74426880",
   "metadata": {},
   "outputs": [
    {
     "data": {
      "image/png": "[encoded data removed]",
      "text/plain": [
       "plot without title"
      ]
     },
     "metadata": {
      "image/png": {
       "height": 420,
       "width": 420
      }
     },
     "output_type": "display_data"
    },
    {
     "data": {
      "image/png": "[encoded data removed]",
      "text/plain": [
       "plot without title"
      ]
     },
     "metadata": {
      "image/png": {
       "height": 420,
       "width": 420
      }
     },
     "output_type": "display_data"
    },
    {
     "name": "stdout",
     "output_type": "stream",
     "text": [
      "[1] 0.8037706\n",
      "[1] 1.14041\n",
      "[1] -154.652\n"
     ]
    },
    {
     "data": {
      "image/png": "[encoded data removed]",
      "text/plain": [
       "plot without title"
      ]
     },
     "metadata": {
      "image/png": {
       "height": 420,
       "width": 420
      }
     },
     "output_type": "display_data"
    }
   ],
   "source": [
    "#adjr2\n",
    "adjr2.df <- data.frame(numvar = numvar, adjr2 <- fwd_summ$adjr2, maxadjr2 <- allfalse)\n",
    "adjr2.df$maxadjr2[which.max(fwd_summ$adjr2)] <- TRUE\n",
    "ggplot(adjr2.df,aes(x=numvar,y=adjr2,shape=maxadjr2,col=maxadjr2)) + \n",
    "    geom_point(size=3) + theme_light() + \n",
    "    labs(x = \"Number of Variables\", y = 'Adj'~R^2, color='Maximum Adj'~R^2, shape='Maximum Adj'~R^2)\n",
    "\n",
    "# #mallow's cp\n",
    "cp.df <- data.frame(numvar = numvar, cp <- fwd_summ$cp, mincp <- allfalse)\n",
    "cp.df$mincp[which.min(fwd_summ$cp)] <- TRUE\n",
    "ggplot(cp.df,aes(x=numvar,y=cp,shape=mincp,col=mincp)) + \n",
    "    geom_point(size=3) + theme_light() + \n",
    "    labs(x = \"Number of Variables\", y = \"Mallow's CP\", color=\"Maximum CP\", shape=\"Maximum CP\")\n",
    "\n",
    "# #bic\n",
    "bic.df <- data.frame(numvar = numvar,bic <- fwd_summ$bic, minbic <- allfalse)\n",
    "bic.df$minbic[which.min(fwd_summ$bic)] <- TRUE\n",
    "ggplot(bic.df,aes(x=numvar,y=bic,shape=minbic,col=minbic)) + \n",
    "     geom_point(size=3) + theme_light() + \n",
    "     labs(x = \"Number of Variables\", y = \"BIC\", color=\"Minimum BIC\", shape=\"Minimum BIC\")\n",
    "\n",
    "print(adjr2.df[1, 2])\n",
    "print(cp.df[1, 2])\n",
    "print(bic.df[1, 2])"
   ]
  },
  {
   "cell_type": "code",
   "execution_count": null,
   "id": "464563ba",
   "metadata": {
    "id": "861cedcd"
   },
   "outputs": [],
   "source": [
    "# Note: if your model summary doesn't show up when viewing your notebook on github, copy and paste the output below.\n",
    "# Otherwise you can either delete this cell or leave it blank.\n",
    "\n",
    "```\n",
    "# paste here\n",
    "\n",
    "```"
   ]
  },
  {
   "cell_type": "markdown",
   "id": "e316bc65",
   "metadata": {
    "id": "955e381d"
   },
   "source": [
    "b) Backwards stepwise selection:"
   ]
  },
  {
   "cell_type": "code",
   "execution_count": 39,
   "id": "40ed753e",
   "metadata": {
    "id": "c9a50756"
   },
   "outputs": [
    {
     "data": {
      "text/plain": [
       "Subset selection object\n",
       "Call: regsubsets.formula(Y ~ ., select(dat, c(X, Y, Epsilon)), method = \"backward\")\n",
       "2 Variables  (and intercept)\n",
       "        Forced in Forced out\n",
       "X           FALSE      FALSE\n",
       "Epsilon     FALSE      FALSE\n",
       "1 subsets of each size up to 2\n",
       "Selection Algorithm: backward\n",
       "         X   Epsilon\n",
       "1  ( 1 ) \"*\" \" \"    \n",
       "2  ( 1 ) \"*\" \"*\"    "
      ]
     },
     "metadata": {},
     "output_type": "display_data"
    }
   ],
   "source": [
    "# WRITE YOUR CODE HERE\n",
    "regfit_back  = regsubsets(Y~., select(dat, c(X, Y, Epsilon)), method = \"backward\")\n",
    "back_summ  <- summary(regfit_back)\n",
    "back_summ"
   ]
  },
  {
   "cell_type": "code",
   "execution_count": 40,
   "id": "d84743c1",
   "metadata": {},
   "outputs": [
    {
     "data": {
      "image/png": "[encoded data removed]",
      "text/plain": [
       "plot without title"
      ]
     },
     "metadata": {
      "image/png": {
       "height": 420,
       "width": 420
      }
     },
     "output_type": "display_data"
    },
    {
     "data": {
      "image/png": "[encoded data removed]",
      "text/plain": [
       "plot without title"
      ]
     },
     "metadata": {
      "image/png": {
       "height": 420,
       "width": 420
      }
     },
     "output_type": "display_data"
    },
    {
     "name": "stdout",
     "output_type": "stream",
     "text": [
      "[1] 0.8037706\n",
      "[1] 1.14041\n",
      "[1] -154.652\n"
     ]
    },
    {
     "data": {
      "image/png": "[encoded data removed]",
      "text/plain": [
       "plot without title"
      ]
     },
     "metadata": {
      "image/png": {
       "height": 420,
       "width": 420
      }
     },
     "output_type": "display_data"
    }
   ],
   "source": [
    "#adjr2\n",
    "adjr2.df <- data.frame(numvar = numvar, adjr2 <- back_summ$adjr2, maxadjr2 <- allfalse)\n",
    "adjr2.df$maxadjr2[which.max(back_summ$adjr2)] <- TRUE\n",
    "ggplot(adjr2.df,aes(x=numvar,y=adjr2,shape=maxadjr2,col=maxadjr2)) + \n",
    "    geom_point(size=3) + theme_light() + \n",
    "    labs(x = \"Number of Variables\", y = 'Adj'~R^2, color='Maximum Adj'~R^2, shape='Maximum Adj'~R^2)\n",
    "\n",
    "# #mallow's cp\n",
    "cp.df <- data.frame(numvar = numvar, cp <- back_summ$cp, mincp <- allfalse)\n",
    "cp.df$mincp[which.min(back_summ$cp)] <- TRUE\n",
    "ggplot(cp.df,aes(x=numvar,y=cp,shape=mincp,col=mincp)) + \n",
    "    geom_point(size=3) + theme_light() + \n",
    "    labs(x = \"Number of Variables\", y = \"Mallow's CP\", color=\"Maximum CP\", shape=\"Maximum CP\")\n",
    "\n",
    "# #bic\n",
    "bic.df <- data.frame(numvar = numvar,bic <- back_summ$bic, minbic <- allfalse)\n",
    "bic.df$minbic[which.min(back_summ$bic)] <- TRUE\n",
    "ggplot(bic.df,aes(x=numvar,y=bic,shape=minbic,col=minbic)) + \n",
    "     geom_point(size=3) + theme_light() + \n",
    "     labs(x = \"Number of Variables\", y = \"BIC\", color=\"Minimum BIC\", shape=\"Minimum BIC\")\n",
    "\n",
    "print(adjr2.df[1, 2])\n",
    "print(cp.df[1, 2])\n",
    "print(bic.df[1, 2])"
   ]
  },
  {
   "cell_type": "code",
   "execution_count": null,
   "id": "6f9d5214",
   "metadata": {
    "id": "30746619"
   },
   "outputs": [],
   "source": [
    "# Note: if your model summary doesn't show up when viewing your notebook on github, copy and paste the output below.\n",
    "# Otherwise you can either delete this cell or leave it blank.\n",
    "\n",
    "```\n",
    "# paste here\n",
    "\n",
    "```"
   ]
  },
  {
   "cell_type": "markdown",
   "id": "2aaacfc3",
   "metadata": {
    "id": "25dbc027"
   },
   "source": [
    "c) Compare your results from parts a and b with those of question 1."
   ]
  },
  {
   "cell_type": "markdown",
   "id": "7cd9db71",
   "metadata": {
    "id": "34ac850e"
   },
   "source": [
    "> *Write your response here* \n",
    "> Results from part a & b return the same results, which makes sense because we're only giving it a 2x2 matrix to work off of. Again, this may be an issue with the noise generation.\n",
    "\n",
    "But overall, RSS is lower in the parts a & b, meaning there is less variance. Which makes sense, we're giving it more data points. CP is lower in parts a & b, implying that there is better fit as n increases. BIC for parts a&b is actually much smaller, clearly establishing the higher-n models of forward and backwards selection as superior in this case.\n",
    "\n",
    "\n",
    "\n",
    "[1] 0.9733931\n",
    "[1] 2.023799\n",
    "[1] -32.83851\n",
    "\n",
    "\n",
    "[1] 0.8037706\n",
    "[1] 1.14041\n",
    "[1] -154.652\n"
   ]
  },
  {
   "cell_type": "markdown",
   "id": "7e28b90b",
   "metadata": {
    "id": "630f4909"
   },
   "source": [
    "---\n",
    "## 3. Training and test error (3 points)"
   ]
  },
  {
   "cell_type": "markdown",
   "id": "ca00ba2b",
   "metadata": {
    "id": "cdea3f49"
   },
   "source": [
    "This question will explore the relationship between training and test error and the number of features included in a model. We will again use a simulated dataset. \n",
    "\n",
    "a) Simulate dataset with features $p = 20$ and observations $n = 1,000$. Generate data for a response variable $Y$ according to the model\n",
    "\n",
    "$Y = X\\beta + \\epsilon$ \n",
    "\n",
    "where $\\beta$ is random with some elements that are exactly zero.\n",
    "\n",
    "Split your simulated dataset into a training set containing $n=100$ observations and a test set containing $n=900$ observations."
   ]
  },
  {
   "cell_type": "code",
   "execution_count": 93,
   "id": "e7144df6",
   "metadata": {
    "id": "3f113879"
   },
   "outputs": [
    {
     "data": {
      "text/html": [
       "<table class=\"dataframe\">\n",
       "<caption>A data.frame: 6 × 3</caption>\n",
       "<thead>\n",
       "\t<tr><th></th><th scope=col>Y</th><th scope=col>X</th><th scope=col>Epsilon</th></tr>\n",
       "\t<tr><th></th><th scope=col>&lt;dbl&gt;</th><th scope=col>&lt;dbl&gt;</th><th scope=col>&lt;dbl&gt;</th></tr>\n",
       "</thead>\n",
       "<tbody>\n",
       "\t<tr><th scope=row>1</th><td> 1.2174397</td><td>-1.0468744</td><td> 0.6484584</td></tr>\n",
       "\t<tr><th scope=row>2</th><td>-3.3928551</td><td> 0.6659004</td><td>-2.2427811</td></tr>\n",
       "\t<tr><th scope=row>3</th><td> 0.4962175</td><td> 0.8455693</td><td> 0.6979098</td></tr>\n",
       "\t<tr><th scope=row>4</th><td> 1.2635113</td><td> 0.5674881</td><td> 0.6930269</td></tr>\n",
       "\t<tr><th scope=row>5</th><td> 0.4890591</td><td>-0.7697851</td><td> 1.4706111</td></tr>\n",
       "\t<tr><th scope=row>6</th><td> 1.7408466</td><td> 1.0897017</td><td> 2.5109191</td></tr>\n",
       "</tbody>\n",
       "</table>\n"
      ],
      "text/latex": [
       "A data.frame: 6 × 3\n",
       "\\begin{tabular}{r|lll}\n",
       "  & Y & X & Epsilon\\\\\n",
       "  & <dbl> & <dbl> & <dbl>\\\\\n",
       "\\hline\n",
       "\t1 &  1.2174397 & -1.0468744 &  0.6484584\\\\\n",
       "\t2 & -3.3928551 &  0.6659004 & -2.2427811\\\\\n",
       "\t3 &  0.4962175 &  0.8455693 &  0.6979098\\\\\n",
       "\t4 &  1.2635113 &  0.5674881 &  0.6930269\\\\\n",
       "\t5 &  0.4890591 & -0.7697851 &  1.4706111\\\\\n",
       "\t6 &  1.7408466 &  1.0897017 &  2.5109191\\\\\n",
       "\\end{tabular}\n"
      ],
      "text/markdown": [
       "\n",
       "A data.frame: 6 × 3\n",
       "\n",
       "| <!--/--> | Y &lt;dbl&gt; | X &lt;dbl&gt; | Epsilon &lt;dbl&gt; |\n",
       "|---|---|---|---|\n",
       "| 1 |  1.2174397 | -1.0468744 |  0.6484584 |\n",
       "| 2 | -3.3928551 |  0.6659004 | -2.2427811 |\n",
       "| 3 |  0.4962175 |  0.8455693 |  0.6979098 |\n",
       "| 4 |  1.2635113 |  0.5674881 |  0.6930269 |\n",
       "| 5 |  0.4890591 | -0.7697851 |  1.4706111 |\n",
       "| 6 |  1.7408466 |  1.0897017 |  2.5109191 |\n",
       "\n"
      ],
      "text/plain": [
       "  Y          X          Epsilon   \n",
       "1  1.2174397 -1.0468744  0.6484584\n",
       "2 -3.3928551  0.6659004 -2.2427811\n",
       "3  0.4962175  0.8455693  0.6979098\n",
       "4  1.2635113  0.5674881  0.6930269\n",
       "5  0.4890591 -0.7697851  1.4706111\n",
       "6  1.7408466  1.0897017  2.5109191"
      ]
     },
     "metadata": {},
     "output_type": "display_data"
    }
   ],
   "source": [
    "output  <- data.frame()\n",
    "\n",
    "X  <- rnorm(1000, mean = 0)\n",
    "beta  <- rnorm(1000, mean = 0) #add elements that are exactly zero\n",
    "\n",
    "\n",
    "p.stor  <- vector(\"list\", 20)\n",
    "\n",
    "for (p in p.stor)\n",
    "    p.out = rnorm(1000, mean = 0)*rnorm(1000, mean = 0)\n",
    "    e3.dat\n",
    "    cbind(e3.dat, p.out)\n",
    "\n",
    "\n"
   ]
  },
  {
   "cell_type": "markdown",
   "id": "e0b9617a",
   "metadata": {
    "id": "5886639c"
   },
   "source": [
    "b) Perform best subset selection on the training set, and plot the associated training and test set MSE for the best model of each size."
   ]
  },
  {
   "cell_type": "code",
   "execution_count": null,
   "id": "ad0703ec",
   "metadata": {
    "id": "a1dbdf04"
   },
   "outputs": [],
   "source": [
    "# WRITE YOUR CODE HERE\n",
    "\n"
   ]
  },
  {
   "cell_type": "markdown",
   "id": "32740dab",
   "metadata": {
    "id": "24f9d2f1"
   },
   "source": [
    "c) Identify the best model according the test MSE. How does this model compare to the actual model used to simulate the dataset?\n",
    "\n",
    "*Note: If the model identified contains only an intercept or all of the features, then generate a new dataset (i.e. repeat part a with a different random seed) until the test set MSE is minimized for an intermediate model size.*"
   ]
  },
  {
   "cell_type": "code",
   "execution_count": null,
   "id": "26c21b6d",
   "metadata": {
    "id": "87db7d52"
   },
   "outputs": [],
   "source": [
    "# WRITE YOUR CODE HERE\n",
    "\n"
   ]
  },
  {
   "cell_type": "markdown",
   "id": "cd185c7b",
   "metadata": {
    "id": "894b4503"
   },
   "source": [
    "> *Write your response here* \n",
    "> "
   ]
  },
  {
   "cell_type": "markdown",
   "id": "33d80b26",
   "metadata": {
    "id": "35b974f0"
   },
   "source": [
    "**DUE:** 5pm EST, April 10, 2023"
   ]
  },
  {
   "cell_type": "markdown",
   "id": "457e171d",
   "metadata": {
    "id": "957a72c5"
   },
   "source": [
    "**IMPORTANT** Did you collaborate with anyone on this assignment? If so, list their names here. \n",
    "> *Someone's Name*"
   ]
  }
 ],
 "metadata": {
  "colab": {
   "provenance": []
  },
  "kernelspec": {
   "display_name": "R",
   "language": "R",
   "name": "ir"
  },
  "language_info": {
   "codemirror_mode": "r",
   "file_extension": ".r",
   "mimetype": "text/x-r-source",
   "name": "R",
   "pygments_lexer": "r",
   "version": "4.2.2"
  }
 },
 "nbformat": 4,
 "nbformat_minor": 5
}
