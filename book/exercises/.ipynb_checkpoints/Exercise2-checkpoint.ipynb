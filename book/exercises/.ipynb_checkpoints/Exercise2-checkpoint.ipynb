{
 "cells": [
  {
   "cell_type": "markdown",
   "metadata": {
    "colab_type": "text",
    "id": "view-in-github"
   },
   "source": [
    "<a href=\"https://colab.research.google.com/github/alapadat/Lapadat_DSPN_S22/blob/main/book/exercises/models-as-testable-hypotheses.ipynb\" target=\"_parent\"><img src=\"https://colab.research.google.com/assets/colab-badge.svg\" alt=\"Open In Colab\"/></a>"
   ]
  },
  {
   "cell_type": "markdown",
   "metadata": {
    "id": "D5mdO0nbZHOU"
   },
   "source": [
    "# Exercise 2: Coding Habits & Functions"
   ]
  },
  {
   "cell_type": "markdown",
   "metadata": {
    "id": "bKuqgFERZHOX"
   },
   "source": [
    "This assignment will give you some practice writing your own functions and using the coding best practices discussed in the tutorial.\n",
    "\n",
    "---"
   ]
  },
  {
   "cell_type": "markdown",
   "metadata": {
    "id": "mwop6H41ZHOZ"
   },
   "source": [
    "## 1. Summary statistics (4 pts)\n",
    "\n",
    "Write a function that takes a vector of numbers `x` and returns the length, mean, and standard deviation of `x` as a new vector.\n",
    "\n",
    "In keeping with our best practices, give the function a short but descriptive name, and use snake case if it involves multiple words. \n",
    "\n",
    "Hint: Vectors are defined in R using the `c()` command."
   ]
  },
  {
   "cell_type": "code",
   "execution_count": 49,
   "metadata": {
    "colab": {
     "base_uri": "https://localhost:8080/",
     "height": 34
    },
    "id": "P1OY-ZgdZHOb",
    "outputId": "9a4351eb-0d59-41ea-c3bc-3c3f7fa9bb0a"
   },
   "outputs": [],
   "source": [
    "#input: a vector, \"v\"\n",
    "#calculate mean, length, and standard deviation (sd) of v\n",
    "#return summary statistics in a vector\n",
    "\n",
    "summary_statistics <- function(v) { \n",
    "    mean_v  <- mean(v, trim=0, na.rm = TRUE)\n",
    "    length_v  <- length(v)\n",
    "    sd_v  <- sd(v, na.rm = TRUE)\n",
    "    return(c(mean_v, length_v, sd_v))\n",
    "}"
   ]
  },
  {
   "cell_type": "markdown",
   "metadata": {
    "id": "hGYeGJoUZHOe"
   },
   "source": [
    "Calculate the summary statistics of vector `v1`."
   ]
  },
  {
   "cell_type": "code",
   "execution_count": 50,
   "metadata": {
    "colab": {
     "base_uri": "https://localhost:8080/",
     "height": 52
    },
    "id": "UYVPcG_BZHOf",
    "outputId": "153b1d7b-3d1c-48b3-8f6c-9ae6f76f85ba",
    "scrolled": false
   },
   "outputs": [
    {
     "data": {
      "text/html": [
       "<ol class=list-inline>\n",
       "\t<li>7.75</li>\n",
       "\t<li>5</li>\n",
       "\t<li>2.75378527364305</li>\n",
       "</ol>\n"
      ],
      "text/latex": [
       "\\begin{enumerate*}\n",
       "\\item 7.75\n",
       "\\item 5\n",
       "\\item 2.75378527364305\n",
       "\\end{enumerate*}\n"
      ],
      "text/markdown": [
       "1. 7.75\n",
       "2. 5\n",
       "3. 2.75378527364305\n",
       "\n",
       "\n"
      ],
      "text/plain": [
       "[1] 7.750000 5.000000 2.753785"
      ]
     },
     "metadata": {},
     "output_type": "display_data"
    }
   ],
   "source": [
    "v1  <- c(5, 11, 6, NA, 9) \n",
    "\n",
    "summary_statistics(v1)"
   ]
  },
  {
   "cell_type": "markdown",
   "metadata": {
    "id": "YpcbD6AGZHOh"
   },
   "source": [
    "---\n",
    "## 2. T-test function (4 pts)\n",
    "\n",
    "The formula for a t-test is:"
   ]
  },
  {
   "cell_type": "markdown",
   "metadata": {
    "id": "z5-rJ2OtZHOi"
   },
   "source": [
    "$$ \\frac{m- \\mu}{ \\frac{s}{\\sqrt{n}}} $$"
   ]
  },
  {
   "cell_type": "markdown",
   "metadata": {
    "id": "6JtUB4HLZHOj"
   },
   "source": [
    "Where m is the sample mean, $\\mu$ (mu) is the population mean, s is the standard deviation, and n is the sample size.\n",
    "\n",
    "Using your function above as a starting point, write a new function `ttest_fun` that compares a vector `x` to a given population mean `mu` and calculates the t-statistic. Keep the coding best practices in mind.\n",
    "\n",
    "Hint: You will need to add another argument for mu."
   ]
  },
  {
   "cell_type": "code",
   "execution_count": 52,
   "metadata": {
    "id": "1R9VqdQRZHOl"
   },
   "outputs": [
    {
     "data": {
      "text/html": [
       "3.34463085474384"
      ],
      "text/latex": [
       "3.34463085474384"
      ],
      "text/markdown": [
       "3.34463085474384"
      ],
      "text/plain": [
       "[1] 3.344631"
      ]
     },
     "metadata": {},
     "output_type": "display_data"
    }
   ],
   "source": [
    "# Write ttest_fun here\n",
    "ttest_fun <- function(vector, mu) {\n",
    "  vector <- summary_statistics(vector)\n",
    "  m <- vector[1]\n",
    "  n <- vector[2]\n",
    "  s <- vector[3]\n",
    "  numerator <- (m - mu)\n",
    "  denomenator <- (s/sqrt(n))\n",
    "  return(numerator/denomenator)\n",
    "}"
   ]
  },
  {
   "cell_type": "markdown",
   "metadata": {
    "id": "4HOfKYyiZHOm"
   },
   "source": [
    "Use your function to compare the mean of v1 to 10."
   ]
  },
  {
   "cell_type": "code",
   "execution_count": 53,
   "metadata": {
    "colab": {
     "base_uri": "https://localhost:8080/",
     "height": 34
    },
    "id": "GwXBOJ-sZHOo",
    "outputId": "4283dea7-3f56-4492-e6aa-0c976c43aee3"
   },
   "outputs": [
    {
     "data": {
      "text/html": [
       "1.82699537161759"
      ],
      "text/latex": [
       "1.82699537161759"
      ],
      "text/markdown": [
       "1.82699537161759"
      ],
      "text/plain": [
       "[1] 1.826995"
      ]
     },
     "metadata": {},
     "output_type": "display_data"
    }
   ],
   "source": [
    "ttest_fun(v1, 10)"
   ]
  },
  {
   "cell_type": "markdown",
   "metadata": {
    "id": "MX_TjDtQZHOp"
   },
   "source": [
    "---\n",
    "## 3. Setting default values (2 pts)\n",
    "\n",
    "Set the default value of mu to 0. Test your modified function below by supplying only `v2` as an argument."
   ]
  },
  {
   "cell_type": "code",
   "execution_count": 58,
   "metadata": {
    "id": "Epz4pKvaZHOq"
   },
   "outputs": [],
   "source": [
    "# Write your modified ttest_fun here\n",
    "ttest_fun_preset_mu <- function(vector) {\n",
    "  vector  <- summary_statistics(vector)\n",
    "  mu = 0\n",
    "  m <- vector[1]\n",
    "  n <- vector[2]\n",
    "  s <- vector[3]\n",
    "  numerator <- (m - mu)\n",
    "  denomenator <- (s/sqrt(n))\n",
    "  return(numerator/denomenator)\n",
    "}"
   ]
  },
  {
   "cell_type": "code",
   "execution_count": 59,
   "metadata": {
    "id": "84j0is8jZHOr"
   },
   "outputs": [
    {
     "data": {
      "text/html": [
       "3.51193534102953"
      ],
      "text/latex": [
       "3.51193534102953"
      ],
      "text/markdown": [
       "3.51193534102953"
      ],
      "text/plain": [
       "[1] 3.511935"
      ]
     },
     "metadata": {},
     "output_type": "display_data"
    }
   ],
   "source": [
    "v2 <- c(3, 7, 1, NA, 8, 12)\n",
    "ttest_fun_preset_mu(v2)"
   ]
  },
  {
   "cell_type": "markdown",
   "metadata": {
    "id": "k_PfWh0xZHOr"
   },
   "source": [
    "How does your result compare to R's built-in `t.test()` function?"
   ]
  },
  {
   "cell_type": "code",
   "execution_count": 32,
   "metadata": {
    "id": "o__WXTUOZHOs",
    "scrolled": false
   },
   "outputs": [
    {
     "data": {
      "text/plain": [
       "\n",
       "\tOne Sample t-test\n",
       "\n",
       "data:  v2\n",
       "t = 3.2059, df = 4, p-value = 0.03272\n",
       "alternative hypothesis: true mean is not equal to 0\n",
       "95 percent confidence interval:\n",
       "  0.8306107 11.5693893\n",
       "sample estimates:\n",
       "mean of x \n",
       "      6.2 \n"
      ]
     },
     "metadata": {},
     "output_type": "display_data"
    }
   ],
   "source": [
    "t.test(v2)"
   ]
  },
  {
   "cell_type": "markdown",
   "metadata": {
    "id": "2slWzsoYGuLt"
   },
   "source": [
    "When you are finished, save the notebook as Exercise2.ipynb, push it to your class GitHub repository (the one you made for Exercise 1) and send the instructors a link to your notebook via Canvas. You can send messages via Canvas by clicking \"Inbox\" on the left and then pressing the icon with a pencil inside a square."
   ]
  },
  {
   "cell_type": "markdown",
   "metadata": {
    "id": "C4MPECMmZXqe"
   },
   "source": [
    "**DUE:** 5pm EST, Feb 6, 2023"
   ]
  },
  {
   "cell_type": "markdown",
   "metadata": {
    "id": "r9GUofXN4BVy"
   },
   "source": [
    "**IMPORTANT** Did you collaborate with anyone on this assignment? If so, list their names here. \n",
    "> *Someone's Name*"
   ]
  }
 ],
 "metadata": {
  "colab": {
   "include_colab_link": true,
   "provenance": []
  },
  "kernelspec": {
   "display_name": "R",
   "language": "R",
   "name": "ir"
  },
  "language_info": {
   "codemirror_mode": "r",
   "file_extension": ".r",
   "mimetype": "text/x-r-source",
   "name": "R",
   "pygments_lexer": "r",
   "version": "3.6.1"
  }
 },
 "nbformat": 4,
 "nbformat_minor": 1
}
