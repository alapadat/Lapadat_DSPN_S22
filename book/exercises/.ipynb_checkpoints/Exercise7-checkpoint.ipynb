{
 "cells": [
  {
   "cell_type": "markdown",
   "metadata": {
    "id": "5sUQy82wJN5i"
   },
   "source": [
    "# Exercise 7:  Linear models\n",
    "\n",
    "This homework assignment is designed to give you practice with linear models and the bias-variance tradeoff. \n",
    "\n",
    "You will need to download the **unrestricted_trimmed_1_7_2020_10_50_44.csv** file from the *Homework/hcp_data* folder in the class GitHub repository. \n",
    "\n",
    "\n",
    "This data is a portion of the [Human Connectome Project database](http://www.humanconnectomeproject.org/). It provides measures of cognitive tasks and brain morphology measuresments from 1206 participants. The full description of each variable is provided in the **HCP_S1200_DataDictionary_April_20_2018.csv** file in the *Homework datasets/hcp_data* folder in the class GitHub repository."
   ]
  },
  {
   "cell_type": "markdown",
   "metadata": {
    "id": "vzH_Qf0SJN5_"
   },
   "source": [
    "---\n",
    "## 1. Loading the Data (1 point)\n",
    "\n",
    "Use the `setwd` and `read.csv` functions to load data from the **unrestricted_trimmed_1_7_2020_10_50_44.csv** file. \n",
    "\n",
    "Using the tidyverse tools, make a new dataframe `d1` that only inclues the subject ID (`Subject`), gender (`Gender`), Flanker Task performance (`Flanker_Unadj`), total white matter volume (`FS_Tot_WM_Vol`), and total grey matter volume (`FS_Total_GM_Vol`) variables and remove all _na_ values.\n",
    "\n",
    "Use the `head` function to look at the first few rows of each data frame. "
   ]
  },
  {
   "cell_type": "code",
   "execution_count": 11,
   "metadata": {
    "id": "g7paDirkJN5_",
    "vscode": {
     "languageId": "r"
    }
   },
   "outputs": [
    {
     "data": {
      "text/html": [
       "<table class=\"dataframe\">\n",
       "<caption>A data.frame: 6 × 500</caption>\n",
       "<thead>\n",
       "\t<tr><th></th><th scope=col>Subject</th><th scope=col>Release</th><th scope=col>Acquisition</th><th scope=col>Gender</th><th scope=col>Age</th><th scope=col>MMSE_Score</th><th scope=col>PSQI_Score</th><th scope=col>PSQI_Comp1</th><th scope=col>PSQI_Comp2</th><th scope=col>PSQI_Comp3</th><th scope=col>⋯</th><th scope=col>Noise_Comp</th><th scope=col>Odor_Unadj</th><th scope=col>Odor_AgeAdj</th><th scope=col>PainIntens_RawScore</th><th scope=col>PainInterf_Tscore</th><th scope=col>Taste_Unadj</th><th scope=col>Taste_AgeAdj</th><th scope=col>Mars_Log_Score</th><th scope=col>Mars_Errs</th><th scope=col>Mars_Final</th></tr>\n",
       "\t<tr><th></th><th scope=col>&lt;int&gt;</th><th scope=col>&lt;chr&gt;</th><th scope=col>&lt;chr&gt;</th><th scope=col>&lt;chr&gt;</th><th scope=col>&lt;chr&gt;</th><th scope=col>&lt;int&gt;</th><th scope=col>&lt;int&gt;</th><th scope=col>&lt;int&gt;</th><th scope=col>&lt;int&gt;</th><th scope=col>&lt;int&gt;</th><th scope=col>⋯</th><th scope=col>&lt;dbl&gt;</th><th scope=col>&lt;dbl&gt;</th><th scope=col>&lt;dbl&gt;</th><th scope=col>&lt;int&gt;</th><th scope=col>&lt;dbl&gt;</th><th scope=col>&lt;dbl&gt;</th><th scope=col>&lt;dbl&gt;</th><th scope=col>&lt;dbl&gt;</th><th scope=col>&lt;int&gt;</th><th scope=col>&lt;dbl&gt;</th></tr>\n",
       "</thead>\n",
       "<tbody>\n",
       "\t<tr><th scope=row>1</th><td>100004</td><td>S900</td><td>Q06</td><td>M</td><td>22-25</td><td>29</td><td>8</td><td>1</td><td>2</td><td>2</td><td>⋯</td><td>5.2</td><td>101.12</td><td> 86.45</td><td>2</td><td>45.9</td><td>107.17</td><td>105.31</td><td>1.80</td><td>0</td><td>1.80</td></tr>\n",
       "\t<tr><th scope=row>2</th><td>100206</td><td>S900</td><td>Q11</td><td>M</td><td>26-30</td><td>30</td><td>6</td><td>1</td><td>1</td><td>1</td><td>⋯</td><td>6.0</td><td>108.79</td><td> 97.19</td><td>1</td><td>49.7</td><td> 72.63</td><td> 72.03</td><td>1.84</td><td>0</td><td>1.84</td></tr>\n",
       "\t<tr><th scope=row>3</th><td>100307</td><td>Q1  </td><td>Q01</td><td>F</td><td>26-30</td><td>29</td><td>4</td><td>1</td><td>0</td><td>1</td><td>⋯</td><td>3.6</td><td>101.12</td><td> 86.45</td><td>0</td><td>38.6</td><td> 71.69</td><td> 71.76</td><td>1.76</td><td>0</td><td>1.76</td></tr>\n",
       "\t<tr><th scope=row>4</th><td>100408</td><td>Q3  </td><td>Q03</td><td>M</td><td>31-35</td><td>30</td><td>4</td><td>1</td><td>1</td><td>0</td><td>⋯</td><td>2.0</td><td>108.79</td><td> 98.04</td><td>2</td><td>52.6</td><td>114.01</td><td>113.59</td><td>1.76</td><td>2</td><td>1.68</td></tr>\n",
       "\t<tr><th scope=row>5</th><td>100610</td><td>S900</td><td>Q08</td><td>M</td><td>26-30</td><td>30</td><td>4</td><td>1</td><td>1</td><td>0</td><td>⋯</td><td>2.0</td><td>122.25</td><td>110.45</td><td>0</td><td>38.6</td><td> 84.84</td><td> 85.31</td><td>1.92</td><td>1</td><td>1.88</td></tr>\n",
       "\t<tr><th scope=row>6</th><td>101006</td><td>S500</td><td>Q06</td><td>F</td><td>31-35</td><td>28</td><td>2</td><td>1</td><td>1</td><td>0</td><td>⋯</td><td>6.0</td><td>122.25</td><td>111.41</td><td>0</td><td>38.6</td><td>123.80</td><td>123.31</td><td>1.80</td><td>0</td><td>1.80</td></tr>\n",
       "</tbody>\n",
       "</table>\n"
      ],
      "text/latex": [
       "A data.frame: 6 × 500\n",
       "\\begin{tabular}{r|lllllllllllllllllllll}\n",
       "  & Subject & Release & Acquisition & Gender & Age & MMSE\\_Score & PSQI\\_Score & PSQI\\_Comp1 & PSQI\\_Comp2 & PSQI\\_Comp3 & ⋯ & Noise\\_Comp & Odor\\_Unadj & Odor\\_AgeAdj & PainIntens\\_RawScore & PainInterf\\_Tscore & Taste\\_Unadj & Taste\\_AgeAdj & Mars\\_Log\\_Score & Mars\\_Errs & Mars\\_Final\\\\\n",
       "  & <int> & <chr> & <chr> & <chr> & <chr> & <int> & <int> & <int> & <int> & <int> & ⋯ & <dbl> & <dbl> & <dbl> & <int> & <dbl> & <dbl> & <dbl> & <dbl> & <int> & <dbl>\\\\\n",
       "\\hline\n",
       "\t1 & 100004 & S900 & Q06 & M & 22-25 & 29 & 8 & 1 & 2 & 2 & ⋯ & 5.2 & 101.12 &  86.45 & 2 & 45.9 & 107.17 & 105.31 & 1.80 & 0 & 1.80\\\\\n",
       "\t2 & 100206 & S900 & Q11 & M & 26-30 & 30 & 6 & 1 & 1 & 1 & ⋯ & 6.0 & 108.79 &  97.19 & 1 & 49.7 &  72.63 &  72.03 & 1.84 & 0 & 1.84\\\\\n",
       "\t3 & 100307 & Q1   & Q01 & F & 26-30 & 29 & 4 & 1 & 0 & 1 & ⋯ & 3.6 & 101.12 &  86.45 & 0 & 38.6 &  71.69 &  71.76 & 1.76 & 0 & 1.76\\\\\n",
       "\t4 & 100408 & Q3   & Q03 & M & 31-35 & 30 & 4 & 1 & 1 & 0 & ⋯ & 2.0 & 108.79 &  98.04 & 2 & 52.6 & 114.01 & 113.59 & 1.76 & 2 & 1.68\\\\\n",
       "\t5 & 100610 & S900 & Q08 & M & 26-30 & 30 & 4 & 1 & 1 & 0 & ⋯ & 2.0 & 122.25 & 110.45 & 0 & 38.6 &  84.84 &  85.31 & 1.92 & 1 & 1.88\\\\\n",
       "\t6 & 101006 & S500 & Q06 & F & 31-35 & 28 & 2 & 1 & 1 & 0 & ⋯ & 6.0 & 122.25 & 111.41 & 0 & 38.6 & 123.80 & 123.31 & 1.80 & 0 & 1.80\\\\\n",
       "\\end{tabular}\n"
      ],
      "text/markdown": [
       "\n",
       "A data.frame: 6 × 500\n",
       "\n",
       "| <!--/--> | Subject &lt;int&gt; | Release &lt;chr&gt; | Acquisition &lt;chr&gt; | Gender &lt;chr&gt; | Age &lt;chr&gt; | MMSE_Score &lt;int&gt; | PSQI_Score &lt;int&gt; | PSQI_Comp1 &lt;int&gt; | PSQI_Comp2 &lt;int&gt; | PSQI_Comp3 &lt;int&gt; | ⋯ ⋯ | Noise_Comp &lt;dbl&gt; | Odor_Unadj &lt;dbl&gt; | Odor_AgeAdj &lt;dbl&gt; | PainIntens_RawScore &lt;int&gt; | PainInterf_Tscore &lt;dbl&gt; | Taste_Unadj &lt;dbl&gt; | Taste_AgeAdj &lt;dbl&gt; | Mars_Log_Score &lt;dbl&gt; | Mars_Errs &lt;int&gt; | Mars_Final &lt;dbl&gt; |\n",
       "|---|---|---|---|---|---|---|---|---|---|---|---|---|---|---|---|---|---|---|---|---|---|\n",
       "| 1 | 100004 | S900 | Q06 | M | 22-25 | 29 | 8 | 1 | 2 | 2 | ⋯ | 5.2 | 101.12 |  86.45 | 2 | 45.9 | 107.17 | 105.31 | 1.80 | 0 | 1.80 |\n",
       "| 2 | 100206 | S900 | Q11 | M | 26-30 | 30 | 6 | 1 | 1 | 1 | ⋯ | 6.0 | 108.79 |  97.19 | 1 | 49.7 |  72.63 |  72.03 | 1.84 | 0 | 1.84 |\n",
       "| 3 | 100307 | Q1   | Q01 | F | 26-30 | 29 | 4 | 1 | 0 | 1 | ⋯ | 3.6 | 101.12 |  86.45 | 0 | 38.6 |  71.69 |  71.76 | 1.76 | 0 | 1.76 |\n",
       "| 4 | 100408 | Q3   | Q03 | M | 31-35 | 30 | 4 | 1 | 1 | 0 | ⋯ | 2.0 | 108.79 |  98.04 | 2 | 52.6 | 114.01 | 113.59 | 1.76 | 2 | 1.68 |\n",
       "| 5 | 100610 | S900 | Q08 | M | 26-30 | 30 | 4 | 1 | 1 | 0 | ⋯ | 2.0 | 122.25 | 110.45 | 0 | 38.6 |  84.84 |  85.31 | 1.92 | 1 | 1.88 |\n",
       "| 6 | 101006 | S500 | Q06 | F | 31-35 | 28 | 2 | 1 | 1 | 0 | ⋯ | 6.0 | 122.25 | 111.41 | 0 | 38.6 | 123.80 | 123.31 | 1.80 | 0 | 1.80 |\n",
       "\n"
      ],
      "text/plain": [
       "  Subject Release Acquisition Gender Age   MMSE_Score PSQI_Score PSQI_Comp1\n",
       "1 100004  S900    Q06         M      22-25 29         8          1         \n",
       "2 100206  S900    Q11         M      26-30 30         6          1         \n",
       "3 100307  Q1      Q01         F      26-30 29         4          1         \n",
       "4 100408  Q3      Q03         M      31-35 30         4          1         \n",
       "5 100610  S900    Q08         M      26-30 30         4          1         \n",
       "6 101006  S500    Q06         F      31-35 28         2          1         \n",
       "  PSQI_Comp2 PSQI_Comp3 ⋯ Noise_Comp Odor_Unadj Odor_AgeAdj PainIntens_RawScore\n",
       "1 2          2          ⋯ 5.2        101.12      86.45      2                  \n",
       "2 1          1          ⋯ 6.0        108.79      97.19      1                  \n",
       "3 0          1          ⋯ 3.6        101.12      86.45      0                  \n",
       "4 1          0          ⋯ 2.0        108.79      98.04      2                  \n",
       "5 1          0          ⋯ 2.0        122.25     110.45      0                  \n",
       "6 1          0          ⋯ 6.0        122.25     111.41      0                  \n",
       "  PainInterf_Tscore Taste_Unadj Taste_AgeAdj Mars_Log_Score Mars_Errs\n",
       "1 45.9              107.17      105.31       1.80           0        \n",
       "2 49.7               72.63       72.03       1.84           0        \n",
       "3 38.6               71.69       71.76       1.76           0        \n",
       "4 52.6              114.01      113.59       1.76           2        \n",
       "5 38.6               84.84       85.31       1.92           1        \n",
       "6 38.6              123.80      123.31       1.80           0        \n",
       "  Mars_Final\n",
       "1 1.80      \n",
       "2 1.84      \n",
       "3 1.76      \n",
       "4 1.68      \n",
       "5 1.88      \n",
       "6 1.80      "
      ]
     },
     "metadata": {},
     "output_type": "display_data"
    },
    {
     "data": {
      "text/html": [
       "<table class=\"dataframe\">\n",
       "<caption>A data.frame: 6 × 4</caption>\n",
       "<thead>\n",
       "\t<tr><th></th><th scope=col>Subject</th><th scope=col>Gender</th><th scope=col>Flanker_Unadj</th><th scope=col>FS_Tot_WM_Vol</th></tr>\n",
       "\t<tr><th></th><th scope=col>&lt;int&gt;</th><th scope=col>&lt;chr&gt;</th><th scope=col>&lt;dbl&gt;</th><th scope=col>&lt;int&gt;</th></tr>\n",
       "</thead>\n",
       "<tbody>\n",
       "\t<tr><th scope=row>2</th><td>100206</td><td>M</td><td>130.42</td><td>543134</td></tr>\n",
       "\t<tr><th scope=row>3</th><td>100307</td><td>F</td><td>112.56</td><td>407292</td></tr>\n",
       "\t<tr><th scope=row>4</th><td>100408</td><td>M</td><td>121.18</td><td>500417</td></tr>\n",
       "\t<tr><th scope=row>5</th><td>100610</td><td>M</td><td>126.53</td><td>512946</td></tr>\n",
       "\t<tr><th scope=row>6</th><td>101006</td><td>F</td><td>101.85</td><td>429449</td></tr>\n",
       "\t<tr><th scope=row>7</th><td>101107</td><td>M</td><td>107.04</td><td>416995</td></tr>\n",
       "</tbody>\n",
       "</table>\n"
      ],
      "text/latex": [
       "A data.frame: 6 × 4\n",
       "\\begin{tabular}{r|llll}\n",
       "  & Subject & Gender & Flanker\\_Unadj & FS\\_Tot\\_WM\\_Vol\\\\\n",
       "  & <int> & <chr> & <dbl> & <int>\\\\\n",
       "\\hline\n",
       "\t2 & 100206 & M & 130.42 & 543134\\\\\n",
       "\t3 & 100307 & F & 112.56 & 407292\\\\\n",
       "\t4 & 100408 & M & 121.18 & 500417\\\\\n",
       "\t5 & 100610 & M & 126.53 & 512946\\\\\n",
       "\t6 & 101006 & F & 101.85 & 429449\\\\\n",
       "\t7 & 101107 & M & 107.04 & 416995\\\\\n",
       "\\end{tabular}\n"
      ],
      "text/markdown": [
       "\n",
       "A data.frame: 6 × 4\n",
       "\n",
       "| <!--/--> | Subject &lt;int&gt; | Gender &lt;chr&gt; | Flanker_Unadj &lt;dbl&gt; | FS_Tot_WM_Vol &lt;int&gt; |\n",
       "|---|---|---|---|---|\n",
       "| 2 | 100206 | M | 130.42 | 543134 |\n",
       "| 3 | 100307 | F | 112.56 | 407292 |\n",
       "| 4 | 100408 | M | 121.18 | 500417 |\n",
       "| 5 | 100610 | M | 126.53 | 512946 |\n",
       "| 6 | 101006 | F | 101.85 | 429449 |\n",
       "| 7 | 101107 | M | 107.04 | 416995 |\n",
       "\n"
      ],
      "text/plain": [
       "  Subject Gender Flanker_Unadj FS_Tot_WM_Vol\n",
       "2 100206  M      130.42        543134       \n",
       "3 100307  F      112.56        407292       \n",
       "4 100408  M      121.18        500417       \n",
       "5 100610  M      126.53        512946       \n",
       "6 101006  F      101.85        429449       \n",
       "7 101107  M      107.04        416995       "
      ]
     },
     "metadata": {},
     "output_type": "display_data"
    }
   ],
   "source": [
    "# If you are running this on your local computer, set your workign directory to \n",
    "# the location of the lexDat data by setting your harddrive. Uncomment this line\n",
    "# and change the location to where it is on your computer. \n",
    "setwd(\"C:/Users/roman/OneDrive/Documents/Python Scripts/Lapadat_DSPN_S22/book/exercises/unrestricted_trimmed_1_7_2020_10_50_44\")\n",
    "\n",
    "# If you are running this on Colab, then use something like this.\n",
    "#system(\"gdown --id 1hywRmGdvhbDYTrQRyl1_bLJsq-T3GJq2\")\n",
    "\n",
    "# INSERT CODE HERE\n",
    "library(tidyverse)\n",
    "\n",
    "data  <- read.csv(\"unrestricted_trimmed_1_7_2020_10_50_44.csv\")\n",
    "head(data)\n",
    "\n",
    "d1  <- data %>%\n",
    "    select(Subject, Gender, Flanker_Unadj, FS_Tot_WM_Vol) %>%\n",
    "    na.omit()\n",
    "\n",
    "head(d1)"
   ]
  },
  {
   "cell_type": "markdown",
   "metadata": {
    "id": "5CFn7tyNJN6H"
   },
   "source": [
    "---\n",
    "## 2. Initial data visualization (2 point)\n",
    "\n",
    "Use the `pairs` function to look at all the pairwise scatterplots of the variables in `d1`. Describe which variables seem positively correlated, negatively correlated, or not correlated at all."
   ]
  },
  {
   "cell_type": "code",
   "execution_count": null,
   "metadata": {
    "id": "y09NsOxMJN6N",
    "vscode": {
     "languageId": "r"
    }
   },
   "outputs": [],
   "source": [
    "#INSERT CODE HERE\n",
    "\n"
   ]
  },
  {
   "cell_type": "markdown",
   "metadata": {
    "id": "yaL4VQPNJN6N"
   },
   "source": [
    "> *Write your response here.* \n",
    "> "
   ]
  },
  {
   "cell_type": "markdown",
   "metadata": {
    "id": "LWntuBusJN6N"
   },
   "source": [
    "---\n",
    "## 3. Linear regression (4 points)\n",
    "\n",
    "Use the `lm` (linear model) function to determine the association between Flanker Task performance and total grey matter volume from the `d1` data frame.\n",
    "\n",
    "$$\n",
    "Y_{flanker} = \\beta_0 + \\beta_1 X_{GM volume}\n",
    "$$\n",
    "\n",
    "Show the results using the `summary` function, and report the mean coefficient values for $beta_0$ \\& $\\beta_1$ (`coef` function) and their 95\\% confidence intervals (`confint` function). Is grey matter volume significantly associated with Flanker Task performance?"
   ]
  },
  {
   "cell_type": "code",
   "execution_count": null,
   "metadata": {
    "id": "vCvlheFFJN6T",
    "vscode": {
     "languageId": "r"
    }
   },
   "outputs": [],
   "source": [
    "#INSERT CODE HERE\n",
    "\n"
   ]
  },
  {
   "cell_type": "markdown",
   "metadata": {
    "id": "OhGk99UYJN6T"
   },
   "source": [
    "> *Write your response here.* \n",
    "> "
   ]
  },
  {
   "cell_type": "markdown",
   "metadata": {
    "id": "0rSD6W1IJN6U"
   },
   "source": [
    "---\n",
    "## 4. Plotting (2 points)\n",
    "\n",
    "Use `ggplot` to plot the `FS_Total_GM_Vol` variable (x axis) against the `Flanker_Unadj` variable (y axis), as well as the regression line with confidence intervals on the regrssion line. Qualitatively describe what you see. "
   ]
  },
  {
   "cell_type": "code",
   "execution_count": null,
   "metadata": {
    "id": "csNNtVa-JN6U",
    "vscode": {
     "languageId": "r"
    }
   },
   "outputs": [],
   "source": [
    "#INSERT CODE HERE\n",
    "\n"
   ]
  },
  {
   "cell_type": "markdown",
   "metadata": {
    "id": "0XStcUtnJN6U"
   },
   "source": [
    "> *Write your response here.* \n",
    "> "
   ]
  },
  {
   "cell_type": "markdown",
   "metadata": {
    "id": "jdNxIM6lJN6V"
   },
   "source": [
    "---\n",
    "\n",
    "## 5. Reflection (1 point)\n",
    "\n",
    "What do you conclude based on the analyses above?"
   ]
  },
  {
   "cell_type": "markdown",
   "metadata": {
    "id": "AqRpqLKAJN6V"
   },
   "source": [
    "> *Write your response here.* \n",
    "> "
   ]
  },
  {
   "cell_type": "markdown",
   "metadata": {
    "id": "3EgzqKyDJN6V"
   },
   "source": [
    "**DUE:** 5pm EST, February 27, 2023"
   ]
  },
  {
   "cell_type": "markdown",
   "metadata": {
    "id": "FJfHZOv2JN6V"
   },
   "source": [
    "**IMPORTANT** Did you collaborate with anyone on this assignment? If so, list their names here. \n",
    "> *Someone's Name*"
   ]
  }
 ],
 "metadata": {
  "colab": {
   "provenance": []
  },
  "kernelspec": {
   "display_name": "R",
   "language": "R",
   "name": "ir"
  },
  "language_info": {
   "codemirror_mode": "r",
   "file_extension": ".r",
   "mimetype": "text/x-r-source",
   "name": "R",
   "pygments_lexer": "r",
   "version": "4.2.2"
  }
 },
 "nbformat": 4,
 "nbformat_minor": 1
}
